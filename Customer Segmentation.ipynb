{
 "cells": [
  {
   "cell_type": "markdown",
   "metadata": {},
   "source": [
    "## Imports"
   ]
  },
  {
   "cell_type": "code",
   "execution_count": 1,
   "metadata": {},
   "outputs": [],
   "source": [
    "import os\n",
    "os.chdir(r\"C:\\Users\\tom.dawson\\Documents\\Git Projects\\MallCustomerData\")\n",
    "import pandas as pd\n",
    "import numpy as np\n",
    "import plotly.graph_objects as go\n",
    "import math\n",
    "import plotly.figure_factory as ff\n",
    "from KMeansCluster import KMeansCluster\n",
    "import plotly.express as px\n",
    "from sklearn.cluster import KMeans"
   ]
  },
  {
   "cell_type": "markdown",
   "metadata": {},
   "source": [
    "## Data Processing"
   ]
  },
  {
   "cell_type": "code",
   "execution_count": 2,
   "metadata": {},
   "outputs": [],
   "source": [
    "#Misc\n",
    "Data = pd.read_csv(r\"Mall_Customers.csv\")\n",
    "Data[\"Gender\"] = Data[\"Gender\"].apply(lambda x: 1 if x == \"Male\" else 0)\n",
    "Data[\"AnnualIncome\"] = Data[\"Annual Income (k$)\"]\n",
    "Data[\"SpendingScore\"] = Data[\"Spending Score (1-100)\"]\n",
    "Data = Data.drop(\"Annual Income (k$)\", axis=1)\n",
    "Data = Data.drop(\"Spending Score (1-100)\", axis=1)\n",
    "\n",
    "PerVars = [\"SpendingScore\"] #List of Percentage variables for plotting\n",
    "MonVars = [\"AnnualIncome\"] #List of currency vars for plotting\n",
    "Data[\"All\"] = np.ones(shape = (len(Data), 1)) #For Violin Plots"
   ]
  },
  {
   "cell_type": "code",
   "execution_count": 3,
   "metadata": {},
   "outputs": [
    {
     "data": {
      "text/plain": [
       "CustomerID       0\n",
       "Gender           0\n",
       "Age              0\n",
       "AnnualIncome     0\n",
       "SpendingScore    0\n",
       "All              0\n",
       "dtype: int64"
      ]
     },
     "execution_count": 3,
     "metadata": {},
     "output_type": "execute_result"
    }
   ],
   "source": [
    "Data.isnull().sum()"
   ]
  },
  {
   "cell_type": "markdown",
   "metadata": {},
   "source": [
    "## Functions"
   ]
  },
  {
   "cell_type": "code",
   "execution_count": 34,
   "metadata": {},
   "outputs": [],
   "source": [
    "def scatter(Df, PlotVar, Hue, Y, Title):\n",
    "    \n",
    "    '''\n",
    "    Produces a plot of data pulled from specified dataframe split by a certain binary population\n",
    "    PlotVars defines the independent variable\n",
    "    Hue defines the population for which to split the plots\n",
    "    Y is the dependent variable\n",
    "    Title is title of the plot\n",
    "    '''\n",
    "    \n",
    "    Multiplier = 1000 if \"Income\" in PlotVar else 1\n",
    "\n",
    "    fig = go.Figure()\n",
    "\n",
    "    fig.add_trace(  \n",
    "        go.Scatter(\n",
    "            x = Df[Df[Hue] == 1][PlotVar]*Multiplier\n",
    "            , y=Df[Df[Hue] == 1][Y]\n",
    "            , legendgroup=Hue + \" = 1\"\n",
    "            , name=Hue + \" = 1\"\n",
    "            , mode='markers'\n",
    "            , line=dict(color='red')\n",
    "            , marker=dict(size=10, opacity=0.9)\n",
    "            , showlegend= True))\n",
    "\n",
    "    fig.add_trace(  \n",
    "        go.Scatter(\n",
    "            x = Df[Df[Hue] == 0][PlotVar]*Multiplier\n",
    "            , y=Df[Df[Hue] == 0][Y]\n",
    "            , legendgroup=Hue + \" = 0\"\n",
    "            , name=Hue + \" = 0\"\n",
    "            , mode='markers'\n",
    "            , line=dict(color='blue')\n",
    "            , marker=dict(size=10, opacity=0.9)\n",
    "            , showlegend= True))\n",
    "\n",
    "    fig.update_xaxes(\n",
    "        zeroline = True\n",
    "        , showgrid = True\n",
    "        , title = PlotVar\n",
    "        , ticksuffix = \"%\" if PlotVar in PerVars else \"\"\n",
    "        , tickprefix = \"$\" if PlotVar in MonVars else \"\"\n",
    "        , range = [0.95*Multiplier*np.min(Df[PlotVar]), 1.05*Multiplier*np.max(Df[PlotVar])])\n",
    "\n",
    "    fig.update_yaxes(\n",
    "        zeroline=True\n",
    "        , showgrid=True\n",
    "        , ticksuffix = \"%\" if Y in PerVars else \"\"\n",
    "        , tickprefix = \"$\" if Y in MonVars else \"\"\n",
    "        , range = [0.95*np.min(Df[Y]), 1.05*np.max(Df[Y])]\n",
    "        , title = Y)\n",
    "    \n",
    "    \n",
    "    fig.update_layout(\n",
    "        title = dict(text=Title, font=dict(size=17)))\n",
    "\n",
    "    fig.update_annotations(\n",
    "        font = dict(size=14))\n",
    "    \n",
    "    fig.show()"
   ]
  },
  {
   "cell_type": "code",
   "execution_count": 28,
   "metadata": {},
   "outputs": [],
   "source": [
    "def DistributionPlot(Df, PlotVar):\n",
    "    '''\n",
    "    Plots the distribution of a given variable in a dataframe\n",
    "    '''\n",
    "    Labels = [i for i in range(0, 100, 10)]\n",
    "    \n",
    "    fig = ff.create_distplot(\n",
    "            hist_data = [Df[PlotVar].values.tolist()]\n",
    "            , group_labels = [str(PlotVar) + \" Distribution\"]\n",
    "            , bin_size=3.5)\n",
    "    \n",
    "    fig.update_xaxes(\n",
    "    zeroline = True\n",
    "    , showgrid = True\n",
    "    , title=PlotVar)\n",
    "\n",
    "\n",
    "    fig.update_yaxes(\n",
    "        zeroline=True\n",
    "        , showgrid=True\n",
    "        , title=\"Distribution\")\n",
    "\n",
    "\n",
    "    fig.update_layout(\n",
    "        title = dict(text=str(PlotVar) + \" Distribution\"\n",
    "                     , font=dict(color=\"Black\", size=20))\n",
    "        , font = dict(color=\"Black\", size=10)\n",
    "        , height = 700\n",
    "        , width = 1100\n",
    "        , legend_title='Legend')\n",
    "\n",
    "    fig.show()"
   ]
  },
  {
   "cell_type": "code",
   "execution_count": 37,
   "metadata": {},
   "outputs": [],
   "source": [
    "def Plot(Df, Y, Hue):\n",
    "    \n",
    "    '''\n",
    "    Generates a violin plot with data pulled from a specified dataframe.\n",
    "    Dependent variable is specified as Y\n",
    "    Hue splits the dependent variable into two populations according to a specified binary classifier.\n",
    "    Can be Gender, Retired etc.\n",
    "    '''\n",
    "    \n",
    "    Multiplier = 1000 if \"Income\" in Y else 1\n",
    "    \n",
    "    fig = go.Figure()\n",
    "\n",
    "    fig.add_trace(\n",
    "        go.Violin(\n",
    "            x = Df[\"All\"]\n",
    "            , y=Df[Y][Df[Hue] == 0]*Multiplier\n",
    "            , name=Hue + \" = 0\"\n",
    "            , side=\"positive\"\n",
    "            , showlegend= True\n",
    "            , box = dict(visible=True)\n",
    "            , meanline = dict(visible=True)))\n",
    "\n",
    "    fig.add_trace(\n",
    "        go.Violin(\n",
    "            x = Df[\"All\"]\n",
    "            , y=Df[Y][Df[Hue] == 1]*Multiplier\n",
    "            , name=Hue + \" = 1\"\n",
    "            , side=\"negative\"\n",
    "            , showlegend= True\n",
    "            , box = dict(visible=True)\n",
    "            , meanline = dict(visible=True)))\n",
    "    \n",
    "    fig.update_xaxes(\n",
    "        zeroline = True\n",
    "        , showgrid = True\n",
    "        , showticklabels = False)\n",
    "\n",
    "    fig.update_yaxes(\n",
    "        zeroline=True\n",
    "        , showgrid=True\n",
    "        , ticksuffix = \"%\" if Y in PerVars else \"\"\n",
    "        , tickprefix = \"$\" if Y in MonVars else \"\"\n",
    "        , title=Y)\n",
    "    \n",
    "    fig.update_layout(\n",
    "        title = dict(text=Y+\" Split By \"+ Hue)\n",
    "        , height = 600\n",
    "        , width = 900)\n",
    "\n",
    "    fig.update_annotations(\n",
    "        font = dict(size=14))\n",
    "\n",
    "    fig.show()"
   ]
  },
  {
   "cell_type": "code",
   "execution_count": 38,
   "metadata": {},
   "outputs": [],
   "source": [
    "def InertiaPlot(DataFrame, Vars):\n",
    "    \n",
    "    '''\n",
    "    Calculates inertia for a variety of K's\n",
    "    Plots inertia for each model\n",
    "    Allows user to find optimal K.\n",
    "    '''\n",
    "    \n",
    "    Inertia = {}\n",
    "    \n",
    "    for N in range(1 , 10):\n",
    "        Mod = KMeansCluster(300, N)\n",
    "\n",
    "        Mod = Mod.fit(DataFrame[Vars])\n",
    "\n",
    "        Preds = Mod.Predict(DataFrame[Vars])\n",
    "\n",
    "        Inertia[N] = Mod.Inertia\n",
    "\n",
    "\n",
    "    fig = go.Figure()\n",
    "\n",
    "    fig.add_trace(  \n",
    "        go.Scatter(\n",
    "            x = [i for i in range(1 , 7)]\n",
    "            , y=[Inertia[i] for i in range(1 , 10)]\n",
    "            , legendgroup=\"Inertia\"\n",
    "            , name=\"Inertia\"\n",
    "            , mode='lines+markers'\n",
    "            , marker=dict(size=10, opacity=0.9)\n",
    "            , showlegend= True))\n",
    "\n",
    "    fig.update_xaxes(\n",
    "        zeroline = True\n",
    "        , showgrid = True\n",
    "        , title = \"K\")\n",
    "\n",
    "    fig.update_yaxes(\n",
    "        zeroline=True\n",
    "        , showgrid=True\n",
    "        , title=\"Inertia\")\n",
    "\n",
    "\n",
    "    fig.update_layout(\n",
    "        title = dict(text=\"Inertia vs. K\", font=dict(size=17)))\n",
    "\n",
    "    fig.update_annotations(\n",
    "        font = dict(size=14))\n",
    "\n",
    "    fig.show()"
   ]
  },
  {
   "cell_type": "markdown",
   "metadata": {},
   "source": [
    "## EDA"
   ]
  },
  {
   "cell_type": "code",
   "execution_count": 39,
   "metadata": {},
   "outputs": [
    {
     "data": {
      "text/html": [
       "<div>\n",
       "<style scoped>\n",
       "    .dataframe tbody tr th:only-of-type {\n",
       "        vertical-align: middle;\n",
       "    }\n",
       "\n",
       "    .dataframe tbody tr th {\n",
       "        vertical-align: top;\n",
       "    }\n",
       "\n",
       "    .dataframe thead th {\n",
       "        text-align: right;\n",
       "    }\n",
       "</style>\n",
       "<table border=\"1\" class=\"dataframe\">\n",
       "  <thead>\n",
       "    <tr style=\"text-align: right;\">\n",
       "      <th></th>\n",
       "      <th>CustomerID</th>\n",
       "      <th>Gender</th>\n",
       "      <th>Age</th>\n",
       "      <th>AnnualIncome</th>\n",
       "      <th>SpendingScore</th>\n",
       "      <th>All</th>\n",
       "      <th>Clusters</th>\n",
       "    </tr>\n",
       "  </thead>\n",
       "  <tbody>\n",
       "    <tr>\n",
       "      <th>count</th>\n",
       "      <td>200.000000</td>\n",
       "      <td>200.000000</td>\n",
       "      <td>200.000000</td>\n",
       "      <td>200.000000</td>\n",
       "      <td>200.000000</td>\n",
       "      <td>200.0</td>\n",
       "      <td>200.000000</td>\n",
       "    </tr>\n",
       "    <tr>\n",
       "      <th>mean</th>\n",
       "      <td>100.500000</td>\n",
       "      <td>0.440000</td>\n",
       "      <td>38.850000</td>\n",
       "      <td>60.560000</td>\n",
       "      <td>50.200000</td>\n",
       "      <td>1.0</td>\n",
       "      <td>2.690000</td>\n",
       "    </tr>\n",
       "    <tr>\n",
       "      <th>std</th>\n",
       "      <td>57.879185</td>\n",
       "      <td>0.497633</td>\n",
       "      <td>13.969007</td>\n",
       "      <td>26.264721</td>\n",
       "      <td>25.823522</td>\n",
       "      <td>0.0</td>\n",
       "      <td>1.576811</td>\n",
       "    </tr>\n",
       "    <tr>\n",
       "      <th>min</th>\n",
       "      <td>1.000000</td>\n",
       "      <td>0.000000</td>\n",
       "      <td>18.000000</td>\n",
       "      <td>15.000000</td>\n",
       "      <td>1.000000</td>\n",
       "      <td>1.0</td>\n",
       "      <td>1.000000</td>\n",
       "    </tr>\n",
       "    <tr>\n",
       "      <th>25%</th>\n",
       "      <td>50.750000</td>\n",
       "      <td>0.000000</td>\n",
       "      <td>28.750000</td>\n",
       "      <td>41.500000</td>\n",
       "      <td>34.750000</td>\n",
       "      <td>1.0</td>\n",
       "      <td>1.000000</td>\n",
       "    </tr>\n",
       "    <tr>\n",
       "      <th>50%</th>\n",
       "      <td>100.500000</td>\n",
       "      <td>0.000000</td>\n",
       "      <td>36.000000</td>\n",
       "      <td>61.500000</td>\n",
       "      <td>50.000000</td>\n",
       "      <td>1.0</td>\n",
       "      <td>3.000000</td>\n",
       "    </tr>\n",
       "    <tr>\n",
       "      <th>75%</th>\n",
       "      <td>150.250000</td>\n",
       "      <td>1.000000</td>\n",
       "      <td>49.000000</td>\n",
       "      <td>78.000000</td>\n",
       "      <td>73.000000</td>\n",
       "      <td>1.0</td>\n",
       "      <td>4.000000</td>\n",
       "    </tr>\n",
       "    <tr>\n",
       "      <th>max</th>\n",
       "      <td>200.000000</td>\n",
       "      <td>1.000000</td>\n",
       "      <td>70.000000</td>\n",
       "      <td>137.000000</td>\n",
       "      <td>99.000000</td>\n",
       "      <td>1.0</td>\n",
       "      <td>5.000000</td>\n",
       "    </tr>\n",
       "  </tbody>\n",
       "</table>\n",
       "</div>"
      ],
      "text/plain": [
       "       CustomerID      Gender         Age  AnnualIncome  SpendingScore    All  \\\n",
       "count  200.000000  200.000000  200.000000    200.000000     200.000000  200.0   \n",
       "mean   100.500000    0.440000   38.850000     60.560000      50.200000    1.0   \n",
       "std     57.879185    0.497633   13.969007     26.264721      25.823522    0.0   \n",
       "min      1.000000    0.000000   18.000000     15.000000       1.000000    1.0   \n",
       "25%     50.750000    0.000000   28.750000     41.500000      34.750000    1.0   \n",
       "50%    100.500000    0.000000   36.000000     61.500000      50.000000    1.0   \n",
       "75%    150.250000    1.000000   49.000000     78.000000      73.000000    1.0   \n",
       "max    200.000000    1.000000   70.000000    137.000000      99.000000    1.0   \n",
       "\n",
       "         Clusters  \n",
       "count  200.000000  \n",
       "mean     2.690000  \n",
       "std      1.576811  \n",
       "min      1.000000  \n",
       "25%      1.000000  \n",
       "50%      3.000000  \n",
       "75%      4.000000  \n",
       "max      5.000000  "
      ]
     },
     "execution_count": 39,
     "metadata": {},
     "output_type": "execute_result"
    }
   ],
   "source": [
    "#Small number of data points, AvAge = 39, AvInc = 60, AvSpen = 50%\n",
    "#44% of population is Female\n",
    "Data.describe()"
   ]
  },
  {
   "cell_type": "code",
   "execution_count": 40,
   "metadata": {},
   "outputs": [
    {
     "name": "stdout",
     "output_type": "stream",
     "text": [
      "<class 'pandas.core.frame.DataFrame'>\n",
      "RangeIndex: 200 entries, 0 to 199\n",
      "Data columns (total 7 columns):\n",
      "CustomerID       200 non-null int64\n",
      "Gender           200 non-null int64\n",
      "Age              200 non-null int64\n",
      "AnnualIncome     200 non-null int64\n",
      "SpendingScore    200 non-null int64\n",
      "All              200 non-null float64\n",
      "Clusters         200 non-null int64\n",
      "dtypes: float64(1), int64(6)\n",
      "memory usage: 11.0 KB\n"
     ]
    }
   ],
   "source": [
    "Data.info()"
   ]
  },
  {
   "cell_type": "code",
   "execution_count": 41,
   "metadata": {},
   "outputs": [
    {
     "data": {
      "application/vnd.plotly.v1+json": {
       "config": {
        "plotlyServerURL": "https://plot.ly"
       },
       "data": [
        {
         "legendgroup": "Gender = 1",
         "line": {
          "color": "red"
         },
         "marker": {
          "opacity": 0.9,
          "size": 10
         },
         "mode": "markers",
         "name": "Gender = 1",
         "showlegend": true,
         "type": "scatter",
         "x": [
          15000,
          15000,
          19000,
          19000,
          20000,
          20000,
          21000,
          23000,
          24000,
          24000,
          25000,
          28000,
          28000,
          30000,
          33000,
          33000,
          38000,
          39000,
          42000,
          43000,
          43000,
          44000,
          46000,
          46000,
          46000,
          48000,
          48000,
          48000,
          49000,
          54000,
          54000,
          54000,
          54000,
          54000,
          54000,
          54000,
          59000,
          60000,
          60000,
          61000,
          61000,
          62000,
          62000,
          62000,
          63000,
          63000,
          63000,
          63000,
          64000,
          67000,
          69000,
          71000,
          71000,
          71000,
          71000,
          71000,
          71000,
          73000,
          73000,
          74000,
          75000,
          77000,
          77000,
          77000,
          78000,
          78000,
          78000,
          78000,
          78000,
          81000,
          85000,
          86000,
          87000,
          87000,
          87000,
          87000,
          87000,
          88000,
          88000,
          93000,
          93000,
          98000,
          99000,
          101000,
          113000,
          126000,
          137000,
          137000
         ],
         "y": [
          39,
          81,
          3,
          14,
          13,
          79,
          66,
          29,
          35,
          73,
          73,
          82,
          61,
          4,
          4,
          92,
          92,
          36,
          60,
          60,
          41,
          46,
          46,
          56,
          55,
          51,
          59,
          59,
          55,
          47,
          54,
          48,
          51,
          55,
          41,
          46,
          41,
          49,
          52,
          42,
          49,
          59,
          55,
          56,
          46,
          43,
          48,
          52,
          46,
          56,
          91,
          35,
          95,
          11,
          75,
          9,
          75,
          5,
          73,
          10,
          93,
          12,
          97,
          36,
          90,
          17,
          88,
          1,
          1,
          5,
          26,
          20,
          63,
          13,
          75,
          10,
          92,
          15,
          69,
          14,
          90,
          15,
          97,
          68,
          8,
          74,
          18,
          83
         ]
        },
        {
         "legendgroup": "Gender = 0",
         "line": {
          "color": "blue"
         },
         "marker": {
          "opacity": 0.9,
          "size": 10
         },
         "mode": "markers",
         "name": "Gender = 0",
         "showlegend": true,
         "type": "scatter",
         "x": [
          16000,
          16000,
          17000,
          17000,
          18000,
          18000,
          19000,
          19000,
          20000,
          20000,
          21000,
          23000,
          25000,
          28000,
          28000,
          29000,
          29000,
          30000,
          33000,
          33000,
          34000,
          34000,
          37000,
          37000,
          38000,
          39000,
          39000,
          39000,
          40000,
          40000,
          40000,
          40000,
          42000,
          43000,
          43000,
          44000,
          46000,
          47000,
          47000,
          48000,
          48000,
          48000,
          49000,
          50000,
          50000,
          54000,
          54000,
          54000,
          54000,
          54000,
          57000,
          57000,
          58000,
          58000,
          59000,
          60000,
          60000,
          60000,
          60000,
          62000,
          62000,
          62000,
          63000,
          63000,
          64000,
          65000,
          65000,
          65000,
          65000,
          67000,
          67000,
          67000,
          69000,
          70000,
          70000,
          72000,
          72000,
          73000,
          73000,
          74000,
          75000,
          76000,
          76000,
          77000,
          78000,
          78000,
          78000,
          78000,
          78000,
          78000,
          78000,
          79000,
          79000,
          81000,
          85000,
          86000,
          87000,
          88000,
          88000,
          97000,
          97000,
          98000,
          99000,
          101000,
          103000,
          103000,
          103000,
          103000,
          113000,
          120000,
          120000,
          126000
         ],
         "y": [
          6,
          77,
          40,
          76,
          6,
          94,
          72,
          99,
          15,
          77,
          35,
          98,
          5,
          14,
          32,
          31,
          87,
          73,
          14,
          81,
          17,
          73,
          26,
          75,
          35,
          61,
          28,
          65,
          55,
          47,
          42,
          42,
          52,
          54,
          45,
          50,
          51,
          52,
          59,
          50,
          48,
          47,
          42,
          49,
          56,
          53,
          52,
          42,
          44,
          57,
          58,
          55,
          60,
          46,
          55,
          40,
          42,
          47,
          50,
          41,
          48,
          42,
          50,
          54,
          42,
          48,
          50,
          43,
          59,
          43,
          57,
          40,
          58,
          29,
          77,
          34,
          71,
          88,
          7,
          72,
          5,
          40,
          87,
          74,
          22,
          20,
          76,
          16,
          89,
          78,
          73,
          35,
          83,
          93,
          75,
          95,
          27,
          13,
          86,
          32,
          86,
          88,
          39,
          24,
          17,
          85,
          23,
          69,
          91,
          16,
          79,
          28
         ]
        }
       ],
       "layout": {
        "template": {
         "data": {
          "bar": [
           {
            "error_x": {
             "color": "#2a3f5f"
            },
            "error_y": {
             "color": "#2a3f5f"
            },
            "marker": {
             "line": {
              "color": "#E5ECF6",
              "width": 0.5
             }
            },
            "type": "bar"
           }
          ],
          "barpolar": [
           {
            "marker": {
             "line": {
              "color": "#E5ECF6",
              "width": 0.5
             }
            },
            "type": "barpolar"
           }
          ],
          "carpet": [
           {
            "aaxis": {
             "endlinecolor": "#2a3f5f",
             "gridcolor": "white",
             "linecolor": "white",
             "minorgridcolor": "white",
             "startlinecolor": "#2a3f5f"
            },
            "baxis": {
             "endlinecolor": "#2a3f5f",
             "gridcolor": "white",
             "linecolor": "white",
             "minorgridcolor": "white",
             "startlinecolor": "#2a3f5f"
            },
            "type": "carpet"
           }
          ],
          "choropleth": [
           {
            "colorbar": {
             "outlinewidth": 0,
             "ticks": ""
            },
            "type": "choropleth"
           }
          ],
          "contour": [
           {
            "colorbar": {
             "outlinewidth": 0,
             "ticks": ""
            },
            "colorscale": [
             [
              0,
              "#0d0887"
             ],
             [
              0.1111111111111111,
              "#46039f"
             ],
             [
              0.2222222222222222,
              "#7201a8"
             ],
             [
              0.3333333333333333,
              "#9c179e"
             ],
             [
              0.4444444444444444,
              "#bd3786"
             ],
             [
              0.5555555555555556,
              "#d8576b"
             ],
             [
              0.6666666666666666,
              "#ed7953"
             ],
             [
              0.7777777777777778,
              "#fb9f3a"
             ],
             [
              0.8888888888888888,
              "#fdca26"
             ],
             [
              1,
              "#f0f921"
             ]
            ],
            "type": "contour"
           }
          ],
          "contourcarpet": [
           {
            "colorbar": {
             "outlinewidth": 0,
             "ticks": ""
            },
            "type": "contourcarpet"
           }
          ],
          "heatmap": [
           {
            "colorbar": {
             "outlinewidth": 0,
             "ticks": ""
            },
            "colorscale": [
             [
              0,
              "#0d0887"
             ],
             [
              0.1111111111111111,
              "#46039f"
             ],
             [
              0.2222222222222222,
              "#7201a8"
             ],
             [
              0.3333333333333333,
              "#9c179e"
             ],
             [
              0.4444444444444444,
              "#bd3786"
             ],
             [
              0.5555555555555556,
              "#d8576b"
             ],
             [
              0.6666666666666666,
              "#ed7953"
             ],
             [
              0.7777777777777778,
              "#fb9f3a"
             ],
             [
              0.8888888888888888,
              "#fdca26"
             ],
             [
              1,
              "#f0f921"
             ]
            ],
            "type": "heatmap"
           }
          ],
          "heatmapgl": [
           {
            "colorbar": {
             "outlinewidth": 0,
             "ticks": ""
            },
            "colorscale": [
             [
              0,
              "#0d0887"
             ],
             [
              0.1111111111111111,
              "#46039f"
             ],
             [
              0.2222222222222222,
              "#7201a8"
             ],
             [
              0.3333333333333333,
              "#9c179e"
             ],
             [
              0.4444444444444444,
              "#bd3786"
             ],
             [
              0.5555555555555556,
              "#d8576b"
             ],
             [
              0.6666666666666666,
              "#ed7953"
             ],
             [
              0.7777777777777778,
              "#fb9f3a"
             ],
             [
              0.8888888888888888,
              "#fdca26"
             ],
             [
              1,
              "#f0f921"
             ]
            ],
            "type": "heatmapgl"
           }
          ],
          "histogram": [
           {
            "marker": {
             "colorbar": {
              "outlinewidth": 0,
              "ticks": ""
             }
            },
            "type": "histogram"
           }
          ],
          "histogram2d": [
           {
            "colorbar": {
             "outlinewidth": 0,
             "ticks": ""
            },
            "colorscale": [
             [
              0,
              "#0d0887"
             ],
             [
              0.1111111111111111,
              "#46039f"
             ],
             [
              0.2222222222222222,
              "#7201a8"
             ],
             [
              0.3333333333333333,
              "#9c179e"
             ],
             [
              0.4444444444444444,
              "#bd3786"
             ],
             [
              0.5555555555555556,
              "#d8576b"
             ],
             [
              0.6666666666666666,
              "#ed7953"
             ],
             [
              0.7777777777777778,
              "#fb9f3a"
             ],
             [
              0.8888888888888888,
              "#fdca26"
             ],
             [
              1,
              "#f0f921"
             ]
            ],
            "type": "histogram2d"
           }
          ],
          "histogram2dcontour": [
           {
            "colorbar": {
             "outlinewidth": 0,
             "ticks": ""
            },
            "colorscale": [
             [
              0,
              "#0d0887"
             ],
             [
              0.1111111111111111,
              "#46039f"
             ],
             [
              0.2222222222222222,
              "#7201a8"
             ],
             [
              0.3333333333333333,
              "#9c179e"
             ],
             [
              0.4444444444444444,
              "#bd3786"
             ],
             [
              0.5555555555555556,
              "#d8576b"
             ],
             [
              0.6666666666666666,
              "#ed7953"
             ],
             [
              0.7777777777777778,
              "#fb9f3a"
             ],
             [
              0.8888888888888888,
              "#fdca26"
             ],
             [
              1,
              "#f0f921"
             ]
            ],
            "type": "histogram2dcontour"
           }
          ],
          "mesh3d": [
           {
            "colorbar": {
             "outlinewidth": 0,
             "ticks": ""
            },
            "type": "mesh3d"
           }
          ],
          "parcoords": [
           {
            "line": {
             "colorbar": {
              "outlinewidth": 0,
              "ticks": ""
             }
            },
            "type": "parcoords"
           }
          ],
          "pie": [
           {
            "automargin": true,
            "type": "pie"
           }
          ],
          "scatter": [
           {
            "marker": {
             "colorbar": {
              "outlinewidth": 0,
              "ticks": ""
             }
            },
            "type": "scatter"
           }
          ],
          "scatter3d": [
           {
            "line": {
             "colorbar": {
              "outlinewidth": 0,
              "ticks": ""
             }
            },
            "marker": {
             "colorbar": {
              "outlinewidth": 0,
              "ticks": ""
             }
            },
            "type": "scatter3d"
           }
          ],
          "scattercarpet": [
           {
            "marker": {
             "colorbar": {
              "outlinewidth": 0,
              "ticks": ""
             }
            },
            "type": "scattercarpet"
           }
          ],
          "scattergeo": [
           {
            "marker": {
             "colorbar": {
              "outlinewidth": 0,
              "ticks": ""
             }
            },
            "type": "scattergeo"
           }
          ],
          "scattergl": [
           {
            "marker": {
             "colorbar": {
              "outlinewidth": 0,
              "ticks": ""
             }
            },
            "type": "scattergl"
           }
          ],
          "scattermapbox": [
           {
            "marker": {
             "colorbar": {
              "outlinewidth": 0,
              "ticks": ""
             }
            },
            "type": "scattermapbox"
           }
          ],
          "scatterpolar": [
           {
            "marker": {
             "colorbar": {
              "outlinewidth": 0,
              "ticks": ""
             }
            },
            "type": "scatterpolar"
           }
          ],
          "scatterpolargl": [
           {
            "marker": {
             "colorbar": {
              "outlinewidth": 0,
              "ticks": ""
             }
            },
            "type": "scatterpolargl"
           }
          ],
          "scatterternary": [
           {
            "marker": {
             "colorbar": {
              "outlinewidth": 0,
              "ticks": ""
             }
            },
            "type": "scatterternary"
           }
          ],
          "surface": [
           {
            "colorbar": {
             "outlinewidth": 0,
             "ticks": ""
            },
            "colorscale": [
             [
              0,
              "#0d0887"
             ],
             [
              0.1111111111111111,
              "#46039f"
             ],
             [
              0.2222222222222222,
              "#7201a8"
             ],
             [
              0.3333333333333333,
              "#9c179e"
             ],
             [
              0.4444444444444444,
              "#bd3786"
             ],
             [
              0.5555555555555556,
              "#d8576b"
             ],
             [
              0.6666666666666666,
              "#ed7953"
             ],
             [
              0.7777777777777778,
              "#fb9f3a"
             ],
             [
              0.8888888888888888,
              "#fdca26"
             ],
             [
              1,
              "#f0f921"
             ]
            ],
            "type": "surface"
           }
          ],
          "table": [
           {
            "cells": {
             "fill": {
              "color": "#EBF0F8"
             },
             "line": {
              "color": "white"
             }
            },
            "header": {
             "fill": {
              "color": "#C8D4E3"
             },
             "line": {
              "color": "white"
             }
            },
            "type": "table"
           }
          ]
         },
         "layout": {
          "annotationdefaults": {
           "arrowcolor": "#2a3f5f",
           "arrowhead": 0,
           "arrowwidth": 1
          },
          "coloraxis": {
           "colorbar": {
            "outlinewidth": 0,
            "ticks": ""
           }
          },
          "colorscale": {
           "diverging": [
            [
             0,
             "#8e0152"
            ],
            [
             0.1,
             "#c51b7d"
            ],
            [
             0.2,
             "#de77ae"
            ],
            [
             0.3,
             "#f1b6da"
            ],
            [
             0.4,
             "#fde0ef"
            ],
            [
             0.5,
             "#f7f7f7"
            ],
            [
             0.6,
             "#e6f5d0"
            ],
            [
             0.7,
             "#b8e186"
            ],
            [
             0.8,
             "#7fbc41"
            ],
            [
             0.9,
             "#4d9221"
            ],
            [
             1,
             "#276419"
            ]
           ],
           "sequential": [
            [
             0,
             "#0d0887"
            ],
            [
             0.1111111111111111,
             "#46039f"
            ],
            [
             0.2222222222222222,
             "#7201a8"
            ],
            [
             0.3333333333333333,
             "#9c179e"
            ],
            [
             0.4444444444444444,
             "#bd3786"
            ],
            [
             0.5555555555555556,
             "#d8576b"
            ],
            [
             0.6666666666666666,
             "#ed7953"
            ],
            [
             0.7777777777777778,
             "#fb9f3a"
            ],
            [
             0.8888888888888888,
             "#fdca26"
            ],
            [
             1,
             "#f0f921"
            ]
           ],
           "sequentialminus": [
            [
             0,
             "#0d0887"
            ],
            [
             0.1111111111111111,
             "#46039f"
            ],
            [
             0.2222222222222222,
             "#7201a8"
            ],
            [
             0.3333333333333333,
             "#9c179e"
            ],
            [
             0.4444444444444444,
             "#bd3786"
            ],
            [
             0.5555555555555556,
             "#d8576b"
            ],
            [
             0.6666666666666666,
             "#ed7953"
            ],
            [
             0.7777777777777778,
             "#fb9f3a"
            ],
            [
             0.8888888888888888,
             "#fdca26"
            ],
            [
             1,
             "#f0f921"
            ]
           ]
          },
          "colorway": [
           "#636efa",
           "#EF553B",
           "#00cc96",
           "#ab63fa",
           "#FFA15A",
           "#19d3f3",
           "#FF6692",
           "#B6E880",
           "#FF97FF",
           "#FECB52"
          ],
          "font": {
           "color": "#2a3f5f"
          },
          "geo": {
           "bgcolor": "white",
           "lakecolor": "white",
           "landcolor": "#E5ECF6",
           "showlakes": true,
           "showland": true,
           "subunitcolor": "white"
          },
          "hoverlabel": {
           "align": "left"
          },
          "hovermode": "closest",
          "mapbox": {
           "style": "light"
          },
          "paper_bgcolor": "white",
          "plot_bgcolor": "#E5ECF6",
          "polar": {
           "angularaxis": {
            "gridcolor": "white",
            "linecolor": "white",
            "ticks": ""
           },
           "bgcolor": "#E5ECF6",
           "radialaxis": {
            "gridcolor": "white",
            "linecolor": "white",
            "ticks": ""
           }
          },
          "scene": {
           "xaxis": {
            "backgroundcolor": "#E5ECF6",
            "gridcolor": "white",
            "gridwidth": 2,
            "linecolor": "white",
            "showbackground": true,
            "ticks": "",
            "zerolinecolor": "white"
           },
           "yaxis": {
            "backgroundcolor": "#E5ECF6",
            "gridcolor": "white",
            "gridwidth": 2,
            "linecolor": "white",
            "showbackground": true,
            "ticks": "",
            "zerolinecolor": "white"
           },
           "zaxis": {
            "backgroundcolor": "#E5ECF6",
            "gridcolor": "white",
            "gridwidth": 2,
            "linecolor": "white",
            "showbackground": true,
            "ticks": "",
            "zerolinecolor": "white"
           }
          },
          "shapedefaults": {
           "line": {
            "color": "#2a3f5f"
           }
          },
          "ternary": {
           "aaxis": {
            "gridcolor": "white",
            "linecolor": "white",
            "ticks": ""
           },
           "baxis": {
            "gridcolor": "white",
            "linecolor": "white",
            "ticks": ""
           },
           "bgcolor": "#E5ECF6",
           "caxis": {
            "gridcolor": "white",
            "linecolor": "white",
            "ticks": ""
           }
          },
          "title": {
           "x": 0.05
          },
          "xaxis": {
           "automargin": true,
           "gridcolor": "white",
           "linecolor": "white",
           "ticks": "",
           "title": {
            "standoff": 15
           },
           "zerolinecolor": "white",
           "zerolinewidth": 2
          },
          "yaxis": {
           "automargin": true,
           "gridcolor": "white",
           "linecolor": "white",
           "ticks": "",
           "title": {
            "standoff": 15
           },
           "zerolinecolor": "white",
           "zerolinewidth": 2
          }
         }
        },
        "title": {
         "font": {
          "size": 17
         },
         "text": "Annual Income vs. Spending Score for Male (1) and Female (0)"
        },
        "xaxis": {
         "range": [
          14250,
          143850
         ],
         "showgrid": true,
         "tickprefix": "$",
         "ticksuffix": "",
         "title": {
          "text": "AnnualIncome"
         },
         "zeroline": true
        },
        "yaxis": {
         "range": [
          0.95,
          103.95
         ],
         "showgrid": true,
         "tickprefix": "",
         "ticksuffix": "%",
         "title": {
          "text": "SpendingScore"
         },
         "zeroline": true
        }
       }
      },
      "text/html": [
       "<div>\n",
       "        \n",
       "        \n",
       "            <div id=\"1009696f-cf0b-41ba-8e20-9d1e73df41fb\" class=\"plotly-graph-div\" style=\"height:525px; width:100%;\"></div>\n",
       "            <script type=\"text/javascript\">\n",
       "                require([\"plotly\"], function(Plotly) {\n",
       "                    window.PLOTLYENV=window.PLOTLYENV || {};\n",
       "                    \n",
       "                if (document.getElementById(\"1009696f-cf0b-41ba-8e20-9d1e73df41fb\")) {\n",
       "                    Plotly.newPlot(\n",
       "                        '1009696f-cf0b-41ba-8e20-9d1e73df41fb',\n",
       "                        [{\"legendgroup\": \"Gender = 1\", \"line\": {\"color\": \"red\"}, \"marker\": {\"opacity\": 0.9, \"size\": 10}, \"mode\": \"markers\", \"name\": \"Gender = 1\", \"showlegend\": true, \"type\": \"scatter\", \"x\": [15000, 15000, 19000, 19000, 20000, 20000, 21000, 23000, 24000, 24000, 25000, 28000, 28000, 30000, 33000, 33000, 38000, 39000, 42000, 43000, 43000, 44000, 46000, 46000, 46000, 48000, 48000, 48000, 49000, 54000, 54000, 54000, 54000, 54000, 54000, 54000, 59000, 60000, 60000, 61000, 61000, 62000, 62000, 62000, 63000, 63000, 63000, 63000, 64000, 67000, 69000, 71000, 71000, 71000, 71000, 71000, 71000, 73000, 73000, 74000, 75000, 77000, 77000, 77000, 78000, 78000, 78000, 78000, 78000, 81000, 85000, 86000, 87000, 87000, 87000, 87000, 87000, 88000, 88000, 93000, 93000, 98000, 99000, 101000, 113000, 126000, 137000, 137000], \"y\": [39, 81, 3, 14, 13, 79, 66, 29, 35, 73, 73, 82, 61, 4, 4, 92, 92, 36, 60, 60, 41, 46, 46, 56, 55, 51, 59, 59, 55, 47, 54, 48, 51, 55, 41, 46, 41, 49, 52, 42, 49, 59, 55, 56, 46, 43, 48, 52, 46, 56, 91, 35, 95, 11, 75, 9, 75, 5, 73, 10, 93, 12, 97, 36, 90, 17, 88, 1, 1, 5, 26, 20, 63, 13, 75, 10, 92, 15, 69, 14, 90, 15, 97, 68, 8, 74, 18, 83]}, {\"legendgroup\": \"Gender = 0\", \"line\": {\"color\": \"blue\"}, \"marker\": {\"opacity\": 0.9, \"size\": 10}, \"mode\": \"markers\", \"name\": \"Gender = 0\", \"showlegend\": true, \"type\": \"scatter\", \"x\": [16000, 16000, 17000, 17000, 18000, 18000, 19000, 19000, 20000, 20000, 21000, 23000, 25000, 28000, 28000, 29000, 29000, 30000, 33000, 33000, 34000, 34000, 37000, 37000, 38000, 39000, 39000, 39000, 40000, 40000, 40000, 40000, 42000, 43000, 43000, 44000, 46000, 47000, 47000, 48000, 48000, 48000, 49000, 50000, 50000, 54000, 54000, 54000, 54000, 54000, 57000, 57000, 58000, 58000, 59000, 60000, 60000, 60000, 60000, 62000, 62000, 62000, 63000, 63000, 64000, 65000, 65000, 65000, 65000, 67000, 67000, 67000, 69000, 70000, 70000, 72000, 72000, 73000, 73000, 74000, 75000, 76000, 76000, 77000, 78000, 78000, 78000, 78000, 78000, 78000, 78000, 79000, 79000, 81000, 85000, 86000, 87000, 88000, 88000, 97000, 97000, 98000, 99000, 101000, 103000, 103000, 103000, 103000, 113000, 120000, 120000, 126000], \"y\": [6, 77, 40, 76, 6, 94, 72, 99, 15, 77, 35, 98, 5, 14, 32, 31, 87, 73, 14, 81, 17, 73, 26, 75, 35, 61, 28, 65, 55, 47, 42, 42, 52, 54, 45, 50, 51, 52, 59, 50, 48, 47, 42, 49, 56, 53, 52, 42, 44, 57, 58, 55, 60, 46, 55, 40, 42, 47, 50, 41, 48, 42, 50, 54, 42, 48, 50, 43, 59, 43, 57, 40, 58, 29, 77, 34, 71, 88, 7, 72, 5, 40, 87, 74, 22, 20, 76, 16, 89, 78, 73, 35, 83, 93, 75, 95, 27, 13, 86, 32, 86, 88, 39, 24, 17, 85, 23, 69, 91, 16, 79, 28]}],\n",
       "                        {\"template\": {\"data\": {\"bar\": [{\"error_x\": {\"color\": \"#2a3f5f\"}, \"error_y\": {\"color\": \"#2a3f5f\"}, \"marker\": {\"line\": {\"color\": \"#E5ECF6\", \"width\": 0.5}}, \"type\": \"bar\"}], \"barpolar\": [{\"marker\": {\"line\": {\"color\": \"#E5ECF6\", \"width\": 0.5}}, \"type\": \"barpolar\"}], \"carpet\": [{\"aaxis\": {\"endlinecolor\": \"#2a3f5f\", \"gridcolor\": \"white\", \"linecolor\": \"white\", \"minorgridcolor\": \"white\", \"startlinecolor\": \"#2a3f5f\"}, \"baxis\": {\"endlinecolor\": \"#2a3f5f\", \"gridcolor\": \"white\", \"linecolor\": \"white\", \"minorgridcolor\": \"white\", \"startlinecolor\": \"#2a3f5f\"}, \"type\": \"carpet\"}], \"choropleth\": [{\"colorbar\": {\"outlinewidth\": 0, \"ticks\": \"\"}, \"type\": \"choropleth\"}], \"contour\": [{\"colorbar\": {\"outlinewidth\": 0, \"ticks\": \"\"}, \"colorscale\": [[0.0, \"#0d0887\"], [0.1111111111111111, \"#46039f\"], [0.2222222222222222, \"#7201a8\"], [0.3333333333333333, \"#9c179e\"], [0.4444444444444444, \"#bd3786\"], [0.5555555555555556, \"#d8576b\"], [0.6666666666666666, \"#ed7953\"], [0.7777777777777778, \"#fb9f3a\"], [0.8888888888888888, \"#fdca26\"], [1.0, \"#f0f921\"]], \"type\": \"contour\"}], \"contourcarpet\": [{\"colorbar\": {\"outlinewidth\": 0, \"ticks\": \"\"}, \"type\": \"contourcarpet\"}], \"heatmap\": [{\"colorbar\": {\"outlinewidth\": 0, \"ticks\": \"\"}, \"colorscale\": [[0.0, \"#0d0887\"], [0.1111111111111111, \"#46039f\"], [0.2222222222222222, \"#7201a8\"], [0.3333333333333333, \"#9c179e\"], [0.4444444444444444, \"#bd3786\"], [0.5555555555555556, \"#d8576b\"], [0.6666666666666666, \"#ed7953\"], [0.7777777777777778, \"#fb9f3a\"], [0.8888888888888888, \"#fdca26\"], [1.0, \"#f0f921\"]], \"type\": \"heatmap\"}], \"heatmapgl\": [{\"colorbar\": {\"outlinewidth\": 0, \"ticks\": \"\"}, \"colorscale\": [[0.0, \"#0d0887\"], [0.1111111111111111, \"#46039f\"], [0.2222222222222222, \"#7201a8\"], [0.3333333333333333, \"#9c179e\"], [0.4444444444444444, \"#bd3786\"], [0.5555555555555556, \"#d8576b\"], [0.6666666666666666, \"#ed7953\"], [0.7777777777777778, \"#fb9f3a\"], [0.8888888888888888, \"#fdca26\"], [1.0, \"#f0f921\"]], \"type\": \"heatmapgl\"}], \"histogram\": [{\"marker\": {\"colorbar\": {\"outlinewidth\": 0, \"ticks\": \"\"}}, \"type\": \"histogram\"}], \"histogram2d\": [{\"colorbar\": {\"outlinewidth\": 0, \"ticks\": \"\"}, \"colorscale\": [[0.0, \"#0d0887\"], [0.1111111111111111, \"#46039f\"], [0.2222222222222222, \"#7201a8\"], [0.3333333333333333, \"#9c179e\"], [0.4444444444444444, \"#bd3786\"], [0.5555555555555556, \"#d8576b\"], [0.6666666666666666, \"#ed7953\"], [0.7777777777777778, \"#fb9f3a\"], [0.8888888888888888, \"#fdca26\"], [1.0, \"#f0f921\"]], \"type\": \"histogram2d\"}], \"histogram2dcontour\": [{\"colorbar\": {\"outlinewidth\": 0, \"ticks\": \"\"}, \"colorscale\": [[0.0, \"#0d0887\"], [0.1111111111111111, \"#46039f\"], [0.2222222222222222, \"#7201a8\"], [0.3333333333333333, \"#9c179e\"], [0.4444444444444444, \"#bd3786\"], [0.5555555555555556, \"#d8576b\"], [0.6666666666666666, \"#ed7953\"], [0.7777777777777778, \"#fb9f3a\"], [0.8888888888888888, \"#fdca26\"], [1.0, \"#f0f921\"]], \"type\": \"histogram2dcontour\"}], \"mesh3d\": [{\"colorbar\": {\"outlinewidth\": 0, \"ticks\": \"\"}, \"type\": \"mesh3d\"}], \"parcoords\": [{\"line\": {\"colorbar\": {\"outlinewidth\": 0, \"ticks\": \"\"}}, \"type\": \"parcoords\"}], \"pie\": [{\"automargin\": true, \"type\": \"pie\"}], \"scatter\": [{\"marker\": {\"colorbar\": {\"outlinewidth\": 0, \"ticks\": \"\"}}, \"type\": \"scatter\"}], \"scatter3d\": [{\"line\": {\"colorbar\": {\"outlinewidth\": 0, \"ticks\": \"\"}}, \"marker\": {\"colorbar\": {\"outlinewidth\": 0, \"ticks\": \"\"}}, \"type\": \"scatter3d\"}], \"scattercarpet\": [{\"marker\": {\"colorbar\": {\"outlinewidth\": 0, \"ticks\": \"\"}}, \"type\": \"scattercarpet\"}], \"scattergeo\": [{\"marker\": {\"colorbar\": {\"outlinewidth\": 0, \"ticks\": \"\"}}, \"type\": \"scattergeo\"}], \"scattergl\": [{\"marker\": {\"colorbar\": {\"outlinewidth\": 0, \"ticks\": \"\"}}, \"type\": \"scattergl\"}], \"scattermapbox\": [{\"marker\": {\"colorbar\": {\"outlinewidth\": 0, \"ticks\": \"\"}}, \"type\": \"scattermapbox\"}], \"scatterpolar\": [{\"marker\": {\"colorbar\": {\"outlinewidth\": 0, \"ticks\": \"\"}}, \"type\": \"scatterpolar\"}], \"scatterpolargl\": [{\"marker\": {\"colorbar\": {\"outlinewidth\": 0, \"ticks\": \"\"}}, \"type\": \"scatterpolargl\"}], \"scatterternary\": [{\"marker\": {\"colorbar\": {\"outlinewidth\": 0, \"ticks\": \"\"}}, \"type\": \"scatterternary\"}], \"surface\": [{\"colorbar\": {\"outlinewidth\": 0, \"ticks\": \"\"}, \"colorscale\": [[0.0, \"#0d0887\"], [0.1111111111111111, \"#46039f\"], [0.2222222222222222, \"#7201a8\"], [0.3333333333333333, \"#9c179e\"], [0.4444444444444444, \"#bd3786\"], [0.5555555555555556, \"#d8576b\"], [0.6666666666666666, \"#ed7953\"], [0.7777777777777778, \"#fb9f3a\"], [0.8888888888888888, \"#fdca26\"], [1.0, \"#f0f921\"]], \"type\": \"surface\"}], \"table\": [{\"cells\": {\"fill\": {\"color\": \"#EBF0F8\"}, \"line\": {\"color\": \"white\"}}, \"header\": {\"fill\": {\"color\": \"#C8D4E3\"}, \"line\": {\"color\": \"white\"}}, \"type\": \"table\"}]}, \"layout\": {\"annotationdefaults\": {\"arrowcolor\": \"#2a3f5f\", \"arrowhead\": 0, \"arrowwidth\": 1}, \"coloraxis\": {\"colorbar\": {\"outlinewidth\": 0, \"ticks\": \"\"}}, \"colorscale\": {\"diverging\": [[0, \"#8e0152\"], [0.1, \"#c51b7d\"], [0.2, \"#de77ae\"], [0.3, \"#f1b6da\"], [0.4, \"#fde0ef\"], [0.5, \"#f7f7f7\"], [0.6, \"#e6f5d0\"], [0.7, \"#b8e186\"], [0.8, \"#7fbc41\"], [0.9, \"#4d9221\"], [1, \"#276419\"]], \"sequential\": [[0.0, \"#0d0887\"], [0.1111111111111111, \"#46039f\"], [0.2222222222222222, \"#7201a8\"], [0.3333333333333333, \"#9c179e\"], [0.4444444444444444, \"#bd3786\"], [0.5555555555555556, \"#d8576b\"], [0.6666666666666666, \"#ed7953\"], [0.7777777777777778, \"#fb9f3a\"], [0.8888888888888888, \"#fdca26\"], [1.0, \"#f0f921\"]], \"sequentialminus\": [[0.0, \"#0d0887\"], [0.1111111111111111, \"#46039f\"], [0.2222222222222222, \"#7201a8\"], [0.3333333333333333, \"#9c179e\"], [0.4444444444444444, \"#bd3786\"], [0.5555555555555556, \"#d8576b\"], [0.6666666666666666, \"#ed7953\"], [0.7777777777777778, \"#fb9f3a\"], [0.8888888888888888, \"#fdca26\"], [1.0, \"#f0f921\"]]}, \"colorway\": [\"#636efa\", \"#EF553B\", \"#00cc96\", \"#ab63fa\", \"#FFA15A\", \"#19d3f3\", \"#FF6692\", \"#B6E880\", \"#FF97FF\", \"#FECB52\"], \"font\": {\"color\": \"#2a3f5f\"}, \"geo\": {\"bgcolor\": \"white\", \"lakecolor\": \"white\", \"landcolor\": \"#E5ECF6\", \"showlakes\": true, \"showland\": true, \"subunitcolor\": \"white\"}, \"hoverlabel\": {\"align\": \"left\"}, \"hovermode\": \"closest\", \"mapbox\": {\"style\": \"light\"}, \"paper_bgcolor\": \"white\", \"plot_bgcolor\": \"#E5ECF6\", \"polar\": {\"angularaxis\": {\"gridcolor\": \"white\", \"linecolor\": \"white\", \"ticks\": \"\"}, \"bgcolor\": \"#E5ECF6\", \"radialaxis\": {\"gridcolor\": \"white\", \"linecolor\": \"white\", \"ticks\": \"\"}}, \"scene\": {\"xaxis\": {\"backgroundcolor\": \"#E5ECF6\", \"gridcolor\": \"white\", \"gridwidth\": 2, \"linecolor\": \"white\", \"showbackground\": true, \"ticks\": \"\", \"zerolinecolor\": \"white\"}, \"yaxis\": {\"backgroundcolor\": \"#E5ECF6\", \"gridcolor\": \"white\", \"gridwidth\": 2, \"linecolor\": \"white\", \"showbackground\": true, \"ticks\": \"\", \"zerolinecolor\": \"white\"}, \"zaxis\": {\"backgroundcolor\": \"#E5ECF6\", \"gridcolor\": \"white\", \"gridwidth\": 2, \"linecolor\": \"white\", \"showbackground\": true, \"ticks\": \"\", \"zerolinecolor\": \"white\"}}, \"shapedefaults\": {\"line\": {\"color\": \"#2a3f5f\"}}, \"ternary\": {\"aaxis\": {\"gridcolor\": \"white\", \"linecolor\": \"white\", \"ticks\": \"\"}, \"baxis\": {\"gridcolor\": \"white\", \"linecolor\": \"white\", \"ticks\": \"\"}, \"bgcolor\": \"#E5ECF6\", \"caxis\": {\"gridcolor\": \"white\", \"linecolor\": \"white\", \"ticks\": \"\"}}, \"title\": {\"x\": 0.05}, \"xaxis\": {\"automargin\": true, \"gridcolor\": \"white\", \"linecolor\": \"white\", \"ticks\": \"\", \"title\": {\"standoff\": 15}, \"zerolinecolor\": \"white\", \"zerolinewidth\": 2}, \"yaxis\": {\"automargin\": true, \"gridcolor\": \"white\", \"linecolor\": \"white\", \"ticks\": \"\", \"title\": {\"standoff\": 15}, \"zerolinecolor\": \"white\", \"zerolinewidth\": 2}}}, \"title\": {\"font\": {\"size\": 17}, \"text\": \"Annual Income vs. Spending Score for Male (1) and Female (0)\"}, \"xaxis\": {\"range\": [14250.0, 143850.0], \"showgrid\": true, \"tickprefix\": \"$\", \"ticksuffix\": \"\", \"title\": {\"text\": \"AnnualIncome\"}, \"zeroline\": true}, \"yaxis\": {\"range\": [0.95, 103.95], \"showgrid\": true, \"tickprefix\": \"\", \"ticksuffix\": \"%\", \"title\": {\"text\": \"SpendingScore\"}, \"zeroline\": true}},\n",
       "                        {\"responsive\": true}\n",
       "                    ).then(function(){\n",
       "                            \n",
       "var gd = document.getElementById('1009696f-cf0b-41ba-8e20-9d1e73df41fb');\n",
       "var x = new MutationObserver(function (mutations, observer) {{\n",
       "        var display = window.getComputedStyle(gd).display;\n",
       "        if (!display || display === 'none') {{\n",
       "            console.log([gd, 'removed!']);\n",
       "            Plotly.purge(gd);\n",
       "            observer.disconnect();\n",
       "        }}\n",
       "}});\n",
       "\n",
       "// Listen for the removal of the full notebook cells\n",
       "var notebookContainer = gd.closest('#notebook-container');\n",
       "if (notebookContainer) {{\n",
       "    x.observe(notebookContainer, {childList: true});\n",
       "}}\n",
       "\n",
       "// Listen for the clearing of the current output cell\n",
       "var outputEl = gd.closest('.output');\n",
       "if (outputEl) {{\n",
       "    x.observe(outputEl, {childList: true});\n",
       "}}\n",
       "\n",
       "                        })\n",
       "                };\n",
       "                });\n",
       "            </script>\n",
       "        </div>"
      ]
     },
     "metadata": {},
     "output_type": "display_data"
    }
   ],
   "source": [
    "#Can see a clear group forming in the center where Annual income ($) is similar to spending score (%)\n",
    "scatter(Data, \"AnnualIncome\", \"Gender\", \"SpendingScore\", \"Annual Income vs. Spending Score for Male (1) and Female (0)\")"
   ]
  },
  {
   "cell_type": "code",
   "execution_count": 42,
   "metadata": {},
   "outputs": [
    {
     "data": {
      "application/vnd.plotly.v1+json": {
       "config": {
        "plotlyServerURL": "https://plot.ly"
       },
       "data": [
        {
         "legendgroup": "Gender = 1",
         "line": {
          "color": "red"
         },
         "marker": {
          "opacity": 0.9,
          "size": 10
         },
         "mode": "markers",
         "name": "Gender = 1",
         "showlegend": true,
         "type": "scatter",
         "x": [
          15000,
          15000,
          19000,
          19000,
          20000,
          20000,
          21000,
          23000,
          24000,
          24000,
          25000,
          28000,
          28000,
          30000,
          33000,
          33000,
          38000,
          39000,
          42000,
          43000,
          43000,
          44000,
          46000,
          46000,
          46000,
          48000,
          48000,
          48000,
          49000,
          54000,
          54000,
          54000,
          54000,
          54000,
          54000,
          54000,
          59000,
          60000,
          60000,
          61000,
          61000,
          62000,
          62000,
          62000,
          63000,
          63000,
          63000,
          63000,
          64000,
          67000,
          69000,
          71000,
          71000,
          71000,
          71000,
          71000,
          71000,
          73000,
          73000,
          74000,
          75000,
          77000,
          77000,
          77000,
          78000,
          78000,
          78000,
          78000,
          78000,
          81000,
          85000,
          86000,
          87000,
          87000,
          87000,
          87000,
          87000,
          88000,
          88000,
          93000,
          93000,
          98000,
          99000,
          101000,
          113000,
          126000,
          137000,
          137000
         ],
         "y": [
          19,
          21,
          64,
          67,
          37,
          22,
          20,
          52,
          35,
          25,
          31,
          29,
          35,
          60,
          53,
          18,
          24,
          48,
          33,
          59,
          47,
          69,
          53,
          70,
          19,
          63,
          18,
          19,
          70,
          59,
          26,
          40,
          57,
          38,
          67,
          48,
          18,
          48,
          24,
          48,
          20,
          67,
          26,
          49,
          54,
          68,
          66,
          65,
          19,
          27,
          39,
          43,
          40,
          59,
          38,
          47,
          39,
          20,
          32,
          19,
          32,
          25,
          28,
          48,
          34,
          43,
          39,
          37,
          34,
          19,
          50,
          42,
          32,
          40,
          28,
          36,
          36,
          58,
          27,
          59,
          35,
          46,
          30,
          28,
          33,
          32,
          32,
          30
         ]
        },
        {
         "legendgroup": "Gender = 0",
         "line": {
          "color": "blue"
         },
         "marker": {
          "opacity": 0.9,
          "size": 10
         },
         "mode": "markers",
         "name": "Gender = 0",
         "showlegend": true,
         "type": "scatter",
         "x": [
          16000,
          16000,
          17000,
          17000,
          18000,
          18000,
          19000,
          19000,
          20000,
          20000,
          21000,
          23000,
          25000,
          28000,
          28000,
          29000,
          29000,
          30000,
          33000,
          33000,
          34000,
          34000,
          37000,
          37000,
          38000,
          39000,
          39000,
          39000,
          40000,
          40000,
          40000,
          40000,
          42000,
          43000,
          43000,
          44000,
          46000,
          47000,
          47000,
          48000,
          48000,
          48000,
          49000,
          50000,
          50000,
          54000,
          54000,
          54000,
          54000,
          54000,
          57000,
          57000,
          58000,
          58000,
          59000,
          60000,
          60000,
          60000,
          60000,
          62000,
          62000,
          62000,
          63000,
          63000,
          64000,
          65000,
          65000,
          65000,
          65000,
          67000,
          67000,
          67000,
          69000,
          70000,
          70000,
          72000,
          72000,
          73000,
          73000,
          74000,
          75000,
          76000,
          76000,
          77000,
          78000,
          78000,
          78000,
          78000,
          78000,
          78000,
          78000,
          79000,
          79000,
          81000,
          85000,
          86000,
          87000,
          88000,
          88000,
          97000,
          97000,
          98000,
          99000,
          101000,
          103000,
          103000,
          103000,
          103000,
          113000,
          120000,
          120000,
          126000
         ],
         "y": [
          20,
          23,
          31,
          22,
          35,
          23,
          30,
          35,
          58,
          24,
          35,
          35,
          46,
          54,
          45,
          40,
          23,
          21,
          49,
          21,
          42,
          30,
          36,
          20,
          65,
          31,
          49,
          24,
          50,
          27,
          29,
          31,
          49,
          31,
          50,
          51,
          27,
          67,
          54,
          43,
          68,
          32,
          47,
          60,
          60,
          45,
          23,
          49,
          46,
          21,
          55,
          22,
          34,
          50,
          68,
          40,
          32,
          47,
          27,
          23,
          49,
          21,
          66,
          19,
          38,
          18,
          19,
          63,
          49,
          51,
          50,
          38,
          40,
          23,
          31,
          25,
          31,
          29,
          44,
          35,
          57,
          28,
          32,
          32,
          34,
          44,
          38,
          47,
          27,
          30,
          30,
          56,
          29,
          31,
          36,
          33,
          36,
          52,
          30,
          37,
          32,
          29,
          41,
          54,
          41,
          36,
          34,
          32,
          38,
          47,
          35,
          45
         ]
        }
       ],
       "layout": {
        "template": {
         "data": {
          "bar": [
           {
            "error_x": {
             "color": "#2a3f5f"
            },
            "error_y": {
             "color": "#2a3f5f"
            },
            "marker": {
             "line": {
              "color": "#E5ECF6",
              "width": 0.5
             }
            },
            "type": "bar"
           }
          ],
          "barpolar": [
           {
            "marker": {
             "line": {
              "color": "#E5ECF6",
              "width": 0.5
             }
            },
            "type": "barpolar"
           }
          ],
          "carpet": [
           {
            "aaxis": {
             "endlinecolor": "#2a3f5f",
             "gridcolor": "white",
             "linecolor": "white",
             "minorgridcolor": "white",
             "startlinecolor": "#2a3f5f"
            },
            "baxis": {
             "endlinecolor": "#2a3f5f",
             "gridcolor": "white",
             "linecolor": "white",
             "minorgridcolor": "white",
             "startlinecolor": "#2a3f5f"
            },
            "type": "carpet"
           }
          ],
          "choropleth": [
           {
            "colorbar": {
             "outlinewidth": 0,
             "ticks": ""
            },
            "type": "choropleth"
           }
          ],
          "contour": [
           {
            "colorbar": {
             "outlinewidth": 0,
             "ticks": ""
            },
            "colorscale": [
             [
              0,
              "#0d0887"
             ],
             [
              0.1111111111111111,
              "#46039f"
             ],
             [
              0.2222222222222222,
              "#7201a8"
             ],
             [
              0.3333333333333333,
              "#9c179e"
             ],
             [
              0.4444444444444444,
              "#bd3786"
             ],
             [
              0.5555555555555556,
              "#d8576b"
             ],
             [
              0.6666666666666666,
              "#ed7953"
             ],
             [
              0.7777777777777778,
              "#fb9f3a"
             ],
             [
              0.8888888888888888,
              "#fdca26"
             ],
             [
              1,
              "#f0f921"
             ]
            ],
            "type": "contour"
           }
          ],
          "contourcarpet": [
           {
            "colorbar": {
             "outlinewidth": 0,
             "ticks": ""
            },
            "type": "contourcarpet"
           }
          ],
          "heatmap": [
           {
            "colorbar": {
             "outlinewidth": 0,
             "ticks": ""
            },
            "colorscale": [
             [
              0,
              "#0d0887"
             ],
             [
              0.1111111111111111,
              "#46039f"
             ],
             [
              0.2222222222222222,
              "#7201a8"
             ],
             [
              0.3333333333333333,
              "#9c179e"
             ],
             [
              0.4444444444444444,
              "#bd3786"
             ],
             [
              0.5555555555555556,
              "#d8576b"
             ],
             [
              0.6666666666666666,
              "#ed7953"
             ],
             [
              0.7777777777777778,
              "#fb9f3a"
             ],
             [
              0.8888888888888888,
              "#fdca26"
             ],
             [
              1,
              "#f0f921"
             ]
            ],
            "type": "heatmap"
           }
          ],
          "heatmapgl": [
           {
            "colorbar": {
             "outlinewidth": 0,
             "ticks": ""
            },
            "colorscale": [
             [
              0,
              "#0d0887"
             ],
             [
              0.1111111111111111,
              "#46039f"
             ],
             [
              0.2222222222222222,
              "#7201a8"
             ],
             [
              0.3333333333333333,
              "#9c179e"
             ],
             [
              0.4444444444444444,
              "#bd3786"
             ],
             [
              0.5555555555555556,
              "#d8576b"
             ],
             [
              0.6666666666666666,
              "#ed7953"
             ],
             [
              0.7777777777777778,
              "#fb9f3a"
             ],
             [
              0.8888888888888888,
              "#fdca26"
             ],
             [
              1,
              "#f0f921"
             ]
            ],
            "type": "heatmapgl"
           }
          ],
          "histogram": [
           {
            "marker": {
             "colorbar": {
              "outlinewidth": 0,
              "ticks": ""
             }
            },
            "type": "histogram"
           }
          ],
          "histogram2d": [
           {
            "colorbar": {
             "outlinewidth": 0,
             "ticks": ""
            },
            "colorscale": [
             [
              0,
              "#0d0887"
             ],
             [
              0.1111111111111111,
              "#46039f"
             ],
             [
              0.2222222222222222,
              "#7201a8"
             ],
             [
              0.3333333333333333,
              "#9c179e"
             ],
             [
              0.4444444444444444,
              "#bd3786"
             ],
             [
              0.5555555555555556,
              "#d8576b"
             ],
             [
              0.6666666666666666,
              "#ed7953"
             ],
             [
              0.7777777777777778,
              "#fb9f3a"
             ],
             [
              0.8888888888888888,
              "#fdca26"
             ],
             [
              1,
              "#f0f921"
             ]
            ],
            "type": "histogram2d"
           }
          ],
          "histogram2dcontour": [
           {
            "colorbar": {
             "outlinewidth": 0,
             "ticks": ""
            },
            "colorscale": [
             [
              0,
              "#0d0887"
             ],
             [
              0.1111111111111111,
              "#46039f"
             ],
             [
              0.2222222222222222,
              "#7201a8"
             ],
             [
              0.3333333333333333,
              "#9c179e"
             ],
             [
              0.4444444444444444,
              "#bd3786"
             ],
             [
              0.5555555555555556,
              "#d8576b"
             ],
             [
              0.6666666666666666,
              "#ed7953"
             ],
             [
              0.7777777777777778,
              "#fb9f3a"
             ],
             [
              0.8888888888888888,
              "#fdca26"
             ],
             [
              1,
              "#f0f921"
             ]
            ],
            "type": "histogram2dcontour"
           }
          ],
          "mesh3d": [
           {
            "colorbar": {
             "outlinewidth": 0,
             "ticks": ""
            },
            "type": "mesh3d"
           }
          ],
          "parcoords": [
           {
            "line": {
             "colorbar": {
              "outlinewidth": 0,
              "ticks": ""
             }
            },
            "type": "parcoords"
           }
          ],
          "pie": [
           {
            "automargin": true,
            "type": "pie"
           }
          ],
          "scatter": [
           {
            "marker": {
             "colorbar": {
              "outlinewidth": 0,
              "ticks": ""
             }
            },
            "type": "scatter"
           }
          ],
          "scatter3d": [
           {
            "line": {
             "colorbar": {
              "outlinewidth": 0,
              "ticks": ""
             }
            },
            "marker": {
             "colorbar": {
              "outlinewidth": 0,
              "ticks": ""
             }
            },
            "type": "scatter3d"
           }
          ],
          "scattercarpet": [
           {
            "marker": {
             "colorbar": {
              "outlinewidth": 0,
              "ticks": ""
             }
            },
            "type": "scattercarpet"
           }
          ],
          "scattergeo": [
           {
            "marker": {
             "colorbar": {
              "outlinewidth": 0,
              "ticks": ""
             }
            },
            "type": "scattergeo"
           }
          ],
          "scattergl": [
           {
            "marker": {
             "colorbar": {
              "outlinewidth": 0,
              "ticks": ""
             }
            },
            "type": "scattergl"
           }
          ],
          "scattermapbox": [
           {
            "marker": {
             "colorbar": {
              "outlinewidth": 0,
              "ticks": ""
             }
            },
            "type": "scattermapbox"
           }
          ],
          "scatterpolar": [
           {
            "marker": {
             "colorbar": {
              "outlinewidth": 0,
              "ticks": ""
             }
            },
            "type": "scatterpolar"
           }
          ],
          "scatterpolargl": [
           {
            "marker": {
             "colorbar": {
              "outlinewidth": 0,
              "ticks": ""
             }
            },
            "type": "scatterpolargl"
           }
          ],
          "scatterternary": [
           {
            "marker": {
             "colorbar": {
              "outlinewidth": 0,
              "ticks": ""
             }
            },
            "type": "scatterternary"
           }
          ],
          "surface": [
           {
            "colorbar": {
             "outlinewidth": 0,
             "ticks": ""
            },
            "colorscale": [
             [
              0,
              "#0d0887"
             ],
             [
              0.1111111111111111,
              "#46039f"
             ],
             [
              0.2222222222222222,
              "#7201a8"
             ],
             [
              0.3333333333333333,
              "#9c179e"
             ],
             [
              0.4444444444444444,
              "#bd3786"
             ],
             [
              0.5555555555555556,
              "#d8576b"
             ],
             [
              0.6666666666666666,
              "#ed7953"
             ],
             [
              0.7777777777777778,
              "#fb9f3a"
             ],
             [
              0.8888888888888888,
              "#fdca26"
             ],
             [
              1,
              "#f0f921"
             ]
            ],
            "type": "surface"
           }
          ],
          "table": [
           {
            "cells": {
             "fill": {
              "color": "#EBF0F8"
             },
             "line": {
              "color": "white"
             }
            },
            "header": {
             "fill": {
              "color": "#C8D4E3"
             },
             "line": {
              "color": "white"
             }
            },
            "type": "table"
           }
          ]
         },
         "layout": {
          "annotationdefaults": {
           "arrowcolor": "#2a3f5f",
           "arrowhead": 0,
           "arrowwidth": 1
          },
          "coloraxis": {
           "colorbar": {
            "outlinewidth": 0,
            "ticks": ""
           }
          },
          "colorscale": {
           "diverging": [
            [
             0,
             "#8e0152"
            ],
            [
             0.1,
             "#c51b7d"
            ],
            [
             0.2,
             "#de77ae"
            ],
            [
             0.3,
             "#f1b6da"
            ],
            [
             0.4,
             "#fde0ef"
            ],
            [
             0.5,
             "#f7f7f7"
            ],
            [
             0.6,
             "#e6f5d0"
            ],
            [
             0.7,
             "#b8e186"
            ],
            [
             0.8,
             "#7fbc41"
            ],
            [
             0.9,
             "#4d9221"
            ],
            [
             1,
             "#276419"
            ]
           ],
           "sequential": [
            [
             0,
             "#0d0887"
            ],
            [
             0.1111111111111111,
             "#46039f"
            ],
            [
             0.2222222222222222,
             "#7201a8"
            ],
            [
             0.3333333333333333,
             "#9c179e"
            ],
            [
             0.4444444444444444,
             "#bd3786"
            ],
            [
             0.5555555555555556,
             "#d8576b"
            ],
            [
             0.6666666666666666,
             "#ed7953"
            ],
            [
             0.7777777777777778,
             "#fb9f3a"
            ],
            [
             0.8888888888888888,
             "#fdca26"
            ],
            [
             1,
             "#f0f921"
            ]
           ],
           "sequentialminus": [
            [
             0,
             "#0d0887"
            ],
            [
             0.1111111111111111,
             "#46039f"
            ],
            [
             0.2222222222222222,
             "#7201a8"
            ],
            [
             0.3333333333333333,
             "#9c179e"
            ],
            [
             0.4444444444444444,
             "#bd3786"
            ],
            [
             0.5555555555555556,
             "#d8576b"
            ],
            [
             0.6666666666666666,
             "#ed7953"
            ],
            [
             0.7777777777777778,
             "#fb9f3a"
            ],
            [
             0.8888888888888888,
             "#fdca26"
            ],
            [
             1,
             "#f0f921"
            ]
           ]
          },
          "colorway": [
           "#636efa",
           "#EF553B",
           "#00cc96",
           "#ab63fa",
           "#FFA15A",
           "#19d3f3",
           "#FF6692",
           "#B6E880",
           "#FF97FF",
           "#FECB52"
          ],
          "font": {
           "color": "#2a3f5f"
          },
          "geo": {
           "bgcolor": "white",
           "lakecolor": "white",
           "landcolor": "#E5ECF6",
           "showlakes": true,
           "showland": true,
           "subunitcolor": "white"
          },
          "hoverlabel": {
           "align": "left"
          },
          "hovermode": "closest",
          "mapbox": {
           "style": "light"
          },
          "paper_bgcolor": "white",
          "plot_bgcolor": "#E5ECF6",
          "polar": {
           "angularaxis": {
            "gridcolor": "white",
            "linecolor": "white",
            "ticks": ""
           },
           "bgcolor": "#E5ECF6",
           "radialaxis": {
            "gridcolor": "white",
            "linecolor": "white",
            "ticks": ""
           }
          },
          "scene": {
           "xaxis": {
            "backgroundcolor": "#E5ECF6",
            "gridcolor": "white",
            "gridwidth": 2,
            "linecolor": "white",
            "showbackground": true,
            "ticks": "",
            "zerolinecolor": "white"
           },
           "yaxis": {
            "backgroundcolor": "#E5ECF6",
            "gridcolor": "white",
            "gridwidth": 2,
            "linecolor": "white",
            "showbackground": true,
            "ticks": "",
            "zerolinecolor": "white"
           },
           "zaxis": {
            "backgroundcolor": "#E5ECF6",
            "gridcolor": "white",
            "gridwidth": 2,
            "linecolor": "white",
            "showbackground": true,
            "ticks": "",
            "zerolinecolor": "white"
           }
          },
          "shapedefaults": {
           "line": {
            "color": "#2a3f5f"
           }
          },
          "ternary": {
           "aaxis": {
            "gridcolor": "white",
            "linecolor": "white",
            "ticks": ""
           },
           "baxis": {
            "gridcolor": "white",
            "linecolor": "white",
            "ticks": ""
           },
           "bgcolor": "#E5ECF6",
           "caxis": {
            "gridcolor": "white",
            "linecolor": "white",
            "ticks": ""
           }
          },
          "title": {
           "x": 0.05
          },
          "xaxis": {
           "automargin": true,
           "gridcolor": "white",
           "linecolor": "white",
           "ticks": "",
           "title": {
            "standoff": 15
           },
           "zerolinecolor": "white",
           "zerolinewidth": 2
          },
          "yaxis": {
           "automargin": true,
           "gridcolor": "white",
           "linecolor": "white",
           "ticks": "",
           "title": {
            "standoff": 15
           },
           "zerolinecolor": "white",
           "zerolinewidth": 2
          }
         }
        },
        "title": {
         "font": {
          "size": 17
         },
         "text": "Annual Income vs. Age for Male (1) and Female (0)"
        },
        "xaxis": {
         "range": [
          14250,
          143850
         ],
         "showgrid": true,
         "tickprefix": "$",
         "ticksuffix": "",
         "title": {
          "text": "AnnualIncome"
         },
         "zeroline": true
        },
        "yaxis": {
         "range": [
          17.099999999999998,
          73.5
         ],
         "showgrid": true,
         "tickprefix": "",
         "ticksuffix": "",
         "title": {
          "text": "Age"
         },
         "zeroline": true
        }
       }
      },
      "text/html": [
       "<div>\n",
       "        \n",
       "        \n",
       "            <div id=\"f3499af1-2bd4-488d-9076-c0ffd2cdb115\" class=\"plotly-graph-div\" style=\"height:525px; width:100%;\"></div>\n",
       "            <script type=\"text/javascript\">\n",
       "                require([\"plotly\"], function(Plotly) {\n",
       "                    window.PLOTLYENV=window.PLOTLYENV || {};\n",
       "                    \n",
       "                if (document.getElementById(\"f3499af1-2bd4-488d-9076-c0ffd2cdb115\")) {\n",
       "                    Plotly.newPlot(\n",
       "                        'f3499af1-2bd4-488d-9076-c0ffd2cdb115',\n",
       "                        [{\"legendgroup\": \"Gender = 1\", \"line\": {\"color\": \"red\"}, \"marker\": {\"opacity\": 0.9, \"size\": 10}, \"mode\": \"markers\", \"name\": \"Gender = 1\", \"showlegend\": true, \"type\": \"scatter\", \"x\": [15000, 15000, 19000, 19000, 20000, 20000, 21000, 23000, 24000, 24000, 25000, 28000, 28000, 30000, 33000, 33000, 38000, 39000, 42000, 43000, 43000, 44000, 46000, 46000, 46000, 48000, 48000, 48000, 49000, 54000, 54000, 54000, 54000, 54000, 54000, 54000, 59000, 60000, 60000, 61000, 61000, 62000, 62000, 62000, 63000, 63000, 63000, 63000, 64000, 67000, 69000, 71000, 71000, 71000, 71000, 71000, 71000, 73000, 73000, 74000, 75000, 77000, 77000, 77000, 78000, 78000, 78000, 78000, 78000, 81000, 85000, 86000, 87000, 87000, 87000, 87000, 87000, 88000, 88000, 93000, 93000, 98000, 99000, 101000, 113000, 126000, 137000, 137000], \"y\": [19, 21, 64, 67, 37, 22, 20, 52, 35, 25, 31, 29, 35, 60, 53, 18, 24, 48, 33, 59, 47, 69, 53, 70, 19, 63, 18, 19, 70, 59, 26, 40, 57, 38, 67, 48, 18, 48, 24, 48, 20, 67, 26, 49, 54, 68, 66, 65, 19, 27, 39, 43, 40, 59, 38, 47, 39, 20, 32, 19, 32, 25, 28, 48, 34, 43, 39, 37, 34, 19, 50, 42, 32, 40, 28, 36, 36, 58, 27, 59, 35, 46, 30, 28, 33, 32, 32, 30]}, {\"legendgroup\": \"Gender = 0\", \"line\": {\"color\": \"blue\"}, \"marker\": {\"opacity\": 0.9, \"size\": 10}, \"mode\": \"markers\", \"name\": \"Gender = 0\", \"showlegend\": true, \"type\": \"scatter\", \"x\": [16000, 16000, 17000, 17000, 18000, 18000, 19000, 19000, 20000, 20000, 21000, 23000, 25000, 28000, 28000, 29000, 29000, 30000, 33000, 33000, 34000, 34000, 37000, 37000, 38000, 39000, 39000, 39000, 40000, 40000, 40000, 40000, 42000, 43000, 43000, 44000, 46000, 47000, 47000, 48000, 48000, 48000, 49000, 50000, 50000, 54000, 54000, 54000, 54000, 54000, 57000, 57000, 58000, 58000, 59000, 60000, 60000, 60000, 60000, 62000, 62000, 62000, 63000, 63000, 64000, 65000, 65000, 65000, 65000, 67000, 67000, 67000, 69000, 70000, 70000, 72000, 72000, 73000, 73000, 74000, 75000, 76000, 76000, 77000, 78000, 78000, 78000, 78000, 78000, 78000, 78000, 79000, 79000, 81000, 85000, 86000, 87000, 88000, 88000, 97000, 97000, 98000, 99000, 101000, 103000, 103000, 103000, 103000, 113000, 120000, 120000, 126000], \"y\": [20, 23, 31, 22, 35, 23, 30, 35, 58, 24, 35, 35, 46, 54, 45, 40, 23, 21, 49, 21, 42, 30, 36, 20, 65, 31, 49, 24, 50, 27, 29, 31, 49, 31, 50, 51, 27, 67, 54, 43, 68, 32, 47, 60, 60, 45, 23, 49, 46, 21, 55, 22, 34, 50, 68, 40, 32, 47, 27, 23, 49, 21, 66, 19, 38, 18, 19, 63, 49, 51, 50, 38, 40, 23, 31, 25, 31, 29, 44, 35, 57, 28, 32, 32, 34, 44, 38, 47, 27, 30, 30, 56, 29, 31, 36, 33, 36, 52, 30, 37, 32, 29, 41, 54, 41, 36, 34, 32, 38, 47, 35, 45]}],\n",
       "                        {\"template\": {\"data\": {\"bar\": [{\"error_x\": {\"color\": \"#2a3f5f\"}, \"error_y\": {\"color\": \"#2a3f5f\"}, \"marker\": {\"line\": {\"color\": \"#E5ECF6\", \"width\": 0.5}}, \"type\": \"bar\"}], \"barpolar\": [{\"marker\": {\"line\": {\"color\": \"#E5ECF6\", \"width\": 0.5}}, \"type\": \"barpolar\"}], \"carpet\": [{\"aaxis\": {\"endlinecolor\": \"#2a3f5f\", \"gridcolor\": \"white\", \"linecolor\": \"white\", \"minorgridcolor\": \"white\", \"startlinecolor\": \"#2a3f5f\"}, \"baxis\": {\"endlinecolor\": \"#2a3f5f\", \"gridcolor\": \"white\", \"linecolor\": \"white\", \"minorgridcolor\": \"white\", \"startlinecolor\": \"#2a3f5f\"}, \"type\": \"carpet\"}], \"choropleth\": [{\"colorbar\": {\"outlinewidth\": 0, \"ticks\": \"\"}, \"type\": \"choropleth\"}], \"contour\": [{\"colorbar\": {\"outlinewidth\": 0, \"ticks\": \"\"}, \"colorscale\": [[0.0, \"#0d0887\"], [0.1111111111111111, \"#46039f\"], [0.2222222222222222, \"#7201a8\"], [0.3333333333333333, \"#9c179e\"], [0.4444444444444444, \"#bd3786\"], [0.5555555555555556, \"#d8576b\"], [0.6666666666666666, \"#ed7953\"], [0.7777777777777778, \"#fb9f3a\"], [0.8888888888888888, \"#fdca26\"], [1.0, \"#f0f921\"]], \"type\": \"contour\"}], \"contourcarpet\": [{\"colorbar\": {\"outlinewidth\": 0, \"ticks\": \"\"}, \"type\": \"contourcarpet\"}], \"heatmap\": [{\"colorbar\": {\"outlinewidth\": 0, \"ticks\": \"\"}, \"colorscale\": [[0.0, \"#0d0887\"], [0.1111111111111111, \"#46039f\"], [0.2222222222222222, \"#7201a8\"], [0.3333333333333333, \"#9c179e\"], [0.4444444444444444, \"#bd3786\"], [0.5555555555555556, \"#d8576b\"], [0.6666666666666666, \"#ed7953\"], [0.7777777777777778, \"#fb9f3a\"], [0.8888888888888888, \"#fdca26\"], [1.0, \"#f0f921\"]], \"type\": \"heatmap\"}], \"heatmapgl\": [{\"colorbar\": {\"outlinewidth\": 0, \"ticks\": \"\"}, \"colorscale\": [[0.0, \"#0d0887\"], [0.1111111111111111, \"#46039f\"], [0.2222222222222222, \"#7201a8\"], [0.3333333333333333, \"#9c179e\"], [0.4444444444444444, \"#bd3786\"], [0.5555555555555556, \"#d8576b\"], [0.6666666666666666, \"#ed7953\"], [0.7777777777777778, \"#fb9f3a\"], [0.8888888888888888, \"#fdca26\"], [1.0, \"#f0f921\"]], \"type\": \"heatmapgl\"}], \"histogram\": [{\"marker\": {\"colorbar\": {\"outlinewidth\": 0, \"ticks\": \"\"}}, \"type\": \"histogram\"}], \"histogram2d\": [{\"colorbar\": {\"outlinewidth\": 0, \"ticks\": \"\"}, \"colorscale\": [[0.0, \"#0d0887\"], [0.1111111111111111, \"#46039f\"], [0.2222222222222222, \"#7201a8\"], [0.3333333333333333, \"#9c179e\"], [0.4444444444444444, \"#bd3786\"], [0.5555555555555556, \"#d8576b\"], [0.6666666666666666, \"#ed7953\"], [0.7777777777777778, \"#fb9f3a\"], [0.8888888888888888, \"#fdca26\"], [1.0, \"#f0f921\"]], \"type\": \"histogram2d\"}], \"histogram2dcontour\": [{\"colorbar\": {\"outlinewidth\": 0, \"ticks\": \"\"}, \"colorscale\": [[0.0, \"#0d0887\"], [0.1111111111111111, \"#46039f\"], [0.2222222222222222, \"#7201a8\"], [0.3333333333333333, \"#9c179e\"], [0.4444444444444444, \"#bd3786\"], [0.5555555555555556, \"#d8576b\"], [0.6666666666666666, \"#ed7953\"], [0.7777777777777778, \"#fb9f3a\"], [0.8888888888888888, \"#fdca26\"], [1.0, \"#f0f921\"]], \"type\": \"histogram2dcontour\"}], \"mesh3d\": [{\"colorbar\": {\"outlinewidth\": 0, \"ticks\": \"\"}, \"type\": \"mesh3d\"}], \"parcoords\": [{\"line\": {\"colorbar\": {\"outlinewidth\": 0, \"ticks\": \"\"}}, \"type\": \"parcoords\"}], \"pie\": [{\"automargin\": true, \"type\": \"pie\"}], \"scatter\": [{\"marker\": {\"colorbar\": {\"outlinewidth\": 0, \"ticks\": \"\"}}, \"type\": \"scatter\"}], \"scatter3d\": [{\"line\": {\"colorbar\": {\"outlinewidth\": 0, \"ticks\": \"\"}}, \"marker\": {\"colorbar\": {\"outlinewidth\": 0, \"ticks\": \"\"}}, \"type\": \"scatter3d\"}], \"scattercarpet\": [{\"marker\": {\"colorbar\": {\"outlinewidth\": 0, \"ticks\": \"\"}}, \"type\": \"scattercarpet\"}], \"scattergeo\": [{\"marker\": {\"colorbar\": {\"outlinewidth\": 0, \"ticks\": \"\"}}, \"type\": \"scattergeo\"}], \"scattergl\": [{\"marker\": {\"colorbar\": {\"outlinewidth\": 0, \"ticks\": \"\"}}, \"type\": \"scattergl\"}], \"scattermapbox\": [{\"marker\": {\"colorbar\": {\"outlinewidth\": 0, \"ticks\": \"\"}}, \"type\": \"scattermapbox\"}], \"scatterpolar\": [{\"marker\": {\"colorbar\": {\"outlinewidth\": 0, \"ticks\": \"\"}}, \"type\": \"scatterpolar\"}], \"scatterpolargl\": [{\"marker\": {\"colorbar\": {\"outlinewidth\": 0, \"ticks\": \"\"}}, \"type\": \"scatterpolargl\"}], \"scatterternary\": [{\"marker\": {\"colorbar\": {\"outlinewidth\": 0, \"ticks\": \"\"}}, \"type\": \"scatterternary\"}], \"surface\": [{\"colorbar\": {\"outlinewidth\": 0, \"ticks\": \"\"}, \"colorscale\": [[0.0, \"#0d0887\"], [0.1111111111111111, \"#46039f\"], [0.2222222222222222, \"#7201a8\"], [0.3333333333333333, \"#9c179e\"], [0.4444444444444444, \"#bd3786\"], [0.5555555555555556, \"#d8576b\"], [0.6666666666666666, \"#ed7953\"], [0.7777777777777778, \"#fb9f3a\"], [0.8888888888888888, \"#fdca26\"], [1.0, \"#f0f921\"]], \"type\": \"surface\"}], \"table\": [{\"cells\": {\"fill\": {\"color\": \"#EBF0F8\"}, \"line\": {\"color\": \"white\"}}, \"header\": {\"fill\": {\"color\": \"#C8D4E3\"}, \"line\": {\"color\": \"white\"}}, \"type\": \"table\"}]}, \"layout\": {\"annotationdefaults\": {\"arrowcolor\": \"#2a3f5f\", \"arrowhead\": 0, \"arrowwidth\": 1}, \"coloraxis\": {\"colorbar\": {\"outlinewidth\": 0, \"ticks\": \"\"}}, \"colorscale\": {\"diverging\": [[0, \"#8e0152\"], [0.1, \"#c51b7d\"], [0.2, \"#de77ae\"], [0.3, \"#f1b6da\"], [0.4, \"#fde0ef\"], [0.5, \"#f7f7f7\"], [0.6, \"#e6f5d0\"], [0.7, \"#b8e186\"], [0.8, \"#7fbc41\"], [0.9, \"#4d9221\"], [1, \"#276419\"]], \"sequential\": [[0.0, \"#0d0887\"], [0.1111111111111111, \"#46039f\"], [0.2222222222222222, \"#7201a8\"], [0.3333333333333333, \"#9c179e\"], [0.4444444444444444, \"#bd3786\"], [0.5555555555555556, \"#d8576b\"], [0.6666666666666666, \"#ed7953\"], [0.7777777777777778, \"#fb9f3a\"], [0.8888888888888888, \"#fdca26\"], [1.0, \"#f0f921\"]], \"sequentialminus\": [[0.0, \"#0d0887\"], [0.1111111111111111, \"#46039f\"], [0.2222222222222222, \"#7201a8\"], [0.3333333333333333, \"#9c179e\"], [0.4444444444444444, \"#bd3786\"], [0.5555555555555556, \"#d8576b\"], [0.6666666666666666, \"#ed7953\"], [0.7777777777777778, \"#fb9f3a\"], [0.8888888888888888, \"#fdca26\"], [1.0, \"#f0f921\"]]}, \"colorway\": [\"#636efa\", \"#EF553B\", \"#00cc96\", \"#ab63fa\", \"#FFA15A\", \"#19d3f3\", \"#FF6692\", \"#B6E880\", \"#FF97FF\", \"#FECB52\"], \"font\": {\"color\": \"#2a3f5f\"}, \"geo\": {\"bgcolor\": \"white\", \"lakecolor\": \"white\", \"landcolor\": \"#E5ECF6\", \"showlakes\": true, \"showland\": true, \"subunitcolor\": \"white\"}, \"hoverlabel\": {\"align\": \"left\"}, \"hovermode\": \"closest\", \"mapbox\": {\"style\": \"light\"}, \"paper_bgcolor\": \"white\", \"plot_bgcolor\": \"#E5ECF6\", \"polar\": {\"angularaxis\": {\"gridcolor\": \"white\", \"linecolor\": \"white\", \"ticks\": \"\"}, \"bgcolor\": \"#E5ECF6\", \"radialaxis\": {\"gridcolor\": \"white\", \"linecolor\": \"white\", \"ticks\": \"\"}}, \"scene\": {\"xaxis\": {\"backgroundcolor\": \"#E5ECF6\", \"gridcolor\": \"white\", \"gridwidth\": 2, \"linecolor\": \"white\", \"showbackground\": true, \"ticks\": \"\", \"zerolinecolor\": \"white\"}, \"yaxis\": {\"backgroundcolor\": \"#E5ECF6\", \"gridcolor\": \"white\", \"gridwidth\": 2, \"linecolor\": \"white\", \"showbackground\": true, \"ticks\": \"\", \"zerolinecolor\": \"white\"}, \"zaxis\": {\"backgroundcolor\": \"#E5ECF6\", \"gridcolor\": \"white\", \"gridwidth\": 2, \"linecolor\": \"white\", \"showbackground\": true, \"ticks\": \"\", \"zerolinecolor\": \"white\"}}, \"shapedefaults\": {\"line\": {\"color\": \"#2a3f5f\"}}, \"ternary\": {\"aaxis\": {\"gridcolor\": \"white\", \"linecolor\": \"white\", \"ticks\": \"\"}, \"baxis\": {\"gridcolor\": \"white\", \"linecolor\": \"white\", \"ticks\": \"\"}, \"bgcolor\": \"#E5ECF6\", \"caxis\": {\"gridcolor\": \"white\", \"linecolor\": \"white\", \"ticks\": \"\"}}, \"title\": {\"x\": 0.05}, \"xaxis\": {\"automargin\": true, \"gridcolor\": \"white\", \"linecolor\": \"white\", \"ticks\": \"\", \"title\": {\"standoff\": 15}, \"zerolinecolor\": \"white\", \"zerolinewidth\": 2}, \"yaxis\": {\"automargin\": true, \"gridcolor\": \"white\", \"linecolor\": \"white\", \"ticks\": \"\", \"title\": {\"standoff\": 15}, \"zerolinecolor\": \"white\", \"zerolinewidth\": 2}}}, \"title\": {\"font\": {\"size\": 17}, \"text\": \"Annual Income vs. Age for Male (1) and Female (0)\"}, \"xaxis\": {\"range\": [14250.0, 143850.0], \"showgrid\": true, \"tickprefix\": \"$\", \"ticksuffix\": \"\", \"title\": {\"text\": \"AnnualIncome\"}, \"zeroline\": true}, \"yaxis\": {\"range\": [17.099999999999998, 73.5], \"showgrid\": true, \"tickprefix\": \"\", \"ticksuffix\": \"\", \"title\": {\"text\": \"Age\"}, \"zeroline\": true}},\n",
       "                        {\"responsive\": true}\n",
       "                    ).then(function(){\n",
       "                            \n",
       "var gd = document.getElementById('f3499af1-2bd4-488d-9076-c0ffd2cdb115');\n",
       "var x = new MutationObserver(function (mutations, observer) {{\n",
       "        var display = window.getComputedStyle(gd).display;\n",
       "        if (!display || display === 'none') {{\n",
       "            console.log([gd, 'removed!']);\n",
       "            Plotly.purge(gd);\n",
       "            observer.disconnect();\n",
       "        }}\n",
       "}});\n",
       "\n",
       "// Listen for the removal of the full notebook cells\n",
       "var notebookContainer = gd.closest('#notebook-container');\n",
       "if (notebookContainer) {{\n",
       "    x.observe(notebookContainer, {childList: true});\n",
       "}}\n",
       "\n",
       "// Listen for the clearing of the current output cell\n",
       "var outputEl = gd.closest('.output');\n",
       "if (outputEl) {{\n",
       "    x.observe(outputEl, {childList: true});\n",
       "}}\n",
       "\n",
       "                        })\n",
       "                };\n",
       "                });\n",
       "            </script>\n",
       "        </div>"
      ]
     },
     "metadata": {},
     "output_type": "display_data"
    }
   ],
   "source": [
    "#Surprising to see most of the higher earners are below 40\n",
    "scatter(Data, \"AnnualIncome\", \"Gender\", \"Age\", \"Annual Income vs. Age for Male (1) and Female (0)\")"
   ]
  },
  {
   "cell_type": "code",
   "execution_count": 43,
   "metadata": {},
   "outputs": [
    {
     "data": {
      "application/vnd.plotly.v1+json": {
       "config": {
        "plotlyServerURL": "https://plot.ly"
       },
       "data": [
        {
         "autobinx": false,
         "histnorm": "probability density",
         "legendgroup": "AnnualIncome Distribution",
         "marker": {
          "color": "rgb(31, 119, 180)"
         },
         "name": "AnnualIncome Distribution",
         "opacity": 0.7,
         "type": "histogram",
         "x": [
          15,
          15,
          16,
          16,
          17,
          17,
          18,
          18,
          19,
          19,
          19,
          19,
          20,
          20,
          20,
          20,
          21,
          21,
          23,
          23,
          24,
          24,
          25,
          25,
          28,
          28,
          28,
          28,
          29,
          29,
          30,
          30,
          33,
          33,
          33,
          33,
          34,
          34,
          37,
          37,
          38,
          38,
          39,
          39,
          39,
          39,
          40,
          40,
          40,
          40,
          42,
          42,
          43,
          43,
          43,
          43,
          44,
          44,
          46,
          46,
          46,
          46,
          47,
          47,
          48,
          48,
          48,
          48,
          48,
          48,
          49,
          49,
          50,
          50,
          54,
          54,
          54,
          54,
          54,
          54,
          54,
          54,
          54,
          54,
          54,
          54,
          57,
          57,
          58,
          58,
          59,
          59,
          60,
          60,
          60,
          60,
          60,
          60,
          61,
          61,
          62,
          62,
          62,
          62,
          62,
          62,
          63,
          63,
          63,
          63,
          63,
          63,
          64,
          64,
          65,
          65,
          65,
          65,
          67,
          67,
          67,
          67,
          69,
          69,
          70,
          70,
          71,
          71,
          71,
          71,
          71,
          71,
          72,
          72,
          73,
          73,
          73,
          73,
          74,
          74,
          75,
          75,
          76,
          76,
          77,
          77,
          77,
          77,
          78,
          78,
          78,
          78,
          78,
          78,
          78,
          78,
          78,
          78,
          78,
          78,
          79,
          79,
          81,
          81,
          85,
          85,
          86,
          86,
          87,
          87,
          87,
          87,
          87,
          87,
          88,
          88,
          88,
          88,
          93,
          93,
          97,
          97,
          98,
          98,
          99,
          99,
          101,
          101,
          103,
          103,
          103,
          103,
          113,
          113,
          120,
          120,
          126,
          126,
          137,
          137
         ],
         "xaxis": "x",
         "xbins": {
          "end": 137,
          "size": 3.5,
          "start": 15
         },
         "yaxis": "y"
        },
        {
         "legendgroup": "AnnualIncome Distribution",
         "marker": {
          "color": "rgb(31, 119, 180)"
         },
         "mode": "lines",
         "name": "AnnualIncome Distribution",
         "showlegend": false,
         "type": "scatter",
         "x": [
          15,
          15.244,
          15.488,
          15.732,
          15.975999999999999,
          16.22,
          16.464,
          16.708,
          16.951999999999998,
          17.196,
          17.44,
          17.684,
          17.928,
          18.172,
          18.416,
          18.66,
          18.904,
          19.148,
          19.392,
          19.636,
          19.88,
          20.124,
          20.368000000000002,
          20.612000000000002,
          20.856,
          21.1,
          21.344,
          21.588,
          21.832,
          22.076,
          22.32,
          22.564,
          22.808,
          23.052,
          23.296,
          23.54,
          23.784,
          24.028,
          24.272,
          24.516,
          24.759999999999998,
          25.003999999999998,
          25.247999999999998,
          25.492,
          25.736,
          25.98,
          26.224,
          26.468,
          26.712,
          26.956,
          27.2,
          27.444000000000003,
          27.688000000000002,
          27.932000000000002,
          28.176000000000002,
          28.42,
          28.664,
          28.908,
          29.152,
          29.396,
          29.64,
          29.884,
          30.128,
          30.372,
          30.616,
          30.86,
          31.104,
          31.348,
          31.592,
          31.836,
          32.08,
          32.324,
          32.568,
          32.812,
          33.056,
          33.3,
          33.544,
          33.788,
          34.032,
          34.275999999999996,
          34.519999999999996,
          34.763999999999996,
          35.007999999999996,
          35.251999999999995,
          35.495999999999995,
          35.739999999999995,
          35.984,
          36.228,
          36.472,
          36.716,
          36.96,
          37.204,
          37.448,
          37.692,
          37.936,
          38.18,
          38.424,
          38.668,
          38.912,
          39.156,
          39.4,
          39.644,
          39.888000000000005,
          40.132000000000005,
          40.376000000000005,
          40.620000000000005,
          40.864000000000004,
          41.108000000000004,
          41.352000000000004,
          41.596000000000004,
          41.84,
          42.084,
          42.328,
          42.572,
          42.816,
          43.06,
          43.304,
          43.548,
          43.792,
          44.036,
          44.28,
          44.524,
          44.768,
          45.012,
          45.256,
          45.5,
          45.744,
          45.988,
          46.232,
          46.476,
          46.72,
          46.964,
          47.208,
          47.452,
          47.696,
          47.94,
          48.184,
          48.428,
          48.672,
          48.916,
          49.16,
          49.404,
          49.648,
          49.892,
          50.136,
          50.38,
          50.624,
          50.868,
          51.112,
          51.356,
          51.6,
          51.844,
          52.088,
          52.332,
          52.576,
          52.82,
          53.064,
          53.308,
          53.552,
          53.796,
          54.04,
          54.284,
          54.528,
          54.772,
          55.016,
          55.26,
          55.504,
          55.748,
          55.992,
          56.236,
          56.48,
          56.724,
          56.968,
          57.212,
          57.456,
          57.7,
          57.944,
          58.188,
          58.432,
          58.676,
          58.92,
          59.164,
          59.408,
          59.652,
          59.896,
          60.14,
          60.384,
          60.628,
          60.872,
          61.116,
          61.36,
          61.604,
          61.848,
          62.092,
          62.336,
          62.58,
          62.824,
          63.068,
          63.312,
          63.556,
          63.8,
          64.044,
          64.288,
          64.532,
          64.77600000000001,
          65.02000000000001,
          65.26400000000001,
          65.50800000000001,
          65.75200000000001,
          65.99600000000001,
          66.24000000000001,
          66.48400000000001,
          66.72800000000001,
          66.97200000000001,
          67.21600000000001,
          67.46000000000001,
          67.70400000000001,
          67.94800000000001,
          68.19200000000001,
          68.436,
          68.68,
          68.924,
          69.168,
          69.412,
          69.656,
          69.9,
          70.144,
          70.388,
          70.632,
          70.876,
          71.12,
          71.364,
          71.608,
          71.852,
          72.096,
          72.34,
          72.584,
          72.828,
          73.072,
          73.316,
          73.56,
          73.804,
          74.048,
          74.292,
          74.536,
          74.78,
          75.024,
          75.268,
          75.512,
          75.756,
          76,
          76.244,
          76.488,
          76.732,
          76.976,
          77.22,
          77.464,
          77.708,
          77.952,
          78.196,
          78.44,
          78.684,
          78.928,
          79.172,
          79.416,
          79.66,
          79.904,
          80.148,
          80.392,
          80.636,
          80.88,
          81.124,
          81.368,
          81.612,
          81.856,
          82.1,
          82.344,
          82.588,
          82.832,
          83.076,
          83.32,
          83.564,
          83.808,
          84.052,
          84.296,
          84.54,
          84.784,
          85.028,
          85.272,
          85.516,
          85.76,
          86.004,
          86.248,
          86.492,
          86.736,
          86.98,
          87.224,
          87.468,
          87.712,
          87.956,
          88.2,
          88.444,
          88.688,
          88.932,
          89.176,
          89.42,
          89.664,
          89.908,
          90.152,
          90.396,
          90.64,
          90.884,
          91.128,
          91.372,
          91.616,
          91.86,
          92.104,
          92.348,
          92.592,
          92.836,
          93.08,
          93.324,
          93.568,
          93.812,
          94.056,
          94.3,
          94.544,
          94.788,
          95.032,
          95.276,
          95.52,
          95.764,
          96.008,
          96.252,
          96.496,
          96.74,
          96.984,
          97.228,
          97.472,
          97.716,
          97.96,
          98.204,
          98.448,
          98.692,
          98.936,
          99.18,
          99.424,
          99.668,
          99.912,
          100.156,
          100.4,
          100.644,
          100.888,
          101.132,
          101.376,
          101.62,
          101.864,
          102.108,
          102.352,
          102.596,
          102.84,
          103.084,
          103.328,
          103.572,
          103.816,
          104.06,
          104.304,
          104.548,
          104.792,
          105.036,
          105.28,
          105.524,
          105.768,
          106.012,
          106.256,
          106.5,
          106.744,
          106.988,
          107.232,
          107.476,
          107.72,
          107.964,
          108.208,
          108.452,
          108.696,
          108.94,
          109.184,
          109.428,
          109.672,
          109.916,
          110.16,
          110.404,
          110.648,
          110.892,
          111.136,
          111.38,
          111.624,
          111.868,
          112.112,
          112.356,
          112.6,
          112.844,
          113.088,
          113.332,
          113.576,
          113.82,
          114.064,
          114.308,
          114.552,
          114.796,
          115.04,
          115.284,
          115.528,
          115.772,
          116.016,
          116.26,
          116.504,
          116.748,
          116.992,
          117.236,
          117.48,
          117.724,
          117.968,
          118.212,
          118.456,
          118.7,
          118.944,
          119.188,
          119.432,
          119.676,
          119.92,
          120.164,
          120.408,
          120.652,
          120.896,
          121.14,
          121.384,
          121.628,
          121.872,
          122.116,
          122.36,
          122.604,
          122.848,
          123.092,
          123.336,
          123.58,
          123.824,
          124.068,
          124.312,
          124.556,
          124.8,
          125.044,
          125.288,
          125.532,
          125.776,
          126.02,
          126.264,
          126.508,
          126.752,
          126.996,
          127.24,
          127.484,
          127.728,
          127.972,
          128.216,
          128.45999999999998,
          128.704,
          128.94799999999998,
          129.192,
          129.436,
          129.68,
          129.924,
          130.168,
          130.412,
          130.656,
          130.9,
          131.144,
          131.388,
          131.632,
          131.876,
          132.12,
          132.364,
          132.608,
          132.852,
          133.096,
          133.34,
          133.584,
          133.828,
          134.072,
          134.316,
          134.56,
          134.804,
          135.048,
          135.292,
          135.536,
          135.78,
          136.024,
          136.268,
          136.512,
          136.756
         ],
         "xaxis": "x",
         "y": [
          0.005273604235236655,
          0.005368608886597834,
          0.005462753222966647,
          0.005555963986811321,
          0.0056481703486830305,
          0.0057393041105365675,
          0.005829299900970369,
          0.00591809536155778,
          0.006005631323477733,
          0.00609185197369417,
          0.006176705009977196,
          0.006260141784108256,
          0.006342117432662903,
          0.006422590994820244,
          0.0065015255167055,
          0.006578888141833124,
          0.006654650187280639,
          0.006728787205286965,
          0.006801279030036536,
          0.006872109809455937,
          0.006941268021919116,
          0.007008746477823949,
          0.007074542306072617,
          0.007138656925553973,
          0.007201096001795456,
          0.007261869389014951,
          0.00732099105787018,
          0.007378479009263125,
          0.007434355174618926,
          0.007488645303115484,
          0.007541378836395603,
          0.007592588771344985,
          0.007642311511568461,
          0.007690586708241988,
          0.007737457091059699,
          0.007782968290032064,
          0.00782716864892653,
          0.007870109031169753,
          0.00791184261905756,
          0.007952424707138259,
          0.007991912490652835,
          0.008030364849927578,
          0.008067842131622184,
          0.008104405927740855,
          0.008140118853312792,
          0.008175044323644154,
          0.008209246332034173,
          0.008242789228835784,
          0.008275737502724355,
          0.008308155565017331,
          0.00834010753786442,
          0.00837165704709984,
          0.008402867020518736,
          0.008433799492305391,
          0.008464515414305724,
          0.008495074474797297,
          0.008525534925369381,
          0.008555953416482407,
          0.008586384842231362,
          0.008616882194791379,
          0.008647496428975388,
          0.008678276337285348,
          0.00870926843578792,
          0.008740516861095709,
          0.008772063278683353,
          0.008803946802716829,
          0.008836203927523371,
          0.008868868470777488,
          0.008901971528428587,
          0.008935541441345526,
          0.008969603773603854,
          0.00900418130229322,
          0.009039294018675724,
          0.009074959140479646,
          0.00911119113506846,
          0.009148001753183485,
          0.009185400072915965,
          0.009223392553526503,
          0.009261983098692455,
          0.009301173128728687,
          0.00934096166129525,
          0.009381345400074551,
          0.009422318830873171,
          0.009463874324578627,
          0.009506002246378003,
          0.009548691070626137,
          0.009591927500733498,
          0.00963569659342971,
          0.009679981886747064,
          0.009724765531059817,
          0.009770028422508877,
          0.009815750338139423,
          0.00986191007207818,
          0.009908485572080631,
          0.009955454075784246,
          0.01000279224601218,
          0.01005047630448427,
          0.010098482163305483,
          0.01014678555362021,
          0.010195362150840185,
          0.010244187695875994,
          0.010293238111827604,
          0.010342489615616743,
          0.0103919188240734,
          0.010441502854020995,
          0.01049121941593879,
          0.01054104690081581,
          0.010590964459849096,
          0.01064095207667733,
          0.010690990631883243,
          0.010741061959538724,
          0.010791148895611443,
          0.010841235318094574,
          0.01089130617876704,
          0.010941347526535814,
          0.010991346522359028,
          0.011041291445791903,
          0.011091171693245081,
          0.011140977768088147,
          0.011190701262776161,
          0.01124033483321942,
          0.011289872165659763,
          0.01133930793635645,
          0.011388637764423665,
          0.01143785815819958,
          0.011486966455560675,
          0.011535960758628427,
          0.011584839863345794,
          0.011633603184427108,
          0.011682250676210978,
          0.01173078274996612,
          0.011779200188217917,
          0.01182750405667992,
          0.011875695614383269,
          0.011923776222606819,
          0.011971747253213426,
          0.012019609996998493,
          0.01206736557265322,
          0.012115014836937636,
          0.012162558296647042,
          0.012209996022941483,
          0.01225732756858802,
          0.012304551888644561,
          0.012351667265087763,
          0.012398671235858662,
          0.0124455605287679,
          0.012492331000666943,
          0.012538977582253816,
          0.012585494228842512,
          0.012631873877380613,
          0.012678108409957629,
          0.012724188623997955,
          0.012770104209286572,
          0.01281584373192531,
          0.01286139462526973,
          0.012906743187845657,
          0.012951874588195397,
          0.012996772876554399,
          0.013041421003209786,
          0.013085800843345924,
          0.013129893228135375,
          0.013173677981788973,
          0.013217133964238474,
          0.013260239119083618,
          0.013302970526400469,
          0.013345304459973532,
          0.013387216448484049,
          0.013428681340160375,
          0.01346967337037457,
          0.013510166231649245,
          0.013550133145525816,
          0.013589546935735136,
          0.013628380102105493,
          0.013666604894643258,
          0.013704193387223812,
          0.013741117550340793,
          0.013777349322372612,
          0.013812860678843634,
          0.013847623699179747,
          0.01388161063048231,
          0.013914793947876472,
          0.013947146411021828,
          0.01397864111641182,
          0.014009251545128158,
          0.014038951605759763,
          0.01406771567224242,
          0.014095518616422246,
          0.014122335835196679,
          0.014148143272137322,
          0.014172917433551624,
          0.014196635398992196,
          0.014219274826275422,
          0.014240813951122998,
          0.014261231581591595,
          0.014280507087505065,
          0.014298620385152266,
          0.01431555191755889,
          0.014331282630685572,
          0.014345793945944166,
          0.01435906772946166,
          0.01437108625855309,
          0.014381832185896013,
          0.01439128850192151,
          0.014399438495958886,
          0.014406265716686037,
          0.014411753932448049,
          0.014415887092012513,
          0.014418649286330526,
          0.014420024711868049,
          0.014419997636062398,
          0.01441855236544406,
          0.01441567321694501,
          0.014411344492889654,
          0.014405550460136233,
          0.014398275333803078,
          0.014389503265976872,
          0.01437921833975936,
          0.014367404568964208,
          0.014354045903727772,
          0.014339126242249551,
          0.01432262944882261,
          0.014304539378263235,
          0.014284839906791916,
          0.014263514969362227,
          0.014240548603377687,
          0.014215924998679795,
          0.014189628553635378,
          0.014161643937095998,
          0.014131956155949211,
          0.01410055062793012,
          0.014067413259312957,
          0.014032530527056344,
          0.013995889564932992,
          0.013957478253134743,
          0.01391728531080977,
          0.013875300390955378,
          0.013831514177064463,
          0.013785918480900355,
          0.013738506340757206,
          0.013689272119550228,
          0.01363821160207177,
          0.013585322090746867,
          0.013530602499222718,
          0.013474053443134492,
          0.013415677327400368,
          0.013355478429415887,
          0.013293462977537498,
          0.01322963922427151,
          0.013164017513612162,
          0.013096610342006963,
          0.01302743241246299,
          0.012956500681347558,
          0.012883834397479643,
          0.01280945513315255,
          0.012733386806776483,
          0.0126556556968774,
          0.012576290447239612,
          0.012495322063030626,
          0.012412783897797867,
          0.012328711631280157,
          0.012243143238027415,
          0.012156118946874298,
          0.012067681191363642,
          0.011977874551264884,
          0.011886745685380446,
          0.011794343255879343,
          0.011700717844440623,
          0.011605921860531854,
          0.011510009442186029,
          0.011413036349677556,
          0.01131505985253134,
          0.01121613861032918,
          0.011116332547806291,
          0.011015702724754065,
          0.010914311201266947,
          0.010812220898889493,
          0.010709495458233858,
          0.010606199093649637,
          0.010502396445536896,
          0.010398152430897811,
          0.010293532092724924,
          0.010188600448823689,
          0.01008342234066297,
          0.00997806228284184,
          0.009872584313751775,
          0.009767051848002778,
          0.009661527531169074,
          0.009556073097393761,
          0.00945074923037594,
          0.009345615428244051,
          0.009240729872798753,
          0.009136149303587148,
          0.009031928897246227,
          0.008928122152529404,
          0.008824780781404383,
          0.00872195460658399,
          0.008619691465824758,
          0.008518037123299706,
          0.008417035188323575,
          0.008316727041679831,
          0.008217151769768921,
          0.008118346106768266,
          0.008020344384963664,
          0.00792317849338243,
          0.00782687784482756,
          0.007731469351382536,
          0.007636977408425386,
          0.0075434238871606345,
          0.007450828135647447,
          0.007359206988271998,
          0.007268574783582212,
          0.007178943390373434,
          0.007090322241883787,
          0.007002718377929428,
          0.006916136494780759,
          0.006830579002552715,
          0.006746046089854658,
          0.006662535795418452,
          0.006580044086396815,
          0.006498564942999012,
          0.0064180904491061945,
          0.0063386108884853215,
          0.006260114846198289,
          0.006182589314781732,
          0.00610601980475347,
          0.006030390458982983,
          0.005955684170447049,
          0.005881882702876483,
          0.005808966813787048,
          0.005736916379376327,
          0.0056657105207593905,
          0.005595327731009236,
          0.005525746002463161,
          0.00545694295375417,
          0.005388895956026539,
          0.00532158225779734,
          0.005254979107930787,
          0.00518906387620029,
          0.005123814170923109,
          0.005059207953165752,
          0.004995223647033602,
          0.00493184024557658,
          0.004869037411862959,
          0.004806795574796868,
          0.004745096019280134,
          0.004683920970346962,
          0.004623253670929621,
          0.004563078452945102,
          0.004503380801426355,
          0.004444147411456752,
          0.004385366237703357,
          0.004327026536382172,
          0.004269118899527805,
          0.004211635281479394,
          0.004154569017535259,
          0.004097914834768983,
          0.004041668855040701,
          0.003985828590277399,
          0.003930392930136502,
          0.003875362122205975,
          0.0038207377449327984,
          0.0037665226735087705,
          0.0037127210389782846,
          0.003659338180867002,
          0.003606380593662324,
          0.0035538558675069507,
          0.003501772623494472,
          0.0034501404439815594,
          0.0033989697983539875,
          0.0033482719647039846,
          0.003298058947893531,
          0.0032483433944926958,
          0.003199138505093238,
          0.003150457944506138,
          0.003102315750356704,
          0.0030547262405931056,
          0.0030077039204230507,
          0.002961263389189333,
          0.0029154192476879112,
          0.0028701860064221916,
          0.002825577995274531,
          0.0027816092750603764,
          0.0027382935514127156,
          0.002695644091423854,
          0.0026536736434491807,
          0.002612394360452738,
          0.0025718177272480475,
          0.0025319544919593343,
          0.0024928146019988543,
          0.0024544071448249862,
          0.0024167402937141196,
          0.002379821258746516,
          0.0023436562431733356,
          0.002308250405298315,
          0.002273607825974039,
          0.0022397314817791626,
          0.002206623223909667,
          0.002174283762784578,
          0.002142712658334474,
          0.0021119083159100768,
          0.0020818679877180665,
          0.002052587779662569,
          0.002024062663443198,
          0.0019962864937347865,
          0.0019692520302495224,
          0.0019429509644598583,
          0.0019173739507397905,
          0.001892510641663515,
          0.001868349727183655,
          0.0018448789773966498,
          0.0018220852885903363,
          0.0017999547322582138,
          0.0017784726067566425,
          0.0017576234912748574,
          0.00173739130178365,
          0.001717759348626371,
          0.0016987103954159005,
          0.0016802267189030523,
          0.0016622901694857022,
          0.0016448822320334607,
          0.0016279840867100877,
          0.0016115766694847803,
          0.001595640732033987,
          0.0015801569007473481,
          0.0015651057345646608,
          0.00155046778138525,
          0.0015362236328067026,
          0.0015223539769665538,
          0.0015088396492778594,
          0.0014956616808678113,
          0.001482801344547254,
          0.0014702401981582418,
          0.001457960125166322,
          0.0014459433723840996,
          0.001434172584732517,
          0.001422630836966277,
          0.0014113016623095696,
          0.0014001690779679194,
          0.0013892176075011248,
          0.0013784323000611296,
          0.0013677987465168576,
          0.0013573030925057132,
          0.0013469320484683276,
          0.0013366728967392218,
          0.001326513495781331,
          0.0013164422816665453,
          0.0013064482669177748,
          0.0012965210368401767,
          0.0012866507434803637,
          0.0012768280973622765,
          0.0012670443571572351,
          0.001257291317453162,
          0.001247561294794325,
          0.0012378471121679577,
          0.0012281420821179598,
          0.0012184399886683798,
          0.001208735068240723,
          0.0011990219897491604,
          0.0011892958340566097,
          0.001179552072972325,
          0.0011697865479681623,
          0.0011599954487861732,
          0.0011501752921045138,
          0.001140322900422104,
          0.0011304353813148893,
          0.001120510107208187,
          0.0011105446958003201,
          0.0011005369912629147,
          0.00109048504633249,
          0.001080387105397008,
          0.0010702415886692227,
          0.0010600470775268035,
          0.00104980230108678,
          0.0010395061240693353,
          0.0010291575359933317,
          0.001018755641733209,
          0.001008299653454309,
          0.0009977888839311365,
          0.000987222741240868,
          0.0009766007248124312,
          0.0009659224228000148,
          0.0009551875107387547,
          0.0009443957514299315,
          0.0009335469959930818,
          0.0009226411860133233,
          0.0009116783567037261,
          0.0009006586409949887,
          0.000889582274457885,
          0.000878449600958093,
          0.0008672610789380565,
          0.0008560172882165128,
          0.0008447189371933022,
          0.0008333668703449687,
          0.0008219620758956038,
          0.0008105056935472175,
          0.0007989990221547986,
          0.0007874435272329419,
          0.000775840848183647,
          0.0007641928051383925,
          0.000752501405312023
         ],
         "yaxis": "y"
        },
        {
         "legendgroup": "AnnualIncome Distribution",
         "marker": {
          "color": "rgb(31, 119, 180)",
          "symbol": "line-ns-open"
         },
         "mode": "markers",
         "name": "AnnualIncome Distribution",
         "showlegend": false,
         "type": "scatter",
         "x": [
          15,
          15,
          16,
          16,
          17,
          17,
          18,
          18,
          19,
          19,
          19,
          19,
          20,
          20,
          20,
          20,
          21,
          21,
          23,
          23,
          24,
          24,
          25,
          25,
          28,
          28,
          28,
          28,
          29,
          29,
          30,
          30,
          33,
          33,
          33,
          33,
          34,
          34,
          37,
          37,
          38,
          38,
          39,
          39,
          39,
          39,
          40,
          40,
          40,
          40,
          42,
          42,
          43,
          43,
          43,
          43,
          44,
          44,
          46,
          46,
          46,
          46,
          47,
          47,
          48,
          48,
          48,
          48,
          48,
          48,
          49,
          49,
          50,
          50,
          54,
          54,
          54,
          54,
          54,
          54,
          54,
          54,
          54,
          54,
          54,
          54,
          57,
          57,
          58,
          58,
          59,
          59,
          60,
          60,
          60,
          60,
          60,
          60,
          61,
          61,
          62,
          62,
          62,
          62,
          62,
          62,
          63,
          63,
          63,
          63,
          63,
          63,
          64,
          64,
          65,
          65,
          65,
          65,
          67,
          67,
          67,
          67,
          69,
          69,
          70,
          70,
          71,
          71,
          71,
          71,
          71,
          71,
          72,
          72,
          73,
          73,
          73,
          73,
          74,
          74,
          75,
          75,
          76,
          76,
          77,
          77,
          77,
          77,
          78,
          78,
          78,
          78,
          78,
          78,
          78,
          78,
          78,
          78,
          78,
          78,
          79,
          79,
          81,
          81,
          85,
          85,
          86,
          86,
          87,
          87,
          87,
          87,
          87,
          87,
          88,
          88,
          88,
          88,
          93,
          93,
          97,
          97,
          98,
          98,
          99,
          99,
          101,
          101,
          103,
          103,
          103,
          103,
          113,
          113,
          120,
          120,
          126,
          126,
          137,
          137
         ],
         "xaxis": "x",
         "y": [
          "AnnualIncome Distribution",
          "AnnualIncome Distribution",
          "AnnualIncome Distribution",
          "AnnualIncome Distribution",
          "AnnualIncome Distribution",
          "AnnualIncome Distribution",
          "AnnualIncome Distribution",
          "AnnualIncome Distribution",
          "AnnualIncome Distribution",
          "AnnualIncome Distribution",
          "AnnualIncome Distribution",
          "AnnualIncome Distribution",
          "AnnualIncome Distribution",
          "AnnualIncome Distribution",
          "AnnualIncome Distribution",
          "AnnualIncome Distribution",
          "AnnualIncome Distribution",
          "AnnualIncome Distribution",
          "AnnualIncome Distribution",
          "AnnualIncome Distribution",
          "AnnualIncome Distribution",
          "AnnualIncome Distribution",
          "AnnualIncome Distribution",
          "AnnualIncome Distribution",
          "AnnualIncome Distribution",
          "AnnualIncome Distribution",
          "AnnualIncome Distribution",
          "AnnualIncome Distribution",
          "AnnualIncome Distribution",
          "AnnualIncome Distribution",
          "AnnualIncome Distribution",
          "AnnualIncome Distribution",
          "AnnualIncome Distribution",
          "AnnualIncome Distribution",
          "AnnualIncome Distribution",
          "AnnualIncome Distribution",
          "AnnualIncome Distribution",
          "AnnualIncome Distribution",
          "AnnualIncome Distribution",
          "AnnualIncome Distribution",
          "AnnualIncome Distribution",
          "AnnualIncome Distribution",
          "AnnualIncome Distribution",
          "AnnualIncome Distribution",
          "AnnualIncome Distribution",
          "AnnualIncome Distribution",
          "AnnualIncome Distribution",
          "AnnualIncome Distribution",
          "AnnualIncome Distribution",
          "AnnualIncome Distribution",
          "AnnualIncome Distribution",
          "AnnualIncome Distribution",
          "AnnualIncome Distribution",
          "AnnualIncome Distribution",
          "AnnualIncome Distribution",
          "AnnualIncome Distribution",
          "AnnualIncome Distribution",
          "AnnualIncome Distribution",
          "AnnualIncome Distribution",
          "AnnualIncome Distribution",
          "AnnualIncome Distribution",
          "AnnualIncome Distribution",
          "AnnualIncome Distribution",
          "AnnualIncome Distribution",
          "AnnualIncome Distribution",
          "AnnualIncome Distribution",
          "AnnualIncome Distribution",
          "AnnualIncome Distribution",
          "AnnualIncome Distribution",
          "AnnualIncome Distribution",
          "AnnualIncome Distribution",
          "AnnualIncome Distribution",
          "AnnualIncome Distribution",
          "AnnualIncome Distribution",
          "AnnualIncome Distribution",
          "AnnualIncome Distribution",
          "AnnualIncome Distribution",
          "AnnualIncome Distribution",
          "AnnualIncome Distribution",
          "AnnualIncome Distribution",
          "AnnualIncome Distribution",
          "AnnualIncome Distribution",
          "AnnualIncome Distribution",
          "AnnualIncome Distribution",
          "AnnualIncome Distribution",
          "AnnualIncome Distribution",
          "AnnualIncome Distribution",
          "AnnualIncome Distribution",
          "AnnualIncome Distribution",
          "AnnualIncome Distribution",
          "AnnualIncome Distribution",
          "AnnualIncome Distribution",
          "AnnualIncome Distribution",
          "AnnualIncome Distribution",
          "AnnualIncome Distribution",
          "AnnualIncome Distribution",
          "AnnualIncome Distribution",
          "AnnualIncome Distribution",
          "AnnualIncome Distribution",
          "AnnualIncome Distribution",
          "AnnualIncome Distribution",
          "AnnualIncome Distribution",
          "AnnualIncome Distribution",
          "AnnualIncome Distribution",
          "AnnualIncome Distribution",
          "AnnualIncome Distribution",
          "AnnualIncome Distribution",
          "AnnualIncome Distribution",
          "AnnualIncome Distribution",
          "AnnualIncome Distribution",
          "AnnualIncome Distribution",
          "AnnualIncome Distribution",
          "AnnualIncome Distribution",
          "AnnualIncome Distribution",
          "AnnualIncome Distribution",
          "AnnualIncome Distribution",
          "AnnualIncome Distribution",
          "AnnualIncome Distribution",
          "AnnualIncome Distribution",
          "AnnualIncome Distribution",
          "AnnualIncome Distribution",
          "AnnualIncome Distribution",
          "AnnualIncome Distribution",
          "AnnualIncome Distribution",
          "AnnualIncome Distribution",
          "AnnualIncome Distribution",
          "AnnualIncome Distribution",
          "AnnualIncome Distribution",
          "AnnualIncome Distribution",
          "AnnualIncome Distribution",
          "AnnualIncome Distribution",
          "AnnualIncome Distribution",
          "AnnualIncome Distribution",
          "AnnualIncome Distribution",
          "AnnualIncome Distribution",
          "AnnualIncome Distribution",
          "AnnualIncome Distribution",
          "AnnualIncome Distribution",
          "AnnualIncome Distribution",
          "AnnualIncome Distribution",
          "AnnualIncome Distribution",
          "AnnualIncome Distribution",
          "AnnualIncome Distribution",
          "AnnualIncome Distribution",
          "AnnualIncome Distribution",
          "AnnualIncome Distribution",
          "AnnualIncome Distribution",
          "AnnualIncome Distribution",
          "AnnualIncome Distribution",
          "AnnualIncome Distribution",
          "AnnualIncome Distribution",
          "AnnualIncome Distribution",
          "AnnualIncome Distribution",
          "AnnualIncome Distribution",
          "AnnualIncome Distribution",
          "AnnualIncome Distribution",
          "AnnualIncome Distribution",
          "AnnualIncome Distribution",
          "AnnualIncome Distribution",
          "AnnualIncome Distribution",
          "AnnualIncome Distribution",
          "AnnualIncome Distribution",
          "AnnualIncome Distribution",
          "AnnualIncome Distribution",
          "AnnualIncome Distribution",
          "AnnualIncome Distribution",
          "AnnualIncome Distribution",
          "AnnualIncome Distribution",
          "AnnualIncome Distribution",
          "AnnualIncome Distribution",
          "AnnualIncome Distribution",
          "AnnualIncome Distribution",
          "AnnualIncome Distribution",
          "AnnualIncome Distribution",
          "AnnualIncome Distribution",
          "AnnualIncome Distribution",
          "AnnualIncome Distribution",
          "AnnualIncome Distribution",
          "AnnualIncome Distribution",
          "AnnualIncome Distribution",
          "AnnualIncome Distribution",
          "AnnualIncome Distribution",
          "AnnualIncome Distribution",
          "AnnualIncome Distribution",
          "AnnualIncome Distribution",
          "AnnualIncome Distribution",
          "AnnualIncome Distribution",
          "AnnualIncome Distribution",
          "AnnualIncome Distribution",
          "AnnualIncome Distribution",
          "AnnualIncome Distribution",
          "AnnualIncome Distribution",
          "AnnualIncome Distribution",
          "AnnualIncome Distribution",
          "AnnualIncome Distribution",
          "AnnualIncome Distribution",
          "AnnualIncome Distribution",
          "AnnualIncome Distribution",
          "AnnualIncome Distribution",
          "AnnualIncome Distribution"
         ],
         "yaxis": "y2"
        }
       ],
       "layout": {
        "barmode": "overlay",
        "font": {
         "color": "Black",
         "size": 10
        },
        "height": 700,
        "hovermode": "closest",
        "legend": {
         "title": {
          "text": "Legend"
         },
         "traceorder": "reversed"
        },
        "template": {
         "data": {
          "bar": [
           {
            "error_x": {
             "color": "#2a3f5f"
            },
            "error_y": {
             "color": "#2a3f5f"
            },
            "marker": {
             "line": {
              "color": "#E5ECF6",
              "width": 0.5
             }
            },
            "type": "bar"
           }
          ],
          "barpolar": [
           {
            "marker": {
             "line": {
              "color": "#E5ECF6",
              "width": 0.5
             }
            },
            "type": "barpolar"
           }
          ],
          "carpet": [
           {
            "aaxis": {
             "endlinecolor": "#2a3f5f",
             "gridcolor": "white",
             "linecolor": "white",
             "minorgridcolor": "white",
             "startlinecolor": "#2a3f5f"
            },
            "baxis": {
             "endlinecolor": "#2a3f5f",
             "gridcolor": "white",
             "linecolor": "white",
             "minorgridcolor": "white",
             "startlinecolor": "#2a3f5f"
            },
            "type": "carpet"
           }
          ],
          "choropleth": [
           {
            "colorbar": {
             "outlinewidth": 0,
             "ticks": ""
            },
            "type": "choropleth"
           }
          ],
          "contour": [
           {
            "colorbar": {
             "outlinewidth": 0,
             "ticks": ""
            },
            "colorscale": [
             [
              0,
              "#0d0887"
             ],
             [
              0.1111111111111111,
              "#46039f"
             ],
             [
              0.2222222222222222,
              "#7201a8"
             ],
             [
              0.3333333333333333,
              "#9c179e"
             ],
             [
              0.4444444444444444,
              "#bd3786"
             ],
             [
              0.5555555555555556,
              "#d8576b"
             ],
             [
              0.6666666666666666,
              "#ed7953"
             ],
             [
              0.7777777777777778,
              "#fb9f3a"
             ],
             [
              0.8888888888888888,
              "#fdca26"
             ],
             [
              1,
              "#f0f921"
             ]
            ],
            "type": "contour"
           }
          ],
          "contourcarpet": [
           {
            "colorbar": {
             "outlinewidth": 0,
             "ticks": ""
            },
            "type": "contourcarpet"
           }
          ],
          "heatmap": [
           {
            "colorbar": {
             "outlinewidth": 0,
             "ticks": ""
            },
            "colorscale": [
             [
              0,
              "#0d0887"
             ],
             [
              0.1111111111111111,
              "#46039f"
             ],
             [
              0.2222222222222222,
              "#7201a8"
             ],
             [
              0.3333333333333333,
              "#9c179e"
             ],
             [
              0.4444444444444444,
              "#bd3786"
             ],
             [
              0.5555555555555556,
              "#d8576b"
             ],
             [
              0.6666666666666666,
              "#ed7953"
             ],
             [
              0.7777777777777778,
              "#fb9f3a"
             ],
             [
              0.8888888888888888,
              "#fdca26"
             ],
             [
              1,
              "#f0f921"
             ]
            ],
            "type": "heatmap"
           }
          ],
          "heatmapgl": [
           {
            "colorbar": {
             "outlinewidth": 0,
             "ticks": ""
            },
            "colorscale": [
             [
              0,
              "#0d0887"
             ],
             [
              0.1111111111111111,
              "#46039f"
             ],
             [
              0.2222222222222222,
              "#7201a8"
             ],
             [
              0.3333333333333333,
              "#9c179e"
             ],
             [
              0.4444444444444444,
              "#bd3786"
             ],
             [
              0.5555555555555556,
              "#d8576b"
             ],
             [
              0.6666666666666666,
              "#ed7953"
             ],
             [
              0.7777777777777778,
              "#fb9f3a"
             ],
             [
              0.8888888888888888,
              "#fdca26"
             ],
             [
              1,
              "#f0f921"
             ]
            ],
            "type": "heatmapgl"
           }
          ],
          "histogram": [
           {
            "marker": {
             "colorbar": {
              "outlinewidth": 0,
              "ticks": ""
             }
            },
            "type": "histogram"
           }
          ],
          "histogram2d": [
           {
            "colorbar": {
             "outlinewidth": 0,
             "ticks": ""
            },
            "colorscale": [
             [
              0,
              "#0d0887"
             ],
             [
              0.1111111111111111,
              "#46039f"
             ],
             [
              0.2222222222222222,
              "#7201a8"
             ],
             [
              0.3333333333333333,
              "#9c179e"
             ],
             [
              0.4444444444444444,
              "#bd3786"
             ],
             [
              0.5555555555555556,
              "#d8576b"
             ],
             [
              0.6666666666666666,
              "#ed7953"
             ],
             [
              0.7777777777777778,
              "#fb9f3a"
             ],
             [
              0.8888888888888888,
              "#fdca26"
             ],
             [
              1,
              "#f0f921"
             ]
            ],
            "type": "histogram2d"
           }
          ],
          "histogram2dcontour": [
           {
            "colorbar": {
             "outlinewidth": 0,
             "ticks": ""
            },
            "colorscale": [
             [
              0,
              "#0d0887"
             ],
             [
              0.1111111111111111,
              "#46039f"
             ],
             [
              0.2222222222222222,
              "#7201a8"
             ],
             [
              0.3333333333333333,
              "#9c179e"
             ],
             [
              0.4444444444444444,
              "#bd3786"
             ],
             [
              0.5555555555555556,
              "#d8576b"
             ],
             [
              0.6666666666666666,
              "#ed7953"
             ],
             [
              0.7777777777777778,
              "#fb9f3a"
             ],
             [
              0.8888888888888888,
              "#fdca26"
             ],
             [
              1,
              "#f0f921"
             ]
            ],
            "type": "histogram2dcontour"
           }
          ],
          "mesh3d": [
           {
            "colorbar": {
             "outlinewidth": 0,
             "ticks": ""
            },
            "type": "mesh3d"
           }
          ],
          "parcoords": [
           {
            "line": {
             "colorbar": {
              "outlinewidth": 0,
              "ticks": ""
             }
            },
            "type": "parcoords"
           }
          ],
          "pie": [
           {
            "automargin": true,
            "type": "pie"
           }
          ],
          "scatter": [
           {
            "marker": {
             "colorbar": {
              "outlinewidth": 0,
              "ticks": ""
             }
            },
            "type": "scatter"
           }
          ],
          "scatter3d": [
           {
            "line": {
             "colorbar": {
              "outlinewidth": 0,
              "ticks": ""
             }
            },
            "marker": {
             "colorbar": {
              "outlinewidth": 0,
              "ticks": ""
             }
            },
            "type": "scatter3d"
           }
          ],
          "scattercarpet": [
           {
            "marker": {
             "colorbar": {
              "outlinewidth": 0,
              "ticks": ""
             }
            },
            "type": "scattercarpet"
           }
          ],
          "scattergeo": [
           {
            "marker": {
             "colorbar": {
              "outlinewidth": 0,
              "ticks": ""
             }
            },
            "type": "scattergeo"
           }
          ],
          "scattergl": [
           {
            "marker": {
             "colorbar": {
              "outlinewidth": 0,
              "ticks": ""
             }
            },
            "type": "scattergl"
           }
          ],
          "scattermapbox": [
           {
            "marker": {
             "colorbar": {
              "outlinewidth": 0,
              "ticks": ""
             }
            },
            "type": "scattermapbox"
           }
          ],
          "scatterpolar": [
           {
            "marker": {
             "colorbar": {
              "outlinewidth": 0,
              "ticks": ""
             }
            },
            "type": "scatterpolar"
           }
          ],
          "scatterpolargl": [
           {
            "marker": {
             "colorbar": {
              "outlinewidth": 0,
              "ticks": ""
             }
            },
            "type": "scatterpolargl"
           }
          ],
          "scatterternary": [
           {
            "marker": {
             "colorbar": {
              "outlinewidth": 0,
              "ticks": ""
             }
            },
            "type": "scatterternary"
           }
          ],
          "surface": [
           {
            "colorbar": {
             "outlinewidth": 0,
             "ticks": ""
            },
            "colorscale": [
             [
              0,
              "#0d0887"
             ],
             [
              0.1111111111111111,
              "#46039f"
             ],
             [
              0.2222222222222222,
              "#7201a8"
             ],
             [
              0.3333333333333333,
              "#9c179e"
             ],
             [
              0.4444444444444444,
              "#bd3786"
             ],
             [
              0.5555555555555556,
              "#d8576b"
             ],
             [
              0.6666666666666666,
              "#ed7953"
             ],
             [
              0.7777777777777778,
              "#fb9f3a"
             ],
             [
              0.8888888888888888,
              "#fdca26"
             ],
             [
              1,
              "#f0f921"
             ]
            ],
            "type": "surface"
           }
          ],
          "table": [
           {
            "cells": {
             "fill": {
              "color": "#EBF0F8"
             },
             "line": {
              "color": "white"
             }
            },
            "header": {
             "fill": {
              "color": "#C8D4E3"
             },
             "line": {
              "color": "white"
             }
            },
            "type": "table"
           }
          ]
         },
         "layout": {
          "annotationdefaults": {
           "arrowcolor": "#2a3f5f",
           "arrowhead": 0,
           "arrowwidth": 1
          },
          "coloraxis": {
           "colorbar": {
            "outlinewidth": 0,
            "ticks": ""
           }
          },
          "colorscale": {
           "diverging": [
            [
             0,
             "#8e0152"
            ],
            [
             0.1,
             "#c51b7d"
            ],
            [
             0.2,
             "#de77ae"
            ],
            [
             0.3,
             "#f1b6da"
            ],
            [
             0.4,
             "#fde0ef"
            ],
            [
             0.5,
             "#f7f7f7"
            ],
            [
             0.6,
             "#e6f5d0"
            ],
            [
             0.7,
             "#b8e186"
            ],
            [
             0.8,
             "#7fbc41"
            ],
            [
             0.9,
             "#4d9221"
            ],
            [
             1,
             "#276419"
            ]
           ],
           "sequential": [
            [
             0,
             "#0d0887"
            ],
            [
             0.1111111111111111,
             "#46039f"
            ],
            [
             0.2222222222222222,
             "#7201a8"
            ],
            [
             0.3333333333333333,
             "#9c179e"
            ],
            [
             0.4444444444444444,
             "#bd3786"
            ],
            [
             0.5555555555555556,
             "#d8576b"
            ],
            [
             0.6666666666666666,
             "#ed7953"
            ],
            [
             0.7777777777777778,
             "#fb9f3a"
            ],
            [
             0.8888888888888888,
             "#fdca26"
            ],
            [
             1,
             "#f0f921"
            ]
           ],
           "sequentialminus": [
            [
             0,
             "#0d0887"
            ],
            [
             0.1111111111111111,
             "#46039f"
            ],
            [
             0.2222222222222222,
             "#7201a8"
            ],
            [
             0.3333333333333333,
             "#9c179e"
            ],
            [
             0.4444444444444444,
             "#bd3786"
            ],
            [
             0.5555555555555556,
             "#d8576b"
            ],
            [
             0.6666666666666666,
             "#ed7953"
            ],
            [
             0.7777777777777778,
             "#fb9f3a"
            ],
            [
             0.8888888888888888,
             "#fdca26"
            ],
            [
             1,
             "#f0f921"
            ]
           ]
          },
          "colorway": [
           "#636efa",
           "#EF553B",
           "#00cc96",
           "#ab63fa",
           "#FFA15A",
           "#19d3f3",
           "#FF6692",
           "#B6E880",
           "#FF97FF",
           "#FECB52"
          ],
          "font": {
           "color": "#2a3f5f"
          },
          "geo": {
           "bgcolor": "white",
           "lakecolor": "white",
           "landcolor": "#E5ECF6",
           "showlakes": true,
           "showland": true,
           "subunitcolor": "white"
          },
          "hoverlabel": {
           "align": "left"
          },
          "hovermode": "closest",
          "mapbox": {
           "style": "light"
          },
          "paper_bgcolor": "white",
          "plot_bgcolor": "#E5ECF6",
          "polar": {
           "angularaxis": {
            "gridcolor": "white",
            "linecolor": "white",
            "ticks": ""
           },
           "bgcolor": "#E5ECF6",
           "radialaxis": {
            "gridcolor": "white",
            "linecolor": "white",
            "ticks": ""
           }
          },
          "scene": {
           "xaxis": {
            "backgroundcolor": "#E5ECF6",
            "gridcolor": "white",
            "gridwidth": 2,
            "linecolor": "white",
            "showbackground": true,
            "ticks": "",
            "zerolinecolor": "white"
           },
           "yaxis": {
            "backgroundcolor": "#E5ECF6",
            "gridcolor": "white",
            "gridwidth": 2,
            "linecolor": "white",
            "showbackground": true,
            "ticks": "",
            "zerolinecolor": "white"
           },
           "zaxis": {
            "backgroundcolor": "#E5ECF6",
            "gridcolor": "white",
            "gridwidth": 2,
            "linecolor": "white",
            "showbackground": true,
            "ticks": "",
            "zerolinecolor": "white"
           }
          },
          "shapedefaults": {
           "line": {
            "color": "#2a3f5f"
           }
          },
          "ternary": {
           "aaxis": {
            "gridcolor": "white",
            "linecolor": "white",
            "ticks": ""
           },
           "baxis": {
            "gridcolor": "white",
            "linecolor": "white",
            "ticks": ""
           },
           "bgcolor": "#E5ECF6",
           "caxis": {
            "gridcolor": "white",
            "linecolor": "white",
            "ticks": ""
           }
          },
          "title": {
           "x": 0.05
          },
          "xaxis": {
           "automargin": true,
           "gridcolor": "white",
           "linecolor": "white",
           "ticks": "",
           "title": {
            "standoff": 15
           },
           "zerolinecolor": "white",
           "zerolinewidth": 2
          },
          "yaxis": {
           "automargin": true,
           "gridcolor": "white",
           "linecolor": "white",
           "ticks": "",
           "title": {
            "standoff": 15
           },
           "zerolinecolor": "white",
           "zerolinewidth": 2
          }
         }
        },
        "title": {
         "font": {
          "color": "Black",
          "size": 20
         },
         "text": "AnnualIncome Distribution"
        },
        "width": 1100,
        "xaxis": {
         "anchor": "y2",
         "domain": [
          0,
          1
         ],
         "showgrid": true,
         "title": {
          "text": "AnnualIncome"
         },
         "zeroline": true
        },
        "yaxis": {
         "anchor": "free",
         "domain": [
          0.35,
          1
         ],
         "position": 0,
         "showgrid": true,
         "title": {
          "text": "Distribution"
         },
         "zeroline": true
        },
        "yaxis2": {
         "anchor": "x",
         "domain": [
          0,
          0.25
         ],
         "dtick": 1,
         "showgrid": true,
         "showticklabels": false,
         "title": {
          "text": "Distribution"
         },
         "zeroline": true
        }
       }
      },
      "text/html": [
       "<div>\n",
       "        \n",
       "        \n",
       "            <div id=\"8b44a0b3-0b48-420a-b61e-9e69c4ca295b\" class=\"plotly-graph-div\" style=\"height:700px; width:1100px;\"></div>\n",
       "            <script type=\"text/javascript\">\n",
       "                require([\"plotly\"], function(Plotly) {\n",
       "                    window.PLOTLYENV=window.PLOTLYENV || {};\n",
       "                    \n",
       "                if (document.getElementById(\"8b44a0b3-0b48-420a-b61e-9e69c4ca295b\")) {\n",
       "                    Plotly.newPlot(\n",
       "                        '8b44a0b3-0b48-420a-b61e-9e69c4ca295b',\n",
       "                        [{\"autobinx\": false, \"histnorm\": \"probability density\", \"legendgroup\": \"AnnualIncome Distribution\", \"marker\": {\"color\": \"rgb(31, 119, 180)\"}, \"name\": \"AnnualIncome Distribution\", \"opacity\": 0.7, \"type\": \"histogram\", \"x\": [15, 15, 16, 16, 17, 17, 18, 18, 19, 19, 19, 19, 20, 20, 20, 20, 21, 21, 23, 23, 24, 24, 25, 25, 28, 28, 28, 28, 29, 29, 30, 30, 33, 33, 33, 33, 34, 34, 37, 37, 38, 38, 39, 39, 39, 39, 40, 40, 40, 40, 42, 42, 43, 43, 43, 43, 44, 44, 46, 46, 46, 46, 47, 47, 48, 48, 48, 48, 48, 48, 49, 49, 50, 50, 54, 54, 54, 54, 54, 54, 54, 54, 54, 54, 54, 54, 57, 57, 58, 58, 59, 59, 60, 60, 60, 60, 60, 60, 61, 61, 62, 62, 62, 62, 62, 62, 63, 63, 63, 63, 63, 63, 64, 64, 65, 65, 65, 65, 67, 67, 67, 67, 69, 69, 70, 70, 71, 71, 71, 71, 71, 71, 72, 72, 73, 73, 73, 73, 74, 74, 75, 75, 76, 76, 77, 77, 77, 77, 78, 78, 78, 78, 78, 78, 78, 78, 78, 78, 78, 78, 79, 79, 81, 81, 85, 85, 86, 86, 87, 87, 87, 87, 87, 87, 88, 88, 88, 88, 93, 93, 97, 97, 98, 98, 99, 99, 101, 101, 103, 103, 103, 103, 113, 113, 120, 120, 126, 126, 137, 137], \"xaxis\": \"x\", \"xbins\": {\"end\": 137.0, \"size\": 3.5, \"start\": 15.0}, \"yaxis\": \"y\"}, {\"legendgroup\": \"AnnualIncome Distribution\", \"marker\": {\"color\": \"rgb(31, 119, 180)\"}, \"mode\": \"lines\", \"name\": \"AnnualIncome Distribution\", \"showlegend\": false, \"type\": \"scatter\", \"x\": [15.0, 15.244, 15.488, 15.732, 15.975999999999999, 16.22, 16.464, 16.708, 16.951999999999998, 17.196, 17.44, 17.684, 17.928, 18.172, 18.416, 18.66, 18.904, 19.148, 19.392, 19.636, 19.88, 20.124, 20.368000000000002, 20.612000000000002, 20.856, 21.1, 21.344, 21.588, 21.832, 22.076, 22.32, 22.564, 22.808, 23.052, 23.296, 23.54, 23.784, 24.028, 24.272, 24.516, 24.759999999999998, 25.003999999999998, 25.247999999999998, 25.492, 25.736, 25.98, 26.224, 26.468, 26.712, 26.956, 27.2, 27.444000000000003, 27.688000000000002, 27.932000000000002, 28.176000000000002, 28.42, 28.664, 28.908, 29.152, 29.396, 29.64, 29.884, 30.128, 30.372, 30.616, 30.86, 31.104, 31.348, 31.592, 31.836, 32.08, 32.324, 32.568, 32.812, 33.056, 33.3, 33.544, 33.788, 34.032, 34.275999999999996, 34.519999999999996, 34.763999999999996, 35.007999999999996, 35.251999999999995, 35.495999999999995, 35.739999999999995, 35.984, 36.228, 36.472, 36.716, 36.96, 37.204, 37.448, 37.692, 37.936, 38.18, 38.424, 38.668, 38.912, 39.156, 39.4, 39.644, 39.888000000000005, 40.132000000000005, 40.376000000000005, 40.620000000000005, 40.864000000000004, 41.108000000000004, 41.352000000000004, 41.596000000000004, 41.84, 42.084, 42.328, 42.572, 42.816, 43.06, 43.304, 43.548, 43.792, 44.036, 44.28, 44.524, 44.768, 45.012, 45.256, 45.5, 45.744, 45.988, 46.232, 46.476, 46.72, 46.964, 47.208, 47.452, 47.696, 47.94, 48.184, 48.428, 48.672, 48.916, 49.16, 49.404, 49.648, 49.892, 50.136, 50.38, 50.624, 50.868, 51.112, 51.356, 51.6, 51.844, 52.088, 52.332, 52.576, 52.82, 53.064, 53.308, 53.552, 53.796, 54.04, 54.284, 54.528, 54.772, 55.016, 55.26, 55.504, 55.748, 55.992, 56.236, 56.48, 56.724, 56.968, 57.212, 57.456, 57.7, 57.944, 58.188, 58.432, 58.676, 58.92, 59.164, 59.408, 59.652, 59.896, 60.14, 60.384, 60.628, 60.872, 61.116, 61.36, 61.604, 61.848, 62.092, 62.336, 62.58, 62.824, 63.068, 63.312, 63.556, 63.8, 64.044, 64.288, 64.532, 64.77600000000001, 65.02000000000001, 65.26400000000001, 65.50800000000001, 65.75200000000001, 65.99600000000001, 66.24000000000001, 66.48400000000001, 66.72800000000001, 66.97200000000001, 67.21600000000001, 67.46000000000001, 67.70400000000001, 67.94800000000001, 68.19200000000001, 68.436, 68.68, 68.924, 69.168, 69.412, 69.656, 69.9, 70.144, 70.388, 70.632, 70.876, 71.12, 71.364, 71.608, 71.852, 72.096, 72.34, 72.584, 72.828, 73.072, 73.316, 73.56, 73.804, 74.048, 74.292, 74.536, 74.78, 75.024, 75.268, 75.512, 75.756, 76.0, 76.244, 76.488, 76.732, 76.976, 77.22, 77.464, 77.708, 77.952, 78.196, 78.44, 78.684, 78.928, 79.172, 79.416, 79.66, 79.904, 80.148, 80.392, 80.636, 80.88, 81.124, 81.368, 81.612, 81.856, 82.1, 82.344, 82.588, 82.832, 83.076, 83.32, 83.564, 83.808, 84.052, 84.296, 84.54, 84.784, 85.028, 85.272, 85.516, 85.76, 86.004, 86.248, 86.492, 86.736, 86.98, 87.224, 87.468, 87.712, 87.956, 88.2, 88.444, 88.688, 88.932, 89.176, 89.42, 89.664, 89.908, 90.152, 90.396, 90.64, 90.884, 91.128, 91.372, 91.616, 91.86, 92.104, 92.348, 92.592, 92.836, 93.08, 93.324, 93.568, 93.812, 94.056, 94.3, 94.544, 94.788, 95.032, 95.276, 95.52, 95.764, 96.008, 96.252, 96.496, 96.74, 96.984, 97.228, 97.472, 97.716, 97.96, 98.204, 98.448, 98.692, 98.936, 99.18, 99.424, 99.668, 99.912, 100.156, 100.4, 100.644, 100.888, 101.132, 101.376, 101.62, 101.864, 102.108, 102.352, 102.596, 102.84, 103.084, 103.328, 103.572, 103.816, 104.06, 104.304, 104.548, 104.792, 105.036, 105.28, 105.524, 105.768, 106.012, 106.256, 106.5, 106.744, 106.988, 107.232, 107.476, 107.72, 107.964, 108.208, 108.452, 108.696, 108.94, 109.184, 109.428, 109.672, 109.916, 110.16, 110.404, 110.648, 110.892, 111.136, 111.38, 111.624, 111.868, 112.112, 112.356, 112.6, 112.844, 113.088, 113.332, 113.576, 113.82, 114.064, 114.308, 114.552, 114.796, 115.04, 115.284, 115.528, 115.772, 116.016, 116.26, 116.504, 116.748, 116.992, 117.236, 117.48, 117.724, 117.968, 118.212, 118.456, 118.7, 118.944, 119.188, 119.432, 119.676, 119.92, 120.164, 120.408, 120.652, 120.896, 121.14, 121.384, 121.628, 121.872, 122.116, 122.36, 122.604, 122.848, 123.092, 123.336, 123.58, 123.824, 124.068, 124.312, 124.556, 124.8, 125.044, 125.288, 125.532, 125.776, 126.02, 126.264, 126.508, 126.752, 126.996, 127.24, 127.484, 127.728, 127.972, 128.216, 128.45999999999998, 128.704, 128.94799999999998, 129.192, 129.436, 129.68, 129.924, 130.168, 130.412, 130.656, 130.9, 131.144, 131.388, 131.632, 131.876, 132.12, 132.364, 132.608, 132.852, 133.096, 133.34, 133.584, 133.828, 134.072, 134.316, 134.56, 134.804, 135.048, 135.292, 135.536, 135.78, 136.024, 136.268, 136.512, 136.756], \"xaxis\": \"x\", \"y\": [0.005273604235236655, 0.005368608886597834, 0.005462753222966647, 0.005555963986811321, 0.0056481703486830305, 0.0057393041105365675, 0.005829299900970369, 0.00591809536155778, 0.006005631323477733, 0.00609185197369417, 0.006176705009977196, 0.006260141784108256, 0.006342117432662903, 0.006422590994820244, 0.0065015255167055, 0.006578888141833124, 0.006654650187280639, 0.006728787205286965, 0.006801279030036536, 0.006872109809455937, 0.006941268021919116, 0.007008746477823949, 0.007074542306072617, 0.007138656925553973, 0.007201096001795456, 0.007261869389014951, 0.00732099105787018, 0.007378479009263125, 0.007434355174618926, 0.007488645303115484, 0.007541378836395603, 0.007592588771344985, 0.007642311511568461, 0.007690586708241988, 0.007737457091059699, 0.007782968290032064, 0.00782716864892653, 0.007870109031169753, 0.00791184261905756, 0.007952424707138259, 0.007991912490652835, 0.008030364849927578, 0.008067842131622184, 0.008104405927740855, 0.008140118853312792, 0.008175044323644154, 0.008209246332034173, 0.008242789228835784, 0.008275737502724355, 0.008308155565017331, 0.00834010753786442, 0.00837165704709984, 0.008402867020518736, 0.008433799492305391, 0.008464515414305724, 0.008495074474797297, 0.008525534925369381, 0.008555953416482407, 0.008586384842231362, 0.008616882194791379, 0.008647496428975388, 0.008678276337285348, 0.00870926843578792, 0.008740516861095709, 0.008772063278683353, 0.008803946802716829, 0.008836203927523371, 0.008868868470777488, 0.008901971528428587, 0.008935541441345526, 0.008969603773603854, 0.00900418130229322, 0.009039294018675724, 0.009074959140479646, 0.00911119113506846, 0.009148001753183485, 0.009185400072915965, 0.009223392553526503, 0.009261983098692455, 0.009301173128728687, 0.00934096166129525, 0.009381345400074551, 0.009422318830873171, 0.009463874324578627, 0.009506002246378003, 0.009548691070626137, 0.009591927500733498, 0.00963569659342971, 0.009679981886747064, 0.009724765531059817, 0.009770028422508877, 0.009815750338139423, 0.00986191007207818, 0.009908485572080631, 0.009955454075784246, 0.01000279224601218, 0.01005047630448427, 0.010098482163305483, 0.01014678555362021, 0.010195362150840185, 0.010244187695875994, 0.010293238111827604, 0.010342489615616743, 0.0103919188240734, 0.010441502854020995, 0.01049121941593879, 0.01054104690081581, 0.010590964459849096, 0.01064095207667733, 0.010690990631883243, 0.010741061959538724, 0.010791148895611443, 0.010841235318094574, 0.01089130617876704, 0.010941347526535814, 0.010991346522359028, 0.011041291445791903, 0.011091171693245081, 0.011140977768088147, 0.011190701262776161, 0.01124033483321942, 0.011289872165659763, 0.01133930793635645, 0.011388637764423665, 0.01143785815819958, 0.011486966455560675, 0.011535960758628427, 0.011584839863345794, 0.011633603184427108, 0.011682250676210978, 0.01173078274996612, 0.011779200188217917, 0.01182750405667992, 0.011875695614383269, 0.011923776222606819, 0.011971747253213426, 0.012019609996998493, 0.01206736557265322, 0.012115014836937636, 0.012162558296647042, 0.012209996022941483, 0.01225732756858802, 0.012304551888644561, 0.012351667265087763, 0.012398671235858662, 0.0124455605287679, 0.012492331000666943, 0.012538977582253816, 0.012585494228842512, 0.012631873877380613, 0.012678108409957629, 0.012724188623997955, 0.012770104209286572, 0.01281584373192531, 0.01286139462526973, 0.012906743187845657, 0.012951874588195397, 0.012996772876554399, 0.013041421003209786, 0.013085800843345924, 0.013129893228135375, 0.013173677981788973, 0.013217133964238474, 0.013260239119083618, 0.013302970526400469, 0.013345304459973532, 0.013387216448484049, 0.013428681340160375, 0.01346967337037457, 0.013510166231649245, 0.013550133145525816, 0.013589546935735136, 0.013628380102105493, 0.013666604894643258, 0.013704193387223812, 0.013741117550340793, 0.013777349322372612, 0.013812860678843634, 0.013847623699179747, 0.01388161063048231, 0.013914793947876472, 0.013947146411021828, 0.01397864111641182, 0.014009251545128158, 0.014038951605759763, 0.01406771567224242, 0.014095518616422246, 0.014122335835196679, 0.014148143272137322, 0.014172917433551624, 0.014196635398992196, 0.014219274826275422, 0.014240813951122998, 0.014261231581591595, 0.014280507087505065, 0.014298620385152266, 0.01431555191755889, 0.014331282630685572, 0.014345793945944166, 0.01435906772946166, 0.01437108625855309, 0.014381832185896013, 0.01439128850192151, 0.014399438495958886, 0.014406265716686037, 0.014411753932448049, 0.014415887092012513, 0.014418649286330526, 0.014420024711868049, 0.014419997636062398, 0.01441855236544406, 0.01441567321694501, 0.014411344492889654, 0.014405550460136233, 0.014398275333803078, 0.014389503265976872, 0.01437921833975936, 0.014367404568964208, 0.014354045903727772, 0.014339126242249551, 0.01432262944882261, 0.014304539378263235, 0.014284839906791916, 0.014263514969362227, 0.014240548603377687, 0.014215924998679795, 0.014189628553635378, 0.014161643937095998, 0.014131956155949211, 0.01410055062793012, 0.014067413259312957, 0.014032530527056344, 0.013995889564932992, 0.013957478253134743, 0.01391728531080977, 0.013875300390955378, 0.013831514177064463, 0.013785918480900355, 0.013738506340757206, 0.013689272119550228, 0.01363821160207177, 0.013585322090746867, 0.013530602499222718, 0.013474053443134492, 0.013415677327400368, 0.013355478429415887, 0.013293462977537498, 0.01322963922427151, 0.013164017513612162, 0.013096610342006963, 0.01302743241246299, 0.012956500681347558, 0.012883834397479643, 0.01280945513315255, 0.012733386806776483, 0.0126556556968774, 0.012576290447239612, 0.012495322063030626, 0.012412783897797867, 0.012328711631280157, 0.012243143238027415, 0.012156118946874298, 0.012067681191363642, 0.011977874551264884, 0.011886745685380446, 0.011794343255879343, 0.011700717844440623, 0.011605921860531854, 0.011510009442186029, 0.011413036349677556, 0.01131505985253134, 0.01121613861032918, 0.011116332547806291, 0.011015702724754065, 0.010914311201266947, 0.010812220898889493, 0.010709495458233858, 0.010606199093649637, 0.010502396445536896, 0.010398152430897811, 0.010293532092724924, 0.010188600448823689, 0.01008342234066297, 0.00997806228284184, 0.009872584313751775, 0.009767051848002778, 0.009661527531169074, 0.009556073097393761, 0.00945074923037594, 0.009345615428244051, 0.009240729872798753, 0.009136149303587148, 0.009031928897246227, 0.008928122152529404, 0.008824780781404383, 0.00872195460658399, 0.008619691465824758, 0.008518037123299706, 0.008417035188323575, 0.008316727041679831, 0.008217151769768921, 0.008118346106768266, 0.008020344384963664, 0.00792317849338243, 0.00782687784482756, 0.007731469351382536, 0.007636977408425386, 0.0075434238871606345, 0.007450828135647447, 0.007359206988271998, 0.007268574783582212, 0.007178943390373434, 0.007090322241883787, 0.007002718377929428, 0.006916136494780759, 0.006830579002552715, 0.006746046089854658, 0.006662535795418452, 0.006580044086396815, 0.006498564942999012, 0.0064180904491061945, 0.0063386108884853215, 0.006260114846198289, 0.006182589314781732, 0.00610601980475347, 0.006030390458982983, 0.005955684170447049, 0.005881882702876483, 0.005808966813787048, 0.005736916379376327, 0.0056657105207593905, 0.005595327731009236, 0.005525746002463161, 0.00545694295375417, 0.005388895956026539, 0.00532158225779734, 0.005254979107930787, 0.00518906387620029, 0.005123814170923109, 0.005059207953165752, 0.004995223647033602, 0.00493184024557658, 0.004869037411862959, 0.004806795574796868, 0.004745096019280134, 0.004683920970346962, 0.004623253670929621, 0.004563078452945102, 0.004503380801426355, 0.004444147411456752, 0.004385366237703357, 0.004327026536382172, 0.004269118899527805, 0.004211635281479394, 0.004154569017535259, 0.004097914834768983, 0.004041668855040701, 0.003985828590277399, 0.003930392930136502, 0.003875362122205975, 0.0038207377449327984, 0.0037665226735087705, 0.0037127210389782846, 0.003659338180867002, 0.003606380593662324, 0.0035538558675069507, 0.003501772623494472, 0.0034501404439815594, 0.0033989697983539875, 0.0033482719647039846, 0.003298058947893531, 0.0032483433944926958, 0.003199138505093238, 0.003150457944506138, 0.003102315750356704, 0.0030547262405931056, 0.0030077039204230507, 0.002961263389189333, 0.0029154192476879112, 0.0028701860064221916, 0.002825577995274531, 0.0027816092750603764, 0.0027382935514127156, 0.002695644091423854, 0.0026536736434491807, 0.002612394360452738, 0.0025718177272480475, 0.0025319544919593343, 0.0024928146019988543, 0.0024544071448249862, 0.0024167402937141196, 0.002379821258746516, 0.0023436562431733356, 0.002308250405298315, 0.002273607825974039, 0.0022397314817791626, 0.002206623223909667, 0.002174283762784578, 0.002142712658334474, 0.0021119083159100768, 0.0020818679877180665, 0.002052587779662569, 0.002024062663443198, 0.0019962864937347865, 0.0019692520302495224, 0.0019429509644598583, 0.0019173739507397905, 0.001892510641663515, 0.001868349727183655, 0.0018448789773966498, 0.0018220852885903363, 0.0017999547322582138, 0.0017784726067566425, 0.0017576234912748574, 0.00173739130178365, 0.001717759348626371, 0.0016987103954159005, 0.0016802267189030523, 0.0016622901694857022, 0.0016448822320334607, 0.0016279840867100877, 0.0016115766694847803, 0.001595640732033987, 0.0015801569007473481, 0.0015651057345646608, 0.00155046778138525, 0.0015362236328067026, 0.0015223539769665538, 0.0015088396492778594, 0.0014956616808678113, 0.001482801344547254, 0.0014702401981582418, 0.001457960125166322, 0.0014459433723840996, 0.001434172584732517, 0.001422630836966277, 0.0014113016623095696, 0.0014001690779679194, 0.0013892176075011248, 0.0013784323000611296, 0.0013677987465168576, 0.0013573030925057132, 0.0013469320484683276, 0.0013366728967392218, 0.001326513495781331, 0.0013164422816665453, 0.0013064482669177748, 0.0012965210368401767, 0.0012866507434803637, 0.0012768280973622765, 0.0012670443571572351, 0.001257291317453162, 0.001247561294794325, 0.0012378471121679577, 0.0012281420821179598, 0.0012184399886683798, 0.001208735068240723, 0.0011990219897491604, 0.0011892958340566097, 0.001179552072972325, 0.0011697865479681623, 0.0011599954487861732, 0.0011501752921045138, 0.001140322900422104, 0.0011304353813148893, 0.001120510107208187, 0.0011105446958003201, 0.0011005369912629147, 0.00109048504633249, 0.001080387105397008, 0.0010702415886692227, 0.0010600470775268035, 0.00104980230108678, 0.0010395061240693353, 0.0010291575359933317, 0.001018755641733209, 0.001008299653454309, 0.0009977888839311365, 0.000987222741240868, 0.0009766007248124312, 0.0009659224228000148, 0.0009551875107387547, 0.0009443957514299315, 0.0009335469959930818, 0.0009226411860133233, 0.0009116783567037261, 0.0009006586409949887, 0.000889582274457885, 0.000878449600958093, 0.0008672610789380565, 0.0008560172882165128, 0.0008447189371933022, 0.0008333668703449687, 0.0008219620758956038, 0.0008105056935472175, 0.0007989990221547986, 0.0007874435272329419, 0.000775840848183647, 0.0007641928051383925, 0.000752501405312023], \"yaxis\": \"y\"}, {\"legendgroup\": \"AnnualIncome Distribution\", \"marker\": {\"color\": \"rgb(31, 119, 180)\", \"symbol\": \"line-ns-open\"}, \"mode\": \"markers\", \"name\": \"AnnualIncome Distribution\", \"showlegend\": false, \"type\": \"scatter\", \"x\": [15, 15, 16, 16, 17, 17, 18, 18, 19, 19, 19, 19, 20, 20, 20, 20, 21, 21, 23, 23, 24, 24, 25, 25, 28, 28, 28, 28, 29, 29, 30, 30, 33, 33, 33, 33, 34, 34, 37, 37, 38, 38, 39, 39, 39, 39, 40, 40, 40, 40, 42, 42, 43, 43, 43, 43, 44, 44, 46, 46, 46, 46, 47, 47, 48, 48, 48, 48, 48, 48, 49, 49, 50, 50, 54, 54, 54, 54, 54, 54, 54, 54, 54, 54, 54, 54, 57, 57, 58, 58, 59, 59, 60, 60, 60, 60, 60, 60, 61, 61, 62, 62, 62, 62, 62, 62, 63, 63, 63, 63, 63, 63, 64, 64, 65, 65, 65, 65, 67, 67, 67, 67, 69, 69, 70, 70, 71, 71, 71, 71, 71, 71, 72, 72, 73, 73, 73, 73, 74, 74, 75, 75, 76, 76, 77, 77, 77, 77, 78, 78, 78, 78, 78, 78, 78, 78, 78, 78, 78, 78, 79, 79, 81, 81, 85, 85, 86, 86, 87, 87, 87, 87, 87, 87, 88, 88, 88, 88, 93, 93, 97, 97, 98, 98, 99, 99, 101, 101, 103, 103, 103, 103, 113, 113, 120, 120, 126, 126, 137, 137], \"xaxis\": \"x\", \"y\": [\"AnnualIncome Distribution\", \"AnnualIncome Distribution\", \"AnnualIncome Distribution\", \"AnnualIncome Distribution\", \"AnnualIncome Distribution\", \"AnnualIncome Distribution\", \"AnnualIncome Distribution\", \"AnnualIncome Distribution\", \"AnnualIncome Distribution\", \"AnnualIncome Distribution\", \"AnnualIncome Distribution\", \"AnnualIncome Distribution\", \"AnnualIncome Distribution\", \"AnnualIncome Distribution\", \"AnnualIncome Distribution\", \"AnnualIncome Distribution\", \"AnnualIncome Distribution\", \"AnnualIncome Distribution\", \"AnnualIncome Distribution\", \"AnnualIncome Distribution\", \"AnnualIncome Distribution\", \"AnnualIncome Distribution\", \"AnnualIncome Distribution\", \"AnnualIncome Distribution\", \"AnnualIncome Distribution\", \"AnnualIncome Distribution\", \"AnnualIncome Distribution\", \"AnnualIncome Distribution\", \"AnnualIncome Distribution\", \"AnnualIncome Distribution\", \"AnnualIncome Distribution\", \"AnnualIncome Distribution\", \"AnnualIncome Distribution\", \"AnnualIncome Distribution\", \"AnnualIncome Distribution\", \"AnnualIncome Distribution\", \"AnnualIncome Distribution\", \"AnnualIncome Distribution\", \"AnnualIncome Distribution\", \"AnnualIncome Distribution\", \"AnnualIncome Distribution\", \"AnnualIncome Distribution\", \"AnnualIncome Distribution\", \"AnnualIncome Distribution\", \"AnnualIncome Distribution\", \"AnnualIncome Distribution\", \"AnnualIncome Distribution\", \"AnnualIncome Distribution\", \"AnnualIncome Distribution\", \"AnnualIncome Distribution\", \"AnnualIncome Distribution\", \"AnnualIncome Distribution\", \"AnnualIncome Distribution\", \"AnnualIncome Distribution\", \"AnnualIncome Distribution\", \"AnnualIncome Distribution\", \"AnnualIncome Distribution\", \"AnnualIncome Distribution\", \"AnnualIncome Distribution\", \"AnnualIncome Distribution\", \"AnnualIncome Distribution\", \"AnnualIncome Distribution\", \"AnnualIncome Distribution\", \"AnnualIncome Distribution\", \"AnnualIncome Distribution\", \"AnnualIncome Distribution\", \"AnnualIncome Distribution\", \"AnnualIncome Distribution\", \"AnnualIncome Distribution\", \"AnnualIncome Distribution\", \"AnnualIncome Distribution\", \"AnnualIncome Distribution\", \"AnnualIncome Distribution\", \"AnnualIncome Distribution\", \"AnnualIncome Distribution\", \"AnnualIncome Distribution\", \"AnnualIncome Distribution\", \"AnnualIncome Distribution\", \"AnnualIncome Distribution\", \"AnnualIncome Distribution\", \"AnnualIncome Distribution\", \"AnnualIncome Distribution\", \"AnnualIncome Distribution\", \"AnnualIncome Distribution\", \"AnnualIncome Distribution\", \"AnnualIncome Distribution\", \"AnnualIncome Distribution\", \"AnnualIncome Distribution\", \"AnnualIncome Distribution\", \"AnnualIncome Distribution\", \"AnnualIncome Distribution\", \"AnnualIncome Distribution\", \"AnnualIncome Distribution\", \"AnnualIncome Distribution\", \"AnnualIncome Distribution\", \"AnnualIncome Distribution\", \"AnnualIncome Distribution\", \"AnnualIncome Distribution\", \"AnnualIncome Distribution\", \"AnnualIncome Distribution\", \"AnnualIncome Distribution\", \"AnnualIncome Distribution\", \"AnnualIncome Distribution\", \"AnnualIncome Distribution\", \"AnnualIncome Distribution\", \"AnnualIncome Distribution\", \"AnnualIncome Distribution\", \"AnnualIncome Distribution\", \"AnnualIncome Distribution\", \"AnnualIncome Distribution\", \"AnnualIncome Distribution\", \"AnnualIncome Distribution\", \"AnnualIncome Distribution\", \"AnnualIncome Distribution\", \"AnnualIncome Distribution\", \"AnnualIncome Distribution\", \"AnnualIncome Distribution\", \"AnnualIncome Distribution\", \"AnnualIncome Distribution\", \"AnnualIncome Distribution\", \"AnnualIncome Distribution\", \"AnnualIncome Distribution\", \"AnnualIncome Distribution\", \"AnnualIncome Distribution\", \"AnnualIncome Distribution\", \"AnnualIncome Distribution\", \"AnnualIncome Distribution\", \"AnnualIncome Distribution\", \"AnnualIncome Distribution\", \"AnnualIncome Distribution\", \"AnnualIncome Distribution\", \"AnnualIncome Distribution\", \"AnnualIncome Distribution\", \"AnnualIncome Distribution\", \"AnnualIncome Distribution\", \"AnnualIncome Distribution\", \"AnnualIncome Distribution\", \"AnnualIncome Distribution\", \"AnnualIncome Distribution\", \"AnnualIncome Distribution\", \"AnnualIncome Distribution\", \"AnnualIncome Distribution\", \"AnnualIncome Distribution\", \"AnnualIncome Distribution\", \"AnnualIncome Distribution\", \"AnnualIncome Distribution\", \"AnnualIncome Distribution\", \"AnnualIncome Distribution\", \"AnnualIncome Distribution\", \"AnnualIncome Distribution\", \"AnnualIncome Distribution\", \"AnnualIncome Distribution\", \"AnnualIncome Distribution\", \"AnnualIncome Distribution\", \"AnnualIncome Distribution\", \"AnnualIncome Distribution\", \"AnnualIncome Distribution\", \"AnnualIncome Distribution\", \"AnnualIncome Distribution\", \"AnnualIncome Distribution\", \"AnnualIncome Distribution\", \"AnnualIncome Distribution\", \"AnnualIncome Distribution\", \"AnnualIncome Distribution\", \"AnnualIncome Distribution\", \"AnnualIncome Distribution\", \"AnnualIncome Distribution\", \"AnnualIncome Distribution\", \"AnnualIncome Distribution\", \"AnnualIncome Distribution\", \"AnnualIncome Distribution\", \"AnnualIncome Distribution\", \"AnnualIncome Distribution\", \"AnnualIncome Distribution\", \"AnnualIncome Distribution\", \"AnnualIncome Distribution\", \"AnnualIncome Distribution\", \"AnnualIncome Distribution\", \"AnnualIncome Distribution\", \"AnnualIncome Distribution\", \"AnnualIncome Distribution\", \"AnnualIncome Distribution\", \"AnnualIncome Distribution\", \"AnnualIncome Distribution\", \"AnnualIncome Distribution\", \"AnnualIncome Distribution\", \"AnnualIncome Distribution\", \"AnnualIncome Distribution\", \"AnnualIncome Distribution\", \"AnnualIncome Distribution\", \"AnnualIncome Distribution\", \"AnnualIncome Distribution\", \"AnnualIncome Distribution\", \"AnnualIncome Distribution\", \"AnnualIncome Distribution\", \"AnnualIncome Distribution\", \"AnnualIncome Distribution\", \"AnnualIncome Distribution\", \"AnnualIncome Distribution\", \"AnnualIncome Distribution\"], \"yaxis\": \"y2\"}],\n",
       "                        {\"barmode\": \"overlay\", \"font\": {\"color\": \"Black\", \"size\": 10}, \"height\": 700, \"hovermode\": \"closest\", \"legend\": {\"title\": {\"text\": \"Legend\"}, \"traceorder\": \"reversed\"}, \"template\": {\"data\": {\"bar\": [{\"error_x\": {\"color\": \"#2a3f5f\"}, \"error_y\": {\"color\": \"#2a3f5f\"}, \"marker\": {\"line\": {\"color\": \"#E5ECF6\", \"width\": 0.5}}, \"type\": \"bar\"}], \"barpolar\": [{\"marker\": {\"line\": {\"color\": \"#E5ECF6\", \"width\": 0.5}}, \"type\": \"barpolar\"}], \"carpet\": [{\"aaxis\": {\"endlinecolor\": \"#2a3f5f\", \"gridcolor\": \"white\", \"linecolor\": \"white\", \"minorgridcolor\": \"white\", \"startlinecolor\": \"#2a3f5f\"}, \"baxis\": {\"endlinecolor\": \"#2a3f5f\", \"gridcolor\": \"white\", \"linecolor\": \"white\", \"minorgridcolor\": \"white\", \"startlinecolor\": \"#2a3f5f\"}, \"type\": \"carpet\"}], \"choropleth\": [{\"colorbar\": {\"outlinewidth\": 0, \"ticks\": \"\"}, \"type\": \"choropleth\"}], \"contour\": [{\"colorbar\": {\"outlinewidth\": 0, \"ticks\": \"\"}, \"colorscale\": [[0.0, \"#0d0887\"], [0.1111111111111111, \"#46039f\"], [0.2222222222222222, \"#7201a8\"], [0.3333333333333333, \"#9c179e\"], [0.4444444444444444, \"#bd3786\"], [0.5555555555555556, \"#d8576b\"], [0.6666666666666666, \"#ed7953\"], [0.7777777777777778, \"#fb9f3a\"], [0.8888888888888888, \"#fdca26\"], [1.0, \"#f0f921\"]], \"type\": \"contour\"}], \"contourcarpet\": [{\"colorbar\": {\"outlinewidth\": 0, \"ticks\": \"\"}, \"type\": \"contourcarpet\"}], \"heatmap\": [{\"colorbar\": {\"outlinewidth\": 0, \"ticks\": \"\"}, \"colorscale\": [[0.0, \"#0d0887\"], [0.1111111111111111, \"#46039f\"], [0.2222222222222222, \"#7201a8\"], [0.3333333333333333, \"#9c179e\"], [0.4444444444444444, \"#bd3786\"], [0.5555555555555556, \"#d8576b\"], [0.6666666666666666, \"#ed7953\"], [0.7777777777777778, \"#fb9f3a\"], [0.8888888888888888, \"#fdca26\"], [1.0, \"#f0f921\"]], \"type\": \"heatmap\"}], \"heatmapgl\": [{\"colorbar\": {\"outlinewidth\": 0, \"ticks\": \"\"}, \"colorscale\": [[0.0, \"#0d0887\"], [0.1111111111111111, \"#46039f\"], [0.2222222222222222, \"#7201a8\"], [0.3333333333333333, \"#9c179e\"], [0.4444444444444444, \"#bd3786\"], [0.5555555555555556, \"#d8576b\"], [0.6666666666666666, \"#ed7953\"], [0.7777777777777778, \"#fb9f3a\"], [0.8888888888888888, \"#fdca26\"], [1.0, \"#f0f921\"]], \"type\": \"heatmapgl\"}], \"histogram\": [{\"marker\": {\"colorbar\": {\"outlinewidth\": 0, \"ticks\": \"\"}}, \"type\": \"histogram\"}], \"histogram2d\": [{\"colorbar\": {\"outlinewidth\": 0, \"ticks\": \"\"}, \"colorscale\": [[0.0, \"#0d0887\"], [0.1111111111111111, \"#46039f\"], [0.2222222222222222, \"#7201a8\"], [0.3333333333333333, \"#9c179e\"], [0.4444444444444444, \"#bd3786\"], [0.5555555555555556, \"#d8576b\"], [0.6666666666666666, \"#ed7953\"], [0.7777777777777778, \"#fb9f3a\"], [0.8888888888888888, \"#fdca26\"], [1.0, \"#f0f921\"]], \"type\": \"histogram2d\"}], \"histogram2dcontour\": [{\"colorbar\": {\"outlinewidth\": 0, \"ticks\": \"\"}, \"colorscale\": [[0.0, \"#0d0887\"], [0.1111111111111111, \"#46039f\"], [0.2222222222222222, \"#7201a8\"], [0.3333333333333333, \"#9c179e\"], [0.4444444444444444, \"#bd3786\"], [0.5555555555555556, \"#d8576b\"], [0.6666666666666666, \"#ed7953\"], [0.7777777777777778, \"#fb9f3a\"], [0.8888888888888888, \"#fdca26\"], [1.0, \"#f0f921\"]], \"type\": \"histogram2dcontour\"}], \"mesh3d\": [{\"colorbar\": {\"outlinewidth\": 0, \"ticks\": \"\"}, \"type\": \"mesh3d\"}], \"parcoords\": [{\"line\": {\"colorbar\": {\"outlinewidth\": 0, \"ticks\": \"\"}}, \"type\": \"parcoords\"}], \"pie\": [{\"automargin\": true, \"type\": \"pie\"}], \"scatter\": [{\"marker\": {\"colorbar\": {\"outlinewidth\": 0, \"ticks\": \"\"}}, \"type\": \"scatter\"}], \"scatter3d\": [{\"line\": {\"colorbar\": {\"outlinewidth\": 0, \"ticks\": \"\"}}, \"marker\": {\"colorbar\": {\"outlinewidth\": 0, \"ticks\": \"\"}}, \"type\": \"scatter3d\"}], \"scattercarpet\": [{\"marker\": {\"colorbar\": {\"outlinewidth\": 0, \"ticks\": \"\"}}, \"type\": \"scattercarpet\"}], \"scattergeo\": [{\"marker\": {\"colorbar\": {\"outlinewidth\": 0, \"ticks\": \"\"}}, \"type\": \"scattergeo\"}], \"scattergl\": [{\"marker\": {\"colorbar\": {\"outlinewidth\": 0, \"ticks\": \"\"}}, \"type\": \"scattergl\"}], \"scattermapbox\": [{\"marker\": {\"colorbar\": {\"outlinewidth\": 0, \"ticks\": \"\"}}, \"type\": \"scattermapbox\"}], \"scatterpolar\": [{\"marker\": {\"colorbar\": {\"outlinewidth\": 0, \"ticks\": \"\"}}, \"type\": \"scatterpolar\"}], \"scatterpolargl\": [{\"marker\": {\"colorbar\": {\"outlinewidth\": 0, \"ticks\": \"\"}}, \"type\": \"scatterpolargl\"}], \"scatterternary\": [{\"marker\": {\"colorbar\": {\"outlinewidth\": 0, \"ticks\": \"\"}}, \"type\": \"scatterternary\"}], \"surface\": [{\"colorbar\": {\"outlinewidth\": 0, \"ticks\": \"\"}, \"colorscale\": [[0.0, \"#0d0887\"], [0.1111111111111111, \"#46039f\"], [0.2222222222222222, \"#7201a8\"], [0.3333333333333333, \"#9c179e\"], [0.4444444444444444, \"#bd3786\"], [0.5555555555555556, \"#d8576b\"], [0.6666666666666666, \"#ed7953\"], [0.7777777777777778, \"#fb9f3a\"], [0.8888888888888888, \"#fdca26\"], [1.0, \"#f0f921\"]], \"type\": \"surface\"}], \"table\": [{\"cells\": {\"fill\": {\"color\": \"#EBF0F8\"}, \"line\": {\"color\": \"white\"}}, \"header\": {\"fill\": {\"color\": \"#C8D4E3\"}, \"line\": {\"color\": \"white\"}}, \"type\": \"table\"}]}, \"layout\": {\"annotationdefaults\": {\"arrowcolor\": \"#2a3f5f\", \"arrowhead\": 0, \"arrowwidth\": 1}, \"coloraxis\": {\"colorbar\": {\"outlinewidth\": 0, \"ticks\": \"\"}}, \"colorscale\": {\"diverging\": [[0, \"#8e0152\"], [0.1, \"#c51b7d\"], [0.2, \"#de77ae\"], [0.3, \"#f1b6da\"], [0.4, \"#fde0ef\"], [0.5, \"#f7f7f7\"], [0.6, \"#e6f5d0\"], [0.7, \"#b8e186\"], [0.8, \"#7fbc41\"], [0.9, \"#4d9221\"], [1, \"#276419\"]], \"sequential\": [[0.0, \"#0d0887\"], [0.1111111111111111, \"#46039f\"], [0.2222222222222222, \"#7201a8\"], [0.3333333333333333, \"#9c179e\"], [0.4444444444444444, \"#bd3786\"], [0.5555555555555556, \"#d8576b\"], [0.6666666666666666, \"#ed7953\"], [0.7777777777777778, \"#fb9f3a\"], [0.8888888888888888, \"#fdca26\"], [1.0, \"#f0f921\"]], \"sequentialminus\": [[0.0, \"#0d0887\"], [0.1111111111111111, \"#46039f\"], [0.2222222222222222, \"#7201a8\"], [0.3333333333333333, \"#9c179e\"], [0.4444444444444444, \"#bd3786\"], [0.5555555555555556, \"#d8576b\"], [0.6666666666666666, \"#ed7953\"], [0.7777777777777778, \"#fb9f3a\"], [0.8888888888888888, \"#fdca26\"], [1.0, \"#f0f921\"]]}, \"colorway\": [\"#636efa\", \"#EF553B\", \"#00cc96\", \"#ab63fa\", \"#FFA15A\", \"#19d3f3\", \"#FF6692\", \"#B6E880\", \"#FF97FF\", \"#FECB52\"], \"font\": {\"color\": \"#2a3f5f\"}, \"geo\": {\"bgcolor\": \"white\", \"lakecolor\": \"white\", \"landcolor\": \"#E5ECF6\", \"showlakes\": true, \"showland\": true, \"subunitcolor\": \"white\"}, \"hoverlabel\": {\"align\": \"left\"}, \"hovermode\": \"closest\", \"mapbox\": {\"style\": \"light\"}, \"paper_bgcolor\": \"white\", \"plot_bgcolor\": \"#E5ECF6\", \"polar\": {\"angularaxis\": {\"gridcolor\": \"white\", \"linecolor\": \"white\", \"ticks\": \"\"}, \"bgcolor\": \"#E5ECF6\", \"radialaxis\": {\"gridcolor\": \"white\", \"linecolor\": \"white\", \"ticks\": \"\"}}, \"scene\": {\"xaxis\": {\"backgroundcolor\": \"#E5ECF6\", \"gridcolor\": \"white\", \"gridwidth\": 2, \"linecolor\": \"white\", \"showbackground\": true, \"ticks\": \"\", \"zerolinecolor\": \"white\"}, \"yaxis\": {\"backgroundcolor\": \"#E5ECF6\", \"gridcolor\": \"white\", \"gridwidth\": 2, \"linecolor\": \"white\", \"showbackground\": true, \"ticks\": \"\", \"zerolinecolor\": \"white\"}, \"zaxis\": {\"backgroundcolor\": \"#E5ECF6\", \"gridcolor\": \"white\", \"gridwidth\": 2, \"linecolor\": \"white\", \"showbackground\": true, \"ticks\": \"\", \"zerolinecolor\": \"white\"}}, \"shapedefaults\": {\"line\": {\"color\": \"#2a3f5f\"}}, \"ternary\": {\"aaxis\": {\"gridcolor\": \"white\", \"linecolor\": \"white\", \"ticks\": \"\"}, \"baxis\": {\"gridcolor\": \"white\", \"linecolor\": \"white\", \"ticks\": \"\"}, \"bgcolor\": \"#E5ECF6\", \"caxis\": {\"gridcolor\": \"white\", \"linecolor\": \"white\", \"ticks\": \"\"}}, \"title\": {\"x\": 0.05}, \"xaxis\": {\"automargin\": true, \"gridcolor\": \"white\", \"linecolor\": \"white\", \"ticks\": \"\", \"title\": {\"standoff\": 15}, \"zerolinecolor\": \"white\", \"zerolinewidth\": 2}, \"yaxis\": {\"automargin\": true, \"gridcolor\": \"white\", \"linecolor\": \"white\", \"ticks\": \"\", \"title\": {\"standoff\": 15}, \"zerolinecolor\": \"white\", \"zerolinewidth\": 2}}}, \"title\": {\"font\": {\"color\": \"Black\", \"size\": 20}, \"text\": \"AnnualIncome Distribution\"}, \"width\": 1100, \"xaxis\": {\"anchor\": \"y2\", \"domain\": [0.0, 1.0], \"showgrid\": true, \"title\": {\"text\": \"AnnualIncome\"}, \"zeroline\": true}, \"yaxis\": {\"anchor\": \"free\", \"domain\": [0.35, 1], \"position\": 0.0, \"showgrid\": true, \"title\": {\"text\": \"Distribution\"}, \"zeroline\": true}, \"yaxis2\": {\"anchor\": \"x\", \"domain\": [0, 0.25], \"dtick\": 1, \"showgrid\": true, \"showticklabels\": false, \"title\": {\"text\": \"Distribution\"}, \"zeroline\": true}},\n",
       "                        {\"responsive\": true}\n",
       "                    ).then(function(){\n",
       "                            \n",
       "var gd = document.getElementById('8b44a0b3-0b48-420a-b61e-9e69c4ca295b');\n",
       "var x = new MutationObserver(function (mutations, observer) {{\n",
       "        var display = window.getComputedStyle(gd).display;\n",
       "        if (!display || display === 'none') {{\n",
       "            console.log([gd, 'removed!']);\n",
       "            Plotly.purge(gd);\n",
       "            observer.disconnect();\n",
       "        }}\n",
       "}});\n",
       "\n",
       "// Listen for the removal of the full notebook cells\n",
       "var notebookContainer = gd.closest('#notebook-container');\n",
       "if (notebookContainer) {{\n",
       "    x.observe(notebookContainer, {childList: true});\n",
       "}}\n",
       "\n",
       "// Listen for the clearing of the current output cell\n",
       "var outputEl = gd.closest('.output');\n",
       "if (outputEl) {{\n",
       "    x.observe(outputEl, {childList: true});\n",
       "}}\n",
       "\n",
       "                        })\n",
       "                };\n",
       "                });\n",
       "            </script>\n",
       "        </div>"
      ]
     },
     "metadata": {},
     "output_type": "display_data"
    }
   ],
   "source": [
    "#Sharp fall of incomes above 80k\n",
    "DistributionPlot(Data, \"AnnualIncome\")"
   ]
  },
  {
   "cell_type": "code",
   "execution_count": 44,
   "metadata": {},
   "outputs": [
    {
     "data": {
      "application/vnd.plotly.v1+json": {
       "config": {
        "plotlyServerURL": "https://plot.ly"
       },
       "data": [
        {
         "autobinx": false,
         "histnorm": "probability density",
         "legendgroup": "Age Distribution",
         "marker": {
          "color": "rgb(31, 119, 180)"
         },
         "name": "Age Distribution",
         "opacity": 0.7,
         "type": "histogram",
         "x": [
          19,
          21,
          20,
          23,
          31,
          22,
          35,
          23,
          64,
          30,
          67,
          35,
          58,
          24,
          37,
          22,
          35,
          20,
          52,
          35,
          35,
          25,
          46,
          31,
          54,
          29,
          45,
          35,
          40,
          23,
          60,
          21,
          53,
          18,
          49,
          21,
          42,
          30,
          36,
          20,
          65,
          24,
          48,
          31,
          49,
          24,
          50,
          27,
          29,
          31,
          49,
          33,
          31,
          59,
          50,
          47,
          51,
          69,
          27,
          53,
          70,
          19,
          67,
          54,
          63,
          18,
          43,
          68,
          19,
          32,
          70,
          47,
          60,
          60,
          59,
          26,
          45,
          40,
          23,
          49,
          57,
          38,
          67,
          46,
          21,
          48,
          55,
          22,
          34,
          50,
          68,
          18,
          48,
          40,
          32,
          24,
          47,
          27,
          48,
          20,
          23,
          49,
          67,
          26,
          49,
          21,
          66,
          54,
          68,
          66,
          65,
          19,
          38,
          19,
          18,
          19,
          63,
          49,
          51,
          50,
          27,
          38,
          40,
          39,
          23,
          31,
          43,
          40,
          59,
          38,
          47,
          39,
          25,
          31,
          20,
          29,
          44,
          32,
          19,
          35,
          57,
          32,
          28,
          32,
          25,
          28,
          48,
          32,
          34,
          34,
          43,
          39,
          44,
          38,
          47,
          27,
          37,
          30,
          34,
          30,
          56,
          29,
          19,
          31,
          50,
          36,
          42,
          33,
          36,
          32,
          40,
          28,
          36,
          36,
          52,
          30,
          58,
          27,
          59,
          35,
          37,
          32,
          46,
          29,
          41,
          30,
          54,
          28,
          41,
          36,
          34,
          32,
          33,
          38,
          47,
          35,
          45,
          32,
          32,
          30
         ],
         "xaxis": "x",
         "xbins": {
          "end": 70,
          "size": 3.5,
          "start": 18
         },
         "yaxis": "y"
        },
        {
         "legendgroup": "Age Distribution",
         "marker": {
          "color": "rgb(31, 119, 180)"
         },
         "mode": "lines",
         "name": "Age Distribution",
         "showlegend": false,
         "type": "scatter",
         "x": [
          18,
          18.104,
          18.208,
          18.312,
          18.416,
          18.52,
          18.624,
          18.728,
          18.832,
          18.936,
          19.04,
          19.144,
          19.248,
          19.352,
          19.456,
          19.56,
          19.664,
          19.768,
          19.872,
          19.976,
          20.08,
          20.184,
          20.288,
          20.392,
          20.496,
          20.6,
          20.704,
          20.808,
          20.912,
          21.016,
          21.12,
          21.224,
          21.328,
          21.432,
          21.536,
          21.64,
          21.744,
          21.848,
          21.951999999999998,
          22.056,
          22.16,
          22.264,
          22.368000000000002,
          22.472,
          22.576,
          22.68,
          22.784,
          22.887999999999998,
          22.992,
          23.096,
          23.2,
          23.304000000000002,
          23.408,
          23.512,
          23.616,
          23.72,
          23.823999999999998,
          23.928,
          24.032,
          24.136,
          24.240000000000002,
          24.344,
          24.448,
          24.552,
          24.656,
          24.759999999999998,
          24.864,
          24.968,
          25.072,
          25.176000000000002,
          25.28,
          25.384,
          25.488,
          25.592,
          25.695999999999998,
          25.8,
          25.904,
          26.008,
          26.112000000000002,
          26.216,
          26.32,
          26.424,
          26.528,
          26.631999999999998,
          26.736,
          26.84,
          26.944000000000003,
          27.048000000000002,
          27.152,
          27.256,
          27.36,
          27.464,
          27.567999999999998,
          27.672,
          27.776,
          27.880000000000003,
          27.984,
          28.088,
          28.192,
          28.296,
          28.4,
          28.503999999999998,
          28.608,
          28.712,
          28.816000000000003,
          28.92,
          29.024,
          29.128,
          29.232,
          29.336,
          29.439999999999998,
          29.544,
          29.648,
          29.752000000000002,
          29.856,
          29.96,
          30.064,
          30.168,
          30.272,
          30.375999999999998,
          30.48,
          30.584,
          30.688000000000002,
          30.792,
          30.896,
          31,
          31.104,
          31.208,
          31.311999999999998,
          31.416,
          31.52,
          31.624000000000002,
          31.728,
          31.832,
          31.936,
          32.04,
          32.144,
          32.248,
          32.352000000000004,
          32.456,
          32.56,
          32.664,
          32.768,
          32.872,
          32.976,
          33.08,
          33.184,
          33.288,
          33.391999999999996,
          33.496,
          33.6,
          33.704,
          33.808,
          33.912,
          34.016,
          34.120000000000005,
          34.224000000000004,
          34.328,
          34.432,
          34.536,
          34.64,
          34.744,
          34.848,
          34.952,
          35.056,
          35.16,
          35.263999999999996,
          35.367999999999995,
          35.472,
          35.576,
          35.68,
          35.784,
          35.888000000000005,
          35.992000000000004,
          36.096000000000004,
          36.2,
          36.304,
          36.408,
          36.512,
          36.616,
          36.72,
          36.824,
          36.928,
          37.032,
          37.135999999999996,
          37.239999999999995,
          37.344,
          37.448,
          37.552,
          37.656,
          37.760000000000005,
          37.864000000000004,
          37.968,
          38.072,
          38.176,
          38.28,
          38.384,
          38.488,
          38.592,
          38.696,
          38.8,
          38.903999999999996,
          39.007999999999996,
          39.111999999999995,
          39.216,
          39.32,
          39.424,
          39.528,
          39.632000000000005,
          39.736000000000004,
          39.84,
          39.944,
          40.048,
          40.152,
          40.256,
          40.36,
          40.464,
          40.568,
          40.672,
          40.775999999999996,
          40.879999999999995,
          40.984,
          41.088,
          41.192,
          41.296,
          41.4,
          41.504000000000005,
          41.608000000000004,
          41.712,
          41.816,
          41.92,
          42.024,
          42.128,
          42.232,
          42.336,
          42.44,
          42.544,
          42.647999999999996,
          42.751999999999995,
          42.856,
          42.96,
          43.064,
          43.168,
          43.272,
          43.376000000000005,
          43.480000000000004,
          43.584,
          43.688,
          43.792,
          43.896,
          44,
          44.104,
          44.208,
          44.312,
          44.416,
          44.519999999999996,
          44.623999999999995,
          44.728,
          44.832,
          44.936,
          45.04,
          45.144,
          45.248000000000005,
          45.352000000000004,
          45.456,
          45.56,
          45.664,
          45.768,
          45.872,
          45.976,
          46.08,
          46.184,
          46.288,
          46.391999999999996,
          46.495999999999995,
          46.6,
          46.704,
          46.808,
          46.912,
          47.016,
          47.120000000000005,
          47.224000000000004,
          47.328,
          47.432,
          47.536,
          47.64,
          47.744,
          47.848,
          47.952,
          48.056,
          48.16,
          48.263999999999996,
          48.367999999999995,
          48.472,
          48.576,
          48.68,
          48.784,
          48.888000000000005,
          48.992000000000004,
          49.096000000000004,
          49.2,
          49.304,
          49.408,
          49.512,
          49.616,
          49.72,
          49.824,
          49.928,
          50.032,
          50.136,
          50.24,
          50.344,
          50.448,
          50.552,
          50.656,
          50.76,
          50.864,
          50.968,
          51.072,
          51.176,
          51.28,
          51.384,
          51.488,
          51.592,
          51.696,
          51.8,
          51.904,
          52.008,
          52.112,
          52.216,
          52.32,
          52.424,
          52.528,
          52.632,
          52.736,
          52.84,
          52.944,
          53.048,
          53.152,
          53.256,
          53.36,
          53.464,
          53.568,
          53.672,
          53.776,
          53.88,
          53.984,
          54.088,
          54.192,
          54.296,
          54.4,
          54.504,
          54.608,
          54.712,
          54.816,
          54.92,
          55.024,
          55.128,
          55.232,
          55.336,
          55.44,
          55.544,
          55.648,
          55.752,
          55.856,
          55.96,
          56.064,
          56.168,
          56.272,
          56.376,
          56.48,
          56.584,
          56.688,
          56.792,
          56.896,
          57,
          57.104,
          57.208,
          57.312,
          57.416,
          57.52,
          57.624,
          57.728,
          57.832,
          57.936,
          58.04,
          58.144,
          58.248,
          58.352,
          58.456,
          58.56,
          58.664,
          58.768,
          58.872,
          58.976,
          59.08,
          59.184,
          59.288,
          59.392,
          59.496,
          59.6,
          59.704,
          59.808,
          59.912,
          60.016,
          60.12,
          60.224,
          60.328,
          60.432,
          60.536,
          60.64,
          60.744,
          60.848,
          60.952,
          61.056,
          61.16,
          61.264,
          61.368,
          61.472,
          61.576,
          61.68,
          61.784,
          61.888,
          61.992,
          62.096,
          62.2,
          62.304,
          62.408,
          62.512,
          62.616,
          62.72,
          62.824,
          62.928,
          63.032,
          63.136,
          63.24,
          63.344,
          63.448,
          63.552,
          63.656,
          63.76,
          63.864,
          63.968,
          64.072,
          64.176,
          64.28,
          64.384,
          64.488,
          64.592,
          64.696,
          64.8,
          64.904,
          65.00800000000001,
          65.112,
          65.21600000000001,
          65.32,
          65.424,
          65.52799999999999,
          65.632,
          65.73599999999999,
          65.84,
          65.944,
          66.048,
          66.152,
          66.256,
          66.36,
          66.464,
          66.568,
          66.672,
          66.77600000000001,
          66.88,
          66.98400000000001,
          67.088,
          67.19200000000001,
          67.29599999999999,
          67.4,
          67.50399999999999,
          67.608,
          67.712,
          67.816,
          67.92,
          68.024,
          68.128,
          68.232,
          68.336,
          68.44,
          68.544,
          68.648,
          68.75200000000001,
          68.856,
          68.96000000000001,
          69.064,
          69.168,
          69.27199999999999,
          69.376,
          69.47999999999999,
          69.584,
          69.688,
          69.792,
          69.896
         ],
         "xaxis": "x",
         "y": [
          0.013318187087528502,
          0.013513164946991042,
          0.01370720956056663,
          0.013900245792918039,
          0.014092200984327738,
          0.014283005082891716,
          0.014472590770497737,
          0.014660893582193638,
          0.014847852018568202,
          0.01503340765078692,
          0.01521750521794343,
          0.015400092716410173,
          0.015581121480892995,
          0.015760546256919486,
          0.01593832526451378,
          0.016114420252838237,
          0.01628879654560674,
          0.01646142307710342,
          0.016632272418668173,
          0.016801320795537745,
          0.016968548093962425,
          0.017133937858546,
          0.017297477279787126,
          0.017459157171830636,
          0.0176189719404666,
          0.01777691954144544,
          0.0179330014292074,
          0.01808722249615383,
          0.0182395910026177,
          0.01839011849771913,
          0.0185388197313203,
          0.018685712557321658,
          0.018830817828568505,
          0.018974159283663042,
          0.01911576342600171,
          0.019255659395382735,
          0.0193938788325506,
          0.019530455737067607,
          0.01966542631892162,
          0.019798828844299763,
          0.019930703475974552,
          0.02006109210876693,
          0.02019003820056359,
          0.0203175865993813,
          0.020443783366981667,
          0.020568675599549738,
          0.020692311245959546,
          0.020814738924154832,
          0.020936007736179884,
          0.021056167082397586,
          0.021175266475433933,
          0.021293355354388546,
          0.02141048289984789,
          0.02152669785023542,
          0.021642048320027155,
          0.021756581620354213,
          0.021870344082505714,
          0.021983380884835167,
          0.022095735883561694,
          0.022207451447944046,
          0.02231856830029172,
          0.022429125361260144,
          0.02253915960086041,
          0.022648705895594746,
          0.022757796892110247,
          0.022866462877740253,
          0.02297473165828338,
          0.023082628443344532,
          0.023190175739540696,
          0.023297393251847907,
          0.023404297793340575,
          0.023510903203550024,
          0.023617220275639218,
          0.023723256692567262,
          0.023829016972387075,
          0.023934502422793658,
          0.024039711105011578,
          0.02414463780708321,
          0.02424927402659093,
          0.024353607962818893,
          0.024457624518332693,
          0.02456130530992781,
          0.02466462868887103,
          0.02476756977033264,
          0.024870100471881776,
          0.024972189560891766,
          0.025073802710677752,
          0.02517490256516677,
          0.025275448811874917,
          0.025375398262947553,
          0.025474704943995855,
          0.025573320190443394,
          0.025671192751078212,
          0.025768268898488877,
          0.02586449254604518,
          0.025959805371071218,
          0.026054146943842497,
          0.026147454862028668,
          0.026239664890190653,
          0.026330711103931693,
          0.02642052603829404,
          0.0265090408399852,
          0.02659618542301249,
          0.026681888627300122,
          0.026766078379861186,
          0.026848681858093266,
          0.02692962565476896,
          0.02700883594429138,
          0.027086238649789006,
          0.027161759610626654,
          0.027235324749914955,
          0.027306860241607046,
          0.027376292676778033,
          0.027443549228691178,
          0.027508557816265204,
          0.02757124726556557,
          0.027631547468956606,
          0.027689389541561377,
          0.02774470597468994,
          0.02779743078591205,
          0.027847499665461645,
          0.027894850118679083,
          0.027939421604210722,
          0.027981155667701433,
          0.028019996070734212,
          0.0280558889147856,
          0.02808878275998427,
          0.028118628738477314,
          0.02814538066222596,
          0.02816899512506998,
          0.028189431598918305,
          0.028206652523939866,
          0.02822062339264691,
          0.028231312827779582,
          0.028238692653917794,
          0.028242737962762852,
          0.028243427172047482,
          0.028240742078048654,
          0.028234667901693593,
          0.02822519332826232,
          0.02821231054070691,
          0.02819601524661911,
          0.028176306698892165,
          0.0281531877101345,
          0.028126664660905357,
          0.02809674750185236,
          0.028063449749842765,
          0.028026788478187546,
          0.027986784301069635,
          0.027943461352291518,
          0.027896847258468853,
          0.02784697310680019,
          0.027793873407550986,
          0.027737586051394047,
          0.027678152261753197,
          0.027615616542301588,
          0.02755002661976779,
          0.027481433382206946,
          0.027409890812894466,
          0.0273354559200031,
          0.027258188662222464,
          0.02717815187048324,
          0.027095411165945316,
          0.027010034874411032,
          0.026922093937321454,
          0.026831661819493945,
          0.026738814413756768,
          0.026643629942634764,
          0.026546188857237786,
          0.026446573733501906,
          0.02634486916593002,
          0.026241161658976574,
          0.02613553951621867,
          0.026028092727452365,
          0.025918912853851603,
          0.025808092911323532,
          0.02569572725219263,
          0.02558191144534284,
          0.025466742154945776,
          0.025350317017900408,
          0.025232734520108532,
          0.025114093871708498,
          0.02499449488138899,
          0.02487403782990344,
          0.024752823342905454,
          0.0246309522632251,
          0.024508525522706406,
          0.024385644013726376,
          0.024262408460517162,
          0.024138919290413747,
          0.024015276505151242,
          0.023891579552336985,
          0.023767927197225525,
          0.023644417394926898,
          0.023521147163179712,
          0.0233982124558257,
          0.023275708037123706,
          0.02315372735704472,
          0.02303236242769368,
          0.022911703701006245,
          0.02279183994787321,
          0.022672858138848458,
          0.022554843326600075,
          0.02243787853026819,
          0.022322044621895965,
          0.022207420215105085,
          0.022094081556188177,
          0.021982102417796193,
          0.02187155399539953,
          0.021762504806705427,
          0.021655020594216208,
          0.02154916423111438,
          0.021444995630662052,
          0.021342571659303956,
          0.02124194605366202,
          0.021143169341611326,
          0.021046288767624897,
          0.020951348222574336,
          0.02085838817817095,
          0.020767445626229602,
          0.020678554022933802,
          0.02059174323827664,
          0.020507039510846932,
          0.02042446540812504,
          0.02034403979244537,
          0.020265777792776277,
          0.02018969078245925,
          0.020115786363041073,
          0.02004406835432273,
          0.019974536790738486,
          0.019907187924167433,
          0.019842014233267796,
          0.01977900443941176,
          0.019718143529285585,
          0.019659412784204525,
          0.019602789816179283,
          0.019548248610754094,
          0.019495759576620662,
          0.019445289601997543,
          0.01939680211774552,
          0.019350257167174093,
          0.019305611482476004,
          0.019262818567709047,
          0.01922182878822653,
          0.01918258946643918,
          0.01914504498377407,
          0.019109136888676322,
          0.019074804010483098,
          0.019041982578979273,
          0.019010606349428368,
          0.018980606732852786,
          0.01895191293132232,
          0.018924452077990532,
          0.01889814938160546,
          0.018872928275201883,
          0.01884871056867108,
          0.018825416604885778,
          0.018802965419048443,
          0.018781274900914663,
          0.018760261959534463,
          0.01873984269014189,
          0.01871993254281432,
          0.018700446492513765,
          0.01868129921011545,
          0.018662405234021892,
          0.018643679141956384,
          0.018625035722525336,
          0.018606390146136787,
          0.0185876581348606,
          0.0185687561308166,
          0.018549601462678075,
          0.01853011250988052,
          0.0185102088641306,
          0.018489811487814478,
          0.01846884286891298,
          0.01844722717203873,
          0.018424890385219054,
          0.018401760462061236,
          0.01837776745894698,
          0.018352843666917525,
          0.01832692373792458,
          0.01829994480513894,
          0.018271846597024053,
          0.01824257154490103,
          0.018212064883749598,
          0.018180274746009247,
          0.018147152248165394,
          0.01811265156992736,
          0.018076730025825518,
          0.01803934812907925,
          0.018000469647608885,
          0.01796006165208956,
          0.01791809455596847,
          0.017874542147390208,
          0.01782938161300135,
          0.017782593553627192,
          0.017734161991840185,
          0.017684074371462605,
          0.01763232154907051,
          0.017578897777589707,
          0.017523800682097888,
          0.017467031227970244,
          0.01740859368152771,
          0.017348495563369357,
          0.017286747594590892,
          0.017223363636112172,
          0.017158360621355003,
          0.01709175848253163,
          0.01702358007082203,
          0.016953851070732853,
          0.016882599908948057,
          0.016809857657994053,
          0.016735657935054615,
          0.01666003679628395,
          0.0165830326269744,
          0.016504686027945612,
          0.01642503969852876,
          0.016344138316525456,
          0.016262028415526122,
          0.01617875825997491,
          0.016094377718371067,
          0.016008938134995973,
          0.015922492200555242,
          0.015835093822121563,
          0.01574679799276095,
          0.01565766066121983,
          0.015567738602043546,
          0.015477089286489411,
          0.015385770754588324,
          0.01529384148869858,
          0.015201360288884426,
          0.0151083861504396,
          0.015014978143861494,
          0.014921195297569165,
          0.01482709648364083,
          0.014732740306832056,
          0.014638184997118062,
          0.01454348830598573,
          0.014448707406683966,
          0.014353898798620287,
          0.014259118216074914,
          0.014164420541381388,
          0.01406985972270518,
          0.013975488696530442,
          0.013881359314945715,
          0.01378752227779885,
          0.01369402706977143,
          0.01360092190240343,
          0.013508253661079082,
          0.013416067856964926,
          0.013324408583873713,
          0.013233318480007087,
          0.013142838694514408,
          0.013053008858785837,
          0.012963867062382464,
          0.012875449833489688,
          0.012787792123765374,
          0.0127009272974396,
          0.012614887124510248,
          0.01252970177786558,
          0.01244539983415405,
          0.012362008278211364,
          0.012279552510845278,
          0.012198056359770636,
          0.012117542093480453,
          0.012038030437832577,
          0.01195954059512689,
          0.01188209026544509,
          0.011805695670021753,
          0.0117303715764151,
          0.011656131325245457,
          0.01158298685827071,
          0.011510948747570183,
          0.011440026225611948,
          0.011370227215982857,
          0.011301558364566299,
          0.011234025070958999,
          0.011167631519925763,
          0.011102380712699374,
          0.011038274497942396,
          0.010975313602197227,
          0.010913497659662133,
          0.010852825241141983,
          0.01079329388203501,
          0.010734900109229433,
          0.01067763946679694,
          0.010621506540383773,
          0.010566494980214154,
          0.010512597522635093,
          0.010459806010145668,
          0.010408111409869355,
          0.010357503830441544,
          0.010307972537299839,
          0.010259505966378833,
          0.010212091736225441,
          0.010165716658565083,
          0.01012036674736263,
          0.010076027226435285,
          0.01003268253568811,
          0.009990316336054043,
          0.009948911513233493,
          0.009908450180338629,
          0.009868913679558396,
          0.00983028258296967,
          0.009792536692629469,
          0.009755655040089914,
          0.009719615885486253,
          0.009684396716352975,
          0.009649974246329287,
          0.009616324413919032,
          0.00958342238147304,
          0.009551242534565029,
          0.009519758481931977,
          0.009488943056151116,
          0.0094587683152243,
          0.009429205545238321,
          0.009400225264267119,
          0.009371797227677583,
          0.009343890434995719,
          0.009316473138483546,
          0.009289512853571191,
          0.00926297637127935,
          0.009236829772760012,
          0.00921103844607272,
          0.00918556710530422,
          0.009160379812127514,
          0.009135439999885442,
          0.00911071050027109,
          0.009086153572664684,
          0.009061730936173568,
          0.009037403804407505,
          0.009013132923008392,
          0.008988878609938245,
          0.00896460079851555,
          0.008940259083174895,
          0.008915812767910283,
          0.008891220917348038,
          0.008866442410380294,
          0.008841435996275872,
          0.008816160353171107,
          0.008790574148829295,
          0.008764636103544101,
          0.008738305055049026,
          0.008711540025282814,
          0.008684300288848236,
          0.008656545442991251,
          0.008628235478916009,
          0.00859933085424184,
          0.008569792566399621,
          0.008539582226755656,
          0.008508662135245308,
          0.008476995355290878,
          0.008444545788773782,
          0.008411278250826163,
          0.008377158544203685,
          0.008342153532998785,
          0.008306231215452584,
          0.008269360795622788,
          0.008231512753666181,
          0.008192658914495636,
          0.008152772514574544,
          0.008111828266615445,
          0.008069802421954137,
          0.008026672830377037,
          0.007982418997185313,
          0.00793702213728807,
          0.00789046522612487,
          0.00784273304722722,
          0.00779381223623959,
          0.007743691321230649,
          0.007692360759138034,
          0.0076398129682017386,
          0.007586042356254672,
          0.0075310453447520204,
          0.007474820388435866,
          0.00741736799054503,
          0.007358690713495851,
          0.007298793184974141,
          0.007237682099394455,
          0.0071753662146974845,
          0.007111856344473449,
          0.007047165345413345,
          0.006981308100106894,
          0.006914301495220913,
          0.006846164395107063,
          0.006776917610903702,
          0.006706583865210698,
          0.006635187752430918,
          0.006562755694886049,
          0.00648931589482816,
          0.006414898282481149,
          0.006339534460259283,
          0.006263257643321051,
          0.006186102596629075,
          0.0061081055686956435,
          0.006029304222205242,
          0.005949737561712298,
          0.00586944585862274,
          0.005788470573673269,
          0.005706854277130746
         ],
         "yaxis": "y"
        },
        {
         "legendgroup": "Age Distribution",
         "marker": {
          "color": "rgb(31, 119, 180)",
          "symbol": "line-ns-open"
         },
         "mode": "markers",
         "name": "Age Distribution",
         "showlegend": false,
         "type": "scatter",
         "x": [
          19,
          21,
          20,
          23,
          31,
          22,
          35,
          23,
          64,
          30,
          67,
          35,
          58,
          24,
          37,
          22,
          35,
          20,
          52,
          35,
          35,
          25,
          46,
          31,
          54,
          29,
          45,
          35,
          40,
          23,
          60,
          21,
          53,
          18,
          49,
          21,
          42,
          30,
          36,
          20,
          65,
          24,
          48,
          31,
          49,
          24,
          50,
          27,
          29,
          31,
          49,
          33,
          31,
          59,
          50,
          47,
          51,
          69,
          27,
          53,
          70,
          19,
          67,
          54,
          63,
          18,
          43,
          68,
          19,
          32,
          70,
          47,
          60,
          60,
          59,
          26,
          45,
          40,
          23,
          49,
          57,
          38,
          67,
          46,
          21,
          48,
          55,
          22,
          34,
          50,
          68,
          18,
          48,
          40,
          32,
          24,
          47,
          27,
          48,
          20,
          23,
          49,
          67,
          26,
          49,
          21,
          66,
          54,
          68,
          66,
          65,
          19,
          38,
          19,
          18,
          19,
          63,
          49,
          51,
          50,
          27,
          38,
          40,
          39,
          23,
          31,
          43,
          40,
          59,
          38,
          47,
          39,
          25,
          31,
          20,
          29,
          44,
          32,
          19,
          35,
          57,
          32,
          28,
          32,
          25,
          28,
          48,
          32,
          34,
          34,
          43,
          39,
          44,
          38,
          47,
          27,
          37,
          30,
          34,
          30,
          56,
          29,
          19,
          31,
          50,
          36,
          42,
          33,
          36,
          32,
          40,
          28,
          36,
          36,
          52,
          30,
          58,
          27,
          59,
          35,
          37,
          32,
          46,
          29,
          41,
          30,
          54,
          28,
          41,
          36,
          34,
          32,
          33,
          38,
          47,
          35,
          45,
          32,
          32,
          30
         ],
         "xaxis": "x",
         "y": [
          "Age Distribution",
          "Age Distribution",
          "Age Distribution",
          "Age Distribution",
          "Age Distribution",
          "Age Distribution",
          "Age Distribution",
          "Age Distribution",
          "Age Distribution",
          "Age Distribution",
          "Age Distribution",
          "Age Distribution",
          "Age Distribution",
          "Age Distribution",
          "Age Distribution",
          "Age Distribution",
          "Age Distribution",
          "Age Distribution",
          "Age Distribution",
          "Age Distribution",
          "Age Distribution",
          "Age Distribution",
          "Age Distribution",
          "Age Distribution",
          "Age Distribution",
          "Age Distribution",
          "Age Distribution",
          "Age Distribution",
          "Age Distribution",
          "Age Distribution",
          "Age Distribution",
          "Age Distribution",
          "Age Distribution",
          "Age Distribution",
          "Age Distribution",
          "Age Distribution",
          "Age Distribution",
          "Age Distribution",
          "Age Distribution",
          "Age Distribution",
          "Age Distribution",
          "Age Distribution",
          "Age Distribution",
          "Age Distribution",
          "Age Distribution",
          "Age Distribution",
          "Age Distribution",
          "Age Distribution",
          "Age Distribution",
          "Age Distribution",
          "Age Distribution",
          "Age Distribution",
          "Age Distribution",
          "Age Distribution",
          "Age Distribution",
          "Age Distribution",
          "Age Distribution",
          "Age Distribution",
          "Age Distribution",
          "Age Distribution",
          "Age Distribution",
          "Age Distribution",
          "Age Distribution",
          "Age Distribution",
          "Age Distribution",
          "Age Distribution",
          "Age Distribution",
          "Age Distribution",
          "Age Distribution",
          "Age Distribution",
          "Age Distribution",
          "Age Distribution",
          "Age Distribution",
          "Age Distribution",
          "Age Distribution",
          "Age Distribution",
          "Age Distribution",
          "Age Distribution",
          "Age Distribution",
          "Age Distribution",
          "Age Distribution",
          "Age Distribution",
          "Age Distribution",
          "Age Distribution",
          "Age Distribution",
          "Age Distribution",
          "Age Distribution",
          "Age Distribution",
          "Age Distribution",
          "Age Distribution",
          "Age Distribution",
          "Age Distribution",
          "Age Distribution",
          "Age Distribution",
          "Age Distribution",
          "Age Distribution",
          "Age Distribution",
          "Age Distribution",
          "Age Distribution",
          "Age Distribution",
          "Age Distribution",
          "Age Distribution",
          "Age Distribution",
          "Age Distribution",
          "Age Distribution",
          "Age Distribution",
          "Age Distribution",
          "Age Distribution",
          "Age Distribution",
          "Age Distribution",
          "Age Distribution",
          "Age Distribution",
          "Age Distribution",
          "Age Distribution",
          "Age Distribution",
          "Age Distribution",
          "Age Distribution",
          "Age Distribution",
          "Age Distribution",
          "Age Distribution",
          "Age Distribution",
          "Age Distribution",
          "Age Distribution",
          "Age Distribution",
          "Age Distribution",
          "Age Distribution",
          "Age Distribution",
          "Age Distribution",
          "Age Distribution",
          "Age Distribution",
          "Age Distribution",
          "Age Distribution",
          "Age Distribution",
          "Age Distribution",
          "Age Distribution",
          "Age Distribution",
          "Age Distribution",
          "Age Distribution",
          "Age Distribution",
          "Age Distribution",
          "Age Distribution",
          "Age Distribution",
          "Age Distribution",
          "Age Distribution",
          "Age Distribution",
          "Age Distribution",
          "Age Distribution",
          "Age Distribution",
          "Age Distribution",
          "Age Distribution",
          "Age Distribution",
          "Age Distribution",
          "Age Distribution",
          "Age Distribution",
          "Age Distribution",
          "Age Distribution",
          "Age Distribution",
          "Age Distribution",
          "Age Distribution",
          "Age Distribution",
          "Age Distribution",
          "Age Distribution",
          "Age Distribution",
          "Age Distribution",
          "Age Distribution",
          "Age Distribution",
          "Age Distribution",
          "Age Distribution",
          "Age Distribution",
          "Age Distribution",
          "Age Distribution",
          "Age Distribution",
          "Age Distribution",
          "Age Distribution",
          "Age Distribution",
          "Age Distribution",
          "Age Distribution",
          "Age Distribution",
          "Age Distribution",
          "Age Distribution",
          "Age Distribution",
          "Age Distribution",
          "Age Distribution",
          "Age Distribution",
          "Age Distribution",
          "Age Distribution",
          "Age Distribution",
          "Age Distribution",
          "Age Distribution",
          "Age Distribution",
          "Age Distribution",
          "Age Distribution",
          "Age Distribution",
          "Age Distribution",
          "Age Distribution",
          "Age Distribution",
          "Age Distribution",
          "Age Distribution",
          "Age Distribution",
          "Age Distribution"
         ],
         "yaxis": "y2"
        }
       ],
       "layout": {
        "barmode": "overlay",
        "font": {
         "color": "Black",
         "size": 10
        },
        "height": 700,
        "hovermode": "closest",
        "legend": {
         "title": {
          "text": "Legend"
         },
         "traceorder": "reversed"
        },
        "template": {
         "data": {
          "bar": [
           {
            "error_x": {
             "color": "#2a3f5f"
            },
            "error_y": {
             "color": "#2a3f5f"
            },
            "marker": {
             "line": {
              "color": "#E5ECF6",
              "width": 0.5
             }
            },
            "type": "bar"
           }
          ],
          "barpolar": [
           {
            "marker": {
             "line": {
              "color": "#E5ECF6",
              "width": 0.5
             }
            },
            "type": "barpolar"
           }
          ],
          "carpet": [
           {
            "aaxis": {
             "endlinecolor": "#2a3f5f",
             "gridcolor": "white",
             "linecolor": "white",
             "minorgridcolor": "white",
             "startlinecolor": "#2a3f5f"
            },
            "baxis": {
             "endlinecolor": "#2a3f5f",
             "gridcolor": "white",
             "linecolor": "white",
             "minorgridcolor": "white",
             "startlinecolor": "#2a3f5f"
            },
            "type": "carpet"
           }
          ],
          "choropleth": [
           {
            "colorbar": {
             "outlinewidth": 0,
             "ticks": ""
            },
            "type": "choropleth"
           }
          ],
          "contour": [
           {
            "colorbar": {
             "outlinewidth": 0,
             "ticks": ""
            },
            "colorscale": [
             [
              0,
              "#0d0887"
             ],
             [
              0.1111111111111111,
              "#46039f"
             ],
             [
              0.2222222222222222,
              "#7201a8"
             ],
             [
              0.3333333333333333,
              "#9c179e"
             ],
             [
              0.4444444444444444,
              "#bd3786"
             ],
             [
              0.5555555555555556,
              "#d8576b"
             ],
             [
              0.6666666666666666,
              "#ed7953"
             ],
             [
              0.7777777777777778,
              "#fb9f3a"
             ],
             [
              0.8888888888888888,
              "#fdca26"
             ],
             [
              1,
              "#f0f921"
             ]
            ],
            "type": "contour"
           }
          ],
          "contourcarpet": [
           {
            "colorbar": {
             "outlinewidth": 0,
             "ticks": ""
            },
            "type": "contourcarpet"
           }
          ],
          "heatmap": [
           {
            "colorbar": {
             "outlinewidth": 0,
             "ticks": ""
            },
            "colorscale": [
             [
              0,
              "#0d0887"
             ],
             [
              0.1111111111111111,
              "#46039f"
             ],
             [
              0.2222222222222222,
              "#7201a8"
             ],
             [
              0.3333333333333333,
              "#9c179e"
             ],
             [
              0.4444444444444444,
              "#bd3786"
             ],
             [
              0.5555555555555556,
              "#d8576b"
             ],
             [
              0.6666666666666666,
              "#ed7953"
             ],
             [
              0.7777777777777778,
              "#fb9f3a"
             ],
             [
              0.8888888888888888,
              "#fdca26"
             ],
             [
              1,
              "#f0f921"
             ]
            ],
            "type": "heatmap"
           }
          ],
          "heatmapgl": [
           {
            "colorbar": {
             "outlinewidth": 0,
             "ticks": ""
            },
            "colorscale": [
             [
              0,
              "#0d0887"
             ],
             [
              0.1111111111111111,
              "#46039f"
             ],
             [
              0.2222222222222222,
              "#7201a8"
             ],
             [
              0.3333333333333333,
              "#9c179e"
             ],
             [
              0.4444444444444444,
              "#bd3786"
             ],
             [
              0.5555555555555556,
              "#d8576b"
             ],
             [
              0.6666666666666666,
              "#ed7953"
             ],
             [
              0.7777777777777778,
              "#fb9f3a"
             ],
             [
              0.8888888888888888,
              "#fdca26"
             ],
             [
              1,
              "#f0f921"
             ]
            ],
            "type": "heatmapgl"
           }
          ],
          "histogram": [
           {
            "marker": {
             "colorbar": {
              "outlinewidth": 0,
              "ticks": ""
             }
            },
            "type": "histogram"
           }
          ],
          "histogram2d": [
           {
            "colorbar": {
             "outlinewidth": 0,
             "ticks": ""
            },
            "colorscale": [
             [
              0,
              "#0d0887"
             ],
             [
              0.1111111111111111,
              "#46039f"
             ],
             [
              0.2222222222222222,
              "#7201a8"
             ],
             [
              0.3333333333333333,
              "#9c179e"
             ],
             [
              0.4444444444444444,
              "#bd3786"
             ],
             [
              0.5555555555555556,
              "#d8576b"
             ],
             [
              0.6666666666666666,
              "#ed7953"
             ],
             [
              0.7777777777777778,
              "#fb9f3a"
             ],
             [
              0.8888888888888888,
              "#fdca26"
             ],
             [
              1,
              "#f0f921"
             ]
            ],
            "type": "histogram2d"
           }
          ],
          "histogram2dcontour": [
           {
            "colorbar": {
             "outlinewidth": 0,
             "ticks": ""
            },
            "colorscale": [
             [
              0,
              "#0d0887"
             ],
             [
              0.1111111111111111,
              "#46039f"
             ],
             [
              0.2222222222222222,
              "#7201a8"
             ],
             [
              0.3333333333333333,
              "#9c179e"
             ],
             [
              0.4444444444444444,
              "#bd3786"
             ],
             [
              0.5555555555555556,
              "#d8576b"
             ],
             [
              0.6666666666666666,
              "#ed7953"
             ],
             [
              0.7777777777777778,
              "#fb9f3a"
             ],
             [
              0.8888888888888888,
              "#fdca26"
             ],
             [
              1,
              "#f0f921"
             ]
            ],
            "type": "histogram2dcontour"
           }
          ],
          "mesh3d": [
           {
            "colorbar": {
             "outlinewidth": 0,
             "ticks": ""
            },
            "type": "mesh3d"
           }
          ],
          "parcoords": [
           {
            "line": {
             "colorbar": {
              "outlinewidth": 0,
              "ticks": ""
             }
            },
            "type": "parcoords"
           }
          ],
          "pie": [
           {
            "automargin": true,
            "type": "pie"
           }
          ],
          "scatter": [
           {
            "marker": {
             "colorbar": {
              "outlinewidth": 0,
              "ticks": ""
             }
            },
            "type": "scatter"
           }
          ],
          "scatter3d": [
           {
            "line": {
             "colorbar": {
              "outlinewidth": 0,
              "ticks": ""
             }
            },
            "marker": {
             "colorbar": {
              "outlinewidth": 0,
              "ticks": ""
             }
            },
            "type": "scatter3d"
           }
          ],
          "scattercarpet": [
           {
            "marker": {
             "colorbar": {
              "outlinewidth": 0,
              "ticks": ""
             }
            },
            "type": "scattercarpet"
           }
          ],
          "scattergeo": [
           {
            "marker": {
             "colorbar": {
              "outlinewidth": 0,
              "ticks": ""
             }
            },
            "type": "scattergeo"
           }
          ],
          "scattergl": [
           {
            "marker": {
             "colorbar": {
              "outlinewidth": 0,
              "ticks": ""
             }
            },
            "type": "scattergl"
           }
          ],
          "scattermapbox": [
           {
            "marker": {
             "colorbar": {
              "outlinewidth": 0,
              "ticks": ""
             }
            },
            "type": "scattermapbox"
           }
          ],
          "scatterpolar": [
           {
            "marker": {
             "colorbar": {
              "outlinewidth": 0,
              "ticks": ""
             }
            },
            "type": "scatterpolar"
           }
          ],
          "scatterpolargl": [
           {
            "marker": {
             "colorbar": {
              "outlinewidth": 0,
              "ticks": ""
             }
            },
            "type": "scatterpolargl"
           }
          ],
          "scatterternary": [
           {
            "marker": {
             "colorbar": {
              "outlinewidth": 0,
              "ticks": ""
             }
            },
            "type": "scatterternary"
           }
          ],
          "surface": [
           {
            "colorbar": {
             "outlinewidth": 0,
             "ticks": ""
            },
            "colorscale": [
             [
              0,
              "#0d0887"
             ],
             [
              0.1111111111111111,
              "#46039f"
             ],
             [
              0.2222222222222222,
              "#7201a8"
             ],
             [
              0.3333333333333333,
              "#9c179e"
             ],
             [
              0.4444444444444444,
              "#bd3786"
             ],
             [
              0.5555555555555556,
              "#d8576b"
             ],
             [
              0.6666666666666666,
              "#ed7953"
             ],
             [
              0.7777777777777778,
              "#fb9f3a"
             ],
             [
              0.8888888888888888,
              "#fdca26"
             ],
             [
              1,
              "#f0f921"
             ]
            ],
            "type": "surface"
           }
          ],
          "table": [
           {
            "cells": {
             "fill": {
              "color": "#EBF0F8"
             },
             "line": {
              "color": "white"
             }
            },
            "header": {
             "fill": {
              "color": "#C8D4E3"
             },
             "line": {
              "color": "white"
             }
            },
            "type": "table"
           }
          ]
         },
         "layout": {
          "annotationdefaults": {
           "arrowcolor": "#2a3f5f",
           "arrowhead": 0,
           "arrowwidth": 1
          },
          "coloraxis": {
           "colorbar": {
            "outlinewidth": 0,
            "ticks": ""
           }
          },
          "colorscale": {
           "diverging": [
            [
             0,
             "#8e0152"
            ],
            [
             0.1,
             "#c51b7d"
            ],
            [
             0.2,
             "#de77ae"
            ],
            [
             0.3,
             "#f1b6da"
            ],
            [
             0.4,
             "#fde0ef"
            ],
            [
             0.5,
             "#f7f7f7"
            ],
            [
             0.6,
             "#e6f5d0"
            ],
            [
             0.7,
             "#b8e186"
            ],
            [
             0.8,
             "#7fbc41"
            ],
            [
             0.9,
             "#4d9221"
            ],
            [
             1,
             "#276419"
            ]
           ],
           "sequential": [
            [
             0,
             "#0d0887"
            ],
            [
             0.1111111111111111,
             "#46039f"
            ],
            [
             0.2222222222222222,
             "#7201a8"
            ],
            [
             0.3333333333333333,
             "#9c179e"
            ],
            [
             0.4444444444444444,
             "#bd3786"
            ],
            [
             0.5555555555555556,
             "#d8576b"
            ],
            [
             0.6666666666666666,
             "#ed7953"
            ],
            [
             0.7777777777777778,
             "#fb9f3a"
            ],
            [
             0.8888888888888888,
             "#fdca26"
            ],
            [
             1,
             "#f0f921"
            ]
           ],
           "sequentialminus": [
            [
             0,
             "#0d0887"
            ],
            [
             0.1111111111111111,
             "#46039f"
            ],
            [
             0.2222222222222222,
             "#7201a8"
            ],
            [
             0.3333333333333333,
             "#9c179e"
            ],
            [
             0.4444444444444444,
             "#bd3786"
            ],
            [
             0.5555555555555556,
             "#d8576b"
            ],
            [
             0.6666666666666666,
             "#ed7953"
            ],
            [
             0.7777777777777778,
             "#fb9f3a"
            ],
            [
             0.8888888888888888,
             "#fdca26"
            ],
            [
             1,
             "#f0f921"
            ]
           ]
          },
          "colorway": [
           "#636efa",
           "#EF553B",
           "#00cc96",
           "#ab63fa",
           "#FFA15A",
           "#19d3f3",
           "#FF6692",
           "#B6E880",
           "#FF97FF",
           "#FECB52"
          ],
          "font": {
           "color": "#2a3f5f"
          },
          "geo": {
           "bgcolor": "white",
           "lakecolor": "white",
           "landcolor": "#E5ECF6",
           "showlakes": true,
           "showland": true,
           "subunitcolor": "white"
          },
          "hoverlabel": {
           "align": "left"
          },
          "hovermode": "closest",
          "mapbox": {
           "style": "light"
          },
          "paper_bgcolor": "white",
          "plot_bgcolor": "#E5ECF6",
          "polar": {
           "angularaxis": {
            "gridcolor": "white",
            "linecolor": "white",
            "ticks": ""
           },
           "bgcolor": "#E5ECF6",
           "radialaxis": {
            "gridcolor": "white",
            "linecolor": "white",
            "ticks": ""
           }
          },
          "scene": {
           "xaxis": {
            "backgroundcolor": "#E5ECF6",
            "gridcolor": "white",
            "gridwidth": 2,
            "linecolor": "white",
            "showbackground": true,
            "ticks": "",
            "zerolinecolor": "white"
           },
           "yaxis": {
            "backgroundcolor": "#E5ECF6",
            "gridcolor": "white",
            "gridwidth": 2,
            "linecolor": "white",
            "showbackground": true,
            "ticks": "",
            "zerolinecolor": "white"
           },
           "zaxis": {
            "backgroundcolor": "#E5ECF6",
            "gridcolor": "white",
            "gridwidth": 2,
            "linecolor": "white",
            "showbackground": true,
            "ticks": "",
            "zerolinecolor": "white"
           }
          },
          "shapedefaults": {
           "line": {
            "color": "#2a3f5f"
           }
          },
          "ternary": {
           "aaxis": {
            "gridcolor": "white",
            "linecolor": "white",
            "ticks": ""
           },
           "baxis": {
            "gridcolor": "white",
            "linecolor": "white",
            "ticks": ""
           },
           "bgcolor": "#E5ECF6",
           "caxis": {
            "gridcolor": "white",
            "linecolor": "white",
            "ticks": ""
           }
          },
          "title": {
           "x": 0.05
          },
          "xaxis": {
           "automargin": true,
           "gridcolor": "white",
           "linecolor": "white",
           "ticks": "",
           "title": {
            "standoff": 15
           },
           "zerolinecolor": "white",
           "zerolinewidth": 2
          },
          "yaxis": {
           "automargin": true,
           "gridcolor": "white",
           "linecolor": "white",
           "ticks": "",
           "title": {
            "standoff": 15
           },
           "zerolinecolor": "white",
           "zerolinewidth": 2
          }
         }
        },
        "title": {
         "font": {
          "color": "Black",
          "size": 20
         },
         "text": "Age Distribution"
        },
        "width": 1100,
        "xaxis": {
         "anchor": "y2",
         "domain": [
          0,
          1
         ],
         "showgrid": true,
         "title": {
          "text": "Age"
         },
         "zeroline": true
        },
        "yaxis": {
         "anchor": "free",
         "domain": [
          0.35,
          1
         ],
         "position": 0,
         "showgrid": true,
         "title": {
          "text": "Distribution"
         },
         "zeroline": true
        },
        "yaxis2": {
         "anchor": "x",
         "domain": [
          0,
          0.25
         ],
         "dtick": 1,
         "showgrid": true,
         "showticklabels": false,
         "title": {
          "text": "Distribution"
         },
         "zeroline": true
        }
       }
      },
      "text/html": [
       "<div>\n",
       "        \n",
       "        \n",
       "            <div id=\"ce7972c2-86bd-4ea4-a71b-8c8fa3923ae8\" class=\"plotly-graph-div\" style=\"height:700px; width:1100px;\"></div>\n",
       "            <script type=\"text/javascript\">\n",
       "                require([\"plotly\"], function(Plotly) {\n",
       "                    window.PLOTLYENV=window.PLOTLYENV || {};\n",
       "                    \n",
       "                if (document.getElementById(\"ce7972c2-86bd-4ea4-a71b-8c8fa3923ae8\")) {\n",
       "                    Plotly.newPlot(\n",
       "                        'ce7972c2-86bd-4ea4-a71b-8c8fa3923ae8',\n",
       "                        [{\"autobinx\": false, \"histnorm\": \"probability density\", \"legendgroup\": \"Age Distribution\", \"marker\": {\"color\": \"rgb(31, 119, 180)\"}, \"name\": \"Age Distribution\", \"opacity\": 0.7, \"type\": \"histogram\", \"x\": [19, 21, 20, 23, 31, 22, 35, 23, 64, 30, 67, 35, 58, 24, 37, 22, 35, 20, 52, 35, 35, 25, 46, 31, 54, 29, 45, 35, 40, 23, 60, 21, 53, 18, 49, 21, 42, 30, 36, 20, 65, 24, 48, 31, 49, 24, 50, 27, 29, 31, 49, 33, 31, 59, 50, 47, 51, 69, 27, 53, 70, 19, 67, 54, 63, 18, 43, 68, 19, 32, 70, 47, 60, 60, 59, 26, 45, 40, 23, 49, 57, 38, 67, 46, 21, 48, 55, 22, 34, 50, 68, 18, 48, 40, 32, 24, 47, 27, 48, 20, 23, 49, 67, 26, 49, 21, 66, 54, 68, 66, 65, 19, 38, 19, 18, 19, 63, 49, 51, 50, 27, 38, 40, 39, 23, 31, 43, 40, 59, 38, 47, 39, 25, 31, 20, 29, 44, 32, 19, 35, 57, 32, 28, 32, 25, 28, 48, 32, 34, 34, 43, 39, 44, 38, 47, 27, 37, 30, 34, 30, 56, 29, 19, 31, 50, 36, 42, 33, 36, 32, 40, 28, 36, 36, 52, 30, 58, 27, 59, 35, 37, 32, 46, 29, 41, 30, 54, 28, 41, 36, 34, 32, 33, 38, 47, 35, 45, 32, 32, 30], \"xaxis\": \"x\", \"xbins\": {\"end\": 70.0, \"size\": 3.5, \"start\": 18.0}, \"yaxis\": \"y\"}, {\"legendgroup\": \"Age Distribution\", \"marker\": {\"color\": \"rgb(31, 119, 180)\"}, \"mode\": \"lines\", \"name\": \"Age Distribution\", \"showlegend\": false, \"type\": \"scatter\", \"x\": [18.0, 18.104, 18.208, 18.312, 18.416, 18.52, 18.624, 18.728, 18.832, 18.936, 19.04, 19.144, 19.248, 19.352, 19.456, 19.56, 19.664, 19.768, 19.872, 19.976, 20.08, 20.184, 20.288, 20.392, 20.496, 20.6, 20.704, 20.808, 20.912, 21.016, 21.12, 21.224, 21.328, 21.432, 21.536, 21.64, 21.744, 21.848, 21.951999999999998, 22.056, 22.16, 22.264, 22.368000000000002, 22.472, 22.576, 22.68, 22.784, 22.887999999999998, 22.992, 23.096, 23.2, 23.304000000000002, 23.408, 23.512, 23.616, 23.72, 23.823999999999998, 23.928, 24.032, 24.136, 24.240000000000002, 24.344, 24.448, 24.552, 24.656, 24.759999999999998, 24.864, 24.968, 25.072, 25.176000000000002, 25.28, 25.384, 25.488, 25.592, 25.695999999999998, 25.8, 25.904, 26.008, 26.112000000000002, 26.216, 26.32, 26.424, 26.528, 26.631999999999998, 26.736, 26.84, 26.944000000000003, 27.048000000000002, 27.152, 27.256, 27.36, 27.464, 27.567999999999998, 27.672, 27.776, 27.880000000000003, 27.984, 28.088, 28.192, 28.296, 28.4, 28.503999999999998, 28.608, 28.712, 28.816000000000003, 28.92, 29.024, 29.128, 29.232, 29.336, 29.439999999999998, 29.544, 29.648, 29.752000000000002, 29.856, 29.96, 30.064, 30.168, 30.272, 30.375999999999998, 30.48, 30.584, 30.688000000000002, 30.792, 30.896, 31.0, 31.104, 31.208, 31.311999999999998, 31.416, 31.52, 31.624000000000002, 31.728, 31.832, 31.936, 32.04, 32.144, 32.248, 32.352000000000004, 32.456, 32.56, 32.664, 32.768, 32.872, 32.976, 33.08, 33.184, 33.288, 33.391999999999996, 33.496, 33.6, 33.704, 33.808, 33.912, 34.016, 34.120000000000005, 34.224000000000004, 34.328, 34.432, 34.536, 34.64, 34.744, 34.848, 34.952, 35.056, 35.16, 35.263999999999996, 35.367999999999995, 35.472, 35.576, 35.68, 35.784, 35.888000000000005, 35.992000000000004, 36.096000000000004, 36.2, 36.304, 36.408, 36.512, 36.616, 36.72, 36.824, 36.928, 37.032, 37.135999999999996, 37.239999999999995, 37.344, 37.448, 37.552, 37.656, 37.760000000000005, 37.864000000000004, 37.968, 38.072, 38.176, 38.28, 38.384, 38.488, 38.592, 38.696, 38.8, 38.903999999999996, 39.007999999999996, 39.111999999999995, 39.216, 39.32, 39.424, 39.528, 39.632000000000005, 39.736000000000004, 39.84, 39.944, 40.048, 40.152, 40.256, 40.36, 40.464, 40.568, 40.672, 40.775999999999996, 40.879999999999995, 40.984, 41.088, 41.192, 41.296, 41.4, 41.504000000000005, 41.608000000000004, 41.712, 41.816, 41.92, 42.024, 42.128, 42.232, 42.336, 42.44, 42.544, 42.647999999999996, 42.751999999999995, 42.856, 42.96, 43.064, 43.168, 43.272, 43.376000000000005, 43.480000000000004, 43.584, 43.688, 43.792, 43.896, 44.0, 44.104, 44.208, 44.312, 44.416, 44.519999999999996, 44.623999999999995, 44.728, 44.832, 44.936, 45.04, 45.144, 45.248000000000005, 45.352000000000004, 45.456, 45.56, 45.664, 45.768, 45.872, 45.976, 46.08, 46.184, 46.288, 46.391999999999996, 46.495999999999995, 46.6, 46.704, 46.808, 46.912, 47.016, 47.120000000000005, 47.224000000000004, 47.328, 47.432, 47.536, 47.64, 47.744, 47.848, 47.952, 48.056, 48.16, 48.263999999999996, 48.367999999999995, 48.472, 48.576, 48.68, 48.784, 48.888000000000005, 48.992000000000004, 49.096000000000004, 49.2, 49.304, 49.408, 49.512, 49.616, 49.72, 49.824, 49.928, 50.032, 50.136, 50.24, 50.344, 50.448, 50.552, 50.656, 50.76, 50.864, 50.968, 51.072, 51.176, 51.28, 51.384, 51.488, 51.592, 51.696, 51.8, 51.904, 52.008, 52.112, 52.216, 52.32, 52.424, 52.528, 52.632, 52.736, 52.84, 52.944, 53.048, 53.152, 53.256, 53.36, 53.464, 53.568, 53.672, 53.776, 53.88, 53.984, 54.088, 54.192, 54.296, 54.4, 54.504, 54.608, 54.712, 54.816, 54.92, 55.024, 55.128, 55.232, 55.336, 55.44, 55.544, 55.648, 55.752, 55.856, 55.96, 56.064, 56.168, 56.272, 56.376, 56.48, 56.584, 56.688, 56.792, 56.896, 57.0, 57.104, 57.208, 57.312, 57.416, 57.52, 57.624, 57.728, 57.832, 57.936, 58.04, 58.144, 58.248, 58.352, 58.456, 58.56, 58.664, 58.768, 58.872, 58.976, 59.08, 59.184, 59.288, 59.392, 59.496, 59.6, 59.704, 59.808, 59.912, 60.016, 60.12, 60.224, 60.328, 60.432, 60.536, 60.64, 60.744, 60.848, 60.952, 61.056, 61.16, 61.264, 61.368, 61.472, 61.576, 61.68, 61.784, 61.888, 61.992, 62.096, 62.2, 62.304, 62.408, 62.512, 62.616, 62.72, 62.824, 62.928, 63.032, 63.136, 63.24, 63.344, 63.448, 63.552, 63.656, 63.76, 63.864, 63.968, 64.072, 64.176, 64.28, 64.384, 64.488, 64.592, 64.696, 64.8, 64.904, 65.00800000000001, 65.112, 65.21600000000001, 65.32, 65.424, 65.52799999999999, 65.632, 65.73599999999999, 65.84, 65.944, 66.048, 66.152, 66.256, 66.36, 66.464, 66.568, 66.672, 66.77600000000001, 66.88, 66.98400000000001, 67.088, 67.19200000000001, 67.29599999999999, 67.4, 67.50399999999999, 67.608, 67.712, 67.816, 67.92, 68.024, 68.128, 68.232, 68.336, 68.44, 68.544, 68.648, 68.75200000000001, 68.856, 68.96000000000001, 69.064, 69.168, 69.27199999999999, 69.376, 69.47999999999999, 69.584, 69.688, 69.792, 69.896], \"xaxis\": \"x\", \"y\": [0.013318187087528502, 0.013513164946991042, 0.01370720956056663, 0.013900245792918039, 0.014092200984327738, 0.014283005082891716, 0.014472590770497737, 0.014660893582193638, 0.014847852018568202, 0.01503340765078692, 0.01521750521794343, 0.015400092716410173, 0.015581121480892995, 0.015760546256919486, 0.01593832526451378, 0.016114420252838237, 0.01628879654560674, 0.01646142307710342, 0.016632272418668173, 0.016801320795537745, 0.016968548093962425, 0.017133937858546, 0.017297477279787126, 0.017459157171830636, 0.0176189719404666, 0.01777691954144544, 0.0179330014292074, 0.01808722249615383, 0.0182395910026177, 0.01839011849771913, 0.0185388197313203, 0.018685712557321658, 0.018830817828568505, 0.018974159283663042, 0.01911576342600171, 0.019255659395382735, 0.0193938788325506, 0.019530455737067607, 0.01966542631892162, 0.019798828844299763, 0.019930703475974552, 0.02006109210876693, 0.02019003820056359, 0.0203175865993813, 0.020443783366981667, 0.020568675599549738, 0.020692311245959546, 0.020814738924154832, 0.020936007736179884, 0.021056167082397586, 0.021175266475433933, 0.021293355354388546, 0.02141048289984789, 0.02152669785023542, 0.021642048320027155, 0.021756581620354213, 0.021870344082505714, 0.021983380884835167, 0.022095735883561694, 0.022207451447944046, 0.02231856830029172, 0.022429125361260144, 0.02253915960086041, 0.022648705895594746, 0.022757796892110247, 0.022866462877740253, 0.02297473165828338, 0.023082628443344532, 0.023190175739540696, 0.023297393251847907, 0.023404297793340575, 0.023510903203550024, 0.023617220275639218, 0.023723256692567262, 0.023829016972387075, 0.023934502422793658, 0.024039711105011578, 0.02414463780708321, 0.02424927402659093, 0.024353607962818893, 0.024457624518332693, 0.02456130530992781, 0.02466462868887103, 0.02476756977033264, 0.024870100471881776, 0.024972189560891766, 0.025073802710677752, 0.02517490256516677, 0.025275448811874917, 0.025375398262947553, 0.025474704943995855, 0.025573320190443394, 0.025671192751078212, 0.025768268898488877, 0.02586449254604518, 0.025959805371071218, 0.026054146943842497, 0.026147454862028668, 0.026239664890190653, 0.026330711103931693, 0.02642052603829404, 0.0265090408399852, 0.02659618542301249, 0.026681888627300122, 0.026766078379861186, 0.026848681858093266, 0.02692962565476896, 0.02700883594429138, 0.027086238649789006, 0.027161759610626654, 0.027235324749914955, 0.027306860241607046, 0.027376292676778033, 0.027443549228691178, 0.027508557816265204, 0.02757124726556557, 0.027631547468956606, 0.027689389541561377, 0.02774470597468994, 0.02779743078591205, 0.027847499665461645, 0.027894850118679083, 0.027939421604210722, 0.027981155667701433, 0.028019996070734212, 0.0280558889147856, 0.02808878275998427, 0.028118628738477314, 0.02814538066222596, 0.02816899512506998, 0.028189431598918305, 0.028206652523939866, 0.02822062339264691, 0.028231312827779582, 0.028238692653917794, 0.028242737962762852, 0.028243427172047482, 0.028240742078048654, 0.028234667901693593, 0.02822519332826232, 0.02821231054070691, 0.02819601524661911, 0.028176306698892165, 0.0281531877101345, 0.028126664660905357, 0.02809674750185236, 0.028063449749842765, 0.028026788478187546, 0.027986784301069635, 0.027943461352291518, 0.027896847258468853, 0.02784697310680019, 0.027793873407550986, 0.027737586051394047, 0.027678152261753197, 0.027615616542301588, 0.02755002661976779, 0.027481433382206946, 0.027409890812894466, 0.0273354559200031, 0.027258188662222464, 0.02717815187048324, 0.027095411165945316, 0.027010034874411032, 0.026922093937321454, 0.026831661819493945, 0.026738814413756768, 0.026643629942634764, 0.026546188857237786, 0.026446573733501906, 0.02634486916593002, 0.026241161658976574, 0.02613553951621867, 0.026028092727452365, 0.025918912853851603, 0.025808092911323532, 0.02569572725219263, 0.02558191144534284, 0.025466742154945776, 0.025350317017900408, 0.025232734520108532, 0.025114093871708498, 0.02499449488138899, 0.02487403782990344, 0.024752823342905454, 0.0246309522632251, 0.024508525522706406, 0.024385644013726376, 0.024262408460517162, 0.024138919290413747, 0.024015276505151242, 0.023891579552336985, 0.023767927197225525, 0.023644417394926898, 0.023521147163179712, 0.0233982124558257, 0.023275708037123706, 0.02315372735704472, 0.02303236242769368, 0.022911703701006245, 0.02279183994787321, 0.022672858138848458, 0.022554843326600075, 0.02243787853026819, 0.022322044621895965, 0.022207420215105085, 0.022094081556188177, 0.021982102417796193, 0.02187155399539953, 0.021762504806705427, 0.021655020594216208, 0.02154916423111438, 0.021444995630662052, 0.021342571659303956, 0.02124194605366202, 0.021143169341611326, 0.021046288767624897, 0.020951348222574336, 0.02085838817817095, 0.020767445626229602, 0.020678554022933802, 0.02059174323827664, 0.020507039510846932, 0.02042446540812504, 0.02034403979244537, 0.020265777792776277, 0.02018969078245925, 0.020115786363041073, 0.02004406835432273, 0.019974536790738486, 0.019907187924167433, 0.019842014233267796, 0.01977900443941176, 0.019718143529285585, 0.019659412784204525, 0.019602789816179283, 0.019548248610754094, 0.019495759576620662, 0.019445289601997543, 0.01939680211774552, 0.019350257167174093, 0.019305611482476004, 0.019262818567709047, 0.01922182878822653, 0.01918258946643918, 0.01914504498377407, 0.019109136888676322, 0.019074804010483098, 0.019041982578979273, 0.019010606349428368, 0.018980606732852786, 0.01895191293132232, 0.018924452077990532, 0.01889814938160546, 0.018872928275201883, 0.01884871056867108, 0.018825416604885778, 0.018802965419048443, 0.018781274900914663, 0.018760261959534463, 0.01873984269014189, 0.01871993254281432, 0.018700446492513765, 0.01868129921011545, 0.018662405234021892, 0.018643679141956384, 0.018625035722525336, 0.018606390146136787, 0.0185876581348606, 0.0185687561308166, 0.018549601462678075, 0.01853011250988052, 0.0185102088641306, 0.018489811487814478, 0.01846884286891298, 0.01844722717203873, 0.018424890385219054, 0.018401760462061236, 0.01837776745894698, 0.018352843666917525, 0.01832692373792458, 0.01829994480513894, 0.018271846597024053, 0.01824257154490103, 0.018212064883749598, 0.018180274746009247, 0.018147152248165394, 0.01811265156992736, 0.018076730025825518, 0.01803934812907925, 0.018000469647608885, 0.01796006165208956, 0.01791809455596847, 0.017874542147390208, 0.01782938161300135, 0.017782593553627192, 0.017734161991840185, 0.017684074371462605, 0.01763232154907051, 0.017578897777589707, 0.017523800682097888, 0.017467031227970244, 0.01740859368152771, 0.017348495563369357, 0.017286747594590892, 0.017223363636112172, 0.017158360621355003, 0.01709175848253163, 0.01702358007082203, 0.016953851070732853, 0.016882599908948057, 0.016809857657994053, 0.016735657935054615, 0.01666003679628395, 0.0165830326269744, 0.016504686027945612, 0.01642503969852876, 0.016344138316525456, 0.016262028415526122, 0.01617875825997491, 0.016094377718371067, 0.016008938134995973, 0.015922492200555242, 0.015835093822121563, 0.01574679799276095, 0.01565766066121983, 0.015567738602043546, 0.015477089286489411, 0.015385770754588324, 0.01529384148869858, 0.015201360288884426, 0.0151083861504396, 0.015014978143861494, 0.014921195297569165, 0.01482709648364083, 0.014732740306832056, 0.014638184997118062, 0.01454348830598573, 0.014448707406683966, 0.014353898798620287, 0.014259118216074914, 0.014164420541381388, 0.01406985972270518, 0.013975488696530442, 0.013881359314945715, 0.01378752227779885, 0.01369402706977143, 0.01360092190240343, 0.013508253661079082, 0.013416067856964926, 0.013324408583873713, 0.013233318480007087, 0.013142838694514408, 0.013053008858785837, 0.012963867062382464, 0.012875449833489688, 0.012787792123765374, 0.0127009272974396, 0.012614887124510248, 0.01252970177786558, 0.01244539983415405, 0.012362008278211364, 0.012279552510845278, 0.012198056359770636, 0.012117542093480453, 0.012038030437832577, 0.01195954059512689, 0.01188209026544509, 0.011805695670021753, 0.0117303715764151, 0.011656131325245457, 0.01158298685827071, 0.011510948747570183, 0.011440026225611948, 0.011370227215982857, 0.011301558364566299, 0.011234025070958999, 0.011167631519925763, 0.011102380712699374, 0.011038274497942396, 0.010975313602197227, 0.010913497659662133, 0.010852825241141983, 0.01079329388203501, 0.010734900109229433, 0.01067763946679694, 0.010621506540383773, 0.010566494980214154, 0.010512597522635093, 0.010459806010145668, 0.010408111409869355, 0.010357503830441544, 0.010307972537299839, 0.010259505966378833, 0.010212091736225441, 0.010165716658565083, 0.01012036674736263, 0.010076027226435285, 0.01003268253568811, 0.009990316336054043, 0.009948911513233493, 0.009908450180338629, 0.009868913679558396, 0.00983028258296967, 0.009792536692629469, 0.009755655040089914, 0.009719615885486253, 0.009684396716352975, 0.009649974246329287, 0.009616324413919032, 0.00958342238147304, 0.009551242534565029, 0.009519758481931977, 0.009488943056151116, 0.0094587683152243, 0.009429205545238321, 0.009400225264267119, 0.009371797227677583, 0.009343890434995719, 0.009316473138483546, 0.009289512853571191, 0.00926297637127935, 0.009236829772760012, 0.00921103844607272, 0.00918556710530422, 0.009160379812127514, 0.009135439999885442, 0.00911071050027109, 0.009086153572664684, 0.009061730936173568, 0.009037403804407505, 0.009013132923008392, 0.008988878609938245, 0.00896460079851555, 0.008940259083174895, 0.008915812767910283, 0.008891220917348038, 0.008866442410380294, 0.008841435996275872, 0.008816160353171107, 0.008790574148829295, 0.008764636103544101, 0.008738305055049026, 0.008711540025282814, 0.008684300288848236, 0.008656545442991251, 0.008628235478916009, 0.00859933085424184, 0.008569792566399621, 0.008539582226755656, 0.008508662135245308, 0.008476995355290878, 0.008444545788773782, 0.008411278250826163, 0.008377158544203685, 0.008342153532998785, 0.008306231215452584, 0.008269360795622788, 0.008231512753666181, 0.008192658914495636, 0.008152772514574544, 0.008111828266615445, 0.008069802421954137, 0.008026672830377037, 0.007982418997185313, 0.00793702213728807, 0.00789046522612487, 0.00784273304722722, 0.00779381223623959, 0.007743691321230649, 0.007692360759138034, 0.0076398129682017386, 0.007586042356254672, 0.0075310453447520204, 0.007474820388435866, 0.00741736799054503, 0.007358690713495851, 0.007298793184974141, 0.007237682099394455, 0.0071753662146974845, 0.007111856344473449, 0.007047165345413345, 0.006981308100106894, 0.006914301495220913, 0.006846164395107063, 0.006776917610903702, 0.006706583865210698, 0.006635187752430918, 0.006562755694886049, 0.00648931589482816, 0.006414898282481149, 0.006339534460259283, 0.006263257643321051, 0.006186102596629075, 0.0061081055686956435, 0.006029304222205242, 0.005949737561712298, 0.00586944585862274, 0.005788470573673269, 0.005706854277130746], \"yaxis\": \"y\"}, {\"legendgroup\": \"Age Distribution\", \"marker\": {\"color\": \"rgb(31, 119, 180)\", \"symbol\": \"line-ns-open\"}, \"mode\": \"markers\", \"name\": \"Age Distribution\", \"showlegend\": false, \"type\": \"scatter\", \"x\": [19, 21, 20, 23, 31, 22, 35, 23, 64, 30, 67, 35, 58, 24, 37, 22, 35, 20, 52, 35, 35, 25, 46, 31, 54, 29, 45, 35, 40, 23, 60, 21, 53, 18, 49, 21, 42, 30, 36, 20, 65, 24, 48, 31, 49, 24, 50, 27, 29, 31, 49, 33, 31, 59, 50, 47, 51, 69, 27, 53, 70, 19, 67, 54, 63, 18, 43, 68, 19, 32, 70, 47, 60, 60, 59, 26, 45, 40, 23, 49, 57, 38, 67, 46, 21, 48, 55, 22, 34, 50, 68, 18, 48, 40, 32, 24, 47, 27, 48, 20, 23, 49, 67, 26, 49, 21, 66, 54, 68, 66, 65, 19, 38, 19, 18, 19, 63, 49, 51, 50, 27, 38, 40, 39, 23, 31, 43, 40, 59, 38, 47, 39, 25, 31, 20, 29, 44, 32, 19, 35, 57, 32, 28, 32, 25, 28, 48, 32, 34, 34, 43, 39, 44, 38, 47, 27, 37, 30, 34, 30, 56, 29, 19, 31, 50, 36, 42, 33, 36, 32, 40, 28, 36, 36, 52, 30, 58, 27, 59, 35, 37, 32, 46, 29, 41, 30, 54, 28, 41, 36, 34, 32, 33, 38, 47, 35, 45, 32, 32, 30], \"xaxis\": \"x\", \"y\": [\"Age Distribution\", \"Age Distribution\", \"Age Distribution\", \"Age Distribution\", \"Age Distribution\", \"Age Distribution\", \"Age Distribution\", \"Age Distribution\", \"Age Distribution\", \"Age Distribution\", \"Age Distribution\", \"Age Distribution\", \"Age Distribution\", \"Age Distribution\", \"Age Distribution\", \"Age Distribution\", \"Age Distribution\", \"Age Distribution\", \"Age Distribution\", \"Age Distribution\", \"Age Distribution\", \"Age Distribution\", \"Age Distribution\", \"Age Distribution\", \"Age Distribution\", \"Age Distribution\", \"Age Distribution\", \"Age Distribution\", \"Age Distribution\", \"Age Distribution\", \"Age Distribution\", \"Age Distribution\", \"Age Distribution\", \"Age Distribution\", \"Age Distribution\", \"Age Distribution\", \"Age Distribution\", \"Age Distribution\", \"Age Distribution\", \"Age Distribution\", \"Age Distribution\", \"Age Distribution\", \"Age Distribution\", \"Age Distribution\", \"Age Distribution\", \"Age Distribution\", \"Age Distribution\", \"Age Distribution\", \"Age Distribution\", \"Age Distribution\", \"Age Distribution\", \"Age Distribution\", \"Age Distribution\", \"Age Distribution\", \"Age Distribution\", \"Age Distribution\", \"Age Distribution\", \"Age Distribution\", \"Age Distribution\", \"Age Distribution\", \"Age Distribution\", \"Age Distribution\", \"Age Distribution\", \"Age Distribution\", \"Age Distribution\", \"Age Distribution\", \"Age Distribution\", \"Age Distribution\", \"Age Distribution\", \"Age Distribution\", \"Age Distribution\", \"Age Distribution\", \"Age Distribution\", \"Age Distribution\", \"Age Distribution\", \"Age Distribution\", \"Age Distribution\", \"Age Distribution\", \"Age Distribution\", \"Age Distribution\", \"Age Distribution\", \"Age Distribution\", \"Age Distribution\", \"Age Distribution\", \"Age Distribution\", \"Age Distribution\", \"Age Distribution\", \"Age Distribution\", \"Age Distribution\", \"Age Distribution\", \"Age Distribution\", \"Age Distribution\", \"Age Distribution\", \"Age Distribution\", \"Age Distribution\", \"Age Distribution\", \"Age Distribution\", \"Age Distribution\", \"Age Distribution\", \"Age Distribution\", \"Age Distribution\", \"Age Distribution\", \"Age Distribution\", \"Age Distribution\", \"Age Distribution\", \"Age Distribution\", \"Age Distribution\", \"Age Distribution\", \"Age Distribution\", \"Age Distribution\", \"Age Distribution\", \"Age Distribution\", \"Age Distribution\", \"Age Distribution\", \"Age Distribution\", \"Age Distribution\", \"Age Distribution\", \"Age Distribution\", \"Age Distribution\", \"Age Distribution\", \"Age Distribution\", \"Age Distribution\", \"Age Distribution\", \"Age Distribution\", \"Age Distribution\", \"Age Distribution\", \"Age Distribution\", \"Age Distribution\", \"Age Distribution\", \"Age Distribution\", \"Age Distribution\", \"Age Distribution\", \"Age Distribution\", \"Age Distribution\", \"Age Distribution\", \"Age Distribution\", \"Age Distribution\", \"Age Distribution\", \"Age Distribution\", \"Age Distribution\", \"Age Distribution\", \"Age Distribution\", \"Age Distribution\", \"Age Distribution\", \"Age Distribution\", \"Age Distribution\", \"Age Distribution\", \"Age Distribution\", \"Age Distribution\", \"Age Distribution\", \"Age Distribution\", \"Age Distribution\", \"Age Distribution\", \"Age Distribution\", \"Age Distribution\", \"Age Distribution\", \"Age Distribution\", \"Age Distribution\", \"Age Distribution\", \"Age Distribution\", \"Age Distribution\", \"Age Distribution\", \"Age Distribution\", \"Age Distribution\", \"Age Distribution\", \"Age Distribution\", \"Age Distribution\", \"Age Distribution\", \"Age Distribution\", \"Age Distribution\", \"Age Distribution\", \"Age Distribution\", \"Age Distribution\", \"Age Distribution\", \"Age Distribution\", \"Age Distribution\", \"Age Distribution\", \"Age Distribution\", \"Age Distribution\", \"Age Distribution\", \"Age Distribution\", \"Age Distribution\", \"Age Distribution\", \"Age Distribution\", \"Age Distribution\", \"Age Distribution\", \"Age Distribution\", \"Age Distribution\", \"Age Distribution\", \"Age Distribution\", \"Age Distribution\", \"Age Distribution\", \"Age Distribution\", \"Age Distribution\", \"Age Distribution\", \"Age Distribution\", \"Age Distribution\", \"Age Distribution\", \"Age Distribution\", \"Age Distribution\"], \"yaxis\": \"y2\"}],\n",
       "                        {\"barmode\": \"overlay\", \"font\": {\"color\": \"Black\", \"size\": 10}, \"height\": 700, \"hovermode\": \"closest\", \"legend\": {\"title\": {\"text\": \"Legend\"}, \"traceorder\": \"reversed\"}, \"template\": {\"data\": {\"bar\": [{\"error_x\": {\"color\": \"#2a3f5f\"}, \"error_y\": {\"color\": \"#2a3f5f\"}, \"marker\": {\"line\": {\"color\": \"#E5ECF6\", \"width\": 0.5}}, \"type\": \"bar\"}], \"barpolar\": [{\"marker\": {\"line\": {\"color\": \"#E5ECF6\", \"width\": 0.5}}, \"type\": \"barpolar\"}], \"carpet\": [{\"aaxis\": {\"endlinecolor\": \"#2a3f5f\", \"gridcolor\": \"white\", \"linecolor\": \"white\", \"minorgridcolor\": \"white\", \"startlinecolor\": \"#2a3f5f\"}, \"baxis\": {\"endlinecolor\": \"#2a3f5f\", \"gridcolor\": \"white\", \"linecolor\": \"white\", \"minorgridcolor\": \"white\", \"startlinecolor\": \"#2a3f5f\"}, \"type\": \"carpet\"}], \"choropleth\": [{\"colorbar\": {\"outlinewidth\": 0, \"ticks\": \"\"}, \"type\": \"choropleth\"}], \"contour\": [{\"colorbar\": {\"outlinewidth\": 0, \"ticks\": \"\"}, \"colorscale\": [[0.0, \"#0d0887\"], [0.1111111111111111, \"#46039f\"], [0.2222222222222222, \"#7201a8\"], [0.3333333333333333, \"#9c179e\"], [0.4444444444444444, \"#bd3786\"], [0.5555555555555556, \"#d8576b\"], [0.6666666666666666, \"#ed7953\"], [0.7777777777777778, \"#fb9f3a\"], [0.8888888888888888, \"#fdca26\"], [1.0, \"#f0f921\"]], \"type\": \"contour\"}], \"contourcarpet\": [{\"colorbar\": {\"outlinewidth\": 0, \"ticks\": \"\"}, \"type\": \"contourcarpet\"}], \"heatmap\": [{\"colorbar\": {\"outlinewidth\": 0, \"ticks\": \"\"}, \"colorscale\": [[0.0, \"#0d0887\"], [0.1111111111111111, \"#46039f\"], [0.2222222222222222, \"#7201a8\"], [0.3333333333333333, \"#9c179e\"], [0.4444444444444444, \"#bd3786\"], [0.5555555555555556, \"#d8576b\"], [0.6666666666666666, \"#ed7953\"], [0.7777777777777778, \"#fb9f3a\"], [0.8888888888888888, \"#fdca26\"], [1.0, \"#f0f921\"]], \"type\": \"heatmap\"}], \"heatmapgl\": [{\"colorbar\": {\"outlinewidth\": 0, \"ticks\": \"\"}, \"colorscale\": [[0.0, \"#0d0887\"], [0.1111111111111111, \"#46039f\"], [0.2222222222222222, \"#7201a8\"], [0.3333333333333333, \"#9c179e\"], [0.4444444444444444, \"#bd3786\"], [0.5555555555555556, \"#d8576b\"], [0.6666666666666666, \"#ed7953\"], [0.7777777777777778, \"#fb9f3a\"], [0.8888888888888888, \"#fdca26\"], [1.0, \"#f0f921\"]], \"type\": \"heatmapgl\"}], \"histogram\": [{\"marker\": {\"colorbar\": {\"outlinewidth\": 0, \"ticks\": \"\"}}, \"type\": \"histogram\"}], \"histogram2d\": [{\"colorbar\": {\"outlinewidth\": 0, \"ticks\": \"\"}, \"colorscale\": [[0.0, \"#0d0887\"], [0.1111111111111111, \"#46039f\"], [0.2222222222222222, \"#7201a8\"], [0.3333333333333333, \"#9c179e\"], [0.4444444444444444, \"#bd3786\"], [0.5555555555555556, \"#d8576b\"], [0.6666666666666666, \"#ed7953\"], [0.7777777777777778, \"#fb9f3a\"], [0.8888888888888888, \"#fdca26\"], [1.0, \"#f0f921\"]], \"type\": \"histogram2d\"}], \"histogram2dcontour\": [{\"colorbar\": {\"outlinewidth\": 0, \"ticks\": \"\"}, \"colorscale\": [[0.0, \"#0d0887\"], [0.1111111111111111, \"#46039f\"], [0.2222222222222222, \"#7201a8\"], [0.3333333333333333, \"#9c179e\"], [0.4444444444444444, \"#bd3786\"], [0.5555555555555556, \"#d8576b\"], [0.6666666666666666, \"#ed7953\"], [0.7777777777777778, \"#fb9f3a\"], [0.8888888888888888, \"#fdca26\"], [1.0, \"#f0f921\"]], \"type\": \"histogram2dcontour\"}], \"mesh3d\": [{\"colorbar\": {\"outlinewidth\": 0, \"ticks\": \"\"}, \"type\": \"mesh3d\"}], \"parcoords\": [{\"line\": {\"colorbar\": {\"outlinewidth\": 0, \"ticks\": \"\"}}, \"type\": \"parcoords\"}], \"pie\": [{\"automargin\": true, \"type\": \"pie\"}], \"scatter\": [{\"marker\": {\"colorbar\": {\"outlinewidth\": 0, \"ticks\": \"\"}}, \"type\": \"scatter\"}], \"scatter3d\": [{\"line\": {\"colorbar\": {\"outlinewidth\": 0, \"ticks\": \"\"}}, \"marker\": {\"colorbar\": {\"outlinewidth\": 0, \"ticks\": \"\"}}, \"type\": \"scatter3d\"}], \"scattercarpet\": [{\"marker\": {\"colorbar\": {\"outlinewidth\": 0, \"ticks\": \"\"}}, \"type\": \"scattercarpet\"}], \"scattergeo\": [{\"marker\": {\"colorbar\": {\"outlinewidth\": 0, \"ticks\": \"\"}}, \"type\": \"scattergeo\"}], \"scattergl\": [{\"marker\": {\"colorbar\": {\"outlinewidth\": 0, \"ticks\": \"\"}}, \"type\": \"scattergl\"}], \"scattermapbox\": [{\"marker\": {\"colorbar\": {\"outlinewidth\": 0, \"ticks\": \"\"}}, \"type\": \"scattermapbox\"}], \"scatterpolar\": [{\"marker\": {\"colorbar\": {\"outlinewidth\": 0, \"ticks\": \"\"}}, \"type\": \"scatterpolar\"}], \"scatterpolargl\": [{\"marker\": {\"colorbar\": {\"outlinewidth\": 0, \"ticks\": \"\"}}, \"type\": \"scatterpolargl\"}], \"scatterternary\": [{\"marker\": {\"colorbar\": {\"outlinewidth\": 0, \"ticks\": \"\"}}, \"type\": \"scatterternary\"}], \"surface\": [{\"colorbar\": {\"outlinewidth\": 0, \"ticks\": \"\"}, \"colorscale\": [[0.0, \"#0d0887\"], [0.1111111111111111, \"#46039f\"], [0.2222222222222222, \"#7201a8\"], [0.3333333333333333, \"#9c179e\"], [0.4444444444444444, \"#bd3786\"], [0.5555555555555556, \"#d8576b\"], [0.6666666666666666, \"#ed7953\"], [0.7777777777777778, \"#fb9f3a\"], [0.8888888888888888, \"#fdca26\"], [1.0, \"#f0f921\"]], \"type\": \"surface\"}], \"table\": [{\"cells\": {\"fill\": {\"color\": \"#EBF0F8\"}, \"line\": {\"color\": \"white\"}}, \"header\": {\"fill\": {\"color\": \"#C8D4E3\"}, \"line\": {\"color\": \"white\"}}, \"type\": \"table\"}]}, \"layout\": {\"annotationdefaults\": {\"arrowcolor\": \"#2a3f5f\", \"arrowhead\": 0, \"arrowwidth\": 1}, \"coloraxis\": {\"colorbar\": {\"outlinewidth\": 0, \"ticks\": \"\"}}, \"colorscale\": {\"diverging\": [[0, \"#8e0152\"], [0.1, \"#c51b7d\"], [0.2, \"#de77ae\"], [0.3, \"#f1b6da\"], [0.4, \"#fde0ef\"], [0.5, \"#f7f7f7\"], [0.6, \"#e6f5d0\"], [0.7, \"#b8e186\"], [0.8, \"#7fbc41\"], [0.9, \"#4d9221\"], [1, \"#276419\"]], \"sequential\": [[0.0, \"#0d0887\"], [0.1111111111111111, \"#46039f\"], [0.2222222222222222, \"#7201a8\"], [0.3333333333333333, \"#9c179e\"], [0.4444444444444444, \"#bd3786\"], [0.5555555555555556, \"#d8576b\"], [0.6666666666666666, \"#ed7953\"], [0.7777777777777778, \"#fb9f3a\"], [0.8888888888888888, \"#fdca26\"], [1.0, \"#f0f921\"]], \"sequentialminus\": [[0.0, \"#0d0887\"], [0.1111111111111111, \"#46039f\"], [0.2222222222222222, \"#7201a8\"], [0.3333333333333333, \"#9c179e\"], [0.4444444444444444, \"#bd3786\"], [0.5555555555555556, \"#d8576b\"], [0.6666666666666666, \"#ed7953\"], [0.7777777777777778, \"#fb9f3a\"], [0.8888888888888888, \"#fdca26\"], [1.0, \"#f0f921\"]]}, \"colorway\": [\"#636efa\", \"#EF553B\", \"#00cc96\", \"#ab63fa\", \"#FFA15A\", \"#19d3f3\", \"#FF6692\", \"#B6E880\", \"#FF97FF\", \"#FECB52\"], \"font\": {\"color\": \"#2a3f5f\"}, \"geo\": {\"bgcolor\": \"white\", \"lakecolor\": \"white\", \"landcolor\": \"#E5ECF6\", \"showlakes\": true, \"showland\": true, \"subunitcolor\": \"white\"}, \"hoverlabel\": {\"align\": \"left\"}, \"hovermode\": \"closest\", \"mapbox\": {\"style\": \"light\"}, \"paper_bgcolor\": \"white\", \"plot_bgcolor\": \"#E5ECF6\", \"polar\": {\"angularaxis\": {\"gridcolor\": \"white\", \"linecolor\": \"white\", \"ticks\": \"\"}, \"bgcolor\": \"#E5ECF6\", \"radialaxis\": {\"gridcolor\": \"white\", \"linecolor\": \"white\", \"ticks\": \"\"}}, \"scene\": {\"xaxis\": {\"backgroundcolor\": \"#E5ECF6\", \"gridcolor\": \"white\", \"gridwidth\": 2, \"linecolor\": \"white\", \"showbackground\": true, \"ticks\": \"\", \"zerolinecolor\": \"white\"}, \"yaxis\": {\"backgroundcolor\": \"#E5ECF6\", \"gridcolor\": \"white\", \"gridwidth\": 2, \"linecolor\": \"white\", \"showbackground\": true, \"ticks\": \"\", \"zerolinecolor\": \"white\"}, \"zaxis\": {\"backgroundcolor\": \"#E5ECF6\", \"gridcolor\": \"white\", \"gridwidth\": 2, \"linecolor\": \"white\", \"showbackground\": true, \"ticks\": \"\", \"zerolinecolor\": \"white\"}}, \"shapedefaults\": {\"line\": {\"color\": \"#2a3f5f\"}}, \"ternary\": {\"aaxis\": {\"gridcolor\": \"white\", \"linecolor\": \"white\", \"ticks\": \"\"}, \"baxis\": {\"gridcolor\": \"white\", \"linecolor\": \"white\", \"ticks\": \"\"}, \"bgcolor\": \"#E5ECF6\", \"caxis\": {\"gridcolor\": \"white\", \"linecolor\": \"white\", \"ticks\": \"\"}}, \"title\": {\"x\": 0.05}, \"xaxis\": {\"automargin\": true, \"gridcolor\": \"white\", \"linecolor\": \"white\", \"ticks\": \"\", \"title\": {\"standoff\": 15}, \"zerolinecolor\": \"white\", \"zerolinewidth\": 2}, \"yaxis\": {\"automargin\": true, \"gridcolor\": \"white\", \"linecolor\": \"white\", \"ticks\": \"\", \"title\": {\"standoff\": 15}, \"zerolinecolor\": \"white\", \"zerolinewidth\": 2}}}, \"title\": {\"font\": {\"color\": \"Black\", \"size\": 20}, \"text\": \"Age Distribution\"}, \"width\": 1100, \"xaxis\": {\"anchor\": \"y2\", \"domain\": [0.0, 1.0], \"showgrid\": true, \"title\": {\"text\": \"Age\"}, \"zeroline\": true}, \"yaxis\": {\"anchor\": \"free\", \"domain\": [0.35, 1], \"position\": 0.0, \"showgrid\": true, \"title\": {\"text\": \"Distribution\"}, \"zeroline\": true}, \"yaxis2\": {\"anchor\": \"x\", \"domain\": [0, 0.25], \"dtick\": 1, \"showgrid\": true, \"showticklabels\": false, \"title\": {\"text\": \"Distribution\"}, \"zeroline\": true}},\n",
       "                        {\"responsive\": true}\n",
       "                    ).then(function(){\n",
       "                            \n",
       "var gd = document.getElementById('ce7972c2-86bd-4ea4-a71b-8c8fa3923ae8');\n",
       "var x = new MutationObserver(function (mutations, observer) {{\n",
       "        var display = window.getComputedStyle(gd).display;\n",
       "        if (!display || display === 'none') {{\n",
       "            console.log([gd, 'removed!']);\n",
       "            Plotly.purge(gd);\n",
       "            observer.disconnect();\n",
       "        }}\n",
       "}});\n",
       "\n",
       "// Listen for the removal of the full notebook cells\n",
       "var notebookContainer = gd.closest('#notebook-container');\n",
       "if (notebookContainer) {{\n",
       "    x.observe(notebookContainer, {childList: true});\n",
       "}}\n",
       "\n",
       "// Listen for the clearing of the current output cell\n",
       "var outputEl = gd.closest('.output');\n",
       "if (outputEl) {{\n",
       "    x.observe(outputEl, {childList: true});\n",
       "}}\n",
       "\n",
       "                        })\n",
       "                };\n",
       "                });\n",
       "            </script>\n",
       "        </div>"
      ]
     },
     "metadata": {},
     "output_type": "display_data"
    }
   ],
   "source": [
    "#Positively skewed in terms of age\n",
    "DistributionPlot(Data, \"Age\")"
   ]
  },
  {
   "cell_type": "code",
   "execution_count": 45,
   "metadata": {},
   "outputs": [
    {
     "data": {
      "application/vnd.plotly.v1+json": {
       "config": {
        "plotlyServerURL": "https://plot.ly"
       },
       "data": [
        {
         "autobinx": false,
         "histnorm": "probability density",
         "legendgroup": "SpendingScore Distribution",
         "marker": {
          "color": "rgb(31, 119, 180)"
         },
         "name": "SpendingScore Distribution",
         "opacity": 0.7,
         "type": "histogram",
         "x": [
          39,
          81,
          6,
          77,
          40,
          76,
          6,
          94,
          3,
          72,
          14,
          99,
          15,
          77,
          13,
          79,
          35,
          66,
          29,
          98,
          35,
          73,
          5,
          73,
          14,
          82,
          32,
          61,
          31,
          87,
          4,
          73,
          4,
          92,
          14,
          81,
          17,
          73,
          26,
          75,
          35,
          92,
          36,
          61,
          28,
          65,
          55,
          47,
          42,
          42,
          52,
          60,
          54,
          60,
          45,
          41,
          50,
          46,
          51,
          46,
          56,
          55,
          52,
          59,
          51,
          59,
          50,
          48,
          59,
          47,
          55,
          42,
          49,
          56,
          47,
          54,
          53,
          48,
          52,
          42,
          51,
          55,
          41,
          44,
          57,
          46,
          58,
          55,
          60,
          46,
          55,
          41,
          49,
          40,
          42,
          52,
          47,
          50,
          42,
          49,
          41,
          48,
          59,
          55,
          56,
          42,
          50,
          46,
          43,
          48,
          52,
          54,
          42,
          46,
          48,
          50,
          43,
          59,
          43,
          57,
          56,
          40,
          58,
          91,
          29,
          77,
          35,
          95,
          11,
          75,
          9,
          75,
          34,
          71,
          5,
          88,
          7,
          73,
          10,
          72,
          5,
          93,
          40,
          87,
          12,
          97,
          36,
          74,
          22,
          90,
          17,
          88,
          20,
          76,
          16,
          89,
          1,
          78,
          1,
          73,
          35,
          83,
          5,
          93,
          26,
          75,
          20,
          95,
          27,
          63,
          13,
          75,
          10,
          92,
          13,
          86,
          15,
          69,
          14,
          90,
          32,
          86,
          15,
          88,
          39,
          97,
          24,
          68,
          17,
          85,
          23,
          69,
          8,
          91,
          16,
          79,
          28,
          74,
          18,
          83
         ],
         "xaxis": "x",
         "xbins": {
          "end": 99,
          "size": 3.5,
          "start": 1
         },
         "yaxis": "y"
        },
        {
         "legendgroup": "SpendingScore Distribution",
         "marker": {
          "color": "rgb(31, 119, 180)"
         },
         "mode": "lines",
         "name": "SpendingScore Distribution",
         "showlegend": false,
         "type": "scatter",
         "x": [
          1,
          1.196,
          1.392,
          1.588,
          1.784,
          1.98,
          2.176,
          2.372,
          2.568,
          2.7640000000000002,
          2.96,
          3.156,
          3.352,
          3.548,
          3.744,
          3.94,
          4.136,
          4.332,
          4.5280000000000005,
          4.724,
          4.92,
          5.116,
          5.312,
          5.508,
          5.704,
          5.9,
          6.096,
          6.292,
          6.488,
          6.684,
          6.88,
          7.076,
          7.272,
          7.468,
          7.664,
          7.86,
          8.056000000000001,
          8.251999999999999,
          8.448,
          8.644,
          8.84,
          9.036,
          9.232,
          9.428,
          9.624,
          9.82,
          10.016,
          10.212,
          10.408,
          10.604,
          10.8,
          10.996,
          11.192,
          11.388,
          11.584,
          11.78,
          11.976,
          12.172,
          12.368,
          12.564,
          12.76,
          12.956,
          13.152,
          13.348,
          13.544,
          13.74,
          13.936,
          14.132,
          14.328,
          14.524,
          14.72,
          14.916,
          15.112,
          15.308,
          15.504,
          15.7,
          15.896,
          16.092,
          16.288,
          16.484,
          16.68,
          16.875999999999998,
          17.072,
          17.268,
          17.464,
          17.66,
          17.856,
          18.052,
          18.248,
          18.444,
          18.64,
          18.836,
          19.032,
          19.228,
          19.424,
          19.62,
          19.816,
          20.012,
          20.208,
          20.404,
          20.6,
          20.796,
          20.992,
          21.188,
          21.384,
          21.58,
          21.776,
          21.972,
          22.168,
          22.364,
          22.56,
          22.756,
          22.952,
          23.148,
          23.344,
          23.54,
          23.736,
          23.932,
          24.128,
          24.324,
          24.52,
          24.716,
          24.912,
          25.108,
          25.304,
          25.5,
          25.696,
          25.892,
          26.088,
          26.284,
          26.48,
          26.676,
          26.872,
          27.068,
          27.264,
          27.46,
          27.656,
          27.852,
          28.048,
          28.244,
          28.44,
          28.636,
          28.832,
          29.028,
          29.224,
          29.42,
          29.616,
          29.812,
          30.008,
          30.204,
          30.4,
          30.596,
          30.792,
          30.988,
          31.184,
          31.38,
          31.576,
          31.772,
          31.968,
          32.164,
          32.36,
          32.556,
          32.751999999999995,
          32.948,
          33.144,
          33.34,
          33.536,
          33.732,
          33.928,
          34.124,
          34.32,
          34.516,
          34.712,
          34.908,
          35.104,
          35.3,
          35.496,
          35.692,
          35.888,
          36.084,
          36.28,
          36.476,
          36.672,
          36.868,
          37.064,
          37.26,
          37.456,
          37.652,
          37.848,
          38.044,
          38.24,
          38.436,
          38.632,
          38.828,
          39.024,
          39.22,
          39.416,
          39.612,
          39.808,
          40.004,
          40.2,
          40.396,
          40.592,
          40.788,
          40.984,
          41.18,
          41.376,
          41.572,
          41.768,
          41.964,
          42.16,
          42.356,
          42.552,
          42.748,
          42.944,
          43.14,
          43.336,
          43.532,
          43.728,
          43.924,
          44.12,
          44.316,
          44.512,
          44.708,
          44.904,
          45.1,
          45.296,
          45.492,
          45.688,
          45.884,
          46.08,
          46.276,
          46.472,
          46.668,
          46.864,
          47.06,
          47.256,
          47.452,
          47.648,
          47.844,
          48.04,
          48.236,
          48.432,
          48.628,
          48.824,
          49.02,
          49.216,
          49.412,
          49.608,
          49.804,
          50,
          50.196,
          50.392,
          50.588,
          50.784,
          50.98,
          51.176,
          51.372,
          51.568,
          51.764,
          51.96,
          52.156,
          52.352,
          52.548,
          52.744,
          52.94,
          53.136,
          53.332,
          53.528,
          53.724,
          53.92,
          54.116,
          54.312,
          54.508,
          54.704,
          54.9,
          55.096,
          55.292,
          55.488,
          55.684,
          55.88,
          56.076,
          56.272,
          56.468,
          56.664,
          56.86,
          57.056,
          57.252,
          57.448,
          57.644,
          57.84,
          58.036,
          58.232,
          58.428,
          58.624,
          58.82,
          59.016,
          59.212,
          59.408,
          59.604,
          59.8,
          59.996,
          60.192,
          60.388,
          60.584,
          60.78,
          60.976,
          61.172,
          61.368,
          61.564,
          61.76,
          61.956,
          62.152,
          62.348,
          62.544,
          62.74,
          62.936,
          63.132,
          63.328,
          63.524,
          63.72,
          63.916,
          64.112,
          64.30799999999999,
          64.50399999999999,
          64.7,
          64.896,
          65.092,
          65.288,
          65.484,
          65.68,
          65.876,
          66.072,
          66.268,
          66.464,
          66.66,
          66.856,
          67.052,
          67.248,
          67.444,
          67.64,
          67.836,
          68.032,
          68.228,
          68.424,
          68.62,
          68.816,
          69.012,
          69.208,
          69.404,
          69.6,
          69.796,
          69.992,
          70.188,
          70.384,
          70.58,
          70.776,
          70.972,
          71.168,
          71.364,
          71.56,
          71.756,
          71.952,
          72.148,
          72.344,
          72.54,
          72.736,
          72.932,
          73.128,
          73.324,
          73.52,
          73.716,
          73.912,
          74.108,
          74.304,
          74.5,
          74.696,
          74.892,
          75.088,
          75.284,
          75.48,
          75.676,
          75.872,
          76.068,
          76.264,
          76.46,
          76.656,
          76.852,
          77.048,
          77.244,
          77.44,
          77.636,
          77.832,
          78.028,
          78.224,
          78.42,
          78.616,
          78.812,
          79.008,
          79.204,
          79.4,
          79.596,
          79.792,
          79.988,
          80.184,
          80.38,
          80.576,
          80.772,
          80.968,
          81.164,
          81.36,
          81.556,
          81.752,
          81.948,
          82.144,
          82.34,
          82.536,
          82.732,
          82.928,
          83.124,
          83.32,
          83.516,
          83.712,
          83.908,
          84.104,
          84.3,
          84.496,
          84.692,
          84.888,
          85.084,
          85.28,
          85.476,
          85.672,
          85.868,
          86.064,
          86.26,
          86.456,
          86.652,
          86.848,
          87.044,
          87.24,
          87.436,
          87.632,
          87.828,
          88.024,
          88.22,
          88.416,
          88.612,
          88.808,
          89.004,
          89.2,
          89.396,
          89.592,
          89.788,
          89.984,
          90.18,
          90.376,
          90.572,
          90.768,
          90.964,
          91.16,
          91.356,
          91.552,
          91.748,
          91.944,
          92.14,
          92.336,
          92.532,
          92.728,
          92.924,
          93.12,
          93.316,
          93.512,
          93.708,
          93.904,
          94.1,
          94.296,
          94.492,
          94.688,
          94.884,
          95.08,
          95.276,
          95.472,
          95.668,
          95.864,
          96.06,
          96.256,
          96.452,
          96.648,
          96.844,
          97.04,
          97.236,
          97.432,
          97.628,
          97.824,
          98.02,
          98.216,
          98.412,
          98.608,
          98.804
         ],
         "xaxis": "x",
         "y": [
          0.004421796577386014,
          0.004499472616351304,
          0.004577067581778796,
          0.0046545379190885364,
          0.0047318398541255245,
          0.0048089294471594015,
          0.00488576264758588,
          0.004962295349248926,
          0.00503848344630204,
          0.00511428288952654,
          0.005189649743024509,
          0.005264540241203834,
          0.005338910845972747,
          0.005412718304061359,
          0.0054859197043878,
          0.005558472535386815,
          0.005630334742219205,
          0.005701464783780714,
          0.005771821689429567,
          0.005841365115352475,
          0.005910055400489557,
          0.005977853621939301,
          0.006044721649765348,
          0.006110622201127921,
          0.006175518893663236,
          0.006239376298035393,
          0.0063021599895859235,
          0.006363836599007289,
          0.006424373861967433,
          0.00648374066761371,
          0.006541907105885269,
          0.0065988445135643945,
          0.006654525518998029,
          0.006708924085422341,
          0.006762015552823838,
          0.006813776678272324,
          0.006864185674661928,
          0.0069132222477979975,
          0.006960867631768947,
          0.007007104622543919,
          0.007051917609738265,
          0.007095292606491018,
          0.00713721727739994,
          0.0071776809644618165,
          0.007216674710967409,
          0.007254191283302906,
          0.007290225190611507,
          0.007324772702271525,
          0.0073578318631494655,
          0.00738940250658951,
          0.007419486265103103,
          0.007448086578725876,
          0.0074752087010113,
          0.007500859702634569,
          0.007525048472582616,
          0.007547785716910349,
          0.007569083955046292,
          0.007588957513634794,
          0.007607422517905697,
          0.007624496880566474,
          0.007640200288215793,
          0.007654554185281752,
          0.00766758175549241,
          0.0076793079008905495,
          0.007689759218409089,
          0.0076989639740281755,
          0.007706952074539608,
          0.007713755036948739,
          0.007719405955548838,
          0.007723939466707467,
          0.007727391711408986,
          0.007729800295602218,
          0.007731204248406437,
          0.007731643978233725,
          0.007731161226889956,
          0.007729799021721004,
          0.007727601625874933,
          0.007724614486755004,
          0.00772088418274213,
          0.007716458368269196,
          0.007711385717332966,
          0.007705715865532759,
          0.007699499350727991,
          0.007692787552409491,
          0.0076856326298820115,
          0.007678087459357636,
          0.007670205570061688,
          0.007662041079454517,
          0.007653648627673697,
          0.007645083311302585,
          0.007636400616571411,
          0.007627656352098031,
          0.007618906581275218,
          0.007610207554411143,
          0.0076016156407294885,
          0.007593187260334302,
          0.007584978816243975,
          0.007577046626596947,
          0.007569446857130176,
          0.007562235454029209,
          0.007555468077246648,
          0.007549200034382794,
          0.007543486215219966,
          0.007538381026998478,
          0.007533938330519511,
          0.007530211377156079,
          0.007527252746850353,
          0.007525114287171419,
          0.00752384705350372,
          0.007523501250432738,
          0.0075241261743901125,
          0.0075257701576164,
          0.007528480513495579,
          0.007532303483311114,
          0.007537284184469393,
          0.007543466560232072,
          0.007550893330994801,
          0.007559605947145997,
          0.007569644543535068,
          0.007581047895575963,
          0.007593853377008142,
          0.007608096919333462,
          0.0076238129729441885,
          0.007641034469954052,
          0.007659792788741216,
          0.0076801177202094,
          0.0077020374357703566,
          0.007725578457048826,
          0.007750765627308848,
          0.007777622084597983,
          0.007806169236604736,
          0.007836426737222311,
          0.007868412464811235,
          0.007902142502151271,
          0.007937631118073288,
          0.00797489075075996,
          0.008013931992704384,
          0.008054763577315022,
          0.008097392367155351,
          0.008141823343806486,
          0.00818805959934132,
          0.008236102329399043,
          0.008285950827848951,
          0.008337602483033668,
          0.008391052775581631,
          0.008446295277780173,
          0.008503321654500696,
          0.008562121665668464,
          0.00862268317027028,
          0.008684992131894068,
          0.008749032625795109,
          0.008814786847484688,
          0.008882235122837102,
          0.008951355919712148,
          0.009022125861090602,
          0.00909451973972021,
          0.009168510534271078,
          0.009244069426998531,
          0.009321165822912402,
          0.00939976737045133,
          0.009479839983660835,
          0.009561347865873187,
          0.009644253534887223,
          0.009728517849645261,
          0.009814100038403795,
          0.009900957728393679,
          0.009989046976964249,
          0.010078322304205281,
          0.010168736727038687,
          0.010260241794770615,
          0.010352787626093327,
          0.010446322947524008,
          0.010540795133266249,
          0.010636150246477667,
          0.010732333081925508,
          0.010829287210009494,
          0.010926955022129358,
          0.011025277777372184,
          0.011124195650492335,
          0.011223647781154464,
          0.011323572324407989,
          0.011423906502358788,
          0.011524586657001925,
          0.011625548304176715,
          0.011726726188603244,
          0.011828054339957926,
          0.011929466129942279,
          0.01203089433029867,
          0.012132271171723991,
          0.012233528403630501,
          0.012334597354701729,
          0.012435408994189785,
          0.012535893993898784,
          0.012635982790798089,
          0.012735605650207876,
          0.012834692729498809,
          0.01293317414224634,
          0.013030980022780188,
          0.013128040591068434,
          0.013224286217875952,
          0.013319647490136042,
          0.013414055276474835,
          0.013507440792827627,
          0.01359973566808662,
          0.013690872009720306,
          0.013780782469304535,
          0.01386940030790647,
          0.013956659461263166,
          0.014042494604696759,
          0.01412684121771,
          0.014209635648205756,
          0.01429081517627561,
          0.014370318077503531,
          0.014448083685730879,
          0.014524052455231142,
          0.014598166022242363,
          0.014670367265806825,
          0.01474060036786822,
          0.014808810872577079,
          0.014874945744755999,
          0.014938953427476687,
          0.015000783898701244,
          0.015060388726940467,
          0.015117721125882215,
          0.015172736007942713,
          0.015225390036693601,
          0.015275641678117619,
          0.015323451250645267,
          0.015368780973923732,
          0.015411595016269614,
          0.015451859540755512,
          0.015489542749879574,
          0.015524614928766584,
          0.01555704848684683,
          0.01558681799795898,
          0.01561390023882069,
          0.01563827422580937,
          0.015659921249994317,
          0.01567882491035932,
          0.015694971145153003,
          0.01570834826130283,
          0.01571894696182669,
          0.01572676037117438,
          0.015731784058429375,
          0.015734016058300028,
          0.015733456889827673,
          0.01573010957273761,
          0.015723979641358275,
          0.015715075156032023,
          0.015703406711941068,
          0.015688987445270954,
          0.015671833036633998,
          0.015651961711674895,
          0.01562939423878143,
          0.01560415392382343,
          0.015576266601844647,
          0.01554576062563364,
          0.015512666851101493,
          0.015477018619396626,
          0.015438851735690033,
          0.01539820444456747,
          0.015355117401968484,
          0.015309633643617641,
          0.01526179854989654,
          0.015211659807112381,
          0.015159267365123122,
          0.015104673391286787,
          0.015047932220708842,
          0.014989100302769237,
          0.014928236143918819,
          0.014865400246742764,
          0.014800655045298136,
          0.01473406483674212,
          0.014665695709276252,
          0.014595615466444044,
          0.014523893547827892,
          0.014450600946203877,
          0.014375810121223275,
          0.014299594909700994,
          0.014222030432603979,
          0.014143192998843037,
          0.014063160005984914,
          0.013982009838012096,
          0.01389982176027167,
          0.0138166758117651,
          0.013732652694943295,
          0.013647833663183824,
          0.013562300406137527,
          0.013476134933144436,
          0.013389419454928796,
          0.01330223626379452,
          0.013214667612552234,
          0.01312679559241865,
          0.013038702010138497,
          0.012950468264587468,
          0.012862175223122685,
          0.012773903097953957,
          0.012685731322816007,
          0.0125977384302268,
          0.012510001929621786,
          0.012422598186658028,
          0.012335602303984053,
          0.012249088003774132,
          0.012163127512325038,
          0.012077791447014052,
          0.011993148705915283,
          0.01190926636036794,
          0.011826209550787994,
          0.011744041386008566,
          0.011662822846429059,
          0.0115826126912458,
          0.011503467370029004,
          0.011425440938900787,
          0.011348584981559847,
          0.011272948535385487,
          0.011198578022842331,
          0.011125517188392782,
          0.01105380704111017,
          0.010983485803169778,
          0.010914588864379172,
          0.010847148742891267,
          0.01078119505222666,
          0.01071675447471242,
          0.010653850741425618,
          0.01059250461870998,
          0.010532733901314088,
          0.010474553412178293,
          0.010417975008877128,
          0.010363007596702398,
          0.010309657148350885,
          0.010257926730159003,
          0.010207816534805578,
          0.010159323920382324,
          0.010112443455710626,
          0.0100671669717625,
          0.01002348361902295,
          0.009981379930611196,
          0.009940839890958762,
          0.009901845009823764,
          0.009864374401402538,
          0.009828404868282828,
          0.009793910989966348,
          0.009760865215673096,
          0.009729237961125684,
          0.009698997708998795,
          0.009670111112706705,
          0.009642543103191162,
          0.009616256998362433,
          0.009591214614838079,
          0.00956737638161727,
          0.009544701455323091,
          0.009523147836641165,
          0.009502672487580474,
          0.009483231449181399,
          0.00946477995929595,
          0.009447272570067536,
          0.009430663264740551,
          0.009414905573435252,
          0.00939995268752933,
          0.009385757572295383,
          0.009372273077452508,
          0.009359452045300679,
          0.009347247416118084,
          0.00933561233051463,
          0.009324500228449013,
          0.009313864944631758,
          0.009303660800053072,
          0.009293842689391641,
          0.009284366164078604,
          0.009275187510809996,
          0.009266263825320737,
          0.009257553081253436,
          0.009249014193976685,
          0.009240607079228337,
          0.009232292706481782,
          0.009224033146954561,
          0.009215791616201563,
          0.009207532511256947,
          0.009199221442311544,
          0.00919082525893437,
          0.009182312070869184,
          0.009173651263458364,
          0.009164813507767966,
          0.00915577076550815,
          0.009146496288863782,
          0.009136964615369099,
          0.009127151557979213,
          0.009117034190509259,
          0.009106590828628516,
          0.009095801006613348,
          0.009084645450077406,
          0.009073106044911374,
          0.009061165802677351,
          0.009048808822714426,
          0.009036020251221976,
          0.00902278623759647,
          0.00900909388830502,
          0.008994931218585104,
          0.008980287102264893,
          0.008965151220002451,
          0.008949514006243655,
          0.008933366595200089,
          0.00891670076614736,
          0.00889950888834254,
          0.008881783865856025,
          0.008863519082609067,
          0.008844708347901973,
          0.008825345842711649,
          0.00880542606702828,
          0.008784943788492565,
          0.008763893992583916,
          0.008742271834599141,
          0.008720072593648712,
          0.008697291628884612,
          0.008673924338159882,
          0.008649966119305253,
          0.008625412334192728,
          0.008600258275740737,
          0.008574499137998027,
          0.00854812998942768,
          0.008521145749494587,
          0.008493541168643039,
          0.008465310811732824,
          0.008436449044985049,
          0.008406950026470902,
          0.00837680770015908,
          0.008346015793519977,
          0.008314567818667835,
          0.008282457077004602,
          0.008249676667313273,
          0.008216219497231742,
          0.008182078298023249,
          0.00814724564254401,
          0.008111713966294438,
          0.008075475591426682,
          0.008038522753568329,
          0.008000847631309857,
          0.007962442378192235,
          0.00792329915702067,
          0.007883410176320965,
          0.007842767728746433,
          0.007801364231235688,
          0.0077591922667151515,
          0.007716244627134392,
          0.0076725143576179735,
          0.007627994801513828,
          0.007582679646115754,
          0.007536562968836077,
          0.007489639283603889,
          0.007441903587265104,
          0.0073933514057615635,
          0.007343978839869497,
          0.007293782610280186,
          0.007242760101810745,
          0.007190909406537577,
          0.007138229365651155,
          0.007084719609837619,
          0.007030380598000076,
          0.006975213654140802,
          0.006919221002234423,
          0.006862405798931597,
          0.006804772163942844,
          0.006746325207962664,
          0.0066870710580052214,
          0.006627016880034129,
          0.0065661708987809165,
          0.006504542414658348,
          0.006442141817687679,
          0.0063789805983708045,
          0.00631507135545126,
          0.006250427800520465,
          0.006185064759438407,
          0.0061189981705503495,
          0.006052245079694143,
          0.005984823632004453,
          0.0059167530605330546,
          0.005848053671715792,
          0.005778746827728818,
          0.005708854925787753,
          0.00563840137445468,
          0.005567410567028179,
          0.005495907852101833,
          0.005423919501386321,
          0.005351472674899126,
          0.005278595383634789,
          0.005205316449836274,
          0.005131665464995837,
          0.005057672745720391,
          0.004983369287602544,
          0.004908786717244287,
          0.004833957242585087,
          0.0047589136016905,
          0.00468368901016095,
          0.0046083171073235864,
          0.004532831901372063,
          0.004457267713621212,
          0.004381659122044165,
          0.0043060409042602905,
          0.004230447980141901,
          0.00415491535420664
         ],
         "yaxis": "y"
        },
        {
         "legendgroup": "SpendingScore Distribution",
         "marker": {
          "color": "rgb(31, 119, 180)",
          "symbol": "line-ns-open"
         },
         "mode": "markers",
         "name": "SpendingScore Distribution",
         "showlegend": false,
         "type": "scatter",
         "x": [
          39,
          81,
          6,
          77,
          40,
          76,
          6,
          94,
          3,
          72,
          14,
          99,
          15,
          77,
          13,
          79,
          35,
          66,
          29,
          98,
          35,
          73,
          5,
          73,
          14,
          82,
          32,
          61,
          31,
          87,
          4,
          73,
          4,
          92,
          14,
          81,
          17,
          73,
          26,
          75,
          35,
          92,
          36,
          61,
          28,
          65,
          55,
          47,
          42,
          42,
          52,
          60,
          54,
          60,
          45,
          41,
          50,
          46,
          51,
          46,
          56,
          55,
          52,
          59,
          51,
          59,
          50,
          48,
          59,
          47,
          55,
          42,
          49,
          56,
          47,
          54,
          53,
          48,
          52,
          42,
          51,
          55,
          41,
          44,
          57,
          46,
          58,
          55,
          60,
          46,
          55,
          41,
          49,
          40,
          42,
          52,
          47,
          50,
          42,
          49,
          41,
          48,
          59,
          55,
          56,
          42,
          50,
          46,
          43,
          48,
          52,
          54,
          42,
          46,
          48,
          50,
          43,
          59,
          43,
          57,
          56,
          40,
          58,
          91,
          29,
          77,
          35,
          95,
          11,
          75,
          9,
          75,
          34,
          71,
          5,
          88,
          7,
          73,
          10,
          72,
          5,
          93,
          40,
          87,
          12,
          97,
          36,
          74,
          22,
          90,
          17,
          88,
          20,
          76,
          16,
          89,
          1,
          78,
          1,
          73,
          35,
          83,
          5,
          93,
          26,
          75,
          20,
          95,
          27,
          63,
          13,
          75,
          10,
          92,
          13,
          86,
          15,
          69,
          14,
          90,
          32,
          86,
          15,
          88,
          39,
          97,
          24,
          68,
          17,
          85,
          23,
          69,
          8,
          91,
          16,
          79,
          28,
          74,
          18,
          83
         ],
         "xaxis": "x",
         "y": [
          "SpendingScore Distribution",
          "SpendingScore Distribution",
          "SpendingScore Distribution",
          "SpendingScore Distribution",
          "SpendingScore Distribution",
          "SpendingScore Distribution",
          "SpendingScore Distribution",
          "SpendingScore Distribution",
          "SpendingScore Distribution",
          "SpendingScore Distribution",
          "SpendingScore Distribution",
          "SpendingScore Distribution",
          "SpendingScore Distribution",
          "SpendingScore Distribution",
          "SpendingScore Distribution",
          "SpendingScore Distribution",
          "SpendingScore Distribution",
          "SpendingScore Distribution",
          "SpendingScore Distribution",
          "SpendingScore Distribution",
          "SpendingScore Distribution",
          "SpendingScore Distribution",
          "SpendingScore Distribution",
          "SpendingScore Distribution",
          "SpendingScore Distribution",
          "SpendingScore Distribution",
          "SpendingScore Distribution",
          "SpendingScore Distribution",
          "SpendingScore Distribution",
          "SpendingScore Distribution",
          "SpendingScore Distribution",
          "SpendingScore Distribution",
          "SpendingScore Distribution",
          "SpendingScore Distribution",
          "SpendingScore Distribution",
          "SpendingScore Distribution",
          "SpendingScore Distribution",
          "SpendingScore Distribution",
          "SpendingScore Distribution",
          "SpendingScore Distribution",
          "SpendingScore Distribution",
          "SpendingScore Distribution",
          "SpendingScore Distribution",
          "SpendingScore Distribution",
          "SpendingScore Distribution",
          "SpendingScore Distribution",
          "SpendingScore Distribution",
          "SpendingScore Distribution",
          "SpendingScore Distribution",
          "SpendingScore Distribution",
          "SpendingScore Distribution",
          "SpendingScore Distribution",
          "SpendingScore Distribution",
          "SpendingScore Distribution",
          "SpendingScore Distribution",
          "SpendingScore Distribution",
          "SpendingScore Distribution",
          "SpendingScore Distribution",
          "SpendingScore Distribution",
          "SpendingScore Distribution",
          "SpendingScore Distribution",
          "SpendingScore Distribution",
          "SpendingScore Distribution",
          "SpendingScore Distribution",
          "SpendingScore Distribution",
          "SpendingScore Distribution",
          "SpendingScore Distribution",
          "SpendingScore Distribution",
          "SpendingScore Distribution",
          "SpendingScore Distribution",
          "SpendingScore Distribution",
          "SpendingScore Distribution",
          "SpendingScore Distribution",
          "SpendingScore Distribution",
          "SpendingScore Distribution",
          "SpendingScore Distribution",
          "SpendingScore Distribution",
          "SpendingScore Distribution",
          "SpendingScore Distribution",
          "SpendingScore Distribution",
          "SpendingScore Distribution",
          "SpendingScore Distribution",
          "SpendingScore Distribution",
          "SpendingScore Distribution",
          "SpendingScore Distribution",
          "SpendingScore Distribution",
          "SpendingScore Distribution",
          "SpendingScore Distribution",
          "SpendingScore Distribution",
          "SpendingScore Distribution",
          "SpendingScore Distribution",
          "SpendingScore Distribution",
          "SpendingScore Distribution",
          "SpendingScore Distribution",
          "SpendingScore Distribution",
          "SpendingScore Distribution",
          "SpendingScore Distribution",
          "SpendingScore Distribution",
          "SpendingScore Distribution",
          "SpendingScore Distribution",
          "SpendingScore Distribution",
          "SpendingScore Distribution",
          "SpendingScore Distribution",
          "SpendingScore Distribution",
          "SpendingScore Distribution",
          "SpendingScore Distribution",
          "SpendingScore Distribution",
          "SpendingScore Distribution",
          "SpendingScore Distribution",
          "SpendingScore Distribution",
          "SpendingScore Distribution",
          "SpendingScore Distribution",
          "SpendingScore Distribution",
          "SpendingScore Distribution",
          "SpendingScore Distribution",
          "SpendingScore Distribution",
          "SpendingScore Distribution",
          "SpendingScore Distribution",
          "SpendingScore Distribution",
          "SpendingScore Distribution",
          "SpendingScore Distribution",
          "SpendingScore Distribution",
          "SpendingScore Distribution",
          "SpendingScore Distribution",
          "SpendingScore Distribution",
          "SpendingScore Distribution",
          "SpendingScore Distribution",
          "SpendingScore Distribution",
          "SpendingScore Distribution",
          "SpendingScore Distribution",
          "SpendingScore Distribution",
          "SpendingScore Distribution",
          "SpendingScore Distribution",
          "SpendingScore Distribution",
          "SpendingScore Distribution",
          "SpendingScore Distribution",
          "SpendingScore Distribution",
          "SpendingScore Distribution",
          "SpendingScore Distribution",
          "SpendingScore Distribution",
          "SpendingScore Distribution",
          "SpendingScore Distribution",
          "SpendingScore Distribution",
          "SpendingScore Distribution",
          "SpendingScore Distribution",
          "SpendingScore Distribution",
          "SpendingScore Distribution",
          "SpendingScore Distribution",
          "SpendingScore Distribution",
          "SpendingScore Distribution",
          "SpendingScore Distribution",
          "SpendingScore Distribution",
          "SpendingScore Distribution",
          "SpendingScore Distribution",
          "SpendingScore Distribution",
          "SpendingScore Distribution",
          "SpendingScore Distribution",
          "SpendingScore Distribution",
          "SpendingScore Distribution",
          "SpendingScore Distribution",
          "SpendingScore Distribution",
          "SpendingScore Distribution",
          "SpendingScore Distribution",
          "SpendingScore Distribution",
          "SpendingScore Distribution",
          "SpendingScore Distribution",
          "SpendingScore Distribution",
          "SpendingScore Distribution",
          "SpendingScore Distribution",
          "SpendingScore Distribution",
          "SpendingScore Distribution",
          "SpendingScore Distribution",
          "SpendingScore Distribution",
          "SpendingScore Distribution",
          "SpendingScore Distribution",
          "SpendingScore Distribution",
          "SpendingScore Distribution",
          "SpendingScore Distribution",
          "SpendingScore Distribution",
          "SpendingScore Distribution",
          "SpendingScore Distribution",
          "SpendingScore Distribution",
          "SpendingScore Distribution",
          "SpendingScore Distribution",
          "SpendingScore Distribution",
          "SpendingScore Distribution",
          "SpendingScore Distribution",
          "SpendingScore Distribution",
          "SpendingScore Distribution",
          "SpendingScore Distribution",
          "SpendingScore Distribution",
          "SpendingScore Distribution",
          "SpendingScore Distribution",
          "SpendingScore Distribution",
          "SpendingScore Distribution",
          "SpendingScore Distribution",
          "SpendingScore Distribution",
          "SpendingScore Distribution",
          "SpendingScore Distribution",
          "SpendingScore Distribution"
         ],
         "yaxis": "y2"
        }
       ],
       "layout": {
        "barmode": "overlay",
        "font": {
         "color": "Black",
         "size": 10
        },
        "height": 700,
        "hovermode": "closest",
        "legend": {
         "title": {
          "text": "Legend"
         },
         "traceorder": "reversed"
        },
        "template": {
         "data": {
          "bar": [
           {
            "error_x": {
             "color": "#2a3f5f"
            },
            "error_y": {
             "color": "#2a3f5f"
            },
            "marker": {
             "line": {
              "color": "#E5ECF6",
              "width": 0.5
             }
            },
            "type": "bar"
           }
          ],
          "barpolar": [
           {
            "marker": {
             "line": {
              "color": "#E5ECF6",
              "width": 0.5
             }
            },
            "type": "barpolar"
           }
          ],
          "carpet": [
           {
            "aaxis": {
             "endlinecolor": "#2a3f5f",
             "gridcolor": "white",
             "linecolor": "white",
             "minorgridcolor": "white",
             "startlinecolor": "#2a3f5f"
            },
            "baxis": {
             "endlinecolor": "#2a3f5f",
             "gridcolor": "white",
             "linecolor": "white",
             "minorgridcolor": "white",
             "startlinecolor": "#2a3f5f"
            },
            "type": "carpet"
           }
          ],
          "choropleth": [
           {
            "colorbar": {
             "outlinewidth": 0,
             "ticks": ""
            },
            "type": "choropleth"
           }
          ],
          "contour": [
           {
            "colorbar": {
             "outlinewidth": 0,
             "ticks": ""
            },
            "colorscale": [
             [
              0,
              "#0d0887"
             ],
             [
              0.1111111111111111,
              "#46039f"
             ],
             [
              0.2222222222222222,
              "#7201a8"
             ],
             [
              0.3333333333333333,
              "#9c179e"
             ],
             [
              0.4444444444444444,
              "#bd3786"
             ],
             [
              0.5555555555555556,
              "#d8576b"
             ],
             [
              0.6666666666666666,
              "#ed7953"
             ],
             [
              0.7777777777777778,
              "#fb9f3a"
             ],
             [
              0.8888888888888888,
              "#fdca26"
             ],
             [
              1,
              "#f0f921"
             ]
            ],
            "type": "contour"
           }
          ],
          "contourcarpet": [
           {
            "colorbar": {
             "outlinewidth": 0,
             "ticks": ""
            },
            "type": "contourcarpet"
           }
          ],
          "heatmap": [
           {
            "colorbar": {
             "outlinewidth": 0,
             "ticks": ""
            },
            "colorscale": [
             [
              0,
              "#0d0887"
             ],
             [
              0.1111111111111111,
              "#46039f"
             ],
             [
              0.2222222222222222,
              "#7201a8"
             ],
             [
              0.3333333333333333,
              "#9c179e"
             ],
             [
              0.4444444444444444,
              "#bd3786"
             ],
             [
              0.5555555555555556,
              "#d8576b"
             ],
             [
              0.6666666666666666,
              "#ed7953"
             ],
             [
              0.7777777777777778,
              "#fb9f3a"
             ],
             [
              0.8888888888888888,
              "#fdca26"
             ],
             [
              1,
              "#f0f921"
             ]
            ],
            "type": "heatmap"
           }
          ],
          "heatmapgl": [
           {
            "colorbar": {
             "outlinewidth": 0,
             "ticks": ""
            },
            "colorscale": [
             [
              0,
              "#0d0887"
             ],
             [
              0.1111111111111111,
              "#46039f"
             ],
             [
              0.2222222222222222,
              "#7201a8"
             ],
             [
              0.3333333333333333,
              "#9c179e"
             ],
             [
              0.4444444444444444,
              "#bd3786"
             ],
             [
              0.5555555555555556,
              "#d8576b"
             ],
             [
              0.6666666666666666,
              "#ed7953"
             ],
             [
              0.7777777777777778,
              "#fb9f3a"
             ],
             [
              0.8888888888888888,
              "#fdca26"
             ],
             [
              1,
              "#f0f921"
             ]
            ],
            "type": "heatmapgl"
           }
          ],
          "histogram": [
           {
            "marker": {
             "colorbar": {
              "outlinewidth": 0,
              "ticks": ""
             }
            },
            "type": "histogram"
           }
          ],
          "histogram2d": [
           {
            "colorbar": {
             "outlinewidth": 0,
             "ticks": ""
            },
            "colorscale": [
             [
              0,
              "#0d0887"
             ],
             [
              0.1111111111111111,
              "#46039f"
             ],
             [
              0.2222222222222222,
              "#7201a8"
             ],
             [
              0.3333333333333333,
              "#9c179e"
             ],
             [
              0.4444444444444444,
              "#bd3786"
             ],
             [
              0.5555555555555556,
              "#d8576b"
             ],
             [
              0.6666666666666666,
              "#ed7953"
             ],
             [
              0.7777777777777778,
              "#fb9f3a"
             ],
             [
              0.8888888888888888,
              "#fdca26"
             ],
             [
              1,
              "#f0f921"
             ]
            ],
            "type": "histogram2d"
           }
          ],
          "histogram2dcontour": [
           {
            "colorbar": {
             "outlinewidth": 0,
             "ticks": ""
            },
            "colorscale": [
             [
              0,
              "#0d0887"
             ],
             [
              0.1111111111111111,
              "#46039f"
             ],
             [
              0.2222222222222222,
              "#7201a8"
             ],
             [
              0.3333333333333333,
              "#9c179e"
             ],
             [
              0.4444444444444444,
              "#bd3786"
             ],
             [
              0.5555555555555556,
              "#d8576b"
             ],
             [
              0.6666666666666666,
              "#ed7953"
             ],
             [
              0.7777777777777778,
              "#fb9f3a"
             ],
             [
              0.8888888888888888,
              "#fdca26"
             ],
             [
              1,
              "#f0f921"
             ]
            ],
            "type": "histogram2dcontour"
           }
          ],
          "mesh3d": [
           {
            "colorbar": {
             "outlinewidth": 0,
             "ticks": ""
            },
            "type": "mesh3d"
           }
          ],
          "parcoords": [
           {
            "line": {
             "colorbar": {
              "outlinewidth": 0,
              "ticks": ""
             }
            },
            "type": "parcoords"
           }
          ],
          "pie": [
           {
            "automargin": true,
            "type": "pie"
           }
          ],
          "scatter": [
           {
            "marker": {
             "colorbar": {
              "outlinewidth": 0,
              "ticks": ""
             }
            },
            "type": "scatter"
           }
          ],
          "scatter3d": [
           {
            "line": {
             "colorbar": {
              "outlinewidth": 0,
              "ticks": ""
             }
            },
            "marker": {
             "colorbar": {
              "outlinewidth": 0,
              "ticks": ""
             }
            },
            "type": "scatter3d"
           }
          ],
          "scattercarpet": [
           {
            "marker": {
             "colorbar": {
              "outlinewidth": 0,
              "ticks": ""
             }
            },
            "type": "scattercarpet"
           }
          ],
          "scattergeo": [
           {
            "marker": {
             "colorbar": {
              "outlinewidth": 0,
              "ticks": ""
             }
            },
            "type": "scattergeo"
           }
          ],
          "scattergl": [
           {
            "marker": {
             "colorbar": {
              "outlinewidth": 0,
              "ticks": ""
             }
            },
            "type": "scattergl"
           }
          ],
          "scattermapbox": [
           {
            "marker": {
             "colorbar": {
              "outlinewidth": 0,
              "ticks": ""
             }
            },
            "type": "scattermapbox"
           }
          ],
          "scatterpolar": [
           {
            "marker": {
             "colorbar": {
              "outlinewidth": 0,
              "ticks": ""
             }
            },
            "type": "scatterpolar"
           }
          ],
          "scatterpolargl": [
           {
            "marker": {
             "colorbar": {
              "outlinewidth": 0,
              "ticks": ""
             }
            },
            "type": "scatterpolargl"
           }
          ],
          "scatterternary": [
           {
            "marker": {
             "colorbar": {
              "outlinewidth": 0,
              "ticks": ""
             }
            },
            "type": "scatterternary"
           }
          ],
          "surface": [
           {
            "colorbar": {
             "outlinewidth": 0,
             "ticks": ""
            },
            "colorscale": [
             [
              0,
              "#0d0887"
             ],
             [
              0.1111111111111111,
              "#46039f"
             ],
             [
              0.2222222222222222,
              "#7201a8"
             ],
             [
              0.3333333333333333,
              "#9c179e"
             ],
             [
              0.4444444444444444,
              "#bd3786"
             ],
             [
              0.5555555555555556,
              "#d8576b"
             ],
             [
              0.6666666666666666,
              "#ed7953"
             ],
             [
              0.7777777777777778,
              "#fb9f3a"
             ],
             [
              0.8888888888888888,
              "#fdca26"
             ],
             [
              1,
              "#f0f921"
             ]
            ],
            "type": "surface"
           }
          ],
          "table": [
           {
            "cells": {
             "fill": {
              "color": "#EBF0F8"
             },
             "line": {
              "color": "white"
             }
            },
            "header": {
             "fill": {
              "color": "#C8D4E3"
             },
             "line": {
              "color": "white"
             }
            },
            "type": "table"
           }
          ]
         },
         "layout": {
          "annotationdefaults": {
           "arrowcolor": "#2a3f5f",
           "arrowhead": 0,
           "arrowwidth": 1
          },
          "coloraxis": {
           "colorbar": {
            "outlinewidth": 0,
            "ticks": ""
           }
          },
          "colorscale": {
           "diverging": [
            [
             0,
             "#8e0152"
            ],
            [
             0.1,
             "#c51b7d"
            ],
            [
             0.2,
             "#de77ae"
            ],
            [
             0.3,
             "#f1b6da"
            ],
            [
             0.4,
             "#fde0ef"
            ],
            [
             0.5,
             "#f7f7f7"
            ],
            [
             0.6,
             "#e6f5d0"
            ],
            [
             0.7,
             "#b8e186"
            ],
            [
             0.8,
             "#7fbc41"
            ],
            [
             0.9,
             "#4d9221"
            ],
            [
             1,
             "#276419"
            ]
           ],
           "sequential": [
            [
             0,
             "#0d0887"
            ],
            [
             0.1111111111111111,
             "#46039f"
            ],
            [
             0.2222222222222222,
             "#7201a8"
            ],
            [
             0.3333333333333333,
             "#9c179e"
            ],
            [
             0.4444444444444444,
             "#bd3786"
            ],
            [
             0.5555555555555556,
             "#d8576b"
            ],
            [
             0.6666666666666666,
             "#ed7953"
            ],
            [
             0.7777777777777778,
             "#fb9f3a"
            ],
            [
             0.8888888888888888,
             "#fdca26"
            ],
            [
             1,
             "#f0f921"
            ]
           ],
           "sequentialminus": [
            [
             0,
             "#0d0887"
            ],
            [
             0.1111111111111111,
             "#46039f"
            ],
            [
             0.2222222222222222,
             "#7201a8"
            ],
            [
             0.3333333333333333,
             "#9c179e"
            ],
            [
             0.4444444444444444,
             "#bd3786"
            ],
            [
             0.5555555555555556,
             "#d8576b"
            ],
            [
             0.6666666666666666,
             "#ed7953"
            ],
            [
             0.7777777777777778,
             "#fb9f3a"
            ],
            [
             0.8888888888888888,
             "#fdca26"
            ],
            [
             1,
             "#f0f921"
            ]
           ]
          },
          "colorway": [
           "#636efa",
           "#EF553B",
           "#00cc96",
           "#ab63fa",
           "#FFA15A",
           "#19d3f3",
           "#FF6692",
           "#B6E880",
           "#FF97FF",
           "#FECB52"
          ],
          "font": {
           "color": "#2a3f5f"
          },
          "geo": {
           "bgcolor": "white",
           "lakecolor": "white",
           "landcolor": "#E5ECF6",
           "showlakes": true,
           "showland": true,
           "subunitcolor": "white"
          },
          "hoverlabel": {
           "align": "left"
          },
          "hovermode": "closest",
          "mapbox": {
           "style": "light"
          },
          "paper_bgcolor": "white",
          "plot_bgcolor": "#E5ECF6",
          "polar": {
           "angularaxis": {
            "gridcolor": "white",
            "linecolor": "white",
            "ticks": ""
           },
           "bgcolor": "#E5ECF6",
           "radialaxis": {
            "gridcolor": "white",
            "linecolor": "white",
            "ticks": ""
           }
          },
          "scene": {
           "xaxis": {
            "backgroundcolor": "#E5ECF6",
            "gridcolor": "white",
            "gridwidth": 2,
            "linecolor": "white",
            "showbackground": true,
            "ticks": "",
            "zerolinecolor": "white"
           },
           "yaxis": {
            "backgroundcolor": "#E5ECF6",
            "gridcolor": "white",
            "gridwidth": 2,
            "linecolor": "white",
            "showbackground": true,
            "ticks": "",
            "zerolinecolor": "white"
           },
           "zaxis": {
            "backgroundcolor": "#E5ECF6",
            "gridcolor": "white",
            "gridwidth": 2,
            "linecolor": "white",
            "showbackground": true,
            "ticks": "",
            "zerolinecolor": "white"
           }
          },
          "shapedefaults": {
           "line": {
            "color": "#2a3f5f"
           }
          },
          "ternary": {
           "aaxis": {
            "gridcolor": "white",
            "linecolor": "white",
            "ticks": ""
           },
           "baxis": {
            "gridcolor": "white",
            "linecolor": "white",
            "ticks": ""
           },
           "bgcolor": "#E5ECF6",
           "caxis": {
            "gridcolor": "white",
            "linecolor": "white",
            "ticks": ""
           }
          },
          "title": {
           "x": 0.05
          },
          "xaxis": {
           "automargin": true,
           "gridcolor": "white",
           "linecolor": "white",
           "ticks": "",
           "title": {
            "standoff": 15
           },
           "zerolinecolor": "white",
           "zerolinewidth": 2
          },
          "yaxis": {
           "automargin": true,
           "gridcolor": "white",
           "linecolor": "white",
           "ticks": "",
           "title": {
            "standoff": 15
           },
           "zerolinecolor": "white",
           "zerolinewidth": 2
          }
         }
        },
        "title": {
         "font": {
          "color": "Black",
          "size": 20
         },
         "text": "SpendingScore Distribution"
        },
        "width": 1100,
        "xaxis": {
         "anchor": "y2",
         "domain": [
          0,
          1
         ],
         "showgrid": true,
         "title": {
          "text": "SpendingScore"
         },
         "zeroline": true
        },
        "yaxis": {
         "anchor": "free",
         "domain": [
          0.35,
          1
         ],
         "position": 0,
         "showgrid": true,
         "title": {
          "text": "Distribution"
         },
         "zeroline": true
        },
        "yaxis2": {
         "anchor": "x",
         "domain": [
          0,
          0.25
         ],
         "dtick": 1,
         "showgrid": true,
         "showticklabels": false,
         "title": {
          "text": "Distribution"
         },
         "zeroline": true
        }
       }
      },
      "text/html": [
       "<div>\n",
       "        \n",
       "        \n",
       "            <div id=\"135c2abf-3f8e-4d04-ba2e-7a0b2884fd33\" class=\"plotly-graph-div\" style=\"height:700px; width:1100px;\"></div>\n",
       "            <script type=\"text/javascript\">\n",
       "                require([\"plotly\"], function(Plotly) {\n",
       "                    window.PLOTLYENV=window.PLOTLYENV || {};\n",
       "                    \n",
       "                if (document.getElementById(\"135c2abf-3f8e-4d04-ba2e-7a0b2884fd33\")) {\n",
       "                    Plotly.newPlot(\n",
       "                        '135c2abf-3f8e-4d04-ba2e-7a0b2884fd33',\n",
       "                        [{\"autobinx\": false, \"histnorm\": \"probability density\", \"legendgroup\": \"SpendingScore Distribution\", \"marker\": {\"color\": \"rgb(31, 119, 180)\"}, \"name\": \"SpendingScore Distribution\", \"opacity\": 0.7, \"type\": \"histogram\", \"x\": [39, 81, 6, 77, 40, 76, 6, 94, 3, 72, 14, 99, 15, 77, 13, 79, 35, 66, 29, 98, 35, 73, 5, 73, 14, 82, 32, 61, 31, 87, 4, 73, 4, 92, 14, 81, 17, 73, 26, 75, 35, 92, 36, 61, 28, 65, 55, 47, 42, 42, 52, 60, 54, 60, 45, 41, 50, 46, 51, 46, 56, 55, 52, 59, 51, 59, 50, 48, 59, 47, 55, 42, 49, 56, 47, 54, 53, 48, 52, 42, 51, 55, 41, 44, 57, 46, 58, 55, 60, 46, 55, 41, 49, 40, 42, 52, 47, 50, 42, 49, 41, 48, 59, 55, 56, 42, 50, 46, 43, 48, 52, 54, 42, 46, 48, 50, 43, 59, 43, 57, 56, 40, 58, 91, 29, 77, 35, 95, 11, 75, 9, 75, 34, 71, 5, 88, 7, 73, 10, 72, 5, 93, 40, 87, 12, 97, 36, 74, 22, 90, 17, 88, 20, 76, 16, 89, 1, 78, 1, 73, 35, 83, 5, 93, 26, 75, 20, 95, 27, 63, 13, 75, 10, 92, 13, 86, 15, 69, 14, 90, 32, 86, 15, 88, 39, 97, 24, 68, 17, 85, 23, 69, 8, 91, 16, 79, 28, 74, 18, 83], \"xaxis\": \"x\", \"xbins\": {\"end\": 99.0, \"size\": 3.5, \"start\": 1.0}, \"yaxis\": \"y\"}, {\"legendgroup\": \"SpendingScore Distribution\", \"marker\": {\"color\": \"rgb(31, 119, 180)\"}, \"mode\": \"lines\", \"name\": \"SpendingScore Distribution\", \"showlegend\": false, \"type\": \"scatter\", \"x\": [1.0, 1.196, 1.392, 1.588, 1.784, 1.98, 2.176, 2.372, 2.568, 2.7640000000000002, 2.96, 3.156, 3.352, 3.548, 3.744, 3.94, 4.136, 4.332, 4.5280000000000005, 4.724, 4.92, 5.116, 5.312, 5.508, 5.704, 5.9, 6.096, 6.292, 6.488, 6.684, 6.88, 7.076, 7.272, 7.468, 7.664, 7.86, 8.056000000000001, 8.251999999999999, 8.448, 8.644, 8.84, 9.036, 9.232, 9.428, 9.624, 9.82, 10.016, 10.212, 10.408, 10.604, 10.8, 10.996, 11.192, 11.388, 11.584, 11.78, 11.976, 12.172, 12.368, 12.564, 12.76, 12.956, 13.152, 13.348, 13.544, 13.74, 13.936, 14.132, 14.328, 14.524, 14.72, 14.916, 15.112, 15.308, 15.504, 15.7, 15.896, 16.092, 16.288, 16.484, 16.68, 16.875999999999998, 17.072, 17.268, 17.464, 17.66, 17.856, 18.052, 18.248, 18.444, 18.64, 18.836, 19.032, 19.228, 19.424, 19.62, 19.816, 20.012, 20.208, 20.404, 20.6, 20.796, 20.992, 21.188, 21.384, 21.58, 21.776, 21.972, 22.168, 22.364, 22.56, 22.756, 22.952, 23.148, 23.344, 23.54, 23.736, 23.932, 24.128, 24.324, 24.52, 24.716, 24.912, 25.108, 25.304, 25.5, 25.696, 25.892, 26.088, 26.284, 26.48, 26.676, 26.872, 27.068, 27.264, 27.46, 27.656, 27.852, 28.048, 28.244, 28.44, 28.636, 28.832, 29.028, 29.224, 29.42, 29.616, 29.812, 30.008, 30.204, 30.4, 30.596, 30.792, 30.988, 31.184, 31.38, 31.576, 31.772, 31.968, 32.164, 32.36, 32.556, 32.751999999999995, 32.948, 33.144, 33.34, 33.536, 33.732, 33.928, 34.124, 34.32, 34.516, 34.712, 34.908, 35.104, 35.3, 35.496, 35.692, 35.888, 36.084, 36.28, 36.476, 36.672, 36.868, 37.064, 37.26, 37.456, 37.652, 37.848, 38.044, 38.24, 38.436, 38.632, 38.828, 39.024, 39.22, 39.416, 39.612, 39.808, 40.004, 40.2, 40.396, 40.592, 40.788, 40.984, 41.18, 41.376, 41.572, 41.768, 41.964, 42.16, 42.356, 42.552, 42.748, 42.944, 43.14, 43.336, 43.532, 43.728, 43.924, 44.12, 44.316, 44.512, 44.708, 44.904, 45.1, 45.296, 45.492, 45.688, 45.884, 46.08, 46.276, 46.472, 46.668, 46.864, 47.06, 47.256, 47.452, 47.648, 47.844, 48.04, 48.236, 48.432, 48.628, 48.824, 49.02, 49.216, 49.412, 49.608, 49.804, 50.0, 50.196, 50.392, 50.588, 50.784, 50.98, 51.176, 51.372, 51.568, 51.764, 51.96, 52.156, 52.352, 52.548, 52.744, 52.94, 53.136, 53.332, 53.528, 53.724, 53.92, 54.116, 54.312, 54.508, 54.704, 54.9, 55.096, 55.292, 55.488, 55.684, 55.88, 56.076, 56.272, 56.468, 56.664, 56.86, 57.056, 57.252, 57.448, 57.644, 57.84, 58.036, 58.232, 58.428, 58.624, 58.82, 59.016, 59.212, 59.408, 59.604, 59.8, 59.996, 60.192, 60.388, 60.584, 60.78, 60.976, 61.172, 61.368, 61.564, 61.76, 61.956, 62.152, 62.348, 62.544, 62.74, 62.936, 63.132, 63.328, 63.524, 63.72, 63.916, 64.112, 64.30799999999999, 64.50399999999999, 64.7, 64.896, 65.092, 65.288, 65.484, 65.68, 65.876, 66.072, 66.268, 66.464, 66.66, 66.856, 67.052, 67.248, 67.444, 67.64, 67.836, 68.032, 68.228, 68.424, 68.62, 68.816, 69.012, 69.208, 69.404, 69.6, 69.796, 69.992, 70.188, 70.384, 70.58, 70.776, 70.972, 71.168, 71.364, 71.56, 71.756, 71.952, 72.148, 72.344, 72.54, 72.736, 72.932, 73.128, 73.324, 73.52, 73.716, 73.912, 74.108, 74.304, 74.5, 74.696, 74.892, 75.088, 75.284, 75.48, 75.676, 75.872, 76.068, 76.264, 76.46, 76.656, 76.852, 77.048, 77.244, 77.44, 77.636, 77.832, 78.028, 78.224, 78.42, 78.616, 78.812, 79.008, 79.204, 79.4, 79.596, 79.792, 79.988, 80.184, 80.38, 80.576, 80.772, 80.968, 81.164, 81.36, 81.556, 81.752, 81.948, 82.144, 82.34, 82.536, 82.732, 82.928, 83.124, 83.32, 83.516, 83.712, 83.908, 84.104, 84.3, 84.496, 84.692, 84.888, 85.084, 85.28, 85.476, 85.672, 85.868, 86.064, 86.26, 86.456, 86.652, 86.848, 87.044, 87.24, 87.436, 87.632, 87.828, 88.024, 88.22, 88.416, 88.612, 88.808, 89.004, 89.2, 89.396, 89.592, 89.788, 89.984, 90.18, 90.376, 90.572, 90.768, 90.964, 91.16, 91.356, 91.552, 91.748, 91.944, 92.14, 92.336, 92.532, 92.728, 92.924, 93.12, 93.316, 93.512, 93.708, 93.904, 94.1, 94.296, 94.492, 94.688, 94.884, 95.08, 95.276, 95.472, 95.668, 95.864, 96.06, 96.256, 96.452, 96.648, 96.844, 97.04, 97.236, 97.432, 97.628, 97.824, 98.02, 98.216, 98.412, 98.608, 98.804], \"xaxis\": \"x\", \"y\": [0.004421796577386014, 0.004499472616351304, 0.004577067581778796, 0.0046545379190885364, 0.0047318398541255245, 0.0048089294471594015, 0.00488576264758588, 0.004962295349248926, 0.00503848344630204, 0.00511428288952654, 0.005189649743024509, 0.005264540241203834, 0.005338910845972747, 0.005412718304061359, 0.0054859197043878, 0.005558472535386815, 0.005630334742219205, 0.005701464783780714, 0.005771821689429567, 0.005841365115352475, 0.005910055400489557, 0.005977853621939301, 0.006044721649765348, 0.006110622201127921, 0.006175518893663236, 0.006239376298035393, 0.0063021599895859235, 0.006363836599007289, 0.006424373861967433, 0.00648374066761371, 0.006541907105885269, 0.0065988445135643945, 0.006654525518998029, 0.006708924085422341, 0.006762015552823838, 0.006813776678272324, 0.006864185674661928, 0.0069132222477979975, 0.006960867631768947, 0.007007104622543919, 0.007051917609738265, 0.007095292606491018, 0.00713721727739994, 0.0071776809644618165, 0.007216674710967409, 0.007254191283302906, 0.007290225190611507, 0.007324772702271525, 0.0073578318631494655, 0.00738940250658951, 0.007419486265103103, 0.007448086578725876, 0.0074752087010113, 0.007500859702634569, 0.007525048472582616, 0.007547785716910349, 0.007569083955046292, 0.007588957513634794, 0.007607422517905697, 0.007624496880566474, 0.007640200288215793, 0.007654554185281752, 0.00766758175549241, 0.0076793079008905495, 0.007689759218409089, 0.0076989639740281755, 0.007706952074539608, 0.007713755036948739, 0.007719405955548838, 0.007723939466707467, 0.007727391711408986, 0.007729800295602218, 0.007731204248406437, 0.007731643978233725, 0.007731161226889956, 0.007729799021721004, 0.007727601625874933, 0.007724614486755004, 0.00772088418274213, 0.007716458368269196, 0.007711385717332966, 0.007705715865532759, 0.007699499350727991, 0.007692787552409491, 0.0076856326298820115, 0.007678087459357636, 0.007670205570061688, 0.007662041079454517, 0.007653648627673697, 0.007645083311302585, 0.007636400616571411, 0.007627656352098031, 0.007618906581275218, 0.007610207554411143, 0.0076016156407294885, 0.007593187260334302, 0.007584978816243975, 0.007577046626596947, 0.007569446857130176, 0.007562235454029209, 0.007555468077246648, 0.007549200034382794, 0.007543486215219966, 0.007538381026998478, 0.007533938330519511, 0.007530211377156079, 0.007527252746850353, 0.007525114287171419, 0.00752384705350372, 0.007523501250432738, 0.0075241261743901125, 0.0075257701576164, 0.007528480513495579, 0.007532303483311114, 0.007537284184469393, 0.007543466560232072, 0.007550893330994801, 0.007559605947145997, 0.007569644543535068, 0.007581047895575963, 0.007593853377008142, 0.007608096919333462, 0.0076238129729441885, 0.007641034469954052, 0.007659792788741216, 0.0076801177202094, 0.0077020374357703566, 0.007725578457048826, 0.007750765627308848, 0.007777622084597983, 0.007806169236604736, 0.007836426737222311, 0.007868412464811235, 0.007902142502151271, 0.007937631118073288, 0.00797489075075996, 0.008013931992704384, 0.008054763577315022, 0.008097392367155351, 0.008141823343806486, 0.00818805959934132, 0.008236102329399043, 0.008285950827848951, 0.008337602483033668, 0.008391052775581631, 0.008446295277780173, 0.008503321654500696, 0.008562121665668464, 0.00862268317027028, 0.008684992131894068, 0.008749032625795109, 0.008814786847484688, 0.008882235122837102, 0.008951355919712148, 0.009022125861090602, 0.00909451973972021, 0.009168510534271078, 0.009244069426998531, 0.009321165822912402, 0.00939976737045133, 0.009479839983660835, 0.009561347865873187, 0.009644253534887223, 0.009728517849645261, 0.009814100038403795, 0.009900957728393679, 0.009989046976964249, 0.010078322304205281, 0.010168736727038687, 0.010260241794770615, 0.010352787626093327, 0.010446322947524008, 0.010540795133266249, 0.010636150246477667, 0.010732333081925508, 0.010829287210009494, 0.010926955022129358, 0.011025277777372184, 0.011124195650492335, 0.011223647781154464, 0.011323572324407989, 0.011423906502358788, 0.011524586657001925, 0.011625548304176715, 0.011726726188603244, 0.011828054339957926, 0.011929466129942279, 0.01203089433029867, 0.012132271171723991, 0.012233528403630501, 0.012334597354701729, 0.012435408994189785, 0.012535893993898784, 0.012635982790798089, 0.012735605650207876, 0.012834692729498809, 0.01293317414224634, 0.013030980022780188, 0.013128040591068434, 0.013224286217875952, 0.013319647490136042, 0.013414055276474835, 0.013507440792827627, 0.01359973566808662, 0.013690872009720306, 0.013780782469304535, 0.01386940030790647, 0.013956659461263166, 0.014042494604696759, 0.01412684121771, 0.014209635648205756, 0.01429081517627561, 0.014370318077503531, 0.014448083685730879, 0.014524052455231142, 0.014598166022242363, 0.014670367265806825, 0.01474060036786822, 0.014808810872577079, 0.014874945744755999, 0.014938953427476687, 0.015000783898701244, 0.015060388726940467, 0.015117721125882215, 0.015172736007942713, 0.015225390036693601, 0.015275641678117619, 0.015323451250645267, 0.015368780973923732, 0.015411595016269614, 0.015451859540755512, 0.015489542749879574, 0.015524614928766584, 0.01555704848684683, 0.01558681799795898, 0.01561390023882069, 0.01563827422580937, 0.015659921249994317, 0.01567882491035932, 0.015694971145153003, 0.01570834826130283, 0.01571894696182669, 0.01572676037117438, 0.015731784058429375, 0.015734016058300028, 0.015733456889827673, 0.01573010957273761, 0.015723979641358275, 0.015715075156032023, 0.015703406711941068, 0.015688987445270954, 0.015671833036633998, 0.015651961711674895, 0.01562939423878143, 0.01560415392382343, 0.015576266601844647, 0.01554576062563364, 0.015512666851101493, 0.015477018619396626, 0.015438851735690033, 0.01539820444456747, 0.015355117401968484, 0.015309633643617641, 0.01526179854989654, 0.015211659807112381, 0.015159267365123122, 0.015104673391286787, 0.015047932220708842, 0.014989100302769237, 0.014928236143918819, 0.014865400246742764, 0.014800655045298136, 0.01473406483674212, 0.014665695709276252, 0.014595615466444044, 0.014523893547827892, 0.014450600946203877, 0.014375810121223275, 0.014299594909700994, 0.014222030432603979, 0.014143192998843037, 0.014063160005984914, 0.013982009838012096, 0.01389982176027167, 0.0138166758117651, 0.013732652694943295, 0.013647833663183824, 0.013562300406137527, 0.013476134933144436, 0.013389419454928796, 0.01330223626379452, 0.013214667612552234, 0.01312679559241865, 0.013038702010138497, 0.012950468264587468, 0.012862175223122685, 0.012773903097953957, 0.012685731322816007, 0.0125977384302268, 0.012510001929621786, 0.012422598186658028, 0.012335602303984053, 0.012249088003774132, 0.012163127512325038, 0.012077791447014052, 0.011993148705915283, 0.01190926636036794, 0.011826209550787994, 0.011744041386008566, 0.011662822846429059, 0.0115826126912458, 0.011503467370029004, 0.011425440938900787, 0.011348584981559847, 0.011272948535385487, 0.011198578022842331, 0.011125517188392782, 0.01105380704111017, 0.010983485803169778, 0.010914588864379172, 0.010847148742891267, 0.01078119505222666, 0.01071675447471242, 0.010653850741425618, 0.01059250461870998, 0.010532733901314088, 0.010474553412178293, 0.010417975008877128, 0.010363007596702398, 0.010309657148350885, 0.010257926730159003, 0.010207816534805578, 0.010159323920382324, 0.010112443455710626, 0.0100671669717625, 0.01002348361902295, 0.009981379930611196, 0.009940839890958762, 0.009901845009823764, 0.009864374401402538, 0.009828404868282828, 0.009793910989966348, 0.009760865215673096, 0.009729237961125684, 0.009698997708998795, 0.009670111112706705, 0.009642543103191162, 0.009616256998362433, 0.009591214614838079, 0.00956737638161727, 0.009544701455323091, 0.009523147836641165, 0.009502672487580474, 0.009483231449181399, 0.00946477995929595, 0.009447272570067536, 0.009430663264740551, 0.009414905573435252, 0.00939995268752933, 0.009385757572295383, 0.009372273077452508, 0.009359452045300679, 0.009347247416118084, 0.00933561233051463, 0.009324500228449013, 0.009313864944631758, 0.009303660800053072, 0.009293842689391641, 0.009284366164078604, 0.009275187510809996, 0.009266263825320737, 0.009257553081253436, 0.009249014193976685, 0.009240607079228337, 0.009232292706481782, 0.009224033146954561, 0.009215791616201563, 0.009207532511256947, 0.009199221442311544, 0.00919082525893437, 0.009182312070869184, 0.009173651263458364, 0.009164813507767966, 0.00915577076550815, 0.009146496288863782, 0.009136964615369099, 0.009127151557979213, 0.009117034190509259, 0.009106590828628516, 0.009095801006613348, 0.009084645450077406, 0.009073106044911374, 0.009061165802677351, 0.009048808822714426, 0.009036020251221976, 0.00902278623759647, 0.00900909388830502, 0.008994931218585104, 0.008980287102264893, 0.008965151220002451, 0.008949514006243655, 0.008933366595200089, 0.00891670076614736, 0.00889950888834254, 0.008881783865856025, 0.008863519082609067, 0.008844708347901973, 0.008825345842711649, 0.00880542606702828, 0.008784943788492565, 0.008763893992583916, 0.008742271834599141, 0.008720072593648712, 0.008697291628884612, 0.008673924338159882, 0.008649966119305253, 0.008625412334192728, 0.008600258275740737, 0.008574499137998027, 0.00854812998942768, 0.008521145749494587, 0.008493541168643039, 0.008465310811732824, 0.008436449044985049, 0.008406950026470902, 0.00837680770015908, 0.008346015793519977, 0.008314567818667835, 0.008282457077004602, 0.008249676667313273, 0.008216219497231742, 0.008182078298023249, 0.00814724564254401, 0.008111713966294438, 0.008075475591426682, 0.008038522753568329, 0.008000847631309857, 0.007962442378192235, 0.00792329915702067, 0.007883410176320965, 0.007842767728746433, 0.007801364231235688, 0.0077591922667151515, 0.007716244627134392, 0.0076725143576179735, 0.007627994801513828, 0.007582679646115754, 0.007536562968836077, 0.007489639283603889, 0.007441903587265104, 0.0073933514057615635, 0.007343978839869497, 0.007293782610280186, 0.007242760101810745, 0.007190909406537577, 0.007138229365651155, 0.007084719609837619, 0.007030380598000076, 0.006975213654140802, 0.006919221002234423, 0.006862405798931597, 0.006804772163942844, 0.006746325207962664, 0.0066870710580052214, 0.006627016880034129, 0.0065661708987809165, 0.006504542414658348, 0.006442141817687679, 0.0063789805983708045, 0.00631507135545126, 0.006250427800520465, 0.006185064759438407, 0.0061189981705503495, 0.006052245079694143, 0.005984823632004453, 0.0059167530605330546, 0.005848053671715792, 0.005778746827728818, 0.005708854925787753, 0.00563840137445468, 0.005567410567028179, 0.005495907852101833, 0.005423919501386321, 0.005351472674899126, 0.005278595383634789, 0.005205316449836274, 0.005131665464995837, 0.005057672745720391, 0.004983369287602544, 0.004908786717244287, 0.004833957242585087, 0.0047589136016905, 0.00468368901016095, 0.0046083171073235864, 0.004532831901372063, 0.004457267713621212, 0.004381659122044165, 0.0043060409042602905, 0.004230447980141901, 0.00415491535420664], \"yaxis\": \"y\"}, {\"legendgroup\": \"SpendingScore Distribution\", \"marker\": {\"color\": \"rgb(31, 119, 180)\", \"symbol\": \"line-ns-open\"}, \"mode\": \"markers\", \"name\": \"SpendingScore Distribution\", \"showlegend\": false, \"type\": \"scatter\", \"x\": [39, 81, 6, 77, 40, 76, 6, 94, 3, 72, 14, 99, 15, 77, 13, 79, 35, 66, 29, 98, 35, 73, 5, 73, 14, 82, 32, 61, 31, 87, 4, 73, 4, 92, 14, 81, 17, 73, 26, 75, 35, 92, 36, 61, 28, 65, 55, 47, 42, 42, 52, 60, 54, 60, 45, 41, 50, 46, 51, 46, 56, 55, 52, 59, 51, 59, 50, 48, 59, 47, 55, 42, 49, 56, 47, 54, 53, 48, 52, 42, 51, 55, 41, 44, 57, 46, 58, 55, 60, 46, 55, 41, 49, 40, 42, 52, 47, 50, 42, 49, 41, 48, 59, 55, 56, 42, 50, 46, 43, 48, 52, 54, 42, 46, 48, 50, 43, 59, 43, 57, 56, 40, 58, 91, 29, 77, 35, 95, 11, 75, 9, 75, 34, 71, 5, 88, 7, 73, 10, 72, 5, 93, 40, 87, 12, 97, 36, 74, 22, 90, 17, 88, 20, 76, 16, 89, 1, 78, 1, 73, 35, 83, 5, 93, 26, 75, 20, 95, 27, 63, 13, 75, 10, 92, 13, 86, 15, 69, 14, 90, 32, 86, 15, 88, 39, 97, 24, 68, 17, 85, 23, 69, 8, 91, 16, 79, 28, 74, 18, 83], \"xaxis\": \"x\", \"y\": [\"SpendingScore Distribution\", \"SpendingScore Distribution\", \"SpendingScore Distribution\", \"SpendingScore Distribution\", \"SpendingScore Distribution\", \"SpendingScore Distribution\", \"SpendingScore Distribution\", \"SpendingScore Distribution\", \"SpendingScore Distribution\", \"SpendingScore Distribution\", \"SpendingScore Distribution\", \"SpendingScore Distribution\", \"SpendingScore Distribution\", \"SpendingScore Distribution\", \"SpendingScore Distribution\", \"SpendingScore Distribution\", \"SpendingScore Distribution\", \"SpendingScore Distribution\", \"SpendingScore Distribution\", \"SpendingScore Distribution\", \"SpendingScore Distribution\", \"SpendingScore Distribution\", \"SpendingScore Distribution\", \"SpendingScore Distribution\", \"SpendingScore Distribution\", \"SpendingScore Distribution\", \"SpendingScore Distribution\", \"SpendingScore Distribution\", \"SpendingScore Distribution\", \"SpendingScore Distribution\", \"SpendingScore Distribution\", \"SpendingScore Distribution\", \"SpendingScore Distribution\", \"SpendingScore Distribution\", \"SpendingScore Distribution\", \"SpendingScore Distribution\", \"SpendingScore Distribution\", \"SpendingScore Distribution\", \"SpendingScore Distribution\", \"SpendingScore Distribution\", \"SpendingScore Distribution\", \"SpendingScore Distribution\", \"SpendingScore Distribution\", \"SpendingScore Distribution\", \"SpendingScore Distribution\", \"SpendingScore Distribution\", \"SpendingScore Distribution\", \"SpendingScore Distribution\", \"SpendingScore Distribution\", \"SpendingScore Distribution\", \"SpendingScore Distribution\", \"SpendingScore Distribution\", \"SpendingScore Distribution\", \"SpendingScore Distribution\", \"SpendingScore Distribution\", \"SpendingScore Distribution\", \"SpendingScore Distribution\", \"SpendingScore Distribution\", \"SpendingScore Distribution\", \"SpendingScore Distribution\", \"SpendingScore Distribution\", \"SpendingScore Distribution\", \"SpendingScore Distribution\", \"SpendingScore Distribution\", \"SpendingScore Distribution\", \"SpendingScore Distribution\", \"SpendingScore Distribution\", \"SpendingScore Distribution\", \"SpendingScore Distribution\", \"SpendingScore Distribution\", \"SpendingScore Distribution\", \"SpendingScore Distribution\", \"SpendingScore Distribution\", \"SpendingScore Distribution\", \"SpendingScore Distribution\", \"SpendingScore Distribution\", \"SpendingScore Distribution\", \"SpendingScore Distribution\", \"SpendingScore Distribution\", \"SpendingScore Distribution\", \"SpendingScore Distribution\", \"SpendingScore Distribution\", \"SpendingScore Distribution\", \"SpendingScore Distribution\", \"SpendingScore Distribution\", \"SpendingScore Distribution\", \"SpendingScore Distribution\", \"SpendingScore Distribution\", \"SpendingScore Distribution\", \"SpendingScore Distribution\", \"SpendingScore Distribution\", \"SpendingScore Distribution\", \"SpendingScore Distribution\", \"SpendingScore Distribution\", \"SpendingScore Distribution\", \"SpendingScore Distribution\", \"SpendingScore Distribution\", \"SpendingScore Distribution\", \"SpendingScore Distribution\", \"SpendingScore Distribution\", \"SpendingScore Distribution\", \"SpendingScore Distribution\", \"SpendingScore Distribution\", \"SpendingScore Distribution\", \"SpendingScore Distribution\", \"SpendingScore Distribution\", \"SpendingScore Distribution\", \"SpendingScore Distribution\", \"SpendingScore Distribution\", \"SpendingScore Distribution\", \"SpendingScore Distribution\", \"SpendingScore Distribution\", \"SpendingScore Distribution\", \"SpendingScore Distribution\", \"SpendingScore Distribution\", \"SpendingScore Distribution\", \"SpendingScore Distribution\", \"SpendingScore Distribution\", \"SpendingScore Distribution\", \"SpendingScore Distribution\", \"SpendingScore Distribution\", \"SpendingScore Distribution\", \"SpendingScore Distribution\", \"SpendingScore Distribution\", \"SpendingScore Distribution\", \"SpendingScore Distribution\", \"SpendingScore Distribution\", \"SpendingScore Distribution\", \"SpendingScore Distribution\", \"SpendingScore Distribution\", \"SpendingScore Distribution\", \"SpendingScore Distribution\", \"SpendingScore Distribution\", \"SpendingScore Distribution\", \"SpendingScore Distribution\", \"SpendingScore Distribution\", \"SpendingScore Distribution\", \"SpendingScore Distribution\", \"SpendingScore Distribution\", \"SpendingScore Distribution\", \"SpendingScore Distribution\", \"SpendingScore Distribution\", \"SpendingScore Distribution\", \"SpendingScore Distribution\", \"SpendingScore Distribution\", \"SpendingScore Distribution\", \"SpendingScore Distribution\", \"SpendingScore Distribution\", \"SpendingScore Distribution\", \"SpendingScore Distribution\", \"SpendingScore Distribution\", \"SpendingScore Distribution\", \"SpendingScore Distribution\", \"SpendingScore Distribution\", \"SpendingScore Distribution\", \"SpendingScore Distribution\", \"SpendingScore Distribution\", \"SpendingScore Distribution\", \"SpendingScore Distribution\", \"SpendingScore Distribution\", \"SpendingScore Distribution\", \"SpendingScore Distribution\", \"SpendingScore Distribution\", \"SpendingScore Distribution\", \"SpendingScore Distribution\", \"SpendingScore Distribution\", \"SpendingScore Distribution\", \"SpendingScore Distribution\", \"SpendingScore Distribution\", \"SpendingScore Distribution\", \"SpendingScore Distribution\", \"SpendingScore Distribution\", \"SpendingScore Distribution\", \"SpendingScore Distribution\", \"SpendingScore Distribution\", \"SpendingScore Distribution\", \"SpendingScore Distribution\", \"SpendingScore Distribution\", \"SpendingScore Distribution\", \"SpendingScore Distribution\", \"SpendingScore Distribution\", \"SpendingScore Distribution\", \"SpendingScore Distribution\", \"SpendingScore Distribution\", \"SpendingScore Distribution\", \"SpendingScore Distribution\", \"SpendingScore Distribution\", \"SpendingScore Distribution\", \"SpendingScore Distribution\", \"SpendingScore Distribution\", \"SpendingScore Distribution\", \"SpendingScore Distribution\", \"SpendingScore Distribution\", \"SpendingScore Distribution\", \"SpendingScore Distribution\", \"SpendingScore Distribution\", \"SpendingScore Distribution\", \"SpendingScore Distribution\", \"SpendingScore Distribution\", \"SpendingScore Distribution\"], \"yaxis\": \"y2\"}],\n",
       "                        {\"barmode\": \"overlay\", \"font\": {\"color\": \"Black\", \"size\": 10}, \"height\": 700, \"hovermode\": \"closest\", \"legend\": {\"title\": {\"text\": \"Legend\"}, \"traceorder\": \"reversed\"}, \"template\": {\"data\": {\"bar\": [{\"error_x\": {\"color\": \"#2a3f5f\"}, \"error_y\": {\"color\": \"#2a3f5f\"}, \"marker\": {\"line\": {\"color\": \"#E5ECF6\", \"width\": 0.5}}, \"type\": \"bar\"}], \"barpolar\": [{\"marker\": {\"line\": {\"color\": \"#E5ECF6\", \"width\": 0.5}}, \"type\": \"barpolar\"}], \"carpet\": [{\"aaxis\": {\"endlinecolor\": \"#2a3f5f\", \"gridcolor\": \"white\", \"linecolor\": \"white\", \"minorgridcolor\": \"white\", \"startlinecolor\": \"#2a3f5f\"}, \"baxis\": {\"endlinecolor\": \"#2a3f5f\", \"gridcolor\": \"white\", \"linecolor\": \"white\", \"minorgridcolor\": \"white\", \"startlinecolor\": \"#2a3f5f\"}, \"type\": \"carpet\"}], \"choropleth\": [{\"colorbar\": {\"outlinewidth\": 0, \"ticks\": \"\"}, \"type\": \"choropleth\"}], \"contour\": [{\"colorbar\": {\"outlinewidth\": 0, \"ticks\": \"\"}, \"colorscale\": [[0.0, \"#0d0887\"], [0.1111111111111111, \"#46039f\"], [0.2222222222222222, \"#7201a8\"], [0.3333333333333333, \"#9c179e\"], [0.4444444444444444, \"#bd3786\"], [0.5555555555555556, \"#d8576b\"], [0.6666666666666666, \"#ed7953\"], [0.7777777777777778, \"#fb9f3a\"], [0.8888888888888888, \"#fdca26\"], [1.0, \"#f0f921\"]], \"type\": \"contour\"}], \"contourcarpet\": [{\"colorbar\": {\"outlinewidth\": 0, \"ticks\": \"\"}, \"type\": \"contourcarpet\"}], \"heatmap\": [{\"colorbar\": {\"outlinewidth\": 0, \"ticks\": \"\"}, \"colorscale\": [[0.0, \"#0d0887\"], [0.1111111111111111, \"#46039f\"], [0.2222222222222222, \"#7201a8\"], [0.3333333333333333, \"#9c179e\"], [0.4444444444444444, \"#bd3786\"], [0.5555555555555556, \"#d8576b\"], [0.6666666666666666, \"#ed7953\"], [0.7777777777777778, \"#fb9f3a\"], [0.8888888888888888, \"#fdca26\"], [1.0, \"#f0f921\"]], \"type\": \"heatmap\"}], \"heatmapgl\": [{\"colorbar\": {\"outlinewidth\": 0, \"ticks\": \"\"}, \"colorscale\": [[0.0, \"#0d0887\"], [0.1111111111111111, \"#46039f\"], [0.2222222222222222, \"#7201a8\"], [0.3333333333333333, \"#9c179e\"], [0.4444444444444444, \"#bd3786\"], [0.5555555555555556, \"#d8576b\"], [0.6666666666666666, \"#ed7953\"], [0.7777777777777778, \"#fb9f3a\"], [0.8888888888888888, \"#fdca26\"], [1.0, \"#f0f921\"]], \"type\": \"heatmapgl\"}], \"histogram\": [{\"marker\": {\"colorbar\": {\"outlinewidth\": 0, \"ticks\": \"\"}}, \"type\": \"histogram\"}], \"histogram2d\": [{\"colorbar\": {\"outlinewidth\": 0, \"ticks\": \"\"}, \"colorscale\": [[0.0, \"#0d0887\"], [0.1111111111111111, \"#46039f\"], [0.2222222222222222, \"#7201a8\"], [0.3333333333333333, \"#9c179e\"], [0.4444444444444444, \"#bd3786\"], [0.5555555555555556, \"#d8576b\"], [0.6666666666666666, \"#ed7953\"], [0.7777777777777778, \"#fb9f3a\"], [0.8888888888888888, \"#fdca26\"], [1.0, \"#f0f921\"]], \"type\": \"histogram2d\"}], \"histogram2dcontour\": [{\"colorbar\": {\"outlinewidth\": 0, \"ticks\": \"\"}, \"colorscale\": [[0.0, \"#0d0887\"], [0.1111111111111111, \"#46039f\"], [0.2222222222222222, \"#7201a8\"], [0.3333333333333333, \"#9c179e\"], [0.4444444444444444, \"#bd3786\"], [0.5555555555555556, \"#d8576b\"], [0.6666666666666666, \"#ed7953\"], [0.7777777777777778, \"#fb9f3a\"], [0.8888888888888888, \"#fdca26\"], [1.0, \"#f0f921\"]], \"type\": \"histogram2dcontour\"}], \"mesh3d\": [{\"colorbar\": {\"outlinewidth\": 0, \"ticks\": \"\"}, \"type\": \"mesh3d\"}], \"parcoords\": [{\"line\": {\"colorbar\": {\"outlinewidth\": 0, \"ticks\": \"\"}}, \"type\": \"parcoords\"}], \"pie\": [{\"automargin\": true, \"type\": \"pie\"}], \"scatter\": [{\"marker\": {\"colorbar\": {\"outlinewidth\": 0, \"ticks\": \"\"}}, \"type\": \"scatter\"}], \"scatter3d\": [{\"line\": {\"colorbar\": {\"outlinewidth\": 0, \"ticks\": \"\"}}, \"marker\": {\"colorbar\": {\"outlinewidth\": 0, \"ticks\": \"\"}}, \"type\": \"scatter3d\"}], \"scattercarpet\": [{\"marker\": {\"colorbar\": {\"outlinewidth\": 0, \"ticks\": \"\"}}, \"type\": \"scattercarpet\"}], \"scattergeo\": [{\"marker\": {\"colorbar\": {\"outlinewidth\": 0, \"ticks\": \"\"}}, \"type\": \"scattergeo\"}], \"scattergl\": [{\"marker\": {\"colorbar\": {\"outlinewidth\": 0, \"ticks\": \"\"}}, \"type\": \"scattergl\"}], \"scattermapbox\": [{\"marker\": {\"colorbar\": {\"outlinewidth\": 0, \"ticks\": \"\"}}, \"type\": \"scattermapbox\"}], \"scatterpolar\": [{\"marker\": {\"colorbar\": {\"outlinewidth\": 0, \"ticks\": \"\"}}, \"type\": \"scatterpolar\"}], \"scatterpolargl\": [{\"marker\": {\"colorbar\": {\"outlinewidth\": 0, \"ticks\": \"\"}}, \"type\": \"scatterpolargl\"}], \"scatterternary\": [{\"marker\": {\"colorbar\": {\"outlinewidth\": 0, \"ticks\": \"\"}}, \"type\": \"scatterternary\"}], \"surface\": [{\"colorbar\": {\"outlinewidth\": 0, \"ticks\": \"\"}, \"colorscale\": [[0.0, \"#0d0887\"], [0.1111111111111111, \"#46039f\"], [0.2222222222222222, \"#7201a8\"], [0.3333333333333333, \"#9c179e\"], [0.4444444444444444, \"#bd3786\"], [0.5555555555555556, \"#d8576b\"], [0.6666666666666666, \"#ed7953\"], [0.7777777777777778, \"#fb9f3a\"], [0.8888888888888888, \"#fdca26\"], [1.0, \"#f0f921\"]], \"type\": \"surface\"}], \"table\": [{\"cells\": {\"fill\": {\"color\": \"#EBF0F8\"}, \"line\": {\"color\": \"white\"}}, \"header\": {\"fill\": {\"color\": \"#C8D4E3\"}, \"line\": {\"color\": \"white\"}}, \"type\": \"table\"}]}, \"layout\": {\"annotationdefaults\": {\"arrowcolor\": \"#2a3f5f\", \"arrowhead\": 0, \"arrowwidth\": 1}, \"coloraxis\": {\"colorbar\": {\"outlinewidth\": 0, \"ticks\": \"\"}}, \"colorscale\": {\"diverging\": [[0, \"#8e0152\"], [0.1, \"#c51b7d\"], [0.2, \"#de77ae\"], [0.3, \"#f1b6da\"], [0.4, \"#fde0ef\"], [0.5, \"#f7f7f7\"], [0.6, \"#e6f5d0\"], [0.7, \"#b8e186\"], [0.8, \"#7fbc41\"], [0.9, \"#4d9221\"], [1, \"#276419\"]], \"sequential\": [[0.0, \"#0d0887\"], [0.1111111111111111, \"#46039f\"], [0.2222222222222222, \"#7201a8\"], [0.3333333333333333, \"#9c179e\"], [0.4444444444444444, \"#bd3786\"], [0.5555555555555556, \"#d8576b\"], [0.6666666666666666, \"#ed7953\"], [0.7777777777777778, \"#fb9f3a\"], [0.8888888888888888, \"#fdca26\"], [1.0, \"#f0f921\"]], \"sequentialminus\": [[0.0, \"#0d0887\"], [0.1111111111111111, \"#46039f\"], [0.2222222222222222, \"#7201a8\"], [0.3333333333333333, \"#9c179e\"], [0.4444444444444444, \"#bd3786\"], [0.5555555555555556, \"#d8576b\"], [0.6666666666666666, \"#ed7953\"], [0.7777777777777778, \"#fb9f3a\"], [0.8888888888888888, \"#fdca26\"], [1.0, \"#f0f921\"]]}, \"colorway\": [\"#636efa\", \"#EF553B\", \"#00cc96\", \"#ab63fa\", \"#FFA15A\", \"#19d3f3\", \"#FF6692\", \"#B6E880\", \"#FF97FF\", \"#FECB52\"], \"font\": {\"color\": \"#2a3f5f\"}, \"geo\": {\"bgcolor\": \"white\", \"lakecolor\": \"white\", \"landcolor\": \"#E5ECF6\", \"showlakes\": true, \"showland\": true, \"subunitcolor\": \"white\"}, \"hoverlabel\": {\"align\": \"left\"}, \"hovermode\": \"closest\", \"mapbox\": {\"style\": \"light\"}, \"paper_bgcolor\": \"white\", \"plot_bgcolor\": \"#E5ECF6\", \"polar\": {\"angularaxis\": {\"gridcolor\": \"white\", \"linecolor\": \"white\", \"ticks\": \"\"}, \"bgcolor\": \"#E5ECF6\", \"radialaxis\": {\"gridcolor\": \"white\", \"linecolor\": \"white\", \"ticks\": \"\"}}, \"scene\": {\"xaxis\": {\"backgroundcolor\": \"#E5ECF6\", \"gridcolor\": \"white\", \"gridwidth\": 2, \"linecolor\": \"white\", \"showbackground\": true, \"ticks\": \"\", \"zerolinecolor\": \"white\"}, \"yaxis\": {\"backgroundcolor\": \"#E5ECF6\", \"gridcolor\": \"white\", \"gridwidth\": 2, \"linecolor\": \"white\", \"showbackground\": true, \"ticks\": \"\", \"zerolinecolor\": \"white\"}, \"zaxis\": {\"backgroundcolor\": \"#E5ECF6\", \"gridcolor\": \"white\", \"gridwidth\": 2, \"linecolor\": \"white\", \"showbackground\": true, \"ticks\": \"\", \"zerolinecolor\": \"white\"}}, \"shapedefaults\": {\"line\": {\"color\": \"#2a3f5f\"}}, \"ternary\": {\"aaxis\": {\"gridcolor\": \"white\", \"linecolor\": \"white\", \"ticks\": \"\"}, \"baxis\": {\"gridcolor\": \"white\", \"linecolor\": \"white\", \"ticks\": \"\"}, \"bgcolor\": \"#E5ECF6\", \"caxis\": {\"gridcolor\": \"white\", \"linecolor\": \"white\", \"ticks\": \"\"}}, \"title\": {\"x\": 0.05}, \"xaxis\": {\"automargin\": true, \"gridcolor\": \"white\", \"linecolor\": \"white\", \"ticks\": \"\", \"title\": {\"standoff\": 15}, \"zerolinecolor\": \"white\", \"zerolinewidth\": 2}, \"yaxis\": {\"automargin\": true, \"gridcolor\": \"white\", \"linecolor\": \"white\", \"ticks\": \"\", \"title\": {\"standoff\": 15}, \"zerolinecolor\": \"white\", \"zerolinewidth\": 2}}}, \"title\": {\"font\": {\"color\": \"Black\", \"size\": 20}, \"text\": \"SpendingScore Distribution\"}, \"width\": 1100, \"xaxis\": {\"anchor\": \"y2\", \"domain\": [0.0, 1.0], \"showgrid\": true, \"title\": {\"text\": \"SpendingScore\"}, \"zeroline\": true}, \"yaxis\": {\"anchor\": \"free\", \"domain\": [0.35, 1], \"position\": 0.0, \"showgrid\": true, \"title\": {\"text\": \"Distribution\"}, \"zeroline\": true}, \"yaxis2\": {\"anchor\": \"x\", \"domain\": [0, 0.25], \"dtick\": 1, \"showgrid\": true, \"showticklabels\": false, \"title\": {\"text\": \"Distribution\"}, \"zeroline\": true}},\n",
       "                        {\"responsive\": true}\n",
       "                    ).then(function(){\n",
       "                            \n",
       "var gd = document.getElementById('135c2abf-3f8e-4d04-ba2e-7a0b2884fd33');\n",
       "var x = new MutationObserver(function (mutations, observer) {{\n",
       "        var display = window.getComputedStyle(gd).display;\n",
       "        if (!display || display === 'none') {{\n",
       "            console.log([gd, 'removed!']);\n",
       "            Plotly.purge(gd);\n",
       "            observer.disconnect();\n",
       "        }}\n",
       "}});\n",
       "\n",
       "// Listen for the removal of the full notebook cells\n",
       "var notebookContainer = gd.closest('#notebook-container');\n",
       "if (notebookContainer) {{\n",
       "    x.observe(notebookContainer, {childList: true});\n",
       "}}\n",
       "\n",
       "// Listen for the clearing of the current output cell\n",
       "var outputEl = gd.closest('.output');\n",
       "if (outputEl) {{\n",
       "    x.observe(outputEl, {childList: true});\n",
       "}}\n",
       "\n",
       "                        })\n",
       "                };\n",
       "                });\n",
       "            </script>\n",
       "        </div>"
      ]
     },
     "metadata": {},
     "output_type": "display_data"
    }
   ],
   "source": [
    "#Very uneven distribution for spending score\n",
    "DistributionPlot(Data, \"SpendingScore\")"
   ]
  },
  {
   "cell_type": "code",
   "execution_count": 46,
   "metadata": {},
   "outputs": [
    {
     "data": {
      "application/vnd.plotly.v1+json": {
       "config": {
        "plotlyServerURL": "https://plot.ly"
       },
       "data": [
        {
         "box": {
          "visible": true
         },
         "meanline": {
          "visible": true
         },
         "name": "Gender = 0",
         "showlegend": true,
         "side": "positive",
         "type": "violin",
         "x": [
          1,
          1,
          1,
          1,
          1,
          1,
          1,
          1,
          1,
          1,
          1,
          1,
          1,
          1,
          1,
          1,
          1,
          1,
          1,
          1,
          1,
          1,
          1,
          1,
          1,
          1,
          1,
          1,
          1,
          1,
          1,
          1,
          1,
          1,
          1,
          1,
          1,
          1,
          1,
          1,
          1,
          1,
          1,
          1,
          1,
          1,
          1,
          1,
          1,
          1,
          1,
          1,
          1,
          1,
          1,
          1,
          1,
          1,
          1,
          1,
          1,
          1,
          1,
          1,
          1,
          1,
          1,
          1,
          1,
          1,
          1,
          1,
          1,
          1,
          1,
          1,
          1,
          1,
          1,
          1,
          1,
          1,
          1,
          1,
          1,
          1,
          1,
          1,
          1,
          1,
          1,
          1,
          1,
          1,
          1,
          1,
          1,
          1,
          1,
          1,
          1,
          1,
          1,
          1,
          1,
          1,
          1,
          1,
          1,
          1,
          1,
          1,
          1,
          1,
          1,
          1,
          1,
          1,
          1,
          1,
          1,
          1,
          1,
          1,
          1,
          1,
          1,
          1,
          1,
          1,
          1,
          1,
          1,
          1,
          1,
          1,
          1,
          1,
          1,
          1,
          1,
          1,
          1,
          1,
          1,
          1,
          1,
          1,
          1,
          1,
          1,
          1,
          1,
          1,
          1,
          1,
          1,
          1,
          1,
          1,
          1,
          1,
          1,
          1,
          1,
          1,
          1,
          1,
          1,
          1,
          1,
          1,
          1,
          1,
          1,
          1,
          1,
          1,
          1,
          1,
          1,
          1,
          1,
          1,
          1,
          1,
          1,
          1,
          1,
          1,
          1,
          1,
          1,
          1,
          1,
          1,
          1,
          1,
          1,
          1
         ],
         "y": [
          20,
          23,
          31,
          22,
          35,
          23,
          30,
          35,
          58,
          24,
          35,
          35,
          46,
          54,
          45,
          40,
          23,
          21,
          49,
          21,
          42,
          30,
          36,
          20,
          65,
          31,
          49,
          24,
          50,
          27,
          29,
          31,
          49,
          31,
          50,
          51,
          27,
          67,
          54,
          43,
          68,
          32,
          47,
          60,
          60,
          45,
          23,
          49,
          46,
          21,
          55,
          22,
          34,
          50,
          68,
          40,
          32,
          47,
          27,
          23,
          49,
          21,
          66,
          19,
          38,
          18,
          19,
          63,
          49,
          51,
          50,
          38,
          40,
          23,
          31,
          25,
          31,
          29,
          44,
          35,
          57,
          28,
          32,
          32,
          34,
          44,
          38,
          47,
          27,
          30,
          30,
          56,
          29,
          31,
          36,
          33,
          36,
          52,
          30,
          37,
          32,
          29,
          41,
          54,
          41,
          36,
          34,
          32,
          38,
          47,
          35,
          45
         ]
        },
        {
         "box": {
          "visible": true
         },
         "meanline": {
          "visible": true
         },
         "name": "Gender = 1",
         "showlegend": true,
         "side": "negative",
         "type": "violin",
         "x": [
          1,
          1,
          1,
          1,
          1,
          1,
          1,
          1,
          1,
          1,
          1,
          1,
          1,
          1,
          1,
          1,
          1,
          1,
          1,
          1,
          1,
          1,
          1,
          1,
          1,
          1,
          1,
          1,
          1,
          1,
          1,
          1,
          1,
          1,
          1,
          1,
          1,
          1,
          1,
          1,
          1,
          1,
          1,
          1,
          1,
          1,
          1,
          1,
          1,
          1,
          1,
          1,
          1,
          1,
          1,
          1,
          1,
          1,
          1,
          1,
          1,
          1,
          1,
          1,
          1,
          1,
          1,
          1,
          1,
          1,
          1,
          1,
          1,
          1,
          1,
          1,
          1,
          1,
          1,
          1,
          1,
          1,
          1,
          1,
          1,
          1,
          1,
          1,
          1,
          1,
          1,
          1,
          1,
          1,
          1,
          1,
          1,
          1,
          1,
          1,
          1,
          1,
          1,
          1,
          1,
          1,
          1,
          1,
          1,
          1,
          1,
          1,
          1,
          1,
          1,
          1,
          1,
          1,
          1,
          1,
          1,
          1,
          1,
          1,
          1,
          1,
          1,
          1,
          1,
          1,
          1,
          1,
          1,
          1,
          1,
          1,
          1,
          1,
          1,
          1,
          1,
          1,
          1,
          1,
          1,
          1,
          1,
          1,
          1,
          1,
          1,
          1,
          1,
          1,
          1,
          1,
          1,
          1,
          1,
          1,
          1,
          1,
          1,
          1,
          1,
          1,
          1,
          1,
          1,
          1,
          1,
          1,
          1,
          1,
          1,
          1,
          1,
          1,
          1,
          1,
          1,
          1,
          1,
          1,
          1,
          1,
          1,
          1,
          1,
          1,
          1,
          1,
          1,
          1,
          1,
          1,
          1,
          1,
          1,
          1
         ],
         "y": [
          19,
          21,
          64,
          67,
          37,
          22,
          20,
          52,
          35,
          25,
          31,
          29,
          35,
          60,
          53,
          18,
          24,
          48,
          33,
          59,
          47,
          69,
          53,
          70,
          19,
          63,
          18,
          19,
          70,
          59,
          26,
          40,
          57,
          38,
          67,
          48,
          18,
          48,
          24,
          48,
          20,
          67,
          26,
          49,
          54,
          68,
          66,
          65,
          19,
          27,
          39,
          43,
          40,
          59,
          38,
          47,
          39,
          20,
          32,
          19,
          32,
          25,
          28,
          48,
          34,
          43,
          39,
          37,
          34,
          19,
          50,
          42,
          32,
          40,
          28,
          36,
          36,
          58,
          27,
          59,
          35,
          46,
          30,
          28,
          33,
          32,
          32,
          30
         ]
        }
       ],
       "layout": {
        "height": 600,
        "template": {
         "data": {
          "bar": [
           {
            "error_x": {
             "color": "#2a3f5f"
            },
            "error_y": {
             "color": "#2a3f5f"
            },
            "marker": {
             "line": {
              "color": "#E5ECF6",
              "width": 0.5
             }
            },
            "type": "bar"
           }
          ],
          "barpolar": [
           {
            "marker": {
             "line": {
              "color": "#E5ECF6",
              "width": 0.5
             }
            },
            "type": "barpolar"
           }
          ],
          "carpet": [
           {
            "aaxis": {
             "endlinecolor": "#2a3f5f",
             "gridcolor": "white",
             "linecolor": "white",
             "minorgridcolor": "white",
             "startlinecolor": "#2a3f5f"
            },
            "baxis": {
             "endlinecolor": "#2a3f5f",
             "gridcolor": "white",
             "linecolor": "white",
             "minorgridcolor": "white",
             "startlinecolor": "#2a3f5f"
            },
            "type": "carpet"
           }
          ],
          "choropleth": [
           {
            "colorbar": {
             "outlinewidth": 0,
             "ticks": ""
            },
            "type": "choropleth"
           }
          ],
          "contour": [
           {
            "colorbar": {
             "outlinewidth": 0,
             "ticks": ""
            },
            "colorscale": [
             [
              0,
              "#0d0887"
             ],
             [
              0.1111111111111111,
              "#46039f"
             ],
             [
              0.2222222222222222,
              "#7201a8"
             ],
             [
              0.3333333333333333,
              "#9c179e"
             ],
             [
              0.4444444444444444,
              "#bd3786"
             ],
             [
              0.5555555555555556,
              "#d8576b"
             ],
             [
              0.6666666666666666,
              "#ed7953"
             ],
             [
              0.7777777777777778,
              "#fb9f3a"
             ],
             [
              0.8888888888888888,
              "#fdca26"
             ],
             [
              1,
              "#f0f921"
             ]
            ],
            "type": "contour"
           }
          ],
          "contourcarpet": [
           {
            "colorbar": {
             "outlinewidth": 0,
             "ticks": ""
            },
            "type": "contourcarpet"
           }
          ],
          "heatmap": [
           {
            "colorbar": {
             "outlinewidth": 0,
             "ticks": ""
            },
            "colorscale": [
             [
              0,
              "#0d0887"
             ],
             [
              0.1111111111111111,
              "#46039f"
             ],
             [
              0.2222222222222222,
              "#7201a8"
             ],
             [
              0.3333333333333333,
              "#9c179e"
             ],
             [
              0.4444444444444444,
              "#bd3786"
             ],
             [
              0.5555555555555556,
              "#d8576b"
             ],
             [
              0.6666666666666666,
              "#ed7953"
             ],
             [
              0.7777777777777778,
              "#fb9f3a"
             ],
             [
              0.8888888888888888,
              "#fdca26"
             ],
             [
              1,
              "#f0f921"
             ]
            ],
            "type": "heatmap"
           }
          ],
          "heatmapgl": [
           {
            "colorbar": {
             "outlinewidth": 0,
             "ticks": ""
            },
            "colorscale": [
             [
              0,
              "#0d0887"
             ],
             [
              0.1111111111111111,
              "#46039f"
             ],
             [
              0.2222222222222222,
              "#7201a8"
             ],
             [
              0.3333333333333333,
              "#9c179e"
             ],
             [
              0.4444444444444444,
              "#bd3786"
             ],
             [
              0.5555555555555556,
              "#d8576b"
             ],
             [
              0.6666666666666666,
              "#ed7953"
             ],
             [
              0.7777777777777778,
              "#fb9f3a"
             ],
             [
              0.8888888888888888,
              "#fdca26"
             ],
             [
              1,
              "#f0f921"
             ]
            ],
            "type": "heatmapgl"
           }
          ],
          "histogram": [
           {
            "marker": {
             "colorbar": {
              "outlinewidth": 0,
              "ticks": ""
             }
            },
            "type": "histogram"
           }
          ],
          "histogram2d": [
           {
            "colorbar": {
             "outlinewidth": 0,
             "ticks": ""
            },
            "colorscale": [
             [
              0,
              "#0d0887"
             ],
             [
              0.1111111111111111,
              "#46039f"
             ],
             [
              0.2222222222222222,
              "#7201a8"
             ],
             [
              0.3333333333333333,
              "#9c179e"
             ],
             [
              0.4444444444444444,
              "#bd3786"
             ],
             [
              0.5555555555555556,
              "#d8576b"
             ],
             [
              0.6666666666666666,
              "#ed7953"
             ],
             [
              0.7777777777777778,
              "#fb9f3a"
             ],
             [
              0.8888888888888888,
              "#fdca26"
             ],
             [
              1,
              "#f0f921"
             ]
            ],
            "type": "histogram2d"
           }
          ],
          "histogram2dcontour": [
           {
            "colorbar": {
             "outlinewidth": 0,
             "ticks": ""
            },
            "colorscale": [
             [
              0,
              "#0d0887"
             ],
             [
              0.1111111111111111,
              "#46039f"
             ],
             [
              0.2222222222222222,
              "#7201a8"
             ],
             [
              0.3333333333333333,
              "#9c179e"
             ],
             [
              0.4444444444444444,
              "#bd3786"
             ],
             [
              0.5555555555555556,
              "#d8576b"
             ],
             [
              0.6666666666666666,
              "#ed7953"
             ],
             [
              0.7777777777777778,
              "#fb9f3a"
             ],
             [
              0.8888888888888888,
              "#fdca26"
             ],
             [
              1,
              "#f0f921"
             ]
            ],
            "type": "histogram2dcontour"
           }
          ],
          "mesh3d": [
           {
            "colorbar": {
             "outlinewidth": 0,
             "ticks": ""
            },
            "type": "mesh3d"
           }
          ],
          "parcoords": [
           {
            "line": {
             "colorbar": {
              "outlinewidth": 0,
              "ticks": ""
             }
            },
            "type": "parcoords"
           }
          ],
          "pie": [
           {
            "automargin": true,
            "type": "pie"
           }
          ],
          "scatter": [
           {
            "marker": {
             "colorbar": {
              "outlinewidth": 0,
              "ticks": ""
             }
            },
            "type": "scatter"
           }
          ],
          "scatter3d": [
           {
            "line": {
             "colorbar": {
              "outlinewidth": 0,
              "ticks": ""
             }
            },
            "marker": {
             "colorbar": {
              "outlinewidth": 0,
              "ticks": ""
             }
            },
            "type": "scatter3d"
           }
          ],
          "scattercarpet": [
           {
            "marker": {
             "colorbar": {
              "outlinewidth": 0,
              "ticks": ""
             }
            },
            "type": "scattercarpet"
           }
          ],
          "scattergeo": [
           {
            "marker": {
             "colorbar": {
              "outlinewidth": 0,
              "ticks": ""
             }
            },
            "type": "scattergeo"
           }
          ],
          "scattergl": [
           {
            "marker": {
             "colorbar": {
              "outlinewidth": 0,
              "ticks": ""
             }
            },
            "type": "scattergl"
           }
          ],
          "scattermapbox": [
           {
            "marker": {
             "colorbar": {
              "outlinewidth": 0,
              "ticks": ""
             }
            },
            "type": "scattermapbox"
           }
          ],
          "scatterpolar": [
           {
            "marker": {
             "colorbar": {
              "outlinewidth": 0,
              "ticks": ""
             }
            },
            "type": "scatterpolar"
           }
          ],
          "scatterpolargl": [
           {
            "marker": {
             "colorbar": {
              "outlinewidth": 0,
              "ticks": ""
             }
            },
            "type": "scatterpolargl"
           }
          ],
          "scatterternary": [
           {
            "marker": {
             "colorbar": {
              "outlinewidth": 0,
              "ticks": ""
             }
            },
            "type": "scatterternary"
           }
          ],
          "surface": [
           {
            "colorbar": {
             "outlinewidth": 0,
             "ticks": ""
            },
            "colorscale": [
             [
              0,
              "#0d0887"
             ],
             [
              0.1111111111111111,
              "#46039f"
             ],
             [
              0.2222222222222222,
              "#7201a8"
             ],
             [
              0.3333333333333333,
              "#9c179e"
             ],
             [
              0.4444444444444444,
              "#bd3786"
             ],
             [
              0.5555555555555556,
              "#d8576b"
             ],
             [
              0.6666666666666666,
              "#ed7953"
             ],
             [
              0.7777777777777778,
              "#fb9f3a"
             ],
             [
              0.8888888888888888,
              "#fdca26"
             ],
             [
              1,
              "#f0f921"
             ]
            ],
            "type": "surface"
           }
          ],
          "table": [
           {
            "cells": {
             "fill": {
              "color": "#EBF0F8"
             },
             "line": {
              "color": "white"
             }
            },
            "header": {
             "fill": {
              "color": "#C8D4E3"
             },
             "line": {
              "color": "white"
             }
            },
            "type": "table"
           }
          ]
         },
         "layout": {
          "annotationdefaults": {
           "arrowcolor": "#2a3f5f",
           "arrowhead": 0,
           "arrowwidth": 1
          },
          "coloraxis": {
           "colorbar": {
            "outlinewidth": 0,
            "ticks": ""
           }
          },
          "colorscale": {
           "diverging": [
            [
             0,
             "#8e0152"
            ],
            [
             0.1,
             "#c51b7d"
            ],
            [
             0.2,
             "#de77ae"
            ],
            [
             0.3,
             "#f1b6da"
            ],
            [
             0.4,
             "#fde0ef"
            ],
            [
             0.5,
             "#f7f7f7"
            ],
            [
             0.6,
             "#e6f5d0"
            ],
            [
             0.7,
             "#b8e186"
            ],
            [
             0.8,
             "#7fbc41"
            ],
            [
             0.9,
             "#4d9221"
            ],
            [
             1,
             "#276419"
            ]
           ],
           "sequential": [
            [
             0,
             "#0d0887"
            ],
            [
             0.1111111111111111,
             "#46039f"
            ],
            [
             0.2222222222222222,
             "#7201a8"
            ],
            [
             0.3333333333333333,
             "#9c179e"
            ],
            [
             0.4444444444444444,
             "#bd3786"
            ],
            [
             0.5555555555555556,
             "#d8576b"
            ],
            [
             0.6666666666666666,
             "#ed7953"
            ],
            [
             0.7777777777777778,
             "#fb9f3a"
            ],
            [
             0.8888888888888888,
             "#fdca26"
            ],
            [
             1,
             "#f0f921"
            ]
           ],
           "sequentialminus": [
            [
             0,
             "#0d0887"
            ],
            [
             0.1111111111111111,
             "#46039f"
            ],
            [
             0.2222222222222222,
             "#7201a8"
            ],
            [
             0.3333333333333333,
             "#9c179e"
            ],
            [
             0.4444444444444444,
             "#bd3786"
            ],
            [
             0.5555555555555556,
             "#d8576b"
            ],
            [
             0.6666666666666666,
             "#ed7953"
            ],
            [
             0.7777777777777778,
             "#fb9f3a"
            ],
            [
             0.8888888888888888,
             "#fdca26"
            ],
            [
             1,
             "#f0f921"
            ]
           ]
          },
          "colorway": [
           "#636efa",
           "#EF553B",
           "#00cc96",
           "#ab63fa",
           "#FFA15A",
           "#19d3f3",
           "#FF6692",
           "#B6E880",
           "#FF97FF",
           "#FECB52"
          ],
          "font": {
           "color": "#2a3f5f"
          },
          "geo": {
           "bgcolor": "white",
           "lakecolor": "white",
           "landcolor": "#E5ECF6",
           "showlakes": true,
           "showland": true,
           "subunitcolor": "white"
          },
          "hoverlabel": {
           "align": "left"
          },
          "hovermode": "closest",
          "mapbox": {
           "style": "light"
          },
          "paper_bgcolor": "white",
          "plot_bgcolor": "#E5ECF6",
          "polar": {
           "angularaxis": {
            "gridcolor": "white",
            "linecolor": "white",
            "ticks": ""
           },
           "bgcolor": "#E5ECF6",
           "radialaxis": {
            "gridcolor": "white",
            "linecolor": "white",
            "ticks": ""
           }
          },
          "scene": {
           "xaxis": {
            "backgroundcolor": "#E5ECF6",
            "gridcolor": "white",
            "gridwidth": 2,
            "linecolor": "white",
            "showbackground": true,
            "ticks": "",
            "zerolinecolor": "white"
           },
           "yaxis": {
            "backgroundcolor": "#E5ECF6",
            "gridcolor": "white",
            "gridwidth": 2,
            "linecolor": "white",
            "showbackground": true,
            "ticks": "",
            "zerolinecolor": "white"
           },
           "zaxis": {
            "backgroundcolor": "#E5ECF6",
            "gridcolor": "white",
            "gridwidth": 2,
            "linecolor": "white",
            "showbackground": true,
            "ticks": "",
            "zerolinecolor": "white"
           }
          },
          "shapedefaults": {
           "line": {
            "color": "#2a3f5f"
           }
          },
          "ternary": {
           "aaxis": {
            "gridcolor": "white",
            "linecolor": "white",
            "ticks": ""
           },
           "baxis": {
            "gridcolor": "white",
            "linecolor": "white",
            "ticks": ""
           },
           "bgcolor": "#E5ECF6",
           "caxis": {
            "gridcolor": "white",
            "linecolor": "white",
            "ticks": ""
           }
          },
          "title": {
           "x": 0.05
          },
          "xaxis": {
           "automargin": true,
           "gridcolor": "white",
           "linecolor": "white",
           "ticks": "",
           "title": {
            "standoff": 15
           },
           "zerolinecolor": "white",
           "zerolinewidth": 2
          },
          "yaxis": {
           "automargin": true,
           "gridcolor": "white",
           "linecolor": "white",
           "ticks": "",
           "title": {
            "standoff": 15
           },
           "zerolinecolor": "white",
           "zerolinewidth": 2
          }
         }
        },
        "title": {
         "text": "Age Split By Gender"
        },
        "width": 900,
        "xaxis": {
         "showgrid": true,
         "showticklabels": false,
         "zeroline": true
        },
        "yaxis": {
         "showgrid": true,
         "tickprefix": "",
         "ticksuffix": "",
         "title": {
          "text": "Age"
         },
         "zeroline": true
        }
       }
      },
      "text/html": [
       "<div>\n",
       "        \n",
       "        \n",
       "            <div id=\"a7422af1-3be5-4f2d-ae3d-92ab8b0c3d15\" class=\"plotly-graph-div\" style=\"height:600px; width:900px;\"></div>\n",
       "            <script type=\"text/javascript\">\n",
       "                require([\"plotly\"], function(Plotly) {\n",
       "                    window.PLOTLYENV=window.PLOTLYENV || {};\n",
       "                    \n",
       "                if (document.getElementById(\"a7422af1-3be5-4f2d-ae3d-92ab8b0c3d15\")) {\n",
       "                    Plotly.newPlot(\n",
       "                        'a7422af1-3be5-4f2d-ae3d-92ab8b0c3d15',\n",
       "                        [{\"box\": {\"visible\": true}, \"meanline\": {\"visible\": true}, \"name\": \"Gender = 0\", \"showlegend\": true, \"side\": \"positive\", \"type\": \"violin\", \"x\": [1.0, 1.0, 1.0, 1.0, 1.0, 1.0, 1.0, 1.0, 1.0, 1.0, 1.0, 1.0, 1.0, 1.0, 1.0, 1.0, 1.0, 1.0, 1.0, 1.0, 1.0, 1.0, 1.0, 1.0, 1.0, 1.0, 1.0, 1.0, 1.0, 1.0, 1.0, 1.0, 1.0, 1.0, 1.0, 1.0, 1.0, 1.0, 1.0, 1.0, 1.0, 1.0, 1.0, 1.0, 1.0, 1.0, 1.0, 1.0, 1.0, 1.0, 1.0, 1.0, 1.0, 1.0, 1.0, 1.0, 1.0, 1.0, 1.0, 1.0, 1.0, 1.0, 1.0, 1.0, 1.0, 1.0, 1.0, 1.0, 1.0, 1.0, 1.0, 1.0, 1.0, 1.0, 1.0, 1.0, 1.0, 1.0, 1.0, 1.0, 1.0, 1.0, 1.0, 1.0, 1.0, 1.0, 1.0, 1.0, 1.0, 1.0, 1.0, 1.0, 1.0, 1.0, 1.0, 1.0, 1.0, 1.0, 1.0, 1.0, 1.0, 1.0, 1.0, 1.0, 1.0, 1.0, 1.0, 1.0, 1.0, 1.0, 1.0, 1.0, 1.0, 1.0, 1.0, 1.0, 1.0, 1.0, 1.0, 1.0, 1.0, 1.0, 1.0, 1.0, 1.0, 1.0, 1.0, 1.0, 1.0, 1.0, 1.0, 1.0, 1.0, 1.0, 1.0, 1.0, 1.0, 1.0, 1.0, 1.0, 1.0, 1.0, 1.0, 1.0, 1.0, 1.0, 1.0, 1.0, 1.0, 1.0, 1.0, 1.0, 1.0, 1.0, 1.0, 1.0, 1.0, 1.0, 1.0, 1.0, 1.0, 1.0, 1.0, 1.0, 1.0, 1.0, 1.0, 1.0, 1.0, 1.0, 1.0, 1.0, 1.0, 1.0, 1.0, 1.0, 1.0, 1.0, 1.0, 1.0, 1.0, 1.0, 1.0, 1.0, 1.0, 1.0, 1.0, 1.0, 1.0, 1.0, 1.0, 1.0, 1.0, 1.0, 1.0, 1.0, 1.0, 1.0, 1.0, 1.0], \"y\": [20, 23, 31, 22, 35, 23, 30, 35, 58, 24, 35, 35, 46, 54, 45, 40, 23, 21, 49, 21, 42, 30, 36, 20, 65, 31, 49, 24, 50, 27, 29, 31, 49, 31, 50, 51, 27, 67, 54, 43, 68, 32, 47, 60, 60, 45, 23, 49, 46, 21, 55, 22, 34, 50, 68, 40, 32, 47, 27, 23, 49, 21, 66, 19, 38, 18, 19, 63, 49, 51, 50, 38, 40, 23, 31, 25, 31, 29, 44, 35, 57, 28, 32, 32, 34, 44, 38, 47, 27, 30, 30, 56, 29, 31, 36, 33, 36, 52, 30, 37, 32, 29, 41, 54, 41, 36, 34, 32, 38, 47, 35, 45]}, {\"box\": {\"visible\": true}, \"meanline\": {\"visible\": true}, \"name\": \"Gender = 1\", \"showlegend\": true, \"side\": \"negative\", \"type\": \"violin\", \"x\": [1.0, 1.0, 1.0, 1.0, 1.0, 1.0, 1.0, 1.0, 1.0, 1.0, 1.0, 1.0, 1.0, 1.0, 1.0, 1.0, 1.0, 1.0, 1.0, 1.0, 1.0, 1.0, 1.0, 1.0, 1.0, 1.0, 1.0, 1.0, 1.0, 1.0, 1.0, 1.0, 1.0, 1.0, 1.0, 1.0, 1.0, 1.0, 1.0, 1.0, 1.0, 1.0, 1.0, 1.0, 1.0, 1.0, 1.0, 1.0, 1.0, 1.0, 1.0, 1.0, 1.0, 1.0, 1.0, 1.0, 1.0, 1.0, 1.0, 1.0, 1.0, 1.0, 1.0, 1.0, 1.0, 1.0, 1.0, 1.0, 1.0, 1.0, 1.0, 1.0, 1.0, 1.0, 1.0, 1.0, 1.0, 1.0, 1.0, 1.0, 1.0, 1.0, 1.0, 1.0, 1.0, 1.0, 1.0, 1.0, 1.0, 1.0, 1.0, 1.0, 1.0, 1.0, 1.0, 1.0, 1.0, 1.0, 1.0, 1.0, 1.0, 1.0, 1.0, 1.0, 1.0, 1.0, 1.0, 1.0, 1.0, 1.0, 1.0, 1.0, 1.0, 1.0, 1.0, 1.0, 1.0, 1.0, 1.0, 1.0, 1.0, 1.0, 1.0, 1.0, 1.0, 1.0, 1.0, 1.0, 1.0, 1.0, 1.0, 1.0, 1.0, 1.0, 1.0, 1.0, 1.0, 1.0, 1.0, 1.0, 1.0, 1.0, 1.0, 1.0, 1.0, 1.0, 1.0, 1.0, 1.0, 1.0, 1.0, 1.0, 1.0, 1.0, 1.0, 1.0, 1.0, 1.0, 1.0, 1.0, 1.0, 1.0, 1.0, 1.0, 1.0, 1.0, 1.0, 1.0, 1.0, 1.0, 1.0, 1.0, 1.0, 1.0, 1.0, 1.0, 1.0, 1.0, 1.0, 1.0, 1.0, 1.0, 1.0, 1.0, 1.0, 1.0, 1.0, 1.0, 1.0, 1.0, 1.0, 1.0, 1.0, 1.0, 1.0, 1.0, 1.0, 1.0, 1.0, 1.0], \"y\": [19, 21, 64, 67, 37, 22, 20, 52, 35, 25, 31, 29, 35, 60, 53, 18, 24, 48, 33, 59, 47, 69, 53, 70, 19, 63, 18, 19, 70, 59, 26, 40, 57, 38, 67, 48, 18, 48, 24, 48, 20, 67, 26, 49, 54, 68, 66, 65, 19, 27, 39, 43, 40, 59, 38, 47, 39, 20, 32, 19, 32, 25, 28, 48, 34, 43, 39, 37, 34, 19, 50, 42, 32, 40, 28, 36, 36, 58, 27, 59, 35, 46, 30, 28, 33, 32, 32, 30]}],\n",
       "                        {\"height\": 600, \"template\": {\"data\": {\"bar\": [{\"error_x\": {\"color\": \"#2a3f5f\"}, \"error_y\": {\"color\": \"#2a3f5f\"}, \"marker\": {\"line\": {\"color\": \"#E5ECF6\", \"width\": 0.5}}, \"type\": \"bar\"}], \"barpolar\": [{\"marker\": {\"line\": {\"color\": \"#E5ECF6\", \"width\": 0.5}}, \"type\": \"barpolar\"}], \"carpet\": [{\"aaxis\": {\"endlinecolor\": \"#2a3f5f\", \"gridcolor\": \"white\", \"linecolor\": \"white\", \"minorgridcolor\": \"white\", \"startlinecolor\": \"#2a3f5f\"}, \"baxis\": {\"endlinecolor\": \"#2a3f5f\", \"gridcolor\": \"white\", \"linecolor\": \"white\", \"minorgridcolor\": \"white\", \"startlinecolor\": \"#2a3f5f\"}, \"type\": \"carpet\"}], \"choropleth\": [{\"colorbar\": {\"outlinewidth\": 0, \"ticks\": \"\"}, \"type\": \"choropleth\"}], \"contour\": [{\"colorbar\": {\"outlinewidth\": 0, \"ticks\": \"\"}, \"colorscale\": [[0.0, \"#0d0887\"], [0.1111111111111111, \"#46039f\"], [0.2222222222222222, \"#7201a8\"], [0.3333333333333333, \"#9c179e\"], [0.4444444444444444, \"#bd3786\"], [0.5555555555555556, \"#d8576b\"], [0.6666666666666666, \"#ed7953\"], [0.7777777777777778, \"#fb9f3a\"], [0.8888888888888888, \"#fdca26\"], [1.0, \"#f0f921\"]], \"type\": \"contour\"}], \"contourcarpet\": [{\"colorbar\": {\"outlinewidth\": 0, \"ticks\": \"\"}, \"type\": \"contourcarpet\"}], \"heatmap\": [{\"colorbar\": {\"outlinewidth\": 0, \"ticks\": \"\"}, \"colorscale\": [[0.0, \"#0d0887\"], [0.1111111111111111, \"#46039f\"], [0.2222222222222222, \"#7201a8\"], [0.3333333333333333, \"#9c179e\"], [0.4444444444444444, \"#bd3786\"], [0.5555555555555556, \"#d8576b\"], [0.6666666666666666, \"#ed7953\"], [0.7777777777777778, \"#fb9f3a\"], [0.8888888888888888, \"#fdca26\"], [1.0, \"#f0f921\"]], \"type\": \"heatmap\"}], \"heatmapgl\": [{\"colorbar\": {\"outlinewidth\": 0, \"ticks\": \"\"}, \"colorscale\": [[0.0, \"#0d0887\"], [0.1111111111111111, \"#46039f\"], [0.2222222222222222, \"#7201a8\"], [0.3333333333333333, \"#9c179e\"], [0.4444444444444444, \"#bd3786\"], [0.5555555555555556, \"#d8576b\"], [0.6666666666666666, \"#ed7953\"], [0.7777777777777778, \"#fb9f3a\"], [0.8888888888888888, \"#fdca26\"], [1.0, \"#f0f921\"]], \"type\": \"heatmapgl\"}], \"histogram\": [{\"marker\": {\"colorbar\": {\"outlinewidth\": 0, \"ticks\": \"\"}}, \"type\": \"histogram\"}], \"histogram2d\": [{\"colorbar\": {\"outlinewidth\": 0, \"ticks\": \"\"}, \"colorscale\": [[0.0, \"#0d0887\"], [0.1111111111111111, \"#46039f\"], [0.2222222222222222, \"#7201a8\"], [0.3333333333333333, \"#9c179e\"], [0.4444444444444444, \"#bd3786\"], [0.5555555555555556, \"#d8576b\"], [0.6666666666666666, \"#ed7953\"], [0.7777777777777778, \"#fb9f3a\"], [0.8888888888888888, \"#fdca26\"], [1.0, \"#f0f921\"]], \"type\": \"histogram2d\"}], \"histogram2dcontour\": [{\"colorbar\": {\"outlinewidth\": 0, \"ticks\": \"\"}, \"colorscale\": [[0.0, \"#0d0887\"], [0.1111111111111111, \"#46039f\"], [0.2222222222222222, \"#7201a8\"], [0.3333333333333333, \"#9c179e\"], [0.4444444444444444, \"#bd3786\"], [0.5555555555555556, \"#d8576b\"], [0.6666666666666666, \"#ed7953\"], [0.7777777777777778, \"#fb9f3a\"], [0.8888888888888888, \"#fdca26\"], [1.0, \"#f0f921\"]], \"type\": \"histogram2dcontour\"}], \"mesh3d\": [{\"colorbar\": {\"outlinewidth\": 0, \"ticks\": \"\"}, \"type\": \"mesh3d\"}], \"parcoords\": [{\"line\": {\"colorbar\": {\"outlinewidth\": 0, \"ticks\": \"\"}}, \"type\": \"parcoords\"}], \"pie\": [{\"automargin\": true, \"type\": \"pie\"}], \"scatter\": [{\"marker\": {\"colorbar\": {\"outlinewidth\": 0, \"ticks\": \"\"}}, \"type\": \"scatter\"}], \"scatter3d\": [{\"line\": {\"colorbar\": {\"outlinewidth\": 0, \"ticks\": \"\"}}, \"marker\": {\"colorbar\": {\"outlinewidth\": 0, \"ticks\": \"\"}}, \"type\": \"scatter3d\"}], \"scattercarpet\": [{\"marker\": {\"colorbar\": {\"outlinewidth\": 0, \"ticks\": \"\"}}, \"type\": \"scattercarpet\"}], \"scattergeo\": [{\"marker\": {\"colorbar\": {\"outlinewidth\": 0, \"ticks\": \"\"}}, \"type\": \"scattergeo\"}], \"scattergl\": [{\"marker\": {\"colorbar\": {\"outlinewidth\": 0, \"ticks\": \"\"}}, \"type\": \"scattergl\"}], \"scattermapbox\": [{\"marker\": {\"colorbar\": {\"outlinewidth\": 0, \"ticks\": \"\"}}, \"type\": \"scattermapbox\"}], \"scatterpolar\": [{\"marker\": {\"colorbar\": {\"outlinewidth\": 0, \"ticks\": \"\"}}, \"type\": \"scatterpolar\"}], \"scatterpolargl\": [{\"marker\": {\"colorbar\": {\"outlinewidth\": 0, \"ticks\": \"\"}}, \"type\": \"scatterpolargl\"}], \"scatterternary\": [{\"marker\": {\"colorbar\": {\"outlinewidth\": 0, \"ticks\": \"\"}}, \"type\": \"scatterternary\"}], \"surface\": [{\"colorbar\": {\"outlinewidth\": 0, \"ticks\": \"\"}, \"colorscale\": [[0.0, \"#0d0887\"], [0.1111111111111111, \"#46039f\"], [0.2222222222222222, \"#7201a8\"], [0.3333333333333333, \"#9c179e\"], [0.4444444444444444, \"#bd3786\"], [0.5555555555555556, \"#d8576b\"], [0.6666666666666666, \"#ed7953\"], [0.7777777777777778, \"#fb9f3a\"], [0.8888888888888888, \"#fdca26\"], [1.0, \"#f0f921\"]], \"type\": \"surface\"}], \"table\": [{\"cells\": {\"fill\": {\"color\": \"#EBF0F8\"}, \"line\": {\"color\": \"white\"}}, \"header\": {\"fill\": {\"color\": \"#C8D4E3\"}, \"line\": {\"color\": \"white\"}}, \"type\": \"table\"}]}, \"layout\": {\"annotationdefaults\": {\"arrowcolor\": \"#2a3f5f\", \"arrowhead\": 0, \"arrowwidth\": 1}, \"coloraxis\": {\"colorbar\": {\"outlinewidth\": 0, \"ticks\": \"\"}}, \"colorscale\": {\"diverging\": [[0, \"#8e0152\"], [0.1, \"#c51b7d\"], [0.2, \"#de77ae\"], [0.3, \"#f1b6da\"], [0.4, \"#fde0ef\"], [0.5, \"#f7f7f7\"], [0.6, \"#e6f5d0\"], [0.7, \"#b8e186\"], [0.8, \"#7fbc41\"], [0.9, \"#4d9221\"], [1, \"#276419\"]], \"sequential\": [[0.0, \"#0d0887\"], [0.1111111111111111, \"#46039f\"], [0.2222222222222222, \"#7201a8\"], [0.3333333333333333, \"#9c179e\"], [0.4444444444444444, \"#bd3786\"], [0.5555555555555556, \"#d8576b\"], [0.6666666666666666, \"#ed7953\"], [0.7777777777777778, \"#fb9f3a\"], [0.8888888888888888, \"#fdca26\"], [1.0, \"#f0f921\"]], \"sequentialminus\": [[0.0, \"#0d0887\"], [0.1111111111111111, \"#46039f\"], [0.2222222222222222, \"#7201a8\"], [0.3333333333333333, \"#9c179e\"], [0.4444444444444444, \"#bd3786\"], [0.5555555555555556, \"#d8576b\"], [0.6666666666666666, \"#ed7953\"], [0.7777777777777778, \"#fb9f3a\"], [0.8888888888888888, \"#fdca26\"], [1.0, \"#f0f921\"]]}, \"colorway\": [\"#636efa\", \"#EF553B\", \"#00cc96\", \"#ab63fa\", \"#FFA15A\", \"#19d3f3\", \"#FF6692\", \"#B6E880\", \"#FF97FF\", \"#FECB52\"], \"font\": {\"color\": \"#2a3f5f\"}, \"geo\": {\"bgcolor\": \"white\", \"lakecolor\": \"white\", \"landcolor\": \"#E5ECF6\", \"showlakes\": true, \"showland\": true, \"subunitcolor\": \"white\"}, \"hoverlabel\": {\"align\": \"left\"}, \"hovermode\": \"closest\", \"mapbox\": {\"style\": \"light\"}, \"paper_bgcolor\": \"white\", \"plot_bgcolor\": \"#E5ECF6\", \"polar\": {\"angularaxis\": {\"gridcolor\": \"white\", \"linecolor\": \"white\", \"ticks\": \"\"}, \"bgcolor\": \"#E5ECF6\", \"radialaxis\": {\"gridcolor\": \"white\", \"linecolor\": \"white\", \"ticks\": \"\"}}, \"scene\": {\"xaxis\": {\"backgroundcolor\": \"#E5ECF6\", \"gridcolor\": \"white\", \"gridwidth\": 2, \"linecolor\": \"white\", \"showbackground\": true, \"ticks\": \"\", \"zerolinecolor\": \"white\"}, \"yaxis\": {\"backgroundcolor\": \"#E5ECF6\", \"gridcolor\": \"white\", \"gridwidth\": 2, \"linecolor\": \"white\", \"showbackground\": true, \"ticks\": \"\", \"zerolinecolor\": \"white\"}, \"zaxis\": {\"backgroundcolor\": \"#E5ECF6\", \"gridcolor\": \"white\", \"gridwidth\": 2, \"linecolor\": \"white\", \"showbackground\": true, \"ticks\": \"\", \"zerolinecolor\": \"white\"}}, \"shapedefaults\": {\"line\": {\"color\": \"#2a3f5f\"}}, \"ternary\": {\"aaxis\": {\"gridcolor\": \"white\", \"linecolor\": \"white\", \"ticks\": \"\"}, \"baxis\": {\"gridcolor\": \"white\", \"linecolor\": \"white\", \"ticks\": \"\"}, \"bgcolor\": \"#E5ECF6\", \"caxis\": {\"gridcolor\": \"white\", \"linecolor\": \"white\", \"ticks\": \"\"}}, \"title\": {\"x\": 0.05}, \"xaxis\": {\"automargin\": true, \"gridcolor\": \"white\", \"linecolor\": \"white\", \"ticks\": \"\", \"title\": {\"standoff\": 15}, \"zerolinecolor\": \"white\", \"zerolinewidth\": 2}, \"yaxis\": {\"automargin\": true, \"gridcolor\": \"white\", \"linecolor\": \"white\", \"ticks\": \"\", \"title\": {\"standoff\": 15}, \"zerolinecolor\": \"white\", \"zerolinewidth\": 2}}}, \"title\": {\"text\": \"Age Split By Gender\"}, \"width\": 900, \"xaxis\": {\"showgrid\": true, \"showticklabels\": false, \"zeroline\": true}, \"yaxis\": {\"showgrid\": true, \"tickprefix\": \"\", \"ticksuffix\": \"\", \"title\": {\"text\": \"Age\"}, \"zeroline\": true}},\n",
       "                        {\"responsive\": true}\n",
       "                    ).then(function(){\n",
       "                            \n",
       "var gd = document.getElementById('a7422af1-3be5-4f2d-ae3d-92ab8b0c3d15');\n",
       "var x = new MutationObserver(function (mutations, observer) {{\n",
       "        var display = window.getComputedStyle(gd).display;\n",
       "        if (!display || display === 'none') {{\n",
       "            console.log([gd, 'removed!']);\n",
       "            Plotly.purge(gd);\n",
       "            observer.disconnect();\n",
       "        }}\n",
       "}});\n",
       "\n",
       "// Listen for the removal of the full notebook cells\n",
       "var notebookContainer = gd.closest('#notebook-container');\n",
       "if (notebookContainer) {{\n",
       "    x.observe(notebookContainer, {childList: true});\n",
       "}}\n",
       "\n",
       "// Listen for the clearing of the current output cell\n",
       "var outputEl = gd.closest('.output');\n",
       "if (outputEl) {{\n",
       "    x.observe(outputEl, {childList: true});\n",
       "}}\n",
       "\n",
       "                        })\n",
       "                };\n",
       "                });\n",
       "            </script>\n",
       "        </div>"
      ]
     },
     "metadata": {},
     "output_type": "display_data"
    }
   ],
   "source": [
    "#Male population is slightly older than Female\n",
    "Plot(Data, \"Age\", \"Gender\")"
   ]
  },
  {
   "cell_type": "code",
   "execution_count": 47,
   "metadata": {},
   "outputs": [
    {
     "data": {
      "application/vnd.plotly.v1+json": {
       "config": {
        "plotlyServerURL": "https://plot.ly"
       },
       "data": [
        {
         "box": {
          "visible": true
         },
         "meanline": {
          "visible": true
         },
         "name": "Gender = 0",
         "showlegend": true,
         "side": "positive",
         "type": "violin",
         "x": [
          1,
          1,
          1,
          1,
          1,
          1,
          1,
          1,
          1,
          1,
          1,
          1,
          1,
          1,
          1,
          1,
          1,
          1,
          1,
          1,
          1,
          1,
          1,
          1,
          1,
          1,
          1,
          1,
          1,
          1,
          1,
          1,
          1,
          1,
          1,
          1,
          1,
          1,
          1,
          1,
          1,
          1,
          1,
          1,
          1,
          1,
          1,
          1,
          1,
          1,
          1,
          1,
          1,
          1,
          1,
          1,
          1,
          1,
          1,
          1,
          1,
          1,
          1,
          1,
          1,
          1,
          1,
          1,
          1,
          1,
          1,
          1,
          1,
          1,
          1,
          1,
          1,
          1,
          1,
          1,
          1,
          1,
          1,
          1,
          1,
          1,
          1,
          1,
          1,
          1,
          1,
          1,
          1,
          1,
          1,
          1,
          1,
          1,
          1,
          1,
          1,
          1,
          1,
          1,
          1,
          1,
          1,
          1,
          1,
          1,
          1,
          1,
          1,
          1,
          1,
          1,
          1,
          1,
          1,
          1,
          1,
          1,
          1,
          1,
          1,
          1,
          1,
          1,
          1,
          1,
          1,
          1,
          1,
          1,
          1,
          1,
          1,
          1,
          1,
          1,
          1,
          1,
          1,
          1,
          1,
          1,
          1,
          1,
          1,
          1,
          1,
          1,
          1,
          1,
          1,
          1,
          1,
          1,
          1,
          1,
          1,
          1,
          1,
          1,
          1,
          1,
          1,
          1,
          1,
          1,
          1,
          1,
          1,
          1,
          1,
          1,
          1,
          1,
          1,
          1,
          1,
          1,
          1,
          1,
          1,
          1,
          1,
          1,
          1,
          1,
          1,
          1,
          1,
          1,
          1,
          1,
          1,
          1,
          1,
          1
         ],
         "y": [
          16000,
          16000,
          17000,
          17000,
          18000,
          18000,
          19000,
          19000,
          20000,
          20000,
          21000,
          23000,
          25000,
          28000,
          28000,
          29000,
          29000,
          30000,
          33000,
          33000,
          34000,
          34000,
          37000,
          37000,
          38000,
          39000,
          39000,
          39000,
          40000,
          40000,
          40000,
          40000,
          42000,
          43000,
          43000,
          44000,
          46000,
          47000,
          47000,
          48000,
          48000,
          48000,
          49000,
          50000,
          50000,
          54000,
          54000,
          54000,
          54000,
          54000,
          57000,
          57000,
          58000,
          58000,
          59000,
          60000,
          60000,
          60000,
          60000,
          62000,
          62000,
          62000,
          63000,
          63000,
          64000,
          65000,
          65000,
          65000,
          65000,
          67000,
          67000,
          67000,
          69000,
          70000,
          70000,
          72000,
          72000,
          73000,
          73000,
          74000,
          75000,
          76000,
          76000,
          77000,
          78000,
          78000,
          78000,
          78000,
          78000,
          78000,
          78000,
          79000,
          79000,
          81000,
          85000,
          86000,
          87000,
          88000,
          88000,
          97000,
          97000,
          98000,
          99000,
          101000,
          103000,
          103000,
          103000,
          103000,
          113000,
          120000,
          120000,
          126000
         ]
        },
        {
         "box": {
          "visible": true
         },
         "meanline": {
          "visible": true
         },
         "name": "Gender = 1",
         "showlegend": true,
         "side": "negative",
         "type": "violin",
         "x": [
          1,
          1,
          1,
          1,
          1,
          1,
          1,
          1,
          1,
          1,
          1,
          1,
          1,
          1,
          1,
          1,
          1,
          1,
          1,
          1,
          1,
          1,
          1,
          1,
          1,
          1,
          1,
          1,
          1,
          1,
          1,
          1,
          1,
          1,
          1,
          1,
          1,
          1,
          1,
          1,
          1,
          1,
          1,
          1,
          1,
          1,
          1,
          1,
          1,
          1,
          1,
          1,
          1,
          1,
          1,
          1,
          1,
          1,
          1,
          1,
          1,
          1,
          1,
          1,
          1,
          1,
          1,
          1,
          1,
          1,
          1,
          1,
          1,
          1,
          1,
          1,
          1,
          1,
          1,
          1,
          1,
          1,
          1,
          1,
          1,
          1,
          1,
          1,
          1,
          1,
          1,
          1,
          1,
          1,
          1,
          1,
          1,
          1,
          1,
          1,
          1,
          1,
          1,
          1,
          1,
          1,
          1,
          1,
          1,
          1,
          1,
          1,
          1,
          1,
          1,
          1,
          1,
          1,
          1,
          1,
          1,
          1,
          1,
          1,
          1,
          1,
          1,
          1,
          1,
          1,
          1,
          1,
          1,
          1,
          1,
          1,
          1,
          1,
          1,
          1,
          1,
          1,
          1,
          1,
          1,
          1,
          1,
          1,
          1,
          1,
          1,
          1,
          1,
          1,
          1,
          1,
          1,
          1,
          1,
          1,
          1,
          1,
          1,
          1,
          1,
          1,
          1,
          1,
          1,
          1,
          1,
          1,
          1,
          1,
          1,
          1,
          1,
          1,
          1,
          1,
          1,
          1,
          1,
          1,
          1,
          1,
          1,
          1,
          1,
          1,
          1,
          1,
          1,
          1,
          1,
          1,
          1,
          1,
          1,
          1
         ],
         "y": [
          15000,
          15000,
          19000,
          19000,
          20000,
          20000,
          21000,
          23000,
          24000,
          24000,
          25000,
          28000,
          28000,
          30000,
          33000,
          33000,
          38000,
          39000,
          42000,
          43000,
          43000,
          44000,
          46000,
          46000,
          46000,
          48000,
          48000,
          48000,
          49000,
          54000,
          54000,
          54000,
          54000,
          54000,
          54000,
          54000,
          59000,
          60000,
          60000,
          61000,
          61000,
          62000,
          62000,
          62000,
          63000,
          63000,
          63000,
          63000,
          64000,
          67000,
          69000,
          71000,
          71000,
          71000,
          71000,
          71000,
          71000,
          73000,
          73000,
          74000,
          75000,
          77000,
          77000,
          77000,
          78000,
          78000,
          78000,
          78000,
          78000,
          81000,
          85000,
          86000,
          87000,
          87000,
          87000,
          87000,
          87000,
          88000,
          88000,
          93000,
          93000,
          98000,
          99000,
          101000,
          113000,
          126000,
          137000,
          137000
         ]
        }
       ],
       "layout": {
        "height": 600,
        "template": {
         "data": {
          "bar": [
           {
            "error_x": {
             "color": "#2a3f5f"
            },
            "error_y": {
             "color": "#2a3f5f"
            },
            "marker": {
             "line": {
              "color": "#E5ECF6",
              "width": 0.5
             }
            },
            "type": "bar"
           }
          ],
          "barpolar": [
           {
            "marker": {
             "line": {
              "color": "#E5ECF6",
              "width": 0.5
             }
            },
            "type": "barpolar"
           }
          ],
          "carpet": [
           {
            "aaxis": {
             "endlinecolor": "#2a3f5f",
             "gridcolor": "white",
             "linecolor": "white",
             "minorgridcolor": "white",
             "startlinecolor": "#2a3f5f"
            },
            "baxis": {
             "endlinecolor": "#2a3f5f",
             "gridcolor": "white",
             "linecolor": "white",
             "minorgridcolor": "white",
             "startlinecolor": "#2a3f5f"
            },
            "type": "carpet"
           }
          ],
          "choropleth": [
           {
            "colorbar": {
             "outlinewidth": 0,
             "ticks": ""
            },
            "type": "choropleth"
           }
          ],
          "contour": [
           {
            "colorbar": {
             "outlinewidth": 0,
             "ticks": ""
            },
            "colorscale": [
             [
              0,
              "#0d0887"
             ],
             [
              0.1111111111111111,
              "#46039f"
             ],
             [
              0.2222222222222222,
              "#7201a8"
             ],
             [
              0.3333333333333333,
              "#9c179e"
             ],
             [
              0.4444444444444444,
              "#bd3786"
             ],
             [
              0.5555555555555556,
              "#d8576b"
             ],
             [
              0.6666666666666666,
              "#ed7953"
             ],
             [
              0.7777777777777778,
              "#fb9f3a"
             ],
             [
              0.8888888888888888,
              "#fdca26"
             ],
             [
              1,
              "#f0f921"
             ]
            ],
            "type": "contour"
           }
          ],
          "contourcarpet": [
           {
            "colorbar": {
             "outlinewidth": 0,
             "ticks": ""
            },
            "type": "contourcarpet"
           }
          ],
          "heatmap": [
           {
            "colorbar": {
             "outlinewidth": 0,
             "ticks": ""
            },
            "colorscale": [
             [
              0,
              "#0d0887"
             ],
             [
              0.1111111111111111,
              "#46039f"
             ],
             [
              0.2222222222222222,
              "#7201a8"
             ],
             [
              0.3333333333333333,
              "#9c179e"
             ],
             [
              0.4444444444444444,
              "#bd3786"
             ],
             [
              0.5555555555555556,
              "#d8576b"
             ],
             [
              0.6666666666666666,
              "#ed7953"
             ],
             [
              0.7777777777777778,
              "#fb9f3a"
             ],
             [
              0.8888888888888888,
              "#fdca26"
             ],
             [
              1,
              "#f0f921"
             ]
            ],
            "type": "heatmap"
           }
          ],
          "heatmapgl": [
           {
            "colorbar": {
             "outlinewidth": 0,
             "ticks": ""
            },
            "colorscale": [
             [
              0,
              "#0d0887"
             ],
             [
              0.1111111111111111,
              "#46039f"
             ],
             [
              0.2222222222222222,
              "#7201a8"
             ],
             [
              0.3333333333333333,
              "#9c179e"
             ],
             [
              0.4444444444444444,
              "#bd3786"
             ],
             [
              0.5555555555555556,
              "#d8576b"
             ],
             [
              0.6666666666666666,
              "#ed7953"
             ],
             [
              0.7777777777777778,
              "#fb9f3a"
             ],
             [
              0.8888888888888888,
              "#fdca26"
             ],
             [
              1,
              "#f0f921"
             ]
            ],
            "type": "heatmapgl"
           }
          ],
          "histogram": [
           {
            "marker": {
             "colorbar": {
              "outlinewidth": 0,
              "ticks": ""
             }
            },
            "type": "histogram"
           }
          ],
          "histogram2d": [
           {
            "colorbar": {
             "outlinewidth": 0,
             "ticks": ""
            },
            "colorscale": [
             [
              0,
              "#0d0887"
             ],
             [
              0.1111111111111111,
              "#46039f"
             ],
             [
              0.2222222222222222,
              "#7201a8"
             ],
             [
              0.3333333333333333,
              "#9c179e"
             ],
             [
              0.4444444444444444,
              "#bd3786"
             ],
             [
              0.5555555555555556,
              "#d8576b"
             ],
             [
              0.6666666666666666,
              "#ed7953"
             ],
             [
              0.7777777777777778,
              "#fb9f3a"
             ],
             [
              0.8888888888888888,
              "#fdca26"
             ],
             [
              1,
              "#f0f921"
             ]
            ],
            "type": "histogram2d"
           }
          ],
          "histogram2dcontour": [
           {
            "colorbar": {
             "outlinewidth": 0,
             "ticks": ""
            },
            "colorscale": [
             [
              0,
              "#0d0887"
             ],
             [
              0.1111111111111111,
              "#46039f"
             ],
             [
              0.2222222222222222,
              "#7201a8"
             ],
             [
              0.3333333333333333,
              "#9c179e"
             ],
             [
              0.4444444444444444,
              "#bd3786"
             ],
             [
              0.5555555555555556,
              "#d8576b"
             ],
             [
              0.6666666666666666,
              "#ed7953"
             ],
             [
              0.7777777777777778,
              "#fb9f3a"
             ],
             [
              0.8888888888888888,
              "#fdca26"
             ],
             [
              1,
              "#f0f921"
             ]
            ],
            "type": "histogram2dcontour"
           }
          ],
          "mesh3d": [
           {
            "colorbar": {
             "outlinewidth": 0,
             "ticks": ""
            },
            "type": "mesh3d"
           }
          ],
          "parcoords": [
           {
            "line": {
             "colorbar": {
              "outlinewidth": 0,
              "ticks": ""
             }
            },
            "type": "parcoords"
           }
          ],
          "pie": [
           {
            "automargin": true,
            "type": "pie"
           }
          ],
          "scatter": [
           {
            "marker": {
             "colorbar": {
              "outlinewidth": 0,
              "ticks": ""
             }
            },
            "type": "scatter"
           }
          ],
          "scatter3d": [
           {
            "line": {
             "colorbar": {
              "outlinewidth": 0,
              "ticks": ""
             }
            },
            "marker": {
             "colorbar": {
              "outlinewidth": 0,
              "ticks": ""
             }
            },
            "type": "scatter3d"
           }
          ],
          "scattercarpet": [
           {
            "marker": {
             "colorbar": {
              "outlinewidth": 0,
              "ticks": ""
             }
            },
            "type": "scattercarpet"
           }
          ],
          "scattergeo": [
           {
            "marker": {
             "colorbar": {
              "outlinewidth": 0,
              "ticks": ""
             }
            },
            "type": "scattergeo"
           }
          ],
          "scattergl": [
           {
            "marker": {
             "colorbar": {
              "outlinewidth": 0,
              "ticks": ""
             }
            },
            "type": "scattergl"
           }
          ],
          "scattermapbox": [
           {
            "marker": {
             "colorbar": {
              "outlinewidth": 0,
              "ticks": ""
             }
            },
            "type": "scattermapbox"
           }
          ],
          "scatterpolar": [
           {
            "marker": {
             "colorbar": {
              "outlinewidth": 0,
              "ticks": ""
             }
            },
            "type": "scatterpolar"
           }
          ],
          "scatterpolargl": [
           {
            "marker": {
             "colorbar": {
              "outlinewidth": 0,
              "ticks": ""
             }
            },
            "type": "scatterpolargl"
           }
          ],
          "scatterternary": [
           {
            "marker": {
             "colorbar": {
              "outlinewidth": 0,
              "ticks": ""
             }
            },
            "type": "scatterternary"
           }
          ],
          "surface": [
           {
            "colorbar": {
             "outlinewidth": 0,
             "ticks": ""
            },
            "colorscale": [
             [
              0,
              "#0d0887"
             ],
             [
              0.1111111111111111,
              "#46039f"
             ],
             [
              0.2222222222222222,
              "#7201a8"
             ],
             [
              0.3333333333333333,
              "#9c179e"
             ],
             [
              0.4444444444444444,
              "#bd3786"
             ],
             [
              0.5555555555555556,
              "#d8576b"
             ],
             [
              0.6666666666666666,
              "#ed7953"
             ],
             [
              0.7777777777777778,
              "#fb9f3a"
             ],
             [
              0.8888888888888888,
              "#fdca26"
             ],
             [
              1,
              "#f0f921"
             ]
            ],
            "type": "surface"
           }
          ],
          "table": [
           {
            "cells": {
             "fill": {
              "color": "#EBF0F8"
             },
             "line": {
              "color": "white"
             }
            },
            "header": {
             "fill": {
              "color": "#C8D4E3"
             },
             "line": {
              "color": "white"
             }
            },
            "type": "table"
           }
          ]
         },
         "layout": {
          "annotationdefaults": {
           "arrowcolor": "#2a3f5f",
           "arrowhead": 0,
           "arrowwidth": 1
          },
          "coloraxis": {
           "colorbar": {
            "outlinewidth": 0,
            "ticks": ""
           }
          },
          "colorscale": {
           "diverging": [
            [
             0,
             "#8e0152"
            ],
            [
             0.1,
             "#c51b7d"
            ],
            [
             0.2,
             "#de77ae"
            ],
            [
             0.3,
             "#f1b6da"
            ],
            [
             0.4,
             "#fde0ef"
            ],
            [
             0.5,
             "#f7f7f7"
            ],
            [
             0.6,
             "#e6f5d0"
            ],
            [
             0.7,
             "#b8e186"
            ],
            [
             0.8,
             "#7fbc41"
            ],
            [
             0.9,
             "#4d9221"
            ],
            [
             1,
             "#276419"
            ]
           ],
           "sequential": [
            [
             0,
             "#0d0887"
            ],
            [
             0.1111111111111111,
             "#46039f"
            ],
            [
             0.2222222222222222,
             "#7201a8"
            ],
            [
             0.3333333333333333,
             "#9c179e"
            ],
            [
             0.4444444444444444,
             "#bd3786"
            ],
            [
             0.5555555555555556,
             "#d8576b"
            ],
            [
             0.6666666666666666,
             "#ed7953"
            ],
            [
             0.7777777777777778,
             "#fb9f3a"
            ],
            [
             0.8888888888888888,
             "#fdca26"
            ],
            [
             1,
             "#f0f921"
            ]
           ],
           "sequentialminus": [
            [
             0,
             "#0d0887"
            ],
            [
             0.1111111111111111,
             "#46039f"
            ],
            [
             0.2222222222222222,
             "#7201a8"
            ],
            [
             0.3333333333333333,
             "#9c179e"
            ],
            [
             0.4444444444444444,
             "#bd3786"
            ],
            [
             0.5555555555555556,
             "#d8576b"
            ],
            [
             0.6666666666666666,
             "#ed7953"
            ],
            [
             0.7777777777777778,
             "#fb9f3a"
            ],
            [
             0.8888888888888888,
             "#fdca26"
            ],
            [
             1,
             "#f0f921"
            ]
           ]
          },
          "colorway": [
           "#636efa",
           "#EF553B",
           "#00cc96",
           "#ab63fa",
           "#FFA15A",
           "#19d3f3",
           "#FF6692",
           "#B6E880",
           "#FF97FF",
           "#FECB52"
          ],
          "font": {
           "color": "#2a3f5f"
          },
          "geo": {
           "bgcolor": "white",
           "lakecolor": "white",
           "landcolor": "#E5ECF6",
           "showlakes": true,
           "showland": true,
           "subunitcolor": "white"
          },
          "hoverlabel": {
           "align": "left"
          },
          "hovermode": "closest",
          "mapbox": {
           "style": "light"
          },
          "paper_bgcolor": "white",
          "plot_bgcolor": "#E5ECF6",
          "polar": {
           "angularaxis": {
            "gridcolor": "white",
            "linecolor": "white",
            "ticks": ""
           },
           "bgcolor": "#E5ECF6",
           "radialaxis": {
            "gridcolor": "white",
            "linecolor": "white",
            "ticks": ""
           }
          },
          "scene": {
           "xaxis": {
            "backgroundcolor": "#E5ECF6",
            "gridcolor": "white",
            "gridwidth": 2,
            "linecolor": "white",
            "showbackground": true,
            "ticks": "",
            "zerolinecolor": "white"
           },
           "yaxis": {
            "backgroundcolor": "#E5ECF6",
            "gridcolor": "white",
            "gridwidth": 2,
            "linecolor": "white",
            "showbackground": true,
            "ticks": "",
            "zerolinecolor": "white"
           },
           "zaxis": {
            "backgroundcolor": "#E5ECF6",
            "gridcolor": "white",
            "gridwidth": 2,
            "linecolor": "white",
            "showbackground": true,
            "ticks": "",
            "zerolinecolor": "white"
           }
          },
          "shapedefaults": {
           "line": {
            "color": "#2a3f5f"
           }
          },
          "ternary": {
           "aaxis": {
            "gridcolor": "white",
            "linecolor": "white",
            "ticks": ""
           },
           "baxis": {
            "gridcolor": "white",
            "linecolor": "white",
            "ticks": ""
           },
           "bgcolor": "#E5ECF6",
           "caxis": {
            "gridcolor": "white",
            "linecolor": "white",
            "ticks": ""
           }
          },
          "title": {
           "x": 0.05
          },
          "xaxis": {
           "automargin": true,
           "gridcolor": "white",
           "linecolor": "white",
           "ticks": "",
           "title": {
            "standoff": 15
           },
           "zerolinecolor": "white",
           "zerolinewidth": 2
          },
          "yaxis": {
           "automargin": true,
           "gridcolor": "white",
           "linecolor": "white",
           "ticks": "",
           "title": {
            "standoff": 15
           },
           "zerolinecolor": "white",
           "zerolinewidth": 2
          }
         }
        },
        "title": {
         "text": "AnnualIncome Split By Gender"
        },
        "width": 900,
        "xaxis": {
         "showgrid": true,
         "showticklabels": false,
         "zeroline": true
        },
        "yaxis": {
         "showgrid": true,
         "tickprefix": "$",
         "ticksuffix": "",
         "title": {
          "text": "AnnualIncome"
         },
         "zeroline": true
        }
       }
      },
      "text/html": [
       "<div>\n",
       "        \n",
       "        \n",
       "            <div id=\"5d96115e-5217-4a83-a08d-196465a416cb\" class=\"plotly-graph-div\" style=\"height:600px; width:900px;\"></div>\n",
       "            <script type=\"text/javascript\">\n",
       "                require([\"plotly\"], function(Plotly) {\n",
       "                    window.PLOTLYENV=window.PLOTLYENV || {};\n",
       "                    \n",
       "                if (document.getElementById(\"5d96115e-5217-4a83-a08d-196465a416cb\")) {\n",
       "                    Plotly.newPlot(\n",
       "                        '5d96115e-5217-4a83-a08d-196465a416cb',\n",
       "                        [{\"box\": {\"visible\": true}, \"meanline\": {\"visible\": true}, \"name\": \"Gender = 0\", \"showlegend\": true, \"side\": \"positive\", \"type\": \"violin\", \"x\": [1.0, 1.0, 1.0, 1.0, 1.0, 1.0, 1.0, 1.0, 1.0, 1.0, 1.0, 1.0, 1.0, 1.0, 1.0, 1.0, 1.0, 1.0, 1.0, 1.0, 1.0, 1.0, 1.0, 1.0, 1.0, 1.0, 1.0, 1.0, 1.0, 1.0, 1.0, 1.0, 1.0, 1.0, 1.0, 1.0, 1.0, 1.0, 1.0, 1.0, 1.0, 1.0, 1.0, 1.0, 1.0, 1.0, 1.0, 1.0, 1.0, 1.0, 1.0, 1.0, 1.0, 1.0, 1.0, 1.0, 1.0, 1.0, 1.0, 1.0, 1.0, 1.0, 1.0, 1.0, 1.0, 1.0, 1.0, 1.0, 1.0, 1.0, 1.0, 1.0, 1.0, 1.0, 1.0, 1.0, 1.0, 1.0, 1.0, 1.0, 1.0, 1.0, 1.0, 1.0, 1.0, 1.0, 1.0, 1.0, 1.0, 1.0, 1.0, 1.0, 1.0, 1.0, 1.0, 1.0, 1.0, 1.0, 1.0, 1.0, 1.0, 1.0, 1.0, 1.0, 1.0, 1.0, 1.0, 1.0, 1.0, 1.0, 1.0, 1.0, 1.0, 1.0, 1.0, 1.0, 1.0, 1.0, 1.0, 1.0, 1.0, 1.0, 1.0, 1.0, 1.0, 1.0, 1.0, 1.0, 1.0, 1.0, 1.0, 1.0, 1.0, 1.0, 1.0, 1.0, 1.0, 1.0, 1.0, 1.0, 1.0, 1.0, 1.0, 1.0, 1.0, 1.0, 1.0, 1.0, 1.0, 1.0, 1.0, 1.0, 1.0, 1.0, 1.0, 1.0, 1.0, 1.0, 1.0, 1.0, 1.0, 1.0, 1.0, 1.0, 1.0, 1.0, 1.0, 1.0, 1.0, 1.0, 1.0, 1.0, 1.0, 1.0, 1.0, 1.0, 1.0, 1.0, 1.0, 1.0, 1.0, 1.0, 1.0, 1.0, 1.0, 1.0, 1.0, 1.0, 1.0, 1.0, 1.0, 1.0, 1.0, 1.0, 1.0, 1.0, 1.0, 1.0, 1.0, 1.0], \"y\": [16000, 16000, 17000, 17000, 18000, 18000, 19000, 19000, 20000, 20000, 21000, 23000, 25000, 28000, 28000, 29000, 29000, 30000, 33000, 33000, 34000, 34000, 37000, 37000, 38000, 39000, 39000, 39000, 40000, 40000, 40000, 40000, 42000, 43000, 43000, 44000, 46000, 47000, 47000, 48000, 48000, 48000, 49000, 50000, 50000, 54000, 54000, 54000, 54000, 54000, 57000, 57000, 58000, 58000, 59000, 60000, 60000, 60000, 60000, 62000, 62000, 62000, 63000, 63000, 64000, 65000, 65000, 65000, 65000, 67000, 67000, 67000, 69000, 70000, 70000, 72000, 72000, 73000, 73000, 74000, 75000, 76000, 76000, 77000, 78000, 78000, 78000, 78000, 78000, 78000, 78000, 79000, 79000, 81000, 85000, 86000, 87000, 88000, 88000, 97000, 97000, 98000, 99000, 101000, 103000, 103000, 103000, 103000, 113000, 120000, 120000, 126000]}, {\"box\": {\"visible\": true}, \"meanline\": {\"visible\": true}, \"name\": \"Gender = 1\", \"showlegend\": true, \"side\": \"negative\", \"type\": \"violin\", \"x\": [1.0, 1.0, 1.0, 1.0, 1.0, 1.0, 1.0, 1.0, 1.0, 1.0, 1.0, 1.0, 1.0, 1.0, 1.0, 1.0, 1.0, 1.0, 1.0, 1.0, 1.0, 1.0, 1.0, 1.0, 1.0, 1.0, 1.0, 1.0, 1.0, 1.0, 1.0, 1.0, 1.0, 1.0, 1.0, 1.0, 1.0, 1.0, 1.0, 1.0, 1.0, 1.0, 1.0, 1.0, 1.0, 1.0, 1.0, 1.0, 1.0, 1.0, 1.0, 1.0, 1.0, 1.0, 1.0, 1.0, 1.0, 1.0, 1.0, 1.0, 1.0, 1.0, 1.0, 1.0, 1.0, 1.0, 1.0, 1.0, 1.0, 1.0, 1.0, 1.0, 1.0, 1.0, 1.0, 1.0, 1.0, 1.0, 1.0, 1.0, 1.0, 1.0, 1.0, 1.0, 1.0, 1.0, 1.0, 1.0, 1.0, 1.0, 1.0, 1.0, 1.0, 1.0, 1.0, 1.0, 1.0, 1.0, 1.0, 1.0, 1.0, 1.0, 1.0, 1.0, 1.0, 1.0, 1.0, 1.0, 1.0, 1.0, 1.0, 1.0, 1.0, 1.0, 1.0, 1.0, 1.0, 1.0, 1.0, 1.0, 1.0, 1.0, 1.0, 1.0, 1.0, 1.0, 1.0, 1.0, 1.0, 1.0, 1.0, 1.0, 1.0, 1.0, 1.0, 1.0, 1.0, 1.0, 1.0, 1.0, 1.0, 1.0, 1.0, 1.0, 1.0, 1.0, 1.0, 1.0, 1.0, 1.0, 1.0, 1.0, 1.0, 1.0, 1.0, 1.0, 1.0, 1.0, 1.0, 1.0, 1.0, 1.0, 1.0, 1.0, 1.0, 1.0, 1.0, 1.0, 1.0, 1.0, 1.0, 1.0, 1.0, 1.0, 1.0, 1.0, 1.0, 1.0, 1.0, 1.0, 1.0, 1.0, 1.0, 1.0, 1.0, 1.0, 1.0, 1.0, 1.0, 1.0, 1.0, 1.0, 1.0, 1.0, 1.0, 1.0, 1.0, 1.0, 1.0, 1.0], \"y\": [15000, 15000, 19000, 19000, 20000, 20000, 21000, 23000, 24000, 24000, 25000, 28000, 28000, 30000, 33000, 33000, 38000, 39000, 42000, 43000, 43000, 44000, 46000, 46000, 46000, 48000, 48000, 48000, 49000, 54000, 54000, 54000, 54000, 54000, 54000, 54000, 59000, 60000, 60000, 61000, 61000, 62000, 62000, 62000, 63000, 63000, 63000, 63000, 64000, 67000, 69000, 71000, 71000, 71000, 71000, 71000, 71000, 73000, 73000, 74000, 75000, 77000, 77000, 77000, 78000, 78000, 78000, 78000, 78000, 81000, 85000, 86000, 87000, 87000, 87000, 87000, 87000, 88000, 88000, 93000, 93000, 98000, 99000, 101000, 113000, 126000, 137000, 137000]}],\n",
       "                        {\"height\": 600, \"template\": {\"data\": {\"bar\": [{\"error_x\": {\"color\": \"#2a3f5f\"}, \"error_y\": {\"color\": \"#2a3f5f\"}, \"marker\": {\"line\": {\"color\": \"#E5ECF6\", \"width\": 0.5}}, \"type\": \"bar\"}], \"barpolar\": [{\"marker\": {\"line\": {\"color\": \"#E5ECF6\", \"width\": 0.5}}, \"type\": \"barpolar\"}], \"carpet\": [{\"aaxis\": {\"endlinecolor\": \"#2a3f5f\", \"gridcolor\": \"white\", \"linecolor\": \"white\", \"minorgridcolor\": \"white\", \"startlinecolor\": \"#2a3f5f\"}, \"baxis\": {\"endlinecolor\": \"#2a3f5f\", \"gridcolor\": \"white\", \"linecolor\": \"white\", \"minorgridcolor\": \"white\", \"startlinecolor\": \"#2a3f5f\"}, \"type\": \"carpet\"}], \"choropleth\": [{\"colorbar\": {\"outlinewidth\": 0, \"ticks\": \"\"}, \"type\": \"choropleth\"}], \"contour\": [{\"colorbar\": {\"outlinewidth\": 0, \"ticks\": \"\"}, \"colorscale\": [[0.0, \"#0d0887\"], [0.1111111111111111, \"#46039f\"], [0.2222222222222222, \"#7201a8\"], [0.3333333333333333, \"#9c179e\"], [0.4444444444444444, \"#bd3786\"], [0.5555555555555556, \"#d8576b\"], [0.6666666666666666, \"#ed7953\"], [0.7777777777777778, \"#fb9f3a\"], [0.8888888888888888, \"#fdca26\"], [1.0, \"#f0f921\"]], \"type\": \"contour\"}], \"contourcarpet\": [{\"colorbar\": {\"outlinewidth\": 0, \"ticks\": \"\"}, \"type\": \"contourcarpet\"}], \"heatmap\": [{\"colorbar\": {\"outlinewidth\": 0, \"ticks\": \"\"}, \"colorscale\": [[0.0, \"#0d0887\"], [0.1111111111111111, \"#46039f\"], [0.2222222222222222, \"#7201a8\"], [0.3333333333333333, \"#9c179e\"], [0.4444444444444444, \"#bd3786\"], [0.5555555555555556, \"#d8576b\"], [0.6666666666666666, \"#ed7953\"], [0.7777777777777778, \"#fb9f3a\"], [0.8888888888888888, \"#fdca26\"], [1.0, \"#f0f921\"]], \"type\": \"heatmap\"}], \"heatmapgl\": [{\"colorbar\": {\"outlinewidth\": 0, \"ticks\": \"\"}, \"colorscale\": [[0.0, \"#0d0887\"], [0.1111111111111111, \"#46039f\"], [0.2222222222222222, \"#7201a8\"], [0.3333333333333333, \"#9c179e\"], [0.4444444444444444, \"#bd3786\"], [0.5555555555555556, \"#d8576b\"], [0.6666666666666666, \"#ed7953\"], [0.7777777777777778, \"#fb9f3a\"], [0.8888888888888888, \"#fdca26\"], [1.0, \"#f0f921\"]], \"type\": \"heatmapgl\"}], \"histogram\": [{\"marker\": {\"colorbar\": {\"outlinewidth\": 0, \"ticks\": \"\"}}, \"type\": \"histogram\"}], \"histogram2d\": [{\"colorbar\": {\"outlinewidth\": 0, \"ticks\": \"\"}, \"colorscale\": [[0.0, \"#0d0887\"], [0.1111111111111111, \"#46039f\"], [0.2222222222222222, \"#7201a8\"], [0.3333333333333333, \"#9c179e\"], [0.4444444444444444, \"#bd3786\"], [0.5555555555555556, \"#d8576b\"], [0.6666666666666666, \"#ed7953\"], [0.7777777777777778, \"#fb9f3a\"], [0.8888888888888888, \"#fdca26\"], [1.0, \"#f0f921\"]], \"type\": \"histogram2d\"}], \"histogram2dcontour\": [{\"colorbar\": {\"outlinewidth\": 0, \"ticks\": \"\"}, \"colorscale\": [[0.0, \"#0d0887\"], [0.1111111111111111, \"#46039f\"], [0.2222222222222222, \"#7201a8\"], [0.3333333333333333, \"#9c179e\"], [0.4444444444444444, \"#bd3786\"], [0.5555555555555556, \"#d8576b\"], [0.6666666666666666, \"#ed7953\"], [0.7777777777777778, \"#fb9f3a\"], [0.8888888888888888, \"#fdca26\"], [1.0, \"#f0f921\"]], \"type\": \"histogram2dcontour\"}], \"mesh3d\": [{\"colorbar\": {\"outlinewidth\": 0, \"ticks\": \"\"}, \"type\": \"mesh3d\"}], \"parcoords\": [{\"line\": {\"colorbar\": {\"outlinewidth\": 0, \"ticks\": \"\"}}, \"type\": \"parcoords\"}], \"pie\": [{\"automargin\": true, \"type\": \"pie\"}], \"scatter\": [{\"marker\": {\"colorbar\": {\"outlinewidth\": 0, \"ticks\": \"\"}}, \"type\": \"scatter\"}], \"scatter3d\": [{\"line\": {\"colorbar\": {\"outlinewidth\": 0, \"ticks\": \"\"}}, \"marker\": {\"colorbar\": {\"outlinewidth\": 0, \"ticks\": \"\"}}, \"type\": \"scatter3d\"}], \"scattercarpet\": [{\"marker\": {\"colorbar\": {\"outlinewidth\": 0, \"ticks\": \"\"}}, \"type\": \"scattercarpet\"}], \"scattergeo\": [{\"marker\": {\"colorbar\": {\"outlinewidth\": 0, \"ticks\": \"\"}}, \"type\": \"scattergeo\"}], \"scattergl\": [{\"marker\": {\"colorbar\": {\"outlinewidth\": 0, \"ticks\": \"\"}}, \"type\": \"scattergl\"}], \"scattermapbox\": [{\"marker\": {\"colorbar\": {\"outlinewidth\": 0, \"ticks\": \"\"}}, \"type\": \"scattermapbox\"}], \"scatterpolar\": [{\"marker\": {\"colorbar\": {\"outlinewidth\": 0, \"ticks\": \"\"}}, \"type\": \"scatterpolar\"}], \"scatterpolargl\": [{\"marker\": {\"colorbar\": {\"outlinewidth\": 0, \"ticks\": \"\"}}, \"type\": \"scatterpolargl\"}], \"scatterternary\": [{\"marker\": {\"colorbar\": {\"outlinewidth\": 0, \"ticks\": \"\"}}, \"type\": \"scatterternary\"}], \"surface\": [{\"colorbar\": {\"outlinewidth\": 0, \"ticks\": \"\"}, \"colorscale\": [[0.0, \"#0d0887\"], [0.1111111111111111, \"#46039f\"], [0.2222222222222222, \"#7201a8\"], [0.3333333333333333, \"#9c179e\"], [0.4444444444444444, \"#bd3786\"], [0.5555555555555556, \"#d8576b\"], [0.6666666666666666, \"#ed7953\"], [0.7777777777777778, \"#fb9f3a\"], [0.8888888888888888, \"#fdca26\"], [1.0, \"#f0f921\"]], \"type\": \"surface\"}], \"table\": [{\"cells\": {\"fill\": {\"color\": \"#EBF0F8\"}, \"line\": {\"color\": \"white\"}}, \"header\": {\"fill\": {\"color\": \"#C8D4E3\"}, \"line\": {\"color\": \"white\"}}, \"type\": \"table\"}]}, \"layout\": {\"annotationdefaults\": {\"arrowcolor\": \"#2a3f5f\", \"arrowhead\": 0, \"arrowwidth\": 1}, \"coloraxis\": {\"colorbar\": {\"outlinewidth\": 0, \"ticks\": \"\"}}, \"colorscale\": {\"diverging\": [[0, \"#8e0152\"], [0.1, \"#c51b7d\"], [0.2, \"#de77ae\"], [0.3, \"#f1b6da\"], [0.4, \"#fde0ef\"], [0.5, \"#f7f7f7\"], [0.6, \"#e6f5d0\"], [0.7, \"#b8e186\"], [0.8, \"#7fbc41\"], [0.9, \"#4d9221\"], [1, \"#276419\"]], \"sequential\": [[0.0, \"#0d0887\"], [0.1111111111111111, \"#46039f\"], [0.2222222222222222, \"#7201a8\"], [0.3333333333333333, \"#9c179e\"], [0.4444444444444444, \"#bd3786\"], [0.5555555555555556, \"#d8576b\"], [0.6666666666666666, \"#ed7953\"], [0.7777777777777778, \"#fb9f3a\"], [0.8888888888888888, \"#fdca26\"], [1.0, \"#f0f921\"]], \"sequentialminus\": [[0.0, \"#0d0887\"], [0.1111111111111111, \"#46039f\"], [0.2222222222222222, \"#7201a8\"], [0.3333333333333333, \"#9c179e\"], [0.4444444444444444, \"#bd3786\"], [0.5555555555555556, \"#d8576b\"], [0.6666666666666666, \"#ed7953\"], [0.7777777777777778, \"#fb9f3a\"], [0.8888888888888888, \"#fdca26\"], [1.0, \"#f0f921\"]]}, \"colorway\": [\"#636efa\", \"#EF553B\", \"#00cc96\", \"#ab63fa\", \"#FFA15A\", \"#19d3f3\", \"#FF6692\", \"#B6E880\", \"#FF97FF\", \"#FECB52\"], \"font\": {\"color\": \"#2a3f5f\"}, \"geo\": {\"bgcolor\": \"white\", \"lakecolor\": \"white\", \"landcolor\": \"#E5ECF6\", \"showlakes\": true, \"showland\": true, \"subunitcolor\": \"white\"}, \"hoverlabel\": {\"align\": \"left\"}, \"hovermode\": \"closest\", \"mapbox\": {\"style\": \"light\"}, \"paper_bgcolor\": \"white\", \"plot_bgcolor\": \"#E5ECF6\", \"polar\": {\"angularaxis\": {\"gridcolor\": \"white\", \"linecolor\": \"white\", \"ticks\": \"\"}, \"bgcolor\": \"#E5ECF6\", \"radialaxis\": {\"gridcolor\": \"white\", \"linecolor\": \"white\", \"ticks\": \"\"}}, \"scene\": {\"xaxis\": {\"backgroundcolor\": \"#E5ECF6\", \"gridcolor\": \"white\", \"gridwidth\": 2, \"linecolor\": \"white\", \"showbackground\": true, \"ticks\": \"\", \"zerolinecolor\": \"white\"}, \"yaxis\": {\"backgroundcolor\": \"#E5ECF6\", \"gridcolor\": \"white\", \"gridwidth\": 2, \"linecolor\": \"white\", \"showbackground\": true, \"ticks\": \"\", \"zerolinecolor\": \"white\"}, \"zaxis\": {\"backgroundcolor\": \"#E5ECF6\", \"gridcolor\": \"white\", \"gridwidth\": 2, \"linecolor\": \"white\", \"showbackground\": true, \"ticks\": \"\", \"zerolinecolor\": \"white\"}}, \"shapedefaults\": {\"line\": {\"color\": \"#2a3f5f\"}}, \"ternary\": {\"aaxis\": {\"gridcolor\": \"white\", \"linecolor\": \"white\", \"ticks\": \"\"}, \"baxis\": {\"gridcolor\": \"white\", \"linecolor\": \"white\", \"ticks\": \"\"}, \"bgcolor\": \"#E5ECF6\", \"caxis\": {\"gridcolor\": \"white\", \"linecolor\": \"white\", \"ticks\": \"\"}}, \"title\": {\"x\": 0.05}, \"xaxis\": {\"automargin\": true, \"gridcolor\": \"white\", \"linecolor\": \"white\", \"ticks\": \"\", \"title\": {\"standoff\": 15}, \"zerolinecolor\": \"white\", \"zerolinewidth\": 2}, \"yaxis\": {\"automargin\": true, \"gridcolor\": \"white\", \"linecolor\": \"white\", \"ticks\": \"\", \"title\": {\"standoff\": 15}, \"zerolinecolor\": \"white\", \"zerolinewidth\": 2}}}, \"title\": {\"text\": \"AnnualIncome Split By Gender\"}, \"width\": 900, \"xaxis\": {\"showgrid\": true, \"showticklabels\": false, \"zeroline\": true}, \"yaxis\": {\"showgrid\": true, \"tickprefix\": \"$\", \"ticksuffix\": \"\", \"title\": {\"text\": \"AnnualIncome\"}, \"zeroline\": true}},\n",
       "                        {\"responsive\": true}\n",
       "                    ).then(function(){\n",
       "                            \n",
       "var gd = document.getElementById('5d96115e-5217-4a83-a08d-196465a416cb');\n",
       "var x = new MutationObserver(function (mutations, observer) {{\n",
       "        var display = window.getComputedStyle(gd).display;\n",
       "        if (!display || display === 'none') {{\n",
       "            console.log([gd, 'removed!']);\n",
       "            Plotly.purge(gd);\n",
       "            observer.disconnect();\n",
       "        }}\n",
       "}});\n",
       "\n",
       "// Listen for the removal of the full notebook cells\n",
       "var notebookContainer = gd.closest('#notebook-container');\n",
       "if (notebookContainer) {{\n",
       "    x.observe(notebookContainer, {childList: true});\n",
       "}}\n",
       "\n",
       "// Listen for the clearing of the current output cell\n",
       "var outputEl = gd.closest('.output');\n",
       "if (outputEl) {{\n",
       "    x.observe(outputEl, {childList: true});\n",
       "}}\n",
       "\n",
       "                        })\n",
       "                };\n",
       "                });\n",
       "            </script>\n",
       "        </div>"
      ]
     },
     "metadata": {},
     "output_type": "display_data"
    }
   ],
   "source": [
    "#Male population earning more than Female population by $1,000 or so\n",
    "Plot(Data, \"AnnualIncome\", \"Gender\")"
   ]
  },
  {
   "cell_type": "code",
   "execution_count": 48,
   "metadata": {},
   "outputs": [
    {
     "data": {
      "application/vnd.plotly.v1+json": {
       "config": {
        "plotlyServerURL": "https://plot.ly"
       },
       "data": [
        {
         "box": {
          "visible": true
         },
         "meanline": {
          "visible": true
         },
         "name": "Gender = 0",
         "showlegend": true,
         "side": "positive",
         "type": "violin",
         "x": [
          1,
          1,
          1,
          1,
          1,
          1,
          1,
          1,
          1,
          1,
          1,
          1,
          1,
          1,
          1,
          1,
          1,
          1,
          1,
          1,
          1,
          1,
          1,
          1,
          1,
          1,
          1,
          1,
          1,
          1,
          1,
          1,
          1,
          1,
          1,
          1,
          1,
          1,
          1,
          1,
          1,
          1,
          1,
          1,
          1,
          1,
          1,
          1,
          1,
          1,
          1,
          1,
          1,
          1,
          1,
          1,
          1,
          1,
          1,
          1,
          1,
          1,
          1,
          1,
          1,
          1,
          1,
          1,
          1,
          1,
          1,
          1,
          1,
          1,
          1,
          1,
          1,
          1,
          1,
          1,
          1,
          1,
          1,
          1,
          1,
          1,
          1,
          1,
          1,
          1,
          1,
          1,
          1,
          1,
          1,
          1,
          1,
          1,
          1,
          1,
          1,
          1,
          1,
          1,
          1,
          1,
          1,
          1,
          1,
          1,
          1,
          1,
          1,
          1,
          1,
          1,
          1,
          1,
          1,
          1,
          1,
          1,
          1,
          1,
          1,
          1,
          1,
          1,
          1,
          1,
          1,
          1,
          1,
          1,
          1,
          1,
          1,
          1,
          1,
          1,
          1,
          1,
          1,
          1,
          1,
          1,
          1,
          1,
          1,
          1,
          1,
          1,
          1,
          1,
          1,
          1,
          1,
          1,
          1,
          1,
          1,
          1,
          1,
          1,
          1,
          1,
          1,
          1,
          1,
          1,
          1,
          1,
          1,
          1,
          1,
          1,
          1,
          1,
          1,
          1,
          1,
          1,
          1,
          1,
          1,
          1,
          1,
          1,
          1,
          1,
          1,
          1,
          1,
          1,
          1,
          1,
          1,
          1,
          1,
          1
         ],
         "y": [
          6,
          77,
          40,
          76,
          6,
          94,
          72,
          99,
          15,
          77,
          35,
          98,
          5,
          14,
          32,
          31,
          87,
          73,
          14,
          81,
          17,
          73,
          26,
          75,
          35,
          61,
          28,
          65,
          55,
          47,
          42,
          42,
          52,
          54,
          45,
          50,
          51,
          52,
          59,
          50,
          48,
          47,
          42,
          49,
          56,
          53,
          52,
          42,
          44,
          57,
          58,
          55,
          60,
          46,
          55,
          40,
          42,
          47,
          50,
          41,
          48,
          42,
          50,
          54,
          42,
          48,
          50,
          43,
          59,
          43,
          57,
          40,
          58,
          29,
          77,
          34,
          71,
          88,
          7,
          72,
          5,
          40,
          87,
          74,
          22,
          20,
          76,
          16,
          89,
          78,
          73,
          35,
          83,
          93,
          75,
          95,
          27,
          13,
          86,
          32,
          86,
          88,
          39,
          24,
          17,
          85,
          23,
          69,
          91,
          16,
          79,
          28
         ]
        },
        {
         "box": {
          "visible": true
         },
         "meanline": {
          "visible": true
         },
         "name": "Gender = 1",
         "showlegend": true,
         "side": "negative",
         "type": "violin",
         "x": [
          1,
          1,
          1,
          1,
          1,
          1,
          1,
          1,
          1,
          1,
          1,
          1,
          1,
          1,
          1,
          1,
          1,
          1,
          1,
          1,
          1,
          1,
          1,
          1,
          1,
          1,
          1,
          1,
          1,
          1,
          1,
          1,
          1,
          1,
          1,
          1,
          1,
          1,
          1,
          1,
          1,
          1,
          1,
          1,
          1,
          1,
          1,
          1,
          1,
          1,
          1,
          1,
          1,
          1,
          1,
          1,
          1,
          1,
          1,
          1,
          1,
          1,
          1,
          1,
          1,
          1,
          1,
          1,
          1,
          1,
          1,
          1,
          1,
          1,
          1,
          1,
          1,
          1,
          1,
          1,
          1,
          1,
          1,
          1,
          1,
          1,
          1,
          1,
          1,
          1,
          1,
          1,
          1,
          1,
          1,
          1,
          1,
          1,
          1,
          1,
          1,
          1,
          1,
          1,
          1,
          1,
          1,
          1,
          1,
          1,
          1,
          1,
          1,
          1,
          1,
          1,
          1,
          1,
          1,
          1,
          1,
          1,
          1,
          1,
          1,
          1,
          1,
          1,
          1,
          1,
          1,
          1,
          1,
          1,
          1,
          1,
          1,
          1,
          1,
          1,
          1,
          1,
          1,
          1,
          1,
          1,
          1,
          1,
          1,
          1,
          1,
          1,
          1,
          1,
          1,
          1,
          1,
          1,
          1,
          1,
          1,
          1,
          1,
          1,
          1,
          1,
          1,
          1,
          1,
          1,
          1,
          1,
          1,
          1,
          1,
          1,
          1,
          1,
          1,
          1,
          1,
          1,
          1,
          1,
          1,
          1,
          1,
          1,
          1,
          1,
          1,
          1,
          1,
          1,
          1,
          1,
          1,
          1,
          1,
          1
         ],
         "y": [
          39,
          81,
          3,
          14,
          13,
          79,
          66,
          29,
          35,
          73,
          73,
          82,
          61,
          4,
          4,
          92,
          92,
          36,
          60,
          60,
          41,
          46,
          46,
          56,
          55,
          51,
          59,
          59,
          55,
          47,
          54,
          48,
          51,
          55,
          41,
          46,
          41,
          49,
          52,
          42,
          49,
          59,
          55,
          56,
          46,
          43,
          48,
          52,
          46,
          56,
          91,
          35,
          95,
          11,
          75,
          9,
          75,
          5,
          73,
          10,
          93,
          12,
          97,
          36,
          90,
          17,
          88,
          1,
          1,
          5,
          26,
          20,
          63,
          13,
          75,
          10,
          92,
          15,
          69,
          14,
          90,
          15,
          97,
          68,
          8,
          74,
          18,
          83
         ]
        }
       ],
       "layout": {
        "height": 600,
        "template": {
         "data": {
          "bar": [
           {
            "error_x": {
             "color": "#2a3f5f"
            },
            "error_y": {
             "color": "#2a3f5f"
            },
            "marker": {
             "line": {
              "color": "#E5ECF6",
              "width": 0.5
             }
            },
            "type": "bar"
           }
          ],
          "barpolar": [
           {
            "marker": {
             "line": {
              "color": "#E5ECF6",
              "width": 0.5
             }
            },
            "type": "barpolar"
           }
          ],
          "carpet": [
           {
            "aaxis": {
             "endlinecolor": "#2a3f5f",
             "gridcolor": "white",
             "linecolor": "white",
             "minorgridcolor": "white",
             "startlinecolor": "#2a3f5f"
            },
            "baxis": {
             "endlinecolor": "#2a3f5f",
             "gridcolor": "white",
             "linecolor": "white",
             "minorgridcolor": "white",
             "startlinecolor": "#2a3f5f"
            },
            "type": "carpet"
           }
          ],
          "choropleth": [
           {
            "colorbar": {
             "outlinewidth": 0,
             "ticks": ""
            },
            "type": "choropleth"
           }
          ],
          "contour": [
           {
            "colorbar": {
             "outlinewidth": 0,
             "ticks": ""
            },
            "colorscale": [
             [
              0,
              "#0d0887"
             ],
             [
              0.1111111111111111,
              "#46039f"
             ],
             [
              0.2222222222222222,
              "#7201a8"
             ],
             [
              0.3333333333333333,
              "#9c179e"
             ],
             [
              0.4444444444444444,
              "#bd3786"
             ],
             [
              0.5555555555555556,
              "#d8576b"
             ],
             [
              0.6666666666666666,
              "#ed7953"
             ],
             [
              0.7777777777777778,
              "#fb9f3a"
             ],
             [
              0.8888888888888888,
              "#fdca26"
             ],
             [
              1,
              "#f0f921"
             ]
            ],
            "type": "contour"
           }
          ],
          "contourcarpet": [
           {
            "colorbar": {
             "outlinewidth": 0,
             "ticks": ""
            },
            "type": "contourcarpet"
           }
          ],
          "heatmap": [
           {
            "colorbar": {
             "outlinewidth": 0,
             "ticks": ""
            },
            "colorscale": [
             [
              0,
              "#0d0887"
             ],
             [
              0.1111111111111111,
              "#46039f"
             ],
             [
              0.2222222222222222,
              "#7201a8"
             ],
             [
              0.3333333333333333,
              "#9c179e"
             ],
             [
              0.4444444444444444,
              "#bd3786"
             ],
             [
              0.5555555555555556,
              "#d8576b"
             ],
             [
              0.6666666666666666,
              "#ed7953"
             ],
             [
              0.7777777777777778,
              "#fb9f3a"
             ],
             [
              0.8888888888888888,
              "#fdca26"
             ],
             [
              1,
              "#f0f921"
             ]
            ],
            "type": "heatmap"
           }
          ],
          "heatmapgl": [
           {
            "colorbar": {
             "outlinewidth": 0,
             "ticks": ""
            },
            "colorscale": [
             [
              0,
              "#0d0887"
             ],
             [
              0.1111111111111111,
              "#46039f"
             ],
             [
              0.2222222222222222,
              "#7201a8"
             ],
             [
              0.3333333333333333,
              "#9c179e"
             ],
             [
              0.4444444444444444,
              "#bd3786"
             ],
             [
              0.5555555555555556,
              "#d8576b"
             ],
             [
              0.6666666666666666,
              "#ed7953"
             ],
             [
              0.7777777777777778,
              "#fb9f3a"
             ],
             [
              0.8888888888888888,
              "#fdca26"
             ],
             [
              1,
              "#f0f921"
             ]
            ],
            "type": "heatmapgl"
           }
          ],
          "histogram": [
           {
            "marker": {
             "colorbar": {
              "outlinewidth": 0,
              "ticks": ""
             }
            },
            "type": "histogram"
           }
          ],
          "histogram2d": [
           {
            "colorbar": {
             "outlinewidth": 0,
             "ticks": ""
            },
            "colorscale": [
             [
              0,
              "#0d0887"
             ],
             [
              0.1111111111111111,
              "#46039f"
             ],
             [
              0.2222222222222222,
              "#7201a8"
             ],
             [
              0.3333333333333333,
              "#9c179e"
             ],
             [
              0.4444444444444444,
              "#bd3786"
             ],
             [
              0.5555555555555556,
              "#d8576b"
             ],
             [
              0.6666666666666666,
              "#ed7953"
             ],
             [
              0.7777777777777778,
              "#fb9f3a"
             ],
             [
              0.8888888888888888,
              "#fdca26"
             ],
             [
              1,
              "#f0f921"
             ]
            ],
            "type": "histogram2d"
           }
          ],
          "histogram2dcontour": [
           {
            "colorbar": {
             "outlinewidth": 0,
             "ticks": ""
            },
            "colorscale": [
             [
              0,
              "#0d0887"
             ],
             [
              0.1111111111111111,
              "#46039f"
             ],
             [
              0.2222222222222222,
              "#7201a8"
             ],
             [
              0.3333333333333333,
              "#9c179e"
             ],
             [
              0.4444444444444444,
              "#bd3786"
             ],
             [
              0.5555555555555556,
              "#d8576b"
             ],
             [
              0.6666666666666666,
              "#ed7953"
             ],
             [
              0.7777777777777778,
              "#fb9f3a"
             ],
             [
              0.8888888888888888,
              "#fdca26"
             ],
             [
              1,
              "#f0f921"
             ]
            ],
            "type": "histogram2dcontour"
           }
          ],
          "mesh3d": [
           {
            "colorbar": {
             "outlinewidth": 0,
             "ticks": ""
            },
            "type": "mesh3d"
           }
          ],
          "parcoords": [
           {
            "line": {
             "colorbar": {
              "outlinewidth": 0,
              "ticks": ""
             }
            },
            "type": "parcoords"
           }
          ],
          "pie": [
           {
            "automargin": true,
            "type": "pie"
           }
          ],
          "scatter": [
           {
            "marker": {
             "colorbar": {
              "outlinewidth": 0,
              "ticks": ""
             }
            },
            "type": "scatter"
           }
          ],
          "scatter3d": [
           {
            "line": {
             "colorbar": {
              "outlinewidth": 0,
              "ticks": ""
             }
            },
            "marker": {
             "colorbar": {
              "outlinewidth": 0,
              "ticks": ""
             }
            },
            "type": "scatter3d"
           }
          ],
          "scattercarpet": [
           {
            "marker": {
             "colorbar": {
              "outlinewidth": 0,
              "ticks": ""
             }
            },
            "type": "scattercarpet"
           }
          ],
          "scattergeo": [
           {
            "marker": {
             "colorbar": {
              "outlinewidth": 0,
              "ticks": ""
             }
            },
            "type": "scattergeo"
           }
          ],
          "scattergl": [
           {
            "marker": {
             "colorbar": {
              "outlinewidth": 0,
              "ticks": ""
             }
            },
            "type": "scattergl"
           }
          ],
          "scattermapbox": [
           {
            "marker": {
             "colorbar": {
              "outlinewidth": 0,
              "ticks": ""
             }
            },
            "type": "scattermapbox"
           }
          ],
          "scatterpolar": [
           {
            "marker": {
             "colorbar": {
              "outlinewidth": 0,
              "ticks": ""
             }
            },
            "type": "scatterpolar"
           }
          ],
          "scatterpolargl": [
           {
            "marker": {
             "colorbar": {
              "outlinewidth": 0,
              "ticks": ""
             }
            },
            "type": "scatterpolargl"
           }
          ],
          "scatterternary": [
           {
            "marker": {
             "colorbar": {
              "outlinewidth": 0,
              "ticks": ""
             }
            },
            "type": "scatterternary"
           }
          ],
          "surface": [
           {
            "colorbar": {
             "outlinewidth": 0,
             "ticks": ""
            },
            "colorscale": [
             [
              0,
              "#0d0887"
             ],
             [
              0.1111111111111111,
              "#46039f"
             ],
             [
              0.2222222222222222,
              "#7201a8"
             ],
             [
              0.3333333333333333,
              "#9c179e"
             ],
             [
              0.4444444444444444,
              "#bd3786"
             ],
             [
              0.5555555555555556,
              "#d8576b"
             ],
             [
              0.6666666666666666,
              "#ed7953"
             ],
             [
              0.7777777777777778,
              "#fb9f3a"
             ],
             [
              0.8888888888888888,
              "#fdca26"
             ],
             [
              1,
              "#f0f921"
             ]
            ],
            "type": "surface"
           }
          ],
          "table": [
           {
            "cells": {
             "fill": {
              "color": "#EBF0F8"
             },
             "line": {
              "color": "white"
             }
            },
            "header": {
             "fill": {
              "color": "#C8D4E3"
             },
             "line": {
              "color": "white"
             }
            },
            "type": "table"
           }
          ]
         },
         "layout": {
          "annotationdefaults": {
           "arrowcolor": "#2a3f5f",
           "arrowhead": 0,
           "arrowwidth": 1
          },
          "coloraxis": {
           "colorbar": {
            "outlinewidth": 0,
            "ticks": ""
           }
          },
          "colorscale": {
           "diverging": [
            [
             0,
             "#8e0152"
            ],
            [
             0.1,
             "#c51b7d"
            ],
            [
             0.2,
             "#de77ae"
            ],
            [
             0.3,
             "#f1b6da"
            ],
            [
             0.4,
             "#fde0ef"
            ],
            [
             0.5,
             "#f7f7f7"
            ],
            [
             0.6,
             "#e6f5d0"
            ],
            [
             0.7,
             "#b8e186"
            ],
            [
             0.8,
             "#7fbc41"
            ],
            [
             0.9,
             "#4d9221"
            ],
            [
             1,
             "#276419"
            ]
           ],
           "sequential": [
            [
             0,
             "#0d0887"
            ],
            [
             0.1111111111111111,
             "#46039f"
            ],
            [
             0.2222222222222222,
             "#7201a8"
            ],
            [
             0.3333333333333333,
             "#9c179e"
            ],
            [
             0.4444444444444444,
             "#bd3786"
            ],
            [
             0.5555555555555556,
             "#d8576b"
            ],
            [
             0.6666666666666666,
             "#ed7953"
            ],
            [
             0.7777777777777778,
             "#fb9f3a"
            ],
            [
             0.8888888888888888,
             "#fdca26"
            ],
            [
             1,
             "#f0f921"
            ]
           ],
           "sequentialminus": [
            [
             0,
             "#0d0887"
            ],
            [
             0.1111111111111111,
             "#46039f"
            ],
            [
             0.2222222222222222,
             "#7201a8"
            ],
            [
             0.3333333333333333,
             "#9c179e"
            ],
            [
             0.4444444444444444,
             "#bd3786"
            ],
            [
             0.5555555555555556,
             "#d8576b"
            ],
            [
             0.6666666666666666,
             "#ed7953"
            ],
            [
             0.7777777777777778,
             "#fb9f3a"
            ],
            [
             0.8888888888888888,
             "#fdca26"
            ],
            [
             1,
             "#f0f921"
            ]
           ]
          },
          "colorway": [
           "#636efa",
           "#EF553B",
           "#00cc96",
           "#ab63fa",
           "#FFA15A",
           "#19d3f3",
           "#FF6692",
           "#B6E880",
           "#FF97FF",
           "#FECB52"
          ],
          "font": {
           "color": "#2a3f5f"
          },
          "geo": {
           "bgcolor": "white",
           "lakecolor": "white",
           "landcolor": "#E5ECF6",
           "showlakes": true,
           "showland": true,
           "subunitcolor": "white"
          },
          "hoverlabel": {
           "align": "left"
          },
          "hovermode": "closest",
          "mapbox": {
           "style": "light"
          },
          "paper_bgcolor": "white",
          "plot_bgcolor": "#E5ECF6",
          "polar": {
           "angularaxis": {
            "gridcolor": "white",
            "linecolor": "white",
            "ticks": ""
           },
           "bgcolor": "#E5ECF6",
           "radialaxis": {
            "gridcolor": "white",
            "linecolor": "white",
            "ticks": ""
           }
          },
          "scene": {
           "xaxis": {
            "backgroundcolor": "#E5ECF6",
            "gridcolor": "white",
            "gridwidth": 2,
            "linecolor": "white",
            "showbackground": true,
            "ticks": "",
            "zerolinecolor": "white"
           },
           "yaxis": {
            "backgroundcolor": "#E5ECF6",
            "gridcolor": "white",
            "gridwidth": 2,
            "linecolor": "white",
            "showbackground": true,
            "ticks": "",
            "zerolinecolor": "white"
           },
           "zaxis": {
            "backgroundcolor": "#E5ECF6",
            "gridcolor": "white",
            "gridwidth": 2,
            "linecolor": "white",
            "showbackground": true,
            "ticks": "",
            "zerolinecolor": "white"
           }
          },
          "shapedefaults": {
           "line": {
            "color": "#2a3f5f"
           }
          },
          "ternary": {
           "aaxis": {
            "gridcolor": "white",
            "linecolor": "white",
            "ticks": ""
           },
           "baxis": {
            "gridcolor": "white",
            "linecolor": "white",
            "ticks": ""
           },
           "bgcolor": "#E5ECF6",
           "caxis": {
            "gridcolor": "white",
            "linecolor": "white",
            "ticks": ""
           }
          },
          "title": {
           "x": 0.05
          },
          "xaxis": {
           "automargin": true,
           "gridcolor": "white",
           "linecolor": "white",
           "ticks": "",
           "title": {
            "standoff": 15
           },
           "zerolinecolor": "white",
           "zerolinewidth": 2
          },
          "yaxis": {
           "automargin": true,
           "gridcolor": "white",
           "linecolor": "white",
           "ticks": "",
           "title": {
            "standoff": 15
           },
           "zerolinecolor": "white",
           "zerolinewidth": 2
          }
         }
        },
        "title": {
         "text": "SpendingScore Split By Gender"
        },
        "width": 900,
        "xaxis": {
         "showgrid": true,
         "showticklabels": false,
         "zeroline": true
        },
        "yaxis": {
         "showgrid": true,
         "tickprefix": "",
         "ticksuffix": "%",
         "title": {
          "text": "SpendingScore"
         },
         "zeroline": true
        }
       }
      },
      "text/html": [
       "<div>\n",
       "        \n",
       "        \n",
       "            <div id=\"9172cc87-1b71-4916-84d4-151357fdc924\" class=\"plotly-graph-div\" style=\"height:600px; width:900px;\"></div>\n",
       "            <script type=\"text/javascript\">\n",
       "                require([\"plotly\"], function(Plotly) {\n",
       "                    window.PLOTLYENV=window.PLOTLYENV || {};\n",
       "                    \n",
       "                if (document.getElementById(\"9172cc87-1b71-4916-84d4-151357fdc924\")) {\n",
       "                    Plotly.newPlot(\n",
       "                        '9172cc87-1b71-4916-84d4-151357fdc924',\n",
       "                        [{\"box\": {\"visible\": true}, \"meanline\": {\"visible\": true}, \"name\": \"Gender = 0\", \"showlegend\": true, \"side\": \"positive\", \"type\": \"violin\", \"x\": [1.0, 1.0, 1.0, 1.0, 1.0, 1.0, 1.0, 1.0, 1.0, 1.0, 1.0, 1.0, 1.0, 1.0, 1.0, 1.0, 1.0, 1.0, 1.0, 1.0, 1.0, 1.0, 1.0, 1.0, 1.0, 1.0, 1.0, 1.0, 1.0, 1.0, 1.0, 1.0, 1.0, 1.0, 1.0, 1.0, 1.0, 1.0, 1.0, 1.0, 1.0, 1.0, 1.0, 1.0, 1.0, 1.0, 1.0, 1.0, 1.0, 1.0, 1.0, 1.0, 1.0, 1.0, 1.0, 1.0, 1.0, 1.0, 1.0, 1.0, 1.0, 1.0, 1.0, 1.0, 1.0, 1.0, 1.0, 1.0, 1.0, 1.0, 1.0, 1.0, 1.0, 1.0, 1.0, 1.0, 1.0, 1.0, 1.0, 1.0, 1.0, 1.0, 1.0, 1.0, 1.0, 1.0, 1.0, 1.0, 1.0, 1.0, 1.0, 1.0, 1.0, 1.0, 1.0, 1.0, 1.0, 1.0, 1.0, 1.0, 1.0, 1.0, 1.0, 1.0, 1.0, 1.0, 1.0, 1.0, 1.0, 1.0, 1.0, 1.0, 1.0, 1.0, 1.0, 1.0, 1.0, 1.0, 1.0, 1.0, 1.0, 1.0, 1.0, 1.0, 1.0, 1.0, 1.0, 1.0, 1.0, 1.0, 1.0, 1.0, 1.0, 1.0, 1.0, 1.0, 1.0, 1.0, 1.0, 1.0, 1.0, 1.0, 1.0, 1.0, 1.0, 1.0, 1.0, 1.0, 1.0, 1.0, 1.0, 1.0, 1.0, 1.0, 1.0, 1.0, 1.0, 1.0, 1.0, 1.0, 1.0, 1.0, 1.0, 1.0, 1.0, 1.0, 1.0, 1.0, 1.0, 1.0, 1.0, 1.0, 1.0, 1.0, 1.0, 1.0, 1.0, 1.0, 1.0, 1.0, 1.0, 1.0, 1.0, 1.0, 1.0, 1.0, 1.0, 1.0, 1.0, 1.0, 1.0, 1.0, 1.0, 1.0, 1.0, 1.0, 1.0, 1.0, 1.0, 1.0], \"y\": [6, 77, 40, 76, 6, 94, 72, 99, 15, 77, 35, 98, 5, 14, 32, 31, 87, 73, 14, 81, 17, 73, 26, 75, 35, 61, 28, 65, 55, 47, 42, 42, 52, 54, 45, 50, 51, 52, 59, 50, 48, 47, 42, 49, 56, 53, 52, 42, 44, 57, 58, 55, 60, 46, 55, 40, 42, 47, 50, 41, 48, 42, 50, 54, 42, 48, 50, 43, 59, 43, 57, 40, 58, 29, 77, 34, 71, 88, 7, 72, 5, 40, 87, 74, 22, 20, 76, 16, 89, 78, 73, 35, 83, 93, 75, 95, 27, 13, 86, 32, 86, 88, 39, 24, 17, 85, 23, 69, 91, 16, 79, 28]}, {\"box\": {\"visible\": true}, \"meanline\": {\"visible\": true}, \"name\": \"Gender = 1\", \"showlegend\": true, \"side\": \"negative\", \"type\": \"violin\", \"x\": [1.0, 1.0, 1.0, 1.0, 1.0, 1.0, 1.0, 1.0, 1.0, 1.0, 1.0, 1.0, 1.0, 1.0, 1.0, 1.0, 1.0, 1.0, 1.0, 1.0, 1.0, 1.0, 1.0, 1.0, 1.0, 1.0, 1.0, 1.0, 1.0, 1.0, 1.0, 1.0, 1.0, 1.0, 1.0, 1.0, 1.0, 1.0, 1.0, 1.0, 1.0, 1.0, 1.0, 1.0, 1.0, 1.0, 1.0, 1.0, 1.0, 1.0, 1.0, 1.0, 1.0, 1.0, 1.0, 1.0, 1.0, 1.0, 1.0, 1.0, 1.0, 1.0, 1.0, 1.0, 1.0, 1.0, 1.0, 1.0, 1.0, 1.0, 1.0, 1.0, 1.0, 1.0, 1.0, 1.0, 1.0, 1.0, 1.0, 1.0, 1.0, 1.0, 1.0, 1.0, 1.0, 1.0, 1.0, 1.0, 1.0, 1.0, 1.0, 1.0, 1.0, 1.0, 1.0, 1.0, 1.0, 1.0, 1.0, 1.0, 1.0, 1.0, 1.0, 1.0, 1.0, 1.0, 1.0, 1.0, 1.0, 1.0, 1.0, 1.0, 1.0, 1.0, 1.0, 1.0, 1.0, 1.0, 1.0, 1.0, 1.0, 1.0, 1.0, 1.0, 1.0, 1.0, 1.0, 1.0, 1.0, 1.0, 1.0, 1.0, 1.0, 1.0, 1.0, 1.0, 1.0, 1.0, 1.0, 1.0, 1.0, 1.0, 1.0, 1.0, 1.0, 1.0, 1.0, 1.0, 1.0, 1.0, 1.0, 1.0, 1.0, 1.0, 1.0, 1.0, 1.0, 1.0, 1.0, 1.0, 1.0, 1.0, 1.0, 1.0, 1.0, 1.0, 1.0, 1.0, 1.0, 1.0, 1.0, 1.0, 1.0, 1.0, 1.0, 1.0, 1.0, 1.0, 1.0, 1.0, 1.0, 1.0, 1.0, 1.0, 1.0, 1.0, 1.0, 1.0, 1.0, 1.0, 1.0, 1.0, 1.0, 1.0, 1.0, 1.0, 1.0, 1.0, 1.0, 1.0], \"y\": [39, 81, 3, 14, 13, 79, 66, 29, 35, 73, 73, 82, 61, 4, 4, 92, 92, 36, 60, 60, 41, 46, 46, 56, 55, 51, 59, 59, 55, 47, 54, 48, 51, 55, 41, 46, 41, 49, 52, 42, 49, 59, 55, 56, 46, 43, 48, 52, 46, 56, 91, 35, 95, 11, 75, 9, 75, 5, 73, 10, 93, 12, 97, 36, 90, 17, 88, 1, 1, 5, 26, 20, 63, 13, 75, 10, 92, 15, 69, 14, 90, 15, 97, 68, 8, 74, 18, 83]}],\n",
       "                        {\"height\": 600, \"template\": {\"data\": {\"bar\": [{\"error_x\": {\"color\": \"#2a3f5f\"}, \"error_y\": {\"color\": \"#2a3f5f\"}, \"marker\": {\"line\": {\"color\": \"#E5ECF6\", \"width\": 0.5}}, \"type\": \"bar\"}], \"barpolar\": [{\"marker\": {\"line\": {\"color\": \"#E5ECF6\", \"width\": 0.5}}, \"type\": \"barpolar\"}], \"carpet\": [{\"aaxis\": {\"endlinecolor\": \"#2a3f5f\", \"gridcolor\": \"white\", \"linecolor\": \"white\", \"minorgridcolor\": \"white\", \"startlinecolor\": \"#2a3f5f\"}, \"baxis\": {\"endlinecolor\": \"#2a3f5f\", \"gridcolor\": \"white\", \"linecolor\": \"white\", \"minorgridcolor\": \"white\", \"startlinecolor\": \"#2a3f5f\"}, \"type\": \"carpet\"}], \"choropleth\": [{\"colorbar\": {\"outlinewidth\": 0, \"ticks\": \"\"}, \"type\": \"choropleth\"}], \"contour\": [{\"colorbar\": {\"outlinewidth\": 0, \"ticks\": \"\"}, \"colorscale\": [[0.0, \"#0d0887\"], [0.1111111111111111, \"#46039f\"], [0.2222222222222222, \"#7201a8\"], [0.3333333333333333, \"#9c179e\"], [0.4444444444444444, \"#bd3786\"], [0.5555555555555556, \"#d8576b\"], [0.6666666666666666, \"#ed7953\"], [0.7777777777777778, \"#fb9f3a\"], [0.8888888888888888, \"#fdca26\"], [1.0, \"#f0f921\"]], \"type\": \"contour\"}], \"contourcarpet\": [{\"colorbar\": {\"outlinewidth\": 0, \"ticks\": \"\"}, \"type\": \"contourcarpet\"}], \"heatmap\": [{\"colorbar\": {\"outlinewidth\": 0, \"ticks\": \"\"}, \"colorscale\": [[0.0, \"#0d0887\"], [0.1111111111111111, \"#46039f\"], [0.2222222222222222, \"#7201a8\"], [0.3333333333333333, \"#9c179e\"], [0.4444444444444444, \"#bd3786\"], [0.5555555555555556, \"#d8576b\"], [0.6666666666666666, \"#ed7953\"], [0.7777777777777778, \"#fb9f3a\"], [0.8888888888888888, \"#fdca26\"], [1.0, \"#f0f921\"]], \"type\": \"heatmap\"}], \"heatmapgl\": [{\"colorbar\": {\"outlinewidth\": 0, \"ticks\": \"\"}, \"colorscale\": [[0.0, \"#0d0887\"], [0.1111111111111111, \"#46039f\"], [0.2222222222222222, \"#7201a8\"], [0.3333333333333333, \"#9c179e\"], [0.4444444444444444, \"#bd3786\"], [0.5555555555555556, \"#d8576b\"], [0.6666666666666666, \"#ed7953\"], [0.7777777777777778, \"#fb9f3a\"], [0.8888888888888888, \"#fdca26\"], [1.0, \"#f0f921\"]], \"type\": \"heatmapgl\"}], \"histogram\": [{\"marker\": {\"colorbar\": {\"outlinewidth\": 0, \"ticks\": \"\"}}, \"type\": \"histogram\"}], \"histogram2d\": [{\"colorbar\": {\"outlinewidth\": 0, \"ticks\": \"\"}, \"colorscale\": [[0.0, \"#0d0887\"], [0.1111111111111111, \"#46039f\"], [0.2222222222222222, \"#7201a8\"], [0.3333333333333333, \"#9c179e\"], [0.4444444444444444, \"#bd3786\"], [0.5555555555555556, \"#d8576b\"], [0.6666666666666666, \"#ed7953\"], [0.7777777777777778, \"#fb9f3a\"], [0.8888888888888888, \"#fdca26\"], [1.0, \"#f0f921\"]], \"type\": \"histogram2d\"}], \"histogram2dcontour\": [{\"colorbar\": {\"outlinewidth\": 0, \"ticks\": \"\"}, \"colorscale\": [[0.0, \"#0d0887\"], [0.1111111111111111, \"#46039f\"], [0.2222222222222222, \"#7201a8\"], [0.3333333333333333, \"#9c179e\"], [0.4444444444444444, \"#bd3786\"], [0.5555555555555556, \"#d8576b\"], [0.6666666666666666, \"#ed7953\"], [0.7777777777777778, \"#fb9f3a\"], [0.8888888888888888, \"#fdca26\"], [1.0, \"#f0f921\"]], \"type\": \"histogram2dcontour\"}], \"mesh3d\": [{\"colorbar\": {\"outlinewidth\": 0, \"ticks\": \"\"}, \"type\": \"mesh3d\"}], \"parcoords\": [{\"line\": {\"colorbar\": {\"outlinewidth\": 0, \"ticks\": \"\"}}, \"type\": \"parcoords\"}], \"pie\": [{\"automargin\": true, \"type\": \"pie\"}], \"scatter\": [{\"marker\": {\"colorbar\": {\"outlinewidth\": 0, \"ticks\": \"\"}}, \"type\": \"scatter\"}], \"scatter3d\": [{\"line\": {\"colorbar\": {\"outlinewidth\": 0, \"ticks\": \"\"}}, \"marker\": {\"colorbar\": {\"outlinewidth\": 0, \"ticks\": \"\"}}, \"type\": \"scatter3d\"}], \"scattercarpet\": [{\"marker\": {\"colorbar\": {\"outlinewidth\": 0, \"ticks\": \"\"}}, \"type\": \"scattercarpet\"}], \"scattergeo\": [{\"marker\": {\"colorbar\": {\"outlinewidth\": 0, \"ticks\": \"\"}}, \"type\": \"scattergeo\"}], \"scattergl\": [{\"marker\": {\"colorbar\": {\"outlinewidth\": 0, \"ticks\": \"\"}}, \"type\": \"scattergl\"}], \"scattermapbox\": [{\"marker\": {\"colorbar\": {\"outlinewidth\": 0, \"ticks\": \"\"}}, \"type\": \"scattermapbox\"}], \"scatterpolar\": [{\"marker\": {\"colorbar\": {\"outlinewidth\": 0, \"ticks\": \"\"}}, \"type\": \"scatterpolar\"}], \"scatterpolargl\": [{\"marker\": {\"colorbar\": {\"outlinewidth\": 0, \"ticks\": \"\"}}, \"type\": \"scatterpolargl\"}], \"scatterternary\": [{\"marker\": {\"colorbar\": {\"outlinewidth\": 0, \"ticks\": \"\"}}, \"type\": \"scatterternary\"}], \"surface\": [{\"colorbar\": {\"outlinewidth\": 0, \"ticks\": \"\"}, \"colorscale\": [[0.0, \"#0d0887\"], [0.1111111111111111, \"#46039f\"], [0.2222222222222222, \"#7201a8\"], [0.3333333333333333, \"#9c179e\"], [0.4444444444444444, \"#bd3786\"], [0.5555555555555556, \"#d8576b\"], [0.6666666666666666, \"#ed7953\"], [0.7777777777777778, \"#fb9f3a\"], [0.8888888888888888, \"#fdca26\"], [1.0, \"#f0f921\"]], \"type\": \"surface\"}], \"table\": [{\"cells\": {\"fill\": {\"color\": \"#EBF0F8\"}, \"line\": {\"color\": \"white\"}}, \"header\": {\"fill\": {\"color\": \"#C8D4E3\"}, \"line\": {\"color\": \"white\"}}, \"type\": \"table\"}]}, \"layout\": {\"annotationdefaults\": {\"arrowcolor\": \"#2a3f5f\", \"arrowhead\": 0, \"arrowwidth\": 1}, \"coloraxis\": {\"colorbar\": {\"outlinewidth\": 0, \"ticks\": \"\"}}, \"colorscale\": {\"diverging\": [[0, \"#8e0152\"], [0.1, \"#c51b7d\"], [0.2, \"#de77ae\"], [0.3, \"#f1b6da\"], [0.4, \"#fde0ef\"], [0.5, \"#f7f7f7\"], [0.6, \"#e6f5d0\"], [0.7, \"#b8e186\"], [0.8, \"#7fbc41\"], [0.9, \"#4d9221\"], [1, \"#276419\"]], \"sequential\": [[0.0, \"#0d0887\"], [0.1111111111111111, \"#46039f\"], [0.2222222222222222, \"#7201a8\"], [0.3333333333333333, \"#9c179e\"], [0.4444444444444444, \"#bd3786\"], [0.5555555555555556, \"#d8576b\"], [0.6666666666666666, \"#ed7953\"], [0.7777777777777778, \"#fb9f3a\"], [0.8888888888888888, \"#fdca26\"], [1.0, \"#f0f921\"]], \"sequentialminus\": [[0.0, \"#0d0887\"], [0.1111111111111111, \"#46039f\"], [0.2222222222222222, \"#7201a8\"], [0.3333333333333333, \"#9c179e\"], [0.4444444444444444, \"#bd3786\"], [0.5555555555555556, \"#d8576b\"], [0.6666666666666666, \"#ed7953\"], [0.7777777777777778, \"#fb9f3a\"], [0.8888888888888888, \"#fdca26\"], [1.0, \"#f0f921\"]]}, \"colorway\": [\"#636efa\", \"#EF553B\", \"#00cc96\", \"#ab63fa\", \"#FFA15A\", \"#19d3f3\", \"#FF6692\", \"#B6E880\", \"#FF97FF\", \"#FECB52\"], \"font\": {\"color\": \"#2a3f5f\"}, \"geo\": {\"bgcolor\": \"white\", \"lakecolor\": \"white\", \"landcolor\": \"#E5ECF6\", \"showlakes\": true, \"showland\": true, \"subunitcolor\": \"white\"}, \"hoverlabel\": {\"align\": \"left\"}, \"hovermode\": \"closest\", \"mapbox\": {\"style\": \"light\"}, \"paper_bgcolor\": \"white\", \"plot_bgcolor\": \"#E5ECF6\", \"polar\": {\"angularaxis\": {\"gridcolor\": \"white\", \"linecolor\": \"white\", \"ticks\": \"\"}, \"bgcolor\": \"#E5ECF6\", \"radialaxis\": {\"gridcolor\": \"white\", \"linecolor\": \"white\", \"ticks\": \"\"}}, \"scene\": {\"xaxis\": {\"backgroundcolor\": \"#E5ECF6\", \"gridcolor\": \"white\", \"gridwidth\": 2, \"linecolor\": \"white\", \"showbackground\": true, \"ticks\": \"\", \"zerolinecolor\": \"white\"}, \"yaxis\": {\"backgroundcolor\": \"#E5ECF6\", \"gridcolor\": \"white\", \"gridwidth\": 2, \"linecolor\": \"white\", \"showbackground\": true, \"ticks\": \"\", \"zerolinecolor\": \"white\"}, \"zaxis\": {\"backgroundcolor\": \"#E5ECF6\", \"gridcolor\": \"white\", \"gridwidth\": 2, \"linecolor\": \"white\", \"showbackground\": true, \"ticks\": \"\", \"zerolinecolor\": \"white\"}}, \"shapedefaults\": {\"line\": {\"color\": \"#2a3f5f\"}}, \"ternary\": {\"aaxis\": {\"gridcolor\": \"white\", \"linecolor\": \"white\", \"ticks\": \"\"}, \"baxis\": {\"gridcolor\": \"white\", \"linecolor\": \"white\", \"ticks\": \"\"}, \"bgcolor\": \"#E5ECF6\", \"caxis\": {\"gridcolor\": \"white\", \"linecolor\": \"white\", \"ticks\": \"\"}}, \"title\": {\"x\": 0.05}, \"xaxis\": {\"automargin\": true, \"gridcolor\": \"white\", \"linecolor\": \"white\", \"ticks\": \"\", \"title\": {\"standoff\": 15}, \"zerolinecolor\": \"white\", \"zerolinewidth\": 2}, \"yaxis\": {\"automargin\": true, \"gridcolor\": \"white\", \"linecolor\": \"white\", \"ticks\": \"\", \"title\": {\"standoff\": 15}, \"zerolinecolor\": \"white\", \"zerolinewidth\": 2}}}, \"title\": {\"text\": \"SpendingScore Split By Gender\"}, \"width\": 900, \"xaxis\": {\"showgrid\": true, \"showticklabels\": false, \"zeroline\": true}, \"yaxis\": {\"showgrid\": true, \"tickprefix\": \"\", \"ticksuffix\": \"%\", \"title\": {\"text\": \"SpendingScore\"}, \"zeroline\": true}},\n",
       "                        {\"responsive\": true}\n",
       "                    ).then(function(){\n",
       "                            \n",
       "var gd = document.getElementById('9172cc87-1b71-4916-84d4-151357fdc924');\n",
       "var x = new MutationObserver(function (mutations, observer) {{\n",
       "        var display = window.getComputedStyle(gd).display;\n",
       "        if (!display || display === 'none') {{\n",
       "            console.log([gd, 'removed!']);\n",
       "            Plotly.purge(gd);\n",
       "            observer.disconnect();\n",
       "        }}\n",
       "}});\n",
       "\n",
       "// Listen for the removal of the full notebook cells\n",
       "var notebookContainer = gd.closest('#notebook-container');\n",
       "if (notebookContainer) {{\n",
       "    x.observe(notebookContainer, {childList: true});\n",
       "}}\n",
       "\n",
       "// Listen for the clearing of the current output cell\n",
       "var outputEl = gd.closest('.output');\n",
       "if (outputEl) {{\n",
       "    x.observe(outputEl, {childList: true});\n",
       "}}\n",
       "\n",
       "                        })\n",
       "                };\n",
       "                });\n",
       "            </script>\n",
       "        </div>"
      ]
     },
     "metadata": {},
     "output_type": "display_data"
    }
   ],
   "source": [
    "#Female population have a marginally higher spending score than Male\n",
    "Plot(Data, \"SpendingScore\", \"Gender\")"
   ]
  },
  {
   "cell_type": "markdown",
   "metadata": {},
   "source": [
    "## Modelling"
   ]
  },
  {
   "cell_type": "markdown",
   "metadata": {},
   "source": [
    "## Annual Income and Spending Score"
   ]
  },
  {
   "cell_type": "code",
   "execution_count": 18,
   "metadata": {},
   "outputs": [
    {
     "name": "stderr",
     "output_type": "stream",
     "text": [
      "C:\\Users\\tom.dawson\\AppData\\Local\\Continuum\\anaconda3\\lib\\site-packages\\numpy\\core\\fromnumeric.py:3335: RuntimeWarning:\n",
      "\n",
      "Mean of empty slice.\n",
      "\n",
      "C:\\Users\\tom.dawson\\AppData\\Local\\Continuum\\anaconda3\\lib\\site-packages\\numpy\\core\\_methods.py:154: RuntimeWarning:\n",
      "\n",
      "invalid value encountered in true_divide\n",
      "\n"
     ]
    },
    {
     "data": {
      "application/vnd.plotly.v1+json": {
       "config": {
        "plotlyServerURL": "https://plot.ly"
       },
       "data": [
        {
         "legendgroup": "Inertia",
         "marker": {
          "opacity": 0.9,
          "size": 10
         },
         "mode": "lines+markers",
         "name": "Inertia",
         "showlegend": true,
         "type": "scatter",
         "x": [
          1,
          2,
          3,
          4,
          5,
          6
         ],
         "y": [
          269981.28,
          184609.98434090617,
          150497.3277885728,
          73679.78903948836,
          70096.439533608,
          70096.439533608,
          70096.439533608,
          70096.439533608,
          40845.0821432953
         ]
        }
       ],
       "layout": {
        "template": {
         "data": {
          "bar": [
           {
            "error_x": {
             "color": "#2a3f5f"
            },
            "error_y": {
             "color": "#2a3f5f"
            },
            "marker": {
             "line": {
              "color": "#E5ECF6",
              "width": 0.5
             }
            },
            "type": "bar"
           }
          ],
          "barpolar": [
           {
            "marker": {
             "line": {
              "color": "#E5ECF6",
              "width": 0.5
             }
            },
            "type": "barpolar"
           }
          ],
          "carpet": [
           {
            "aaxis": {
             "endlinecolor": "#2a3f5f",
             "gridcolor": "white",
             "linecolor": "white",
             "minorgridcolor": "white",
             "startlinecolor": "#2a3f5f"
            },
            "baxis": {
             "endlinecolor": "#2a3f5f",
             "gridcolor": "white",
             "linecolor": "white",
             "minorgridcolor": "white",
             "startlinecolor": "#2a3f5f"
            },
            "type": "carpet"
           }
          ],
          "choropleth": [
           {
            "colorbar": {
             "outlinewidth": 0,
             "ticks": ""
            },
            "type": "choropleth"
           }
          ],
          "contour": [
           {
            "colorbar": {
             "outlinewidth": 0,
             "ticks": ""
            },
            "colorscale": [
             [
              0,
              "#0d0887"
             ],
             [
              0.1111111111111111,
              "#46039f"
             ],
             [
              0.2222222222222222,
              "#7201a8"
             ],
             [
              0.3333333333333333,
              "#9c179e"
             ],
             [
              0.4444444444444444,
              "#bd3786"
             ],
             [
              0.5555555555555556,
              "#d8576b"
             ],
             [
              0.6666666666666666,
              "#ed7953"
             ],
             [
              0.7777777777777778,
              "#fb9f3a"
             ],
             [
              0.8888888888888888,
              "#fdca26"
             ],
             [
              1,
              "#f0f921"
             ]
            ],
            "type": "contour"
           }
          ],
          "contourcarpet": [
           {
            "colorbar": {
             "outlinewidth": 0,
             "ticks": ""
            },
            "type": "contourcarpet"
           }
          ],
          "heatmap": [
           {
            "colorbar": {
             "outlinewidth": 0,
             "ticks": ""
            },
            "colorscale": [
             [
              0,
              "#0d0887"
             ],
             [
              0.1111111111111111,
              "#46039f"
             ],
             [
              0.2222222222222222,
              "#7201a8"
             ],
             [
              0.3333333333333333,
              "#9c179e"
             ],
             [
              0.4444444444444444,
              "#bd3786"
             ],
             [
              0.5555555555555556,
              "#d8576b"
             ],
             [
              0.6666666666666666,
              "#ed7953"
             ],
             [
              0.7777777777777778,
              "#fb9f3a"
             ],
             [
              0.8888888888888888,
              "#fdca26"
             ],
             [
              1,
              "#f0f921"
             ]
            ],
            "type": "heatmap"
           }
          ],
          "heatmapgl": [
           {
            "colorbar": {
             "outlinewidth": 0,
             "ticks": ""
            },
            "colorscale": [
             [
              0,
              "#0d0887"
             ],
             [
              0.1111111111111111,
              "#46039f"
             ],
             [
              0.2222222222222222,
              "#7201a8"
             ],
             [
              0.3333333333333333,
              "#9c179e"
             ],
             [
              0.4444444444444444,
              "#bd3786"
             ],
             [
              0.5555555555555556,
              "#d8576b"
             ],
             [
              0.6666666666666666,
              "#ed7953"
             ],
             [
              0.7777777777777778,
              "#fb9f3a"
             ],
             [
              0.8888888888888888,
              "#fdca26"
             ],
             [
              1,
              "#f0f921"
             ]
            ],
            "type": "heatmapgl"
           }
          ],
          "histogram": [
           {
            "marker": {
             "colorbar": {
              "outlinewidth": 0,
              "ticks": ""
             }
            },
            "type": "histogram"
           }
          ],
          "histogram2d": [
           {
            "colorbar": {
             "outlinewidth": 0,
             "ticks": ""
            },
            "colorscale": [
             [
              0,
              "#0d0887"
             ],
             [
              0.1111111111111111,
              "#46039f"
             ],
             [
              0.2222222222222222,
              "#7201a8"
             ],
             [
              0.3333333333333333,
              "#9c179e"
             ],
             [
              0.4444444444444444,
              "#bd3786"
             ],
             [
              0.5555555555555556,
              "#d8576b"
             ],
             [
              0.6666666666666666,
              "#ed7953"
             ],
             [
              0.7777777777777778,
              "#fb9f3a"
             ],
             [
              0.8888888888888888,
              "#fdca26"
             ],
             [
              1,
              "#f0f921"
             ]
            ],
            "type": "histogram2d"
           }
          ],
          "histogram2dcontour": [
           {
            "colorbar": {
             "outlinewidth": 0,
             "ticks": ""
            },
            "colorscale": [
             [
              0,
              "#0d0887"
             ],
             [
              0.1111111111111111,
              "#46039f"
             ],
             [
              0.2222222222222222,
              "#7201a8"
             ],
             [
              0.3333333333333333,
              "#9c179e"
             ],
             [
              0.4444444444444444,
              "#bd3786"
             ],
             [
              0.5555555555555556,
              "#d8576b"
             ],
             [
              0.6666666666666666,
              "#ed7953"
             ],
             [
              0.7777777777777778,
              "#fb9f3a"
             ],
             [
              0.8888888888888888,
              "#fdca26"
             ],
             [
              1,
              "#f0f921"
             ]
            ],
            "type": "histogram2dcontour"
           }
          ],
          "mesh3d": [
           {
            "colorbar": {
             "outlinewidth": 0,
             "ticks": ""
            },
            "type": "mesh3d"
           }
          ],
          "parcoords": [
           {
            "line": {
             "colorbar": {
              "outlinewidth": 0,
              "ticks": ""
             }
            },
            "type": "parcoords"
           }
          ],
          "pie": [
           {
            "automargin": true,
            "type": "pie"
           }
          ],
          "scatter": [
           {
            "marker": {
             "colorbar": {
              "outlinewidth": 0,
              "ticks": ""
             }
            },
            "type": "scatter"
           }
          ],
          "scatter3d": [
           {
            "line": {
             "colorbar": {
              "outlinewidth": 0,
              "ticks": ""
             }
            },
            "marker": {
             "colorbar": {
              "outlinewidth": 0,
              "ticks": ""
             }
            },
            "type": "scatter3d"
           }
          ],
          "scattercarpet": [
           {
            "marker": {
             "colorbar": {
              "outlinewidth": 0,
              "ticks": ""
             }
            },
            "type": "scattercarpet"
           }
          ],
          "scattergeo": [
           {
            "marker": {
             "colorbar": {
              "outlinewidth": 0,
              "ticks": ""
             }
            },
            "type": "scattergeo"
           }
          ],
          "scattergl": [
           {
            "marker": {
             "colorbar": {
              "outlinewidth": 0,
              "ticks": ""
             }
            },
            "type": "scattergl"
           }
          ],
          "scattermapbox": [
           {
            "marker": {
             "colorbar": {
              "outlinewidth": 0,
              "ticks": ""
             }
            },
            "type": "scattermapbox"
           }
          ],
          "scatterpolar": [
           {
            "marker": {
             "colorbar": {
              "outlinewidth": 0,
              "ticks": ""
             }
            },
            "type": "scatterpolar"
           }
          ],
          "scatterpolargl": [
           {
            "marker": {
             "colorbar": {
              "outlinewidth": 0,
              "ticks": ""
             }
            },
            "type": "scatterpolargl"
           }
          ],
          "scatterternary": [
           {
            "marker": {
             "colorbar": {
              "outlinewidth": 0,
              "ticks": ""
             }
            },
            "type": "scatterternary"
           }
          ],
          "surface": [
           {
            "colorbar": {
             "outlinewidth": 0,
             "ticks": ""
            },
            "colorscale": [
             [
              0,
              "#0d0887"
             ],
             [
              0.1111111111111111,
              "#46039f"
             ],
             [
              0.2222222222222222,
              "#7201a8"
             ],
             [
              0.3333333333333333,
              "#9c179e"
             ],
             [
              0.4444444444444444,
              "#bd3786"
             ],
             [
              0.5555555555555556,
              "#d8576b"
             ],
             [
              0.6666666666666666,
              "#ed7953"
             ],
             [
              0.7777777777777778,
              "#fb9f3a"
             ],
             [
              0.8888888888888888,
              "#fdca26"
             ],
             [
              1,
              "#f0f921"
             ]
            ],
            "type": "surface"
           }
          ],
          "table": [
           {
            "cells": {
             "fill": {
              "color": "#EBF0F8"
             },
             "line": {
              "color": "white"
             }
            },
            "header": {
             "fill": {
              "color": "#C8D4E3"
             },
             "line": {
              "color": "white"
             }
            },
            "type": "table"
           }
          ]
         },
         "layout": {
          "annotationdefaults": {
           "arrowcolor": "#2a3f5f",
           "arrowhead": 0,
           "arrowwidth": 1
          },
          "coloraxis": {
           "colorbar": {
            "outlinewidth": 0,
            "ticks": ""
           }
          },
          "colorscale": {
           "diverging": [
            [
             0,
             "#8e0152"
            ],
            [
             0.1,
             "#c51b7d"
            ],
            [
             0.2,
             "#de77ae"
            ],
            [
             0.3,
             "#f1b6da"
            ],
            [
             0.4,
             "#fde0ef"
            ],
            [
             0.5,
             "#f7f7f7"
            ],
            [
             0.6,
             "#e6f5d0"
            ],
            [
             0.7,
             "#b8e186"
            ],
            [
             0.8,
             "#7fbc41"
            ],
            [
             0.9,
             "#4d9221"
            ],
            [
             1,
             "#276419"
            ]
           ],
           "sequential": [
            [
             0,
             "#0d0887"
            ],
            [
             0.1111111111111111,
             "#46039f"
            ],
            [
             0.2222222222222222,
             "#7201a8"
            ],
            [
             0.3333333333333333,
             "#9c179e"
            ],
            [
             0.4444444444444444,
             "#bd3786"
            ],
            [
             0.5555555555555556,
             "#d8576b"
            ],
            [
             0.6666666666666666,
             "#ed7953"
            ],
            [
             0.7777777777777778,
             "#fb9f3a"
            ],
            [
             0.8888888888888888,
             "#fdca26"
            ],
            [
             1,
             "#f0f921"
            ]
           ],
           "sequentialminus": [
            [
             0,
             "#0d0887"
            ],
            [
             0.1111111111111111,
             "#46039f"
            ],
            [
             0.2222222222222222,
             "#7201a8"
            ],
            [
             0.3333333333333333,
             "#9c179e"
            ],
            [
             0.4444444444444444,
             "#bd3786"
            ],
            [
             0.5555555555555556,
             "#d8576b"
            ],
            [
             0.6666666666666666,
             "#ed7953"
            ],
            [
             0.7777777777777778,
             "#fb9f3a"
            ],
            [
             0.8888888888888888,
             "#fdca26"
            ],
            [
             1,
             "#f0f921"
            ]
           ]
          },
          "colorway": [
           "#636efa",
           "#EF553B",
           "#00cc96",
           "#ab63fa",
           "#FFA15A",
           "#19d3f3",
           "#FF6692",
           "#B6E880",
           "#FF97FF",
           "#FECB52"
          ],
          "font": {
           "color": "#2a3f5f"
          },
          "geo": {
           "bgcolor": "white",
           "lakecolor": "white",
           "landcolor": "#E5ECF6",
           "showlakes": true,
           "showland": true,
           "subunitcolor": "white"
          },
          "hoverlabel": {
           "align": "left"
          },
          "hovermode": "closest",
          "mapbox": {
           "style": "light"
          },
          "paper_bgcolor": "white",
          "plot_bgcolor": "#E5ECF6",
          "polar": {
           "angularaxis": {
            "gridcolor": "white",
            "linecolor": "white",
            "ticks": ""
           },
           "bgcolor": "#E5ECF6",
           "radialaxis": {
            "gridcolor": "white",
            "linecolor": "white",
            "ticks": ""
           }
          },
          "scene": {
           "xaxis": {
            "backgroundcolor": "#E5ECF6",
            "gridcolor": "white",
            "gridwidth": 2,
            "linecolor": "white",
            "showbackground": true,
            "ticks": "",
            "zerolinecolor": "white"
           },
           "yaxis": {
            "backgroundcolor": "#E5ECF6",
            "gridcolor": "white",
            "gridwidth": 2,
            "linecolor": "white",
            "showbackground": true,
            "ticks": "",
            "zerolinecolor": "white"
           },
           "zaxis": {
            "backgroundcolor": "#E5ECF6",
            "gridcolor": "white",
            "gridwidth": 2,
            "linecolor": "white",
            "showbackground": true,
            "ticks": "",
            "zerolinecolor": "white"
           }
          },
          "shapedefaults": {
           "line": {
            "color": "#2a3f5f"
           }
          },
          "ternary": {
           "aaxis": {
            "gridcolor": "white",
            "linecolor": "white",
            "ticks": ""
           },
           "baxis": {
            "gridcolor": "white",
            "linecolor": "white",
            "ticks": ""
           },
           "bgcolor": "#E5ECF6",
           "caxis": {
            "gridcolor": "white",
            "linecolor": "white",
            "ticks": ""
           }
          },
          "title": {
           "x": 0.05
          },
          "xaxis": {
           "automargin": true,
           "gridcolor": "white",
           "linecolor": "white",
           "ticks": "",
           "title": {
            "standoff": 15
           },
           "zerolinecolor": "white",
           "zerolinewidth": 2
          },
          "yaxis": {
           "automargin": true,
           "gridcolor": "white",
           "linecolor": "white",
           "ticks": "",
           "title": {
            "standoff": 15
           },
           "zerolinecolor": "white",
           "zerolinewidth": 2
          }
         }
        },
        "title": {
         "font": {
          "size": 17
         },
         "text": "Inertia vs. K"
        },
        "xaxis": {
         "showgrid": true,
         "title": {
          "text": "K"
         },
         "zeroline": true
        },
        "yaxis": {
         "showgrid": true,
         "title": {
          "text": "Inertia"
         },
         "zeroline": true
        }
       }
      },
      "text/html": [
       "<div>\n",
       "        \n",
       "        \n",
       "            <div id=\"a782b6ab-739f-4304-91d1-59efc9259d49\" class=\"plotly-graph-div\" style=\"height:525px; width:100%;\"></div>\n",
       "            <script type=\"text/javascript\">\n",
       "                require([\"plotly\"], function(Plotly) {\n",
       "                    window.PLOTLYENV=window.PLOTLYENV || {};\n",
       "                    \n",
       "                if (document.getElementById(\"a782b6ab-739f-4304-91d1-59efc9259d49\")) {\n",
       "                    Plotly.newPlot(\n",
       "                        'a782b6ab-739f-4304-91d1-59efc9259d49',\n",
       "                        [{\"legendgroup\": \"Inertia\", \"marker\": {\"opacity\": 0.9, \"size\": 10}, \"mode\": \"lines+markers\", \"name\": \"Inertia\", \"showlegend\": true, \"type\": \"scatter\", \"x\": [1, 2, 3, 4, 5, 6], \"y\": [269981.28, 184609.98434090617, 150497.3277885728, 73679.78903948836, 70096.439533608, 70096.439533608, 70096.439533608, 70096.439533608, 40845.0821432953]}],\n",
       "                        {\"template\": {\"data\": {\"bar\": [{\"error_x\": {\"color\": \"#2a3f5f\"}, \"error_y\": {\"color\": \"#2a3f5f\"}, \"marker\": {\"line\": {\"color\": \"#E5ECF6\", \"width\": 0.5}}, \"type\": \"bar\"}], \"barpolar\": [{\"marker\": {\"line\": {\"color\": \"#E5ECF6\", \"width\": 0.5}}, \"type\": \"barpolar\"}], \"carpet\": [{\"aaxis\": {\"endlinecolor\": \"#2a3f5f\", \"gridcolor\": \"white\", \"linecolor\": \"white\", \"minorgridcolor\": \"white\", \"startlinecolor\": \"#2a3f5f\"}, \"baxis\": {\"endlinecolor\": \"#2a3f5f\", \"gridcolor\": \"white\", \"linecolor\": \"white\", \"minorgridcolor\": \"white\", \"startlinecolor\": \"#2a3f5f\"}, \"type\": \"carpet\"}], \"choropleth\": [{\"colorbar\": {\"outlinewidth\": 0, \"ticks\": \"\"}, \"type\": \"choropleth\"}], \"contour\": [{\"colorbar\": {\"outlinewidth\": 0, \"ticks\": \"\"}, \"colorscale\": [[0.0, \"#0d0887\"], [0.1111111111111111, \"#46039f\"], [0.2222222222222222, \"#7201a8\"], [0.3333333333333333, \"#9c179e\"], [0.4444444444444444, \"#bd3786\"], [0.5555555555555556, \"#d8576b\"], [0.6666666666666666, \"#ed7953\"], [0.7777777777777778, \"#fb9f3a\"], [0.8888888888888888, \"#fdca26\"], [1.0, \"#f0f921\"]], \"type\": \"contour\"}], \"contourcarpet\": [{\"colorbar\": {\"outlinewidth\": 0, \"ticks\": \"\"}, \"type\": \"contourcarpet\"}], \"heatmap\": [{\"colorbar\": {\"outlinewidth\": 0, \"ticks\": \"\"}, \"colorscale\": [[0.0, \"#0d0887\"], [0.1111111111111111, \"#46039f\"], [0.2222222222222222, \"#7201a8\"], [0.3333333333333333, \"#9c179e\"], [0.4444444444444444, \"#bd3786\"], [0.5555555555555556, \"#d8576b\"], [0.6666666666666666, \"#ed7953\"], [0.7777777777777778, \"#fb9f3a\"], [0.8888888888888888, \"#fdca26\"], [1.0, \"#f0f921\"]], \"type\": \"heatmap\"}], \"heatmapgl\": [{\"colorbar\": {\"outlinewidth\": 0, \"ticks\": \"\"}, \"colorscale\": [[0.0, \"#0d0887\"], [0.1111111111111111, \"#46039f\"], [0.2222222222222222, \"#7201a8\"], [0.3333333333333333, \"#9c179e\"], [0.4444444444444444, \"#bd3786\"], [0.5555555555555556, \"#d8576b\"], [0.6666666666666666, \"#ed7953\"], [0.7777777777777778, \"#fb9f3a\"], [0.8888888888888888, \"#fdca26\"], [1.0, \"#f0f921\"]], \"type\": \"heatmapgl\"}], \"histogram\": [{\"marker\": {\"colorbar\": {\"outlinewidth\": 0, \"ticks\": \"\"}}, \"type\": \"histogram\"}], \"histogram2d\": [{\"colorbar\": {\"outlinewidth\": 0, \"ticks\": \"\"}, \"colorscale\": [[0.0, \"#0d0887\"], [0.1111111111111111, \"#46039f\"], [0.2222222222222222, \"#7201a8\"], [0.3333333333333333, \"#9c179e\"], [0.4444444444444444, \"#bd3786\"], [0.5555555555555556, \"#d8576b\"], [0.6666666666666666, \"#ed7953\"], [0.7777777777777778, \"#fb9f3a\"], [0.8888888888888888, \"#fdca26\"], [1.0, \"#f0f921\"]], \"type\": \"histogram2d\"}], \"histogram2dcontour\": [{\"colorbar\": {\"outlinewidth\": 0, \"ticks\": \"\"}, \"colorscale\": [[0.0, \"#0d0887\"], [0.1111111111111111, \"#46039f\"], [0.2222222222222222, \"#7201a8\"], [0.3333333333333333, \"#9c179e\"], [0.4444444444444444, \"#bd3786\"], [0.5555555555555556, \"#d8576b\"], [0.6666666666666666, \"#ed7953\"], [0.7777777777777778, \"#fb9f3a\"], [0.8888888888888888, \"#fdca26\"], [1.0, \"#f0f921\"]], \"type\": \"histogram2dcontour\"}], \"mesh3d\": [{\"colorbar\": {\"outlinewidth\": 0, \"ticks\": \"\"}, \"type\": \"mesh3d\"}], \"parcoords\": [{\"line\": {\"colorbar\": {\"outlinewidth\": 0, \"ticks\": \"\"}}, \"type\": \"parcoords\"}], \"pie\": [{\"automargin\": true, \"type\": \"pie\"}], \"scatter\": [{\"marker\": {\"colorbar\": {\"outlinewidth\": 0, \"ticks\": \"\"}}, \"type\": \"scatter\"}], \"scatter3d\": [{\"line\": {\"colorbar\": {\"outlinewidth\": 0, \"ticks\": \"\"}}, \"marker\": {\"colorbar\": {\"outlinewidth\": 0, \"ticks\": \"\"}}, \"type\": \"scatter3d\"}], \"scattercarpet\": [{\"marker\": {\"colorbar\": {\"outlinewidth\": 0, \"ticks\": \"\"}}, \"type\": \"scattercarpet\"}], \"scattergeo\": [{\"marker\": {\"colorbar\": {\"outlinewidth\": 0, \"ticks\": \"\"}}, \"type\": \"scattergeo\"}], \"scattergl\": [{\"marker\": {\"colorbar\": {\"outlinewidth\": 0, \"ticks\": \"\"}}, \"type\": \"scattergl\"}], \"scattermapbox\": [{\"marker\": {\"colorbar\": {\"outlinewidth\": 0, \"ticks\": \"\"}}, \"type\": \"scattermapbox\"}], \"scatterpolar\": [{\"marker\": {\"colorbar\": {\"outlinewidth\": 0, \"ticks\": \"\"}}, \"type\": \"scatterpolar\"}], \"scatterpolargl\": [{\"marker\": {\"colorbar\": {\"outlinewidth\": 0, \"ticks\": \"\"}}, \"type\": \"scatterpolargl\"}], \"scatterternary\": [{\"marker\": {\"colorbar\": {\"outlinewidth\": 0, \"ticks\": \"\"}}, \"type\": \"scatterternary\"}], \"surface\": [{\"colorbar\": {\"outlinewidth\": 0, \"ticks\": \"\"}, \"colorscale\": [[0.0, \"#0d0887\"], [0.1111111111111111, \"#46039f\"], [0.2222222222222222, \"#7201a8\"], [0.3333333333333333, \"#9c179e\"], [0.4444444444444444, \"#bd3786\"], [0.5555555555555556, \"#d8576b\"], [0.6666666666666666, \"#ed7953\"], [0.7777777777777778, \"#fb9f3a\"], [0.8888888888888888, \"#fdca26\"], [1.0, \"#f0f921\"]], \"type\": \"surface\"}], \"table\": [{\"cells\": {\"fill\": {\"color\": \"#EBF0F8\"}, \"line\": {\"color\": \"white\"}}, \"header\": {\"fill\": {\"color\": \"#C8D4E3\"}, \"line\": {\"color\": \"white\"}}, \"type\": \"table\"}]}, \"layout\": {\"annotationdefaults\": {\"arrowcolor\": \"#2a3f5f\", \"arrowhead\": 0, \"arrowwidth\": 1}, \"coloraxis\": {\"colorbar\": {\"outlinewidth\": 0, \"ticks\": \"\"}}, \"colorscale\": {\"diverging\": [[0, \"#8e0152\"], [0.1, \"#c51b7d\"], [0.2, \"#de77ae\"], [0.3, \"#f1b6da\"], [0.4, \"#fde0ef\"], [0.5, \"#f7f7f7\"], [0.6, \"#e6f5d0\"], [0.7, \"#b8e186\"], [0.8, \"#7fbc41\"], [0.9, \"#4d9221\"], [1, \"#276419\"]], \"sequential\": [[0.0, \"#0d0887\"], [0.1111111111111111, \"#46039f\"], [0.2222222222222222, \"#7201a8\"], [0.3333333333333333, \"#9c179e\"], [0.4444444444444444, \"#bd3786\"], [0.5555555555555556, \"#d8576b\"], [0.6666666666666666, \"#ed7953\"], [0.7777777777777778, \"#fb9f3a\"], [0.8888888888888888, \"#fdca26\"], [1.0, \"#f0f921\"]], \"sequentialminus\": [[0.0, \"#0d0887\"], [0.1111111111111111, \"#46039f\"], [0.2222222222222222, \"#7201a8\"], [0.3333333333333333, \"#9c179e\"], [0.4444444444444444, \"#bd3786\"], [0.5555555555555556, \"#d8576b\"], [0.6666666666666666, \"#ed7953\"], [0.7777777777777778, \"#fb9f3a\"], [0.8888888888888888, \"#fdca26\"], [1.0, \"#f0f921\"]]}, \"colorway\": [\"#636efa\", \"#EF553B\", \"#00cc96\", \"#ab63fa\", \"#FFA15A\", \"#19d3f3\", \"#FF6692\", \"#B6E880\", \"#FF97FF\", \"#FECB52\"], \"font\": {\"color\": \"#2a3f5f\"}, \"geo\": {\"bgcolor\": \"white\", \"lakecolor\": \"white\", \"landcolor\": \"#E5ECF6\", \"showlakes\": true, \"showland\": true, \"subunitcolor\": \"white\"}, \"hoverlabel\": {\"align\": \"left\"}, \"hovermode\": \"closest\", \"mapbox\": {\"style\": \"light\"}, \"paper_bgcolor\": \"white\", \"plot_bgcolor\": \"#E5ECF6\", \"polar\": {\"angularaxis\": {\"gridcolor\": \"white\", \"linecolor\": \"white\", \"ticks\": \"\"}, \"bgcolor\": \"#E5ECF6\", \"radialaxis\": {\"gridcolor\": \"white\", \"linecolor\": \"white\", \"ticks\": \"\"}}, \"scene\": {\"xaxis\": {\"backgroundcolor\": \"#E5ECF6\", \"gridcolor\": \"white\", \"gridwidth\": 2, \"linecolor\": \"white\", \"showbackground\": true, \"ticks\": \"\", \"zerolinecolor\": \"white\"}, \"yaxis\": {\"backgroundcolor\": \"#E5ECF6\", \"gridcolor\": \"white\", \"gridwidth\": 2, \"linecolor\": \"white\", \"showbackground\": true, \"ticks\": \"\", \"zerolinecolor\": \"white\"}, \"zaxis\": {\"backgroundcolor\": \"#E5ECF6\", \"gridcolor\": \"white\", \"gridwidth\": 2, \"linecolor\": \"white\", \"showbackground\": true, \"ticks\": \"\", \"zerolinecolor\": \"white\"}}, \"shapedefaults\": {\"line\": {\"color\": \"#2a3f5f\"}}, \"ternary\": {\"aaxis\": {\"gridcolor\": \"white\", \"linecolor\": \"white\", \"ticks\": \"\"}, \"baxis\": {\"gridcolor\": \"white\", \"linecolor\": \"white\", \"ticks\": \"\"}, \"bgcolor\": \"#E5ECF6\", \"caxis\": {\"gridcolor\": \"white\", \"linecolor\": \"white\", \"ticks\": \"\"}}, \"title\": {\"x\": 0.05}, \"xaxis\": {\"automargin\": true, \"gridcolor\": \"white\", \"linecolor\": \"white\", \"ticks\": \"\", \"title\": {\"standoff\": 15}, \"zerolinecolor\": \"white\", \"zerolinewidth\": 2}, \"yaxis\": {\"automargin\": true, \"gridcolor\": \"white\", \"linecolor\": \"white\", \"ticks\": \"\", \"title\": {\"standoff\": 15}, \"zerolinecolor\": \"white\", \"zerolinewidth\": 2}}}, \"title\": {\"font\": {\"size\": 17}, \"text\": \"Inertia vs. K\"}, \"xaxis\": {\"showgrid\": true, \"title\": {\"text\": \"K\"}, \"zeroline\": true}, \"yaxis\": {\"showgrid\": true, \"title\": {\"text\": \"Inertia\"}, \"zeroline\": true}},\n",
       "                        {\"responsive\": true}\n",
       "                    ).then(function(){\n",
       "                            \n",
       "var gd = document.getElementById('a782b6ab-739f-4304-91d1-59efc9259d49');\n",
       "var x = new MutationObserver(function (mutations, observer) {{\n",
       "        var display = window.getComputedStyle(gd).display;\n",
       "        if (!display || display === 'none') {{\n",
       "            console.log([gd, 'removed!']);\n",
       "            Plotly.purge(gd);\n",
       "            observer.disconnect();\n",
       "        }}\n",
       "}});\n",
       "\n",
       "// Listen for the removal of the full notebook cells\n",
       "var notebookContainer = gd.closest('#notebook-container');\n",
       "if (notebookContainer) {{\n",
       "    x.observe(notebookContainer, {childList: true});\n",
       "}}\n",
       "\n",
       "// Listen for the clearing of the current output cell\n",
       "var outputEl = gd.closest('.output');\n",
       "if (outputEl) {{\n",
       "    x.observe(outputEl, {childList: true});\n",
       "}}\n",
       "\n",
       "                        })\n",
       "                };\n",
       "                });\n",
       "            </script>\n",
       "        </div>"
      ]
     },
     "metadata": {},
     "output_type": "display_data"
    }
   ],
   "source": [
    "InertiaPlot(Data, [\"AnnualIncome\", \"SpendingScore\"])"
   ]
  },
  {
   "cell_type": "code",
   "execution_count": 19,
   "metadata": {},
   "outputs": [
    {
     "data": {
      "application/vnd.plotly.v1+json": {
       "config": {
        "plotlyServerURL": "https://plot.ly"
       },
       "data": [
        {
         "legendgroup": "Group = 1",
         "marker": {
          "opacity": 0.9,
          "size": 10
         },
         "mode": "markers",
         "name": "Group = 1",
         "showlegend": true,
         "type": "scatter",
         "x": [
          15000,
          16000,
          17000,
          18000,
          19000,
          19000,
          20000,
          20000,
          21000,
          23000,
          24000,
          25000,
          28000,
          28000,
          29000,
          30000,
          33000,
          33000,
          34000,
          37000,
          38000,
          39000,
          39000,
          40000,
          40000,
          40000,
          40000,
          42000,
          42000,
          43000,
          43000,
          43000,
          43000,
          44000,
          44000,
          46000,
          46000,
          46000,
          46000,
          47000,
          47000,
          48000,
          48000,
          48000,
          48000,
          48000,
          48000,
          49000,
          49000,
          50000,
          50000,
          54000,
          54000,
          54000,
          54000,
          54000,
          54000,
          54000,
          54000,
          54000,
          54000,
          54000,
          54000,
          57000,
          57000,
          58000,
          58000,
          59000,
          59000,
          60000,
          60000,
          60000,
          60000,
          60000,
          60000,
          61000,
          61000,
          62000,
          62000,
          62000,
          62000,
          62000,
          62000,
          63000,
          63000,
          63000,
          63000,
          63000,
          63000,
          64000,
          64000,
          65000,
          65000,
          65000,
          65000,
          67000,
          67000,
          67000,
          67000,
          69000
         ],
         "y": [
          81,
          77,
          76,
          94,
          72,
          99,
          77,
          79,
          66,
          98,
          73,
          73,
          82,
          61,
          87,
          73,
          92,
          81,
          73,
          75,
          92,
          61,
          65,
          55,
          47,
          42,
          42,
          52,
          60,
          54,
          60,
          45,
          41,
          50,
          46,
          51,
          46,
          56,
          55,
          52,
          59,
          51,
          59,
          50,
          48,
          59,
          47,
          55,
          42,
          49,
          56,
          47,
          54,
          53,
          48,
          52,
          42,
          51,
          55,
          41,
          44,
          57,
          46,
          58,
          55,
          60,
          46,
          55,
          41,
          49,
          40,
          42,
          52,
          47,
          50,
          42,
          49,
          41,
          48,
          59,
          55,
          56,
          42,
          50,
          46,
          43,
          48,
          52,
          54,
          42,
          46,
          48,
          50,
          43,
          59,
          43,
          57,
          56,
          40,
          58
         ]
        },
        {
         "legendgroup": "Group = 2",
         "marker": {
          "opacity": 0.9,
          "size": 10
         },
         "mode": "markers",
         "name": "Group = 2",
         "showlegend": true,
         "type": "scatter",
         "x": [
          69000,
          70000,
          71000,
          71000,
          71000,
          72000,
          73000,
          73000,
          74000,
          75000,
          76000,
          77000,
          77000,
          78000,
          78000,
          78000,
          78000,
          78000,
          78000,
          79000,
          81000,
          85000,
          86000,
          87000,
          87000,
          87000,
          88000,
          88000,
          93000,
          97000,
          98000,
          99000,
          101000,
          103000,
          103000,
          113000,
          120000,
          126000,
          137000
         ],
         "y": [
          91,
          77,
          95,
          75,
          75,
          71,
          88,
          73,
          72,
          93,
          87,
          97,
          74,
          90,
          88,
          76,
          89,
          78,
          73,
          83,
          93,
          75,
          95,
          63,
          75,
          92,
          86,
          69,
          90,
          86,
          88,
          97,
          68,
          85,
          69,
          91,
          79,
          74,
          83
         ]
        },
        {
         "legendgroup": "Group = 3",
         "marker": {
          "opacity": 0.9,
          "size": 10
         },
         "mode": "markers",
         "name": "Group = 3",
         "showlegend": true,
         "type": "scatter",
         "x": [
          70000,
          71000,
          71000,
          71000,
          72000,
          73000,
          73000,
          74000,
          75000,
          76000,
          77000,
          77000,
          78000,
          78000,
          78000,
          78000,
          78000,
          78000,
          79000,
          81000,
          85000,
          86000,
          87000,
          87000,
          87000,
          88000,
          88000,
          93000,
          97000,
          98000,
          99000,
          101000,
          103000,
          103000,
          113000,
          120000,
          126000,
          137000
         ],
         "y": [
          29,
          35,
          11,
          9,
          34,
          5,
          7,
          10,
          5,
          40,
          12,
          36,
          22,
          17,
          20,
          16,
          1,
          1,
          35,
          5,
          26,
          20,
          27,
          13,
          10,
          13,
          15,
          14,
          32,
          15,
          39,
          24,
          17,
          23,
          8,
          16,
          28,
          18
         ]
        },
        {
         "legendgroup": "Group = 4",
         "marker": {
          "opacity": 0.9,
          "size": 10
         },
         "mode": "markers",
         "name": "Group = 4",
         "showlegend": true,
         "type": "scatter",
         "x": [
          15000,
          16000,
          17000,
          18000,
          19000,
          19000,
          20000,
          20000,
          21000,
          23000,
          24000,
          25000,
          28000,
          28000,
          29000,
          30000,
          33000,
          33000,
          34000,
          37000,
          38000,
          39000,
          39000
         ],
         "y": [
          39,
          6,
          40,
          6,
          3,
          14,
          15,
          13,
          35,
          29,
          35,
          5,
          14,
          32,
          31,
          4,
          4,
          14,
          17,
          26,
          35,
          36,
          28
         ]
        },
        {
         "marker": {
          "color": "Black",
          "opacity": 0.9,
          "size": 15
         },
         "mode": "markers",
         "name": "Centroid",
         "showlegend": true,
         "type": "scatter",
         "x": [
          48260,
          86538.46153846153,
          87000,
          26304.347826086956
         ],
         "y": [
          56.48,
          82.12820512820512,
          18.63157894736842,
          20.91304347826087
         ]
        }
       ],
       "layout": {
        "template": {
         "data": {
          "bar": [
           {
            "error_x": {
             "color": "#2a3f5f"
            },
            "error_y": {
             "color": "#2a3f5f"
            },
            "marker": {
             "line": {
              "color": "#E5ECF6",
              "width": 0.5
             }
            },
            "type": "bar"
           }
          ],
          "barpolar": [
           {
            "marker": {
             "line": {
              "color": "#E5ECF6",
              "width": 0.5
             }
            },
            "type": "barpolar"
           }
          ],
          "carpet": [
           {
            "aaxis": {
             "endlinecolor": "#2a3f5f",
             "gridcolor": "white",
             "linecolor": "white",
             "minorgridcolor": "white",
             "startlinecolor": "#2a3f5f"
            },
            "baxis": {
             "endlinecolor": "#2a3f5f",
             "gridcolor": "white",
             "linecolor": "white",
             "minorgridcolor": "white",
             "startlinecolor": "#2a3f5f"
            },
            "type": "carpet"
           }
          ],
          "choropleth": [
           {
            "colorbar": {
             "outlinewidth": 0,
             "ticks": ""
            },
            "type": "choropleth"
           }
          ],
          "contour": [
           {
            "colorbar": {
             "outlinewidth": 0,
             "ticks": ""
            },
            "colorscale": [
             [
              0,
              "#0d0887"
             ],
             [
              0.1111111111111111,
              "#46039f"
             ],
             [
              0.2222222222222222,
              "#7201a8"
             ],
             [
              0.3333333333333333,
              "#9c179e"
             ],
             [
              0.4444444444444444,
              "#bd3786"
             ],
             [
              0.5555555555555556,
              "#d8576b"
             ],
             [
              0.6666666666666666,
              "#ed7953"
             ],
             [
              0.7777777777777778,
              "#fb9f3a"
             ],
             [
              0.8888888888888888,
              "#fdca26"
             ],
             [
              1,
              "#f0f921"
             ]
            ],
            "type": "contour"
           }
          ],
          "contourcarpet": [
           {
            "colorbar": {
             "outlinewidth": 0,
             "ticks": ""
            },
            "type": "contourcarpet"
           }
          ],
          "heatmap": [
           {
            "colorbar": {
             "outlinewidth": 0,
             "ticks": ""
            },
            "colorscale": [
             [
              0,
              "#0d0887"
             ],
             [
              0.1111111111111111,
              "#46039f"
             ],
             [
              0.2222222222222222,
              "#7201a8"
             ],
             [
              0.3333333333333333,
              "#9c179e"
             ],
             [
              0.4444444444444444,
              "#bd3786"
             ],
             [
              0.5555555555555556,
              "#d8576b"
             ],
             [
              0.6666666666666666,
              "#ed7953"
             ],
             [
              0.7777777777777778,
              "#fb9f3a"
             ],
             [
              0.8888888888888888,
              "#fdca26"
             ],
             [
              1,
              "#f0f921"
             ]
            ],
            "type": "heatmap"
           }
          ],
          "heatmapgl": [
           {
            "colorbar": {
             "outlinewidth": 0,
             "ticks": ""
            },
            "colorscale": [
             [
              0,
              "#0d0887"
             ],
             [
              0.1111111111111111,
              "#46039f"
             ],
             [
              0.2222222222222222,
              "#7201a8"
             ],
             [
              0.3333333333333333,
              "#9c179e"
             ],
             [
              0.4444444444444444,
              "#bd3786"
             ],
             [
              0.5555555555555556,
              "#d8576b"
             ],
             [
              0.6666666666666666,
              "#ed7953"
             ],
             [
              0.7777777777777778,
              "#fb9f3a"
             ],
             [
              0.8888888888888888,
              "#fdca26"
             ],
             [
              1,
              "#f0f921"
             ]
            ],
            "type": "heatmapgl"
           }
          ],
          "histogram": [
           {
            "marker": {
             "colorbar": {
              "outlinewidth": 0,
              "ticks": ""
             }
            },
            "type": "histogram"
           }
          ],
          "histogram2d": [
           {
            "colorbar": {
             "outlinewidth": 0,
             "ticks": ""
            },
            "colorscale": [
             [
              0,
              "#0d0887"
             ],
             [
              0.1111111111111111,
              "#46039f"
             ],
             [
              0.2222222222222222,
              "#7201a8"
             ],
             [
              0.3333333333333333,
              "#9c179e"
             ],
             [
              0.4444444444444444,
              "#bd3786"
             ],
             [
              0.5555555555555556,
              "#d8576b"
             ],
             [
              0.6666666666666666,
              "#ed7953"
             ],
             [
              0.7777777777777778,
              "#fb9f3a"
             ],
             [
              0.8888888888888888,
              "#fdca26"
             ],
             [
              1,
              "#f0f921"
             ]
            ],
            "type": "histogram2d"
           }
          ],
          "histogram2dcontour": [
           {
            "colorbar": {
             "outlinewidth": 0,
             "ticks": ""
            },
            "colorscale": [
             [
              0,
              "#0d0887"
             ],
             [
              0.1111111111111111,
              "#46039f"
             ],
             [
              0.2222222222222222,
              "#7201a8"
             ],
             [
              0.3333333333333333,
              "#9c179e"
             ],
             [
              0.4444444444444444,
              "#bd3786"
             ],
             [
              0.5555555555555556,
              "#d8576b"
             ],
             [
              0.6666666666666666,
              "#ed7953"
             ],
             [
              0.7777777777777778,
              "#fb9f3a"
             ],
             [
              0.8888888888888888,
              "#fdca26"
             ],
             [
              1,
              "#f0f921"
             ]
            ],
            "type": "histogram2dcontour"
           }
          ],
          "mesh3d": [
           {
            "colorbar": {
             "outlinewidth": 0,
             "ticks": ""
            },
            "type": "mesh3d"
           }
          ],
          "parcoords": [
           {
            "line": {
             "colorbar": {
              "outlinewidth": 0,
              "ticks": ""
             }
            },
            "type": "parcoords"
           }
          ],
          "pie": [
           {
            "automargin": true,
            "type": "pie"
           }
          ],
          "scatter": [
           {
            "marker": {
             "colorbar": {
              "outlinewidth": 0,
              "ticks": ""
             }
            },
            "type": "scatter"
           }
          ],
          "scatter3d": [
           {
            "line": {
             "colorbar": {
              "outlinewidth": 0,
              "ticks": ""
             }
            },
            "marker": {
             "colorbar": {
              "outlinewidth": 0,
              "ticks": ""
             }
            },
            "type": "scatter3d"
           }
          ],
          "scattercarpet": [
           {
            "marker": {
             "colorbar": {
              "outlinewidth": 0,
              "ticks": ""
             }
            },
            "type": "scattercarpet"
           }
          ],
          "scattergeo": [
           {
            "marker": {
             "colorbar": {
              "outlinewidth": 0,
              "ticks": ""
             }
            },
            "type": "scattergeo"
           }
          ],
          "scattergl": [
           {
            "marker": {
             "colorbar": {
              "outlinewidth": 0,
              "ticks": ""
             }
            },
            "type": "scattergl"
           }
          ],
          "scattermapbox": [
           {
            "marker": {
             "colorbar": {
              "outlinewidth": 0,
              "ticks": ""
             }
            },
            "type": "scattermapbox"
           }
          ],
          "scatterpolar": [
           {
            "marker": {
             "colorbar": {
              "outlinewidth": 0,
              "ticks": ""
             }
            },
            "type": "scatterpolar"
           }
          ],
          "scatterpolargl": [
           {
            "marker": {
             "colorbar": {
              "outlinewidth": 0,
              "ticks": ""
             }
            },
            "type": "scatterpolargl"
           }
          ],
          "scatterternary": [
           {
            "marker": {
             "colorbar": {
              "outlinewidth": 0,
              "ticks": ""
             }
            },
            "type": "scatterternary"
           }
          ],
          "surface": [
           {
            "colorbar": {
             "outlinewidth": 0,
             "ticks": ""
            },
            "colorscale": [
             [
              0,
              "#0d0887"
             ],
             [
              0.1111111111111111,
              "#46039f"
             ],
             [
              0.2222222222222222,
              "#7201a8"
             ],
             [
              0.3333333333333333,
              "#9c179e"
             ],
             [
              0.4444444444444444,
              "#bd3786"
             ],
             [
              0.5555555555555556,
              "#d8576b"
             ],
             [
              0.6666666666666666,
              "#ed7953"
             ],
             [
              0.7777777777777778,
              "#fb9f3a"
             ],
             [
              0.8888888888888888,
              "#fdca26"
             ],
             [
              1,
              "#f0f921"
             ]
            ],
            "type": "surface"
           }
          ],
          "table": [
           {
            "cells": {
             "fill": {
              "color": "#EBF0F8"
             },
             "line": {
              "color": "white"
             }
            },
            "header": {
             "fill": {
              "color": "#C8D4E3"
             },
             "line": {
              "color": "white"
             }
            },
            "type": "table"
           }
          ]
         },
         "layout": {
          "annotationdefaults": {
           "arrowcolor": "#2a3f5f",
           "arrowhead": 0,
           "arrowwidth": 1
          },
          "coloraxis": {
           "colorbar": {
            "outlinewidth": 0,
            "ticks": ""
           }
          },
          "colorscale": {
           "diverging": [
            [
             0,
             "#8e0152"
            ],
            [
             0.1,
             "#c51b7d"
            ],
            [
             0.2,
             "#de77ae"
            ],
            [
             0.3,
             "#f1b6da"
            ],
            [
             0.4,
             "#fde0ef"
            ],
            [
             0.5,
             "#f7f7f7"
            ],
            [
             0.6,
             "#e6f5d0"
            ],
            [
             0.7,
             "#b8e186"
            ],
            [
             0.8,
             "#7fbc41"
            ],
            [
             0.9,
             "#4d9221"
            ],
            [
             1,
             "#276419"
            ]
           ],
           "sequential": [
            [
             0,
             "#0d0887"
            ],
            [
             0.1111111111111111,
             "#46039f"
            ],
            [
             0.2222222222222222,
             "#7201a8"
            ],
            [
             0.3333333333333333,
             "#9c179e"
            ],
            [
             0.4444444444444444,
             "#bd3786"
            ],
            [
             0.5555555555555556,
             "#d8576b"
            ],
            [
             0.6666666666666666,
             "#ed7953"
            ],
            [
             0.7777777777777778,
             "#fb9f3a"
            ],
            [
             0.8888888888888888,
             "#fdca26"
            ],
            [
             1,
             "#f0f921"
            ]
           ],
           "sequentialminus": [
            [
             0,
             "#0d0887"
            ],
            [
             0.1111111111111111,
             "#46039f"
            ],
            [
             0.2222222222222222,
             "#7201a8"
            ],
            [
             0.3333333333333333,
             "#9c179e"
            ],
            [
             0.4444444444444444,
             "#bd3786"
            ],
            [
             0.5555555555555556,
             "#d8576b"
            ],
            [
             0.6666666666666666,
             "#ed7953"
            ],
            [
             0.7777777777777778,
             "#fb9f3a"
            ],
            [
             0.8888888888888888,
             "#fdca26"
            ],
            [
             1,
             "#f0f921"
            ]
           ]
          },
          "colorway": [
           "#636efa",
           "#EF553B",
           "#00cc96",
           "#ab63fa",
           "#FFA15A",
           "#19d3f3",
           "#FF6692",
           "#B6E880",
           "#FF97FF",
           "#FECB52"
          ],
          "font": {
           "color": "#2a3f5f"
          },
          "geo": {
           "bgcolor": "white",
           "lakecolor": "white",
           "landcolor": "#E5ECF6",
           "showlakes": true,
           "showland": true,
           "subunitcolor": "white"
          },
          "hoverlabel": {
           "align": "left"
          },
          "hovermode": "closest",
          "mapbox": {
           "style": "light"
          },
          "paper_bgcolor": "white",
          "plot_bgcolor": "#E5ECF6",
          "polar": {
           "angularaxis": {
            "gridcolor": "white",
            "linecolor": "white",
            "ticks": ""
           },
           "bgcolor": "#E5ECF6",
           "radialaxis": {
            "gridcolor": "white",
            "linecolor": "white",
            "ticks": ""
           }
          },
          "scene": {
           "xaxis": {
            "backgroundcolor": "#E5ECF6",
            "gridcolor": "white",
            "gridwidth": 2,
            "linecolor": "white",
            "showbackground": true,
            "ticks": "",
            "zerolinecolor": "white"
           },
           "yaxis": {
            "backgroundcolor": "#E5ECF6",
            "gridcolor": "white",
            "gridwidth": 2,
            "linecolor": "white",
            "showbackground": true,
            "ticks": "",
            "zerolinecolor": "white"
           },
           "zaxis": {
            "backgroundcolor": "#E5ECF6",
            "gridcolor": "white",
            "gridwidth": 2,
            "linecolor": "white",
            "showbackground": true,
            "ticks": "",
            "zerolinecolor": "white"
           }
          },
          "shapedefaults": {
           "line": {
            "color": "#2a3f5f"
           }
          },
          "ternary": {
           "aaxis": {
            "gridcolor": "white",
            "linecolor": "white",
            "ticks": ""
           },
           "baxis": {
            "gridcolor": "white",
            "linecolor": "white",
            "ticks": ""
           },
           "bgcolor": "#E5ECF6",
           "caxis": {
            "gridcolor": "white",
            "linecolor": "white",
            "ticks": ""
           }
          },
          "title": {
           "x": 0.05
          },
          "xaxis": {
           "automargin": true,
           "gridcolor": "white",
           "linecolor": "white",
           "ticks": "",
           "title": {
            "standoff": 15
           },
           "zerolinecolor": "white",
           "zerolinewidth": 2
          },
          "yaxis": {
           "automargin": true,
           "gridcolor": "white",
           "linecolor": "white",
           "ticks": "",
           "title": {
            "standoff": 15
           },
           "zerolinecolor": "white",
           "zerolinewidth": 2
          }
         }
        },
        "title": {
         "font": {
          "size": 17
         },
         "text": "Clusters"
        },
        "xaxis": {
         "showgrid": true,
         "tickprefix": "£",
         "title": {
          "text": "AnnualIncome"
         },
         "zeroline": true
        },
        "yaxis": {
         "showgrid": true,
         "ticksuffix": "%",
         "title": {
          "text": "SpendingScore"
         },
         "zeroline": true
        }
       }
      },
      "text/html": [
       "<div>\n",
       "        \n",
       "        \n",
       "            <div id=\"afb6aefd-2070-445b-bdfa-7d590199b322\" class=\"plotly-graph-div\" style=\"height:525px; width:100%;\"></div>\n",
       "            <script type=\"text/javascript\">\n",
       "                require([\"plotly\"], function(Plotly) {\n",
       "                    window.PLOTLYENV=window.PLOTLYENV || {};\n",
       "                    \n",
       "                if (document.getElementById(\"afb6aefd-2070-445b-bdfa-7d590199b322\")) {\n",
       "                    Plotly.newPlot(\n",
       "                        'afb6aefd-2070-445b-bdfa-7d590199b322',\n",
       "                        [{\"legendgroup\": \"Group = 1\", \"marker\": {\"opacity\": 0.9, \"size\": 10}, \"mode\": \"markers\", \"name\": \"Group = 1\", \"showlegend\": true, \"type\": \"scatter\", \"x\": [15000, 16000, 17000, 18000, 19000, 19000, 20000, 20000, 21000, 23000, 24000, 25000, 28000, 28000, 29000, 30000, 33000, 33000, 34000, 37000, 38000, 39000, 39000, 40000, 40000, 40000, 40000, 42000, 42000, 43000, 43000, 43000, 43000, 44000, 44000, 46000, 46000, 46000, 46000, 47000, 47000, 48000, 48000, 48000, 48000, 48000, 48000, 49000, 49000, 50000, 50000, 54000, 54000, 54000, 54000, 54000, 54000, 54000, 54000, 54000, 54000, 54000, 54000, 57000, 57000, 58000, 58000, 59000, 59000, 60000, 60000, 60000, 60000, 60000, 60000, 61000, 61000, 62000, 62000, 62000, 62000, 62000, 62000, 63000, 63000, 63000, 63000, 63000, 63000, 64000, 64000, 65000, 65000, 65000, 65000, 67000, 67000, 67000, 67000, 69000], \"y\": [81, 77, 76, 94, 72, 99, 77, 79, 66, 98, 73, 73, 82, 61, 87, 73, 92, 81, 73, 75, 92, 61, 65, 55, 47, 42, 42, 52, 60, 54, 60, 45, 41, 50, 46, 51, 46, 56, 55, 52, 59, 51, 59, 50, 48, 59, 47, 55, 42, 49, 56, 47, 54, 53, 48, 52, 42, 51, 55, 41, 44, 57, 46, 58, 55, 60, 46, 55, 41, 49, 40, 42, 52, 47, 50, 42, 49, 41, 48, 59, 55, 56, 42, 50, 46, 43, 48, 52, 54, 42, 46, 48, 50, 43, 59, 43, 57, 56, 40, 58]}, {\"legendgroup\": \"Group = 2\", \"marker\": {\"opacity\": 0.9, \"size\": 10}, \"mode\": \"markers\", \"name\": \"Group = 2\", \"showlegend\": true, \"type\": \"scatter\", \"x\": [69000, 70000, 71000, 71000, 71000, 72000, 73000, 73000, 74000, 75000, 76000, 77000, 77000, 78000, 78000, 78000, 78000, 78000, 78000, 79000, 81000, 85000, 86000, 87000, 87000, 87000, 88000, 88000, 93000, 97000, 98000, 99000, 101000, 103000, 103000, 113000, 120000, 126000, 137000], \"y\": [91, 77, 95, 75, 75, 71, 88, 73, 72, 93, 87, 97, 74, 90, 88, 76, 89, 78, 73, 83, 93, 75, 95, 63, 75, 92, 86, 69, 90, 86, 88, 97, 68, 85, 69, 91, 79, 74, 83]}, {\"legendgroup\": \"Group = 3\", \"marker\": {\"opacity\": 0.9, \"size\": 10}, \"mode\": \"markers\", \"name\": \"Group = 3\", \"showlegend\": true, \"type\": \"scatter\", \"x\": [70000, 71000, 71000, 71000, 72000, 73000, 73000, 74000, 75000, 76000, 77000, 77000, 78000, 78000, 78000, 78000, 78000, 78000, 79000, 81000, 85000, 86000, 87000, 87000, 87000, 88000, 88000, 93000, 97000, 98000, 99000, 101000, 103000, 103000, 113000, 120000, 126000, 137000], \"y\": [29, 35, 11, 9, 34, 5, 7, 10, 5, 40, 12, 36, 22, 17, 20, 16, 1, 1, 35, 5, 26, 20, 27, 13, 10, 13, 15, 14, 32, 15, 39, 24, 17, 23, 8, 16, 28, 18]}, {\"legendgroup\": \"Group = 4\", \"marker\": {\"opacity\": 0.9, \"size\": 10}, \"mode\": \"markers\", \"name\": \"Group = 4\", \"showlegend\": true, \"type\": \"scatter\", \"x\": [15000, 16000, 17000, 18000, 19000, 19000, 20000, 20000, 21000, 23000, 24000, 25000, 28000, 28000, 29000, 30000, 33000, 33000, 34000, 37000, 38000, 39000, 39000], \"y\": [39, 6, 40, 6, 3, 14, 15, 13, 35, 29, 35, 5, 14, 32, 31, 4, 4, 14, 17, 26, 35, 36, 28]}, {\"marker\": {\"color\": \"Black\", \"opacity\": 0.9, \"size\": 15}, \"mode\": \"markers\", \"name\": \"Centroid\", \"showlegend\": true, \"type\": \"scatter\", \"x\": [48260.0, 86538.46153846153, 87000.0, 26304.347826086956], \"y\": [56.48, 82.12820512820512, 18.63157894736842, 20.91304347826087]}],\n",
       "                        {\"template\": {\"data\": {\"bar\": [{\"error_x\": {\"color\": \"#2a3f5f\"}, \"error_y\": {\"color\": \"#2a3f5f\"}, \"marker\": {\"line\": {\"color\": \"#E5ECF6\", \"width\": 0.5}}, \"type\": \"bar\"}], \"barpolar\": [{\"marker\": {\"line\": {\"color\": \"#E5ECF6\", \"width\": 0.5}}, \"type\": \"barpolar\"}], \"carpet\": [{\"aaxis\": {\"endlinecolor\": \"#2a3f5f\", \"gridcolor\": \"white\", \"linecolor\": \"white\", \"minorgridcolor\": \"white\", \"startlinecolor\": \"#2a3f5f\"}, \"baxis\": {\"endlinecolor\": \"#2a3f5f\", \"gridcolor\": \"white\", \"linecolor\": \"white\", \"minorgridcolor\": \"white\", \"startlinecolor\": \"#2a3f5f\"}, \"type\": \"carpet\"}], \"choropleth\": [{\"colorbar\": {\"outlinewidth\": 0, \"ticks\": \"\"}, \"type\": \"choropleth\"}], \"contour\": [{\"colorbar\": {\"outlinewidth\": 0, \"ticks\": \"\"}, \"colorscale\": [[0.0, \"#0d0887\"], [0.1111111111111111, \"#46039f\"], [0.2222222222222222, \"#7201a8\"], [0.3333333333333333, \"#9c179e\"], [0.4444444444444444, \"#bd3786\"], [0.5555555555555556, \"#d8576b\"], [0.6666666666666666, \"#ed7953\"], [0.7777777777777778, \"#fb9f3a\"], [0.8888888888888888, \"#fdca26\"], [1.0, \"#f0f921\"]], \"type\": \"contour\"}], \"contourcarpet\": [{\"colorbar\": {\"outlinewidth\": 0, \"ticks\": \"\"}, \"type\": \"contourcarpet\"}], \"heatmap\": [{\"colorbar\": {\"outlinewidth\": 0, \"ticks\": \"\"}, \"colorscale\": [[0.0, \"#0d0887\"], [0.1111111111111111, \"#46039f\"], [0.2222222222222222, \"#7201a8\"], [0.3333333333333333, \"#9c179e\"], [0.4444444444444444, \"#bd3786\"], [0.5555555555555556, \"#d8576b\"], [0.6666666666666666, \"#ed7953\"], [0.7777777777777778, \"#fb9f3a\"], [0.8888888888888888, \"#fdca26\"], [1.0, \"#f0f921\"]], \"type\": \"heatmap\"}], \"heatmapgl\": [{\"colorbar\": {\"outlinewidth\": 0, \"ticks\": \"\"}, \"colorscale\": [[0.0, \"#0d0887\"], [0.1111111111111111, \"#46039f\"], [0.2222222222222222, \"#7201a8\"], [0.3333333333333333, \"#9c179e\"], [0.4444444444444444, \"#bd3786\"], [0.5555555555555556, \"#d8576b\"], [0.6666666666666666, \"#ed7953\"], [0.7777777777777778, \"#fb9f3a\"], [0.8888888888888888, \"#fdca26\"], [1.0, \"#f0f921\"]], \"type\": \"heatmapgl\"}], \"histogram\": [{\"marker\": {\"colorbar\": {\"outlinewidth\": 0, \"ticks\": \"\"}}, \"type\": \"histogram\"}], \"histogram2d\": [{\"colorbar\": {\"outlinewidth\": 0, \"ticks\": \"\"}, \"colorscale\": [[0.0, \"#0d0887\"], [0.1111111111111111, \"#46039f\"], [0.2222222222222222, \"#7201a8\"], [0.3333333333333333, \"#9c179e\"], [0.4444444444444444, \"#bd3786\"], [0.5555555555555556, \"#d8576b\"], [0.6666666666666666, \"#ed7953\"], [0.7777777777777778, \"#fb9f3a\"], [0.8888888888888888, \"#fdca26\"], [1.0, \"#f0f921\"]], \"type\": \"histogram2d\"}], \"histogram2dcontour\": [{\"colorbar\": {\"outlinewidth\": 0, \"ticks\": \"\"}, \"colorscale\": [[0.0, \"#0d0887\"], [0.1111111111111111, \"#46039f\"], [0.2222222222222222, \"#7201a8\"], [0.3333333333333333, \"#9c179e\"], [0.4444444444444444, \"#bd3786\"], [0.5555555555555556, \"#d8576b\"], [0.6666666666666666, \"#ed7953\"], [0.7777777777777778, \"#fb9f3a\"], [0.8888888888888888, \"#fdca26\"], [1.0, \"#f0f921\"]], \"type\": \"histogram2dcontour\"}], \"mesh3d\": [{\"colorbar\": {\"outlinewidth\": 0, \"ticks\": \"\"}, \"type\": \"mesh3d\"}], \"parcoords\": [{\"line\": {\"colorbar\": {\"outlinewidth\": 0, \"ticks\": \"\"}}, \"type\": \"parcoords\"}], \"pie\": [{\"automargin\": true, \"type\": \"pie\"}], \"scatter\": [{\"marker\": {\"colorbar\": {\"outlinewidth\": 0, \"ticks\": \"\"}}, \"type\": \"scatter\"}], \"scatter3d\": [{\"line\": {\"colorbar\": {\"outlinewidth\": 0, \"ticks\": \"\"}}, \"marker\": {\"colorbar\": {\"outlinewidth\": 0, \"ticks\": \"\"}}, \"type\": \"scatter3d\"}], \"scattercarpet\": [{\"marker\": {\"colorbar\": {\"outlinewidth\": 0, \"ticks\": \"\"}}, \"type\": \"scattercarpet\"}], \"scattergeo\": [{\"marker\": {\"colorbar\": {\"outlinewidth\": 0, \"ticks\": \"\"}}, \"type\": \"scattergeo\"}], \"scattergl\": [{\"marker\": {\"colorbar\": {\"outlinewidth\": 0, \"ticks\": \"\"}}, \"type\": \"scattergl\"}], \"scattermapbox\": [{\"marker\": {\"colorbar\": {\"outlinewidth\": 0, \"ticks\": \"\"}}, \"type\": \"scattermapbox\"}], \"scatterpolar\": [{\"marker\": {\"colorbar\": {\"outlinewidth\": 0, \"ticks\": \"\"}}, \"type\": \"scatterpolar\"}], \"scatterpolargl\": [{\"marker\": {\"colorbar\": {\"outlinewidth\": 0, \"ticks\": \"\"}}, \"type\": \"scatterpolargl\"}], \"scatterternary\": [{\"marker\": {\"colorbar\": {\"outlinewidth\": 0, \"ticks\": \"\"}}, \"type\": \"scatterternary\"}], \"surface\": [{\"colorbar\": {\"outlinewidth\": 0, \"ticks\": \"\"}, \"colorscale\": [[0.0, \"#0d0887\"], [0.1111111111111111, \"#46039f\"], [0.2222222222222222, \"#7201a8\"], [0.3333333333333333, \"#9c179e\"], [0.4444444444444444, \"#bd3786\"], [0.5555555555555556, \"#d8576b\"], [0.6666666666666666, \"#ed7953\"], [0.7777777777777778, \"#fb9f3a\"], [0.8888888888888888, \"#fdca26\"], [1.0, \"#f0f921\"]], \"type\": \"surface\"}], \"table\": [{\"cells\": {\"fill\": {\"color\": \"#EBF0F8\"}, \"line\": {\"color\": \"white\"}}, \"header\": {\"fill\": {\"color\": \"#C8D4E3\"}, \"line\": {\"color\": \"white\"}}, \"type\": \"table\"}]}, \"layout\": {\"annotationdefaults\": {\"arrowcolor\": \"#2a3f5f\", \"arrowhead\": 0, \"arrowwidth\": 1}, \"coloraxis\": {\"colorbar\": {\"outlinewidth\": 0, \"ticks\": \"\"}}, \"colorscale\": {\"diverging\": [[0, \"#8e0152\"], [0.1, \"#c51b7d\"], [0.2, \"#de77ae\"], [0.3, \"#f1b6da\"], [0.4, \"#fde0ef\"], [0.5, \"#f7f7f7\"], [0.6, \"#e6f5d0\"], [0.7, \"#b8e186\"], [0.8, \"#7fbc41\"], [0.9, \"#4d9221\"], [1, \"#276419\"]], \"sequential\": [[0.0, \"#0d0887\"], [0.1111111111111111, \"#46039f\"], [0.2222222222222222, \"#7201a8\"], [0.3333333333333333, \"#9c179e\"], [0.4444444444444444, \"#bd3786\"], [0.5555555555555556, \"#d8576b\"], [0.6666666666666666, \"#ed7953\"], [0.7777777777777778, \"#fb9f3a\"], [0.8888888888888888, \"#fdca26\"], [1.0, \"#f0f921\"]], \"sequentialminus\": [[0.0, \"#0d0887\"], [0.1111111111111111, \"#46039f\"], [0.2222222222222222, \"#7201a8\"], [0.3333333333333333, \"#9c179e\"], [0.4444444444444444, \"#bd3786\"], [0.5555555555555556, \"#d8576b\"], [0.6666666666666666, \"#ed7953\"], [0.7777777777777778, \"#fb9f3a\"], [0.8888888888888888, \"#fdca26\"], [1.0, \"#f0f921\"]]}, \"colorway\": [\"#636efa\", \"#EF553B\", \"#00cc96\", \"#ab63fa\", \"#FFA15A\", \"#19d3f3\", \"#FF6692\", \"#B6E880\", \"#FF97FF\", \"#FECB52\"], \"font\": {\"color\": \"#2a3f5f\"}, \"geo\": {\"bgcolor\": \"white\", \"lakecolor\": \"white\", \"landcolor\": \"#E5ECF6\", \"showlakes\": true, \"showland\": true, \"subunitcolor\": \"white\"}, \"hoverlabel\": {\"align\": \"left\"}, \"hovermode\": \"closest\", \"mapbox\": {\"style\": \"light\"}, \"paper_bgcolor\": \"white\", \"plot_bgcolor\": \"#E5ECF6\", \"polar\": {\"angularaxis\": {\"gridcolor\": \"white\", \"linecolor\": \"white\", \"ticks\": \"\"}, \"bgcolor\": \"#E5ECF6\", \"radialaxis\": {\"gridcolor\": \"white\", \"linecolor\": \"white\", \"ticks\": \"\"}}, \"scene\": {\"xaxis\": {\"backgroundcolor\": \"#E5ECF6\", \"gridcolor\": \"white\", \"gridwidth\": 2, \"linecolor\": \"white\", \"showbackground\": true, \"ticks\": \"\", \"zerolinecolor\": \"white\"}, \"yaxis\": {\"backgroundcolor\": \"#E5ECF6\", \"gridcolor\": \"white\", \"gridwidth\": 2, \"linecolor\": \"white\", \"showbackground\": true, \"ticks\": \"\", \"zerolinecolor\": \"white\"}, \"zaxis\": {\"backgroundcolor\": \"#E5ECF6\", \"gridcolor\": \"white\", \"gridwidth\": 2, \"linecolor\": \"white\", \"showbackground\": true, \"ticks\": \"\", \"zerolinecolor\": \"white\"}}, \"shapedefaults\": {\"line\": {\"color\": \"#2a3f5f\"}}, \"ternary\": {\"aaxis\": {\"gridcolor\": \"white\", \"linecolor\": \"white\", \"ticks\": \"\"}, \"baxis\": {\"gridcolor\": \"white\", \"linecolor\": \"white\", \"ticks\": \"\"}, \"bgcolor\": \"#E5ECF6\", \"caxis\": {\"gridcolor\": \"white\", \"linecolor\": \"white\", \"ticks\": \"\"}}, \"title\": {\"x\": 0.05}, \"xaxis\": {\"automargin\": true, \"gridcolor\": \"white\", \"linecolor\": \"white\", \"ticks\": \"\", \"title\": {\"standoff\": 15}, \"zerolinecolor\": \"white\", \"zerolinewidth\": 2}, \"yaxis\": {\"automargin\": true, \"gridcolor\": \"white\", \"linecolor\": \"white\", \"ticks\": \"\", \"title\": {\"standoff\": 15}, \"zerolinecolor\": \"white\", \"zerolinewidth\": 2}}}, \"title\": {\"font\": {\"size\": 17}, \"text\": \"Clusters\"}, \"xaxis\": {\"showgrid\": true, \"tickprefix\": \"\\u00a3\", \"title\": {\"text\": \"AnnualIncome\"}, \"zeroline\": true}, \"yaxis\": {\"showgrid\": true, \"ticksuffix\": \"%\", \"title\": {\"text\": \"SpendingScore\"}, \"zeroline\": true}},\n",
       "                        {\"responsive\": true}\n",
       "                    ).then(function(){\n",
       "                            \n",
       "var gd = document.getElementById('afb6aefd-2070-445b-bdfa-7d590199b322');\n",
       "var x = new MutationObserver(function (mutations, observer) {{\n",
       "        var display = window.getComputedStyle(gd).display;\n",
       "        if (!display || display === 'none') {{\n",
       "            console.log([gd, 'removed!']);\n",
       "            Plotly.purge(gd);\n",
       "            observer.disconnect();\n",
       "        }}\n",
       "}});\n",
       "\n",
       "// Listen for the removal of the full notebook cells\n",
       "var notebookContainer = gd.closest('#notebook-container');\n",
       "if (notebookContainer) {{\n",
       "    x.observe(notebookContainer, {childList: true});\n",
       "}}\n",
       "\n",
       "// Listen for the clearing of the current output cell\n",
       "var outputEl = gd.closest('.output');\n",
       "if (outputEl) {{\n",
       "    x.observe(outputEl, {childList: true});\n",
       "}}\n",
       "\n",
       "                        })\n",
       "                };\n",
       "                });\n",
       "            </script>\n",
       "        </div>"
      ]
     },
     "metadata": {},
     "output_type": "display_data"
    }
   ],
   "source": [
    "Mod = KMeansCluster(500, 4)\n",
    "Mod = Mod.fit(Data[[\"AnnualIncome\", \"SpendingScore\"]])\n",
    "Data[\"Clusters\"] = Mod.Predict(Data[[\"AnnualIncome\", \"SpendingScore\"]])\n",
    "\n",
    "\n",
    "fig = go.Figure()\n",
    "\n",
    "for i in Data[\"Clusters\"].sort_values().unique():\n",
    "    fig.add_trace(  \n",
    "        go.Scatter(\n",
    "            x = Data[Data[\"Clusters\"] == i][\"AnnualIncome\"]*1000\n",
    "            , y=Data[Data[\"Clusters\"] == i][\"SpendingScore\"]\n",
    "            , legendgroup=\"Group\" + \" = \" + str(i)\n",
    "            , name=\"Group\" + \" = \" + str(i)\n",
    "            , mode='markers'\n",
    "            , marker=dict(size=10, opacity=0.9)\n",
    "            , showlegend= True))\n",
    "    \n",
    "    \n",
    "fig.add_trace(  \n",
    "    go.Scatter(\n",
    "        x = [Centroid[0]*1000 for Centroid in Mod.Centroid]\n",
    "        , y = [Centroid[1] for Centroid in Mod.Centroid]\n",
    "        , name = \"Centroid\"\n",
    "        , mode='markers'\n",
    "        , marker=dict(size=15, opacity=0.9, color=\"Black\")\n",
    "        , showlegend= True))\n",
    "    \n",
    "\n",
    "fig.update_xaxes(\n",
    "    zeroline = True\n",
    "    , showgrid = True\n",
    "    , title = \"AnnualIncome\"\n",
    "    , tickprefix=\"£\")\n",
    "\n",
    "fig.update_yaxes(\n",
    "    zeroline=True\n",
    "    , showgrid=True\n",
    "    , title=\"SpendingScore\"\n",
    "    , ticksuffix=\"%\")\n",
    "\n",
    "\n",
    "fig.update_layout(\n",
    "    title = dict(text=\"Clusters\", font=dict(size=17)))\n",
    "\n",
    "fig.update_annotations(\n",
    "    font = dict(size=14))\n",
    "\n",
    "fig.show()"
   ]
  },
  {
   "cell_type": "markdown",
   "metadata": {},
   "source": [
    "## Annual Income, Spending Score and Age"
   ]
  },
  {
   "cell_type": "code",
   "execution_count": 20,
   "metadata": {},
   "outputs": [
    {
     "data": {
      "application/vnd.plotly.v1+json": {
       "config": {
        "plotlyServerURL": "https://plot.ly"
       },
       "data": [
        {
         "legendgroup": "Inertia",
         "marker": {
          "opacity": 0.9,
          "size": 10
         },
         "mode": "lines+markers",
         "name": "Inertia",
         "showlegend": true,
         "type": "scatter",
         "x": [
          1,
          2,
          3,
          4,
          5,
          6
         ],
         "y": [
          308812.78,
          212840.16982097185,
          158518.39427916257,
          109997.08872264273,
          75493.84464013917,
          72117.60357948358,
          69707.11291352853,
          69707.11291352853,
          69707.11291352853
         ]
        }
       ],
       "layout": {
        "template": {
         "data": {
          "bar": [
           {
            "error_x": {
             "color": "#2a3f5f"
            },
            "error_y": {
             "color": "#2a3f5f"
            },
            "marker": {
             "line": {
              "color": "#E5ECF6",
              "width": 0.5
             }
            },
            "type": "bar"
           }
          ],
          "barpolar": [
           {
            "marker": {
             "line": {
              "color": "#E5ECF6",
              "width": 0.5
             }
            },
            "type": "barpolar"
           }
          ],
          "carpet": [
           {
            "aaxis": {
             "endlinecolor": "#2a3f5f",
             "gridcolor": "white",
             "linecolor": "white",
             "minorgridcolor": "white",
             "startlinecolor": "#2a3f5f"
            },
            "baxis": {
             "endlinecolor": "#2a3f5f",
             "gridcolor": "white",
             "linecolor": "white",
             "minorgridcolor": "white",
             "startlinecolor": "#2a3f5f"
            },
            "type": "carpet"
           }
          ],
          "choropleth": [
           {
            "colorbar": {
             "outlinewidth": 0,
             "ticks": ""
            },
            "type": "choropleth"
           }
          ],
          "contour": [
           {
            "colorbar": {
             "outlinewidth": 0,
             "ticks": ""
            },
            "colorscale": [
             [
              0,
              "#0d0887"
             ],
             [
              0.1111111111111111,
              "#46039f"
             ],
             [
              0.2222222222222222,
              "#7201a8"
             ],
             [
              0.3333333333333333,
              "#9c179e"
             ],
             [
              0.4444444444444444,
              "#bd3786"
             ],
             [
              0.5555555555555556,
              "#d8576b"
             ],
             [
              0.6666666666666666,
              "#ed7953"
             ],
             [
              0.7777777777777778,
              "#fb9f3a"
             ],
             [
              0.8888888888888888,
              "#fdca26"
             ],
             [
              1,
              "#f0f921"
             ]
            ],
            "type": "contour"
           }
          ],
          "contourcarpet": [
           {
            "colorbar": {
             "outlinewidth": 0,
             "ticks": ""
            },
            "type": "contourcarpet"
           }
          ],
          "heatmap": [
           {
            "colorbar": {
             "outlinewidth": 0,
             "ticks": ""
            },
            "colorscale": [
             [
              0,
              "#0d0887"
             ],
             [
              0.1111111111111111,
              "#46039f"
             ],
             [
              0.2222222222222222,
              "#7201a8"
             ],
             [
              0.3333333333333333,
              "#9c179e"
             ],
             [
              0.4444444444444444,
              "#bd3786"
             ],
             [
              0.5555555555555556,
              "#d8576b"
             ],
             [
              0.6666666666666666,
              "#ed7953"
             ],
             [
              0.7777777777777778,
              "#fb9f3a"
             ],
             [
              0.8888888888888888,
              "#fdca26"
             ],
             [
              1,
              "#f0f921"
             ]
            ],
            "type": "heatmap"
           }
          ],
          "heatmapgl": [
           {
            "colorbar": {
             "outlinewidth": 0,
             "ticks": ""
            },
            "colorscale": [
             [
              0,
              "#0d0887"
             ],
             [
              0.1111111111111111,
              "#46039f"
             ],
             [
              0.2222222222222222,
              "#7201a8"
             ],
             [
              0.3333333333333333,
              "#9c179e"
             ],
             [
              0.4444444444444444,
              "#bd3786"
             ],
             [
              0.5555555555555556,
              "#d8576b"
             ],
             [
              0.6666666666666666,
              "#ed7953"
             ],
             [
              0.7777777777777778,
              "#fb9f3a"
             ],
             [
              0.8888888888888888,
              "#fdca26"
             ],
             [
              1,
              "#f0f921"
             ]
            ],
            "type": "heatmapgl"
           }
          ],
          "histogram": [
           {
            "marker": {
             "colorbar": {
              "outlinewidth": 0,
              "ticks": ""
             }
            },
            "type": "histogram"
           }
          ],
          "histogram2d": [
           {
            "colorbar": {
             "outlinewidth": 0,
             "ticks": ""
            },
            "colorscale": [
             [
              0,
              "#0d0887"
             ],
             [
              0.1111111111111111,
              "#46039f"
             ],
             [
              0.2222222222222222,
              "#7201a8"
             ],
             [
              0.3333333333333333,
              "#9c179e"
             ],
             [
              0.4444444444444444,
              "#bd3786"
             ],
             [
              0.5555555555555556,
              "#d8576b"
             ],
             [
              0.6666666666666666,
              "#ed7953"
             ],
             [
              0.7777777777777778,
              "#fb9f3a"
             ],
             [
              0.8888888888888888,
              "#fdca26"
             ],
             [
              1,
              "#f0f921"
             ]
            ],
            "type": "histogram2d"
           }
          ],
          "histogram2dcontour": [
           {
            "colorbar": {
             "outlinewidth": 0,
             "ticks": ""
            },
            "colorscale": [
             [
              0,
              "#0d0887"
             ],
             [
              0.1111111111111111,
              "#46039f"
             ],
             [
              0.2222222222222222,
              "#7201a8"
             ],
             [
              0.3333333333333333,
              "#9c179e"
             ],
             [
              0.4444444444444444,
              "#bd3786"
             ],
             [
              0.5555555555555556,
              "#d8576b"
             ],
             [
              0.6666666666666666,
              "#ed7953"
             ],
             [
              0.7777777777777778,
              "#fb9f3a"
             ],
             [
              0.8888888888888888,
              "#fdca26"
             ],
             [
              1,
              "#f0f921"
             ]
            ],
            "type": "histogram2dcontour"
           }
          ],
          "mesh3d": [
           {
            "colorbar": {
             "outlinewidth": 0,
             "ticks": ""
            },
            "type": "mesh3d"
           }
          ],
          "parcoords": [
           {
            "line": {
             "colorbar": {
              "outlinewidth": 0,
              "ticks": ""
             }
            },
            "type": "parcoords"
           }
          ],
          "pie": [
           {
            "automargin": true,
            "type": "pie"
           }
          ],
          "scatter": [
           {
            "marker": {
             "colorbar": {
              "outlinewidth": 0,
              "ticks": ""
             }
            },
            "type": "scatter"
           }
          ],
          "scatter3d": [
           {
            "line": {
             "colorbar": {
              "outlinewidth": 0,
              "ticks": ""
             }
            },
            "marker": {
             "colorbar": {
              "outlinewidth": 0,
              "ticks": ""
             }
            },
            "type": "scatter3d"
           }
          ],
          "scattercarpet": [
           {
            "marker": {
             "colorbar": {
              "outlinewidth": 0,
              "ticks": ""
             }
            },
            "type": "scattercarpet"
           }
          ],
          "scattergeo": [
           {
            "marker": {
             "colorbar": {
              "outlinewidth": 0,
              "ticks": ""
             }
            },
            "type": "scattergeo"
           }
          ],
          "scattergl": [
           {
            "marker": {
             "colorbar": {
              "outlinewidth": 0,
              "ticks": ""
             }
            },
            "type": "scattergl"
           }
          ],
          "scattermapbox": [
           {
            "marker": {
             "colorbar": {
              "outlinewidth": 0,
              "ticks": ""
             }
            },
            "type": "scattermapbox"
           }
          ],
          "scatterpolar": [
           {
            "marker": {
             "colorbar": {
              "outlinewidth": 0,
              "ticks": ""
             }
            },
            "type": "scatterpolar"
           }
          ],
          "scatterpolargl": [
           {
            "marker": {
             "colorbar": {
              "outlinewidth": 0,
              "ticks": ""
             }
            },
            "type": "scatterpolargl"
           }
          ],
          "scatterternary": [
           {
            "marker": {
             "colorbar": {
              "outlinewidth": 0,
              "ticks": ""
             }
            },
            "type": "scatterternary"
           }
          ],
          "surface": [
           {
            "colorbar": {
             "outlinewidth": 0,
             "ticks": ""
            },
            "colorscale": [
             [
              0,
              "#0d0887"
             ],
             [
              0.1111111111111111,
              "#46039f"
             ],
             [
              0.2222222222222222,
              "#7201a8"
             ],
             [
              0.3333333333333333,
              "#9c179e"
             ],
             [
              0.4444444444444444,
              "#bd3786"
             ],
             [
              0.5555555555555556,
              "#d8576b"
             ],
             [
              0.6666666666666666,
              "#ed7953"
             ],
             [
              0.7777777777777778,
              "#fb9f3a"
             ],
             [
              0.8888888888888888,
              "#fdca26"
             ],
             [
              1,
              "#f0f921"
             ]
            ],
            "type": "surface"
           }
          ],
          "table": [
           {
            "cells": {
             "fill": {
              "color": "#EBF0F8"
             },
             "line": {
              "color": "white"
             }
            },
            "header": {
             "fill": {
              "color": "#C8D4E3"
             },
             "line": {
              "color": "white"
             }
            },
            "type": "table"
           }
          ]
         },
         "layout": {
          "annotationdefaults": {
           "arrowcolor": "#2a3f5f",
           "arrowhead": 0,
           "arrowwidth": 1
          },
          "coloraxis": {
           "colorbar": {
            "outlinewidth": 0,
            "ticks": ""
           }
          },
          "colorscale": {
           "diverging": [
            [
             0,
             "#8e0152"
            ],
            [
             0.1,
             "#c51b7d"
            ],
            [
             0.2,
             "#de77ae"
            ],
            [
             0.3,
             "#f1b6da"
            ],
            [
             0.4,
             "#fde0ef"
            ],
            [
             0.5,
             "#f7f7f7"
            ],
            [
             0.6,
             "#e6f5d0"
            ],
            [
             0.7,
             "#b8e186"
            ],
            [
             0.8,
             "#7fbc41"
            ],
            [
             0.9,
             "#4d9221"
            ],
            [
             1,
             "#276419"
            ]
           ],
           "sequential": [
            [
             0,
             "#0d0887"
            ],
            [
             0.1111111111111111,
             "#46039f"
            ],
            [
             0.2222222222222222,
             "#7201a8"
            ],
            [
             0.3333333333333333,
             "#9c179e"
            ],
            [
             0.4444444444444444,
             "#bd3786"
            ],
            [
             0.5555555555555556,
             "#d8576b"
            ],
            [
             0.6666666666666666,
             "#ed7953"
            ],
            [
             0.7777777777777778,
             "#fb9f3a"
            ],
            [
             0.8888888888888888,
             "#fdca26"
            ],
            [
             1,
             "#f0f921"
            ]
           ],
           "sequentialminus": [
            [
             0,
             "#0d0887"
            ],
            [
             0.1111111111111111,
             "#46039f"
            ],
            [
             0.2222222222222222,
             "#7201a8"
            ],
            [
             0.3333333333333333,
             "#9c179e"
            ],
            [
             0.4444444444444444,
             "#bd3786"
            ],
            [
             0.5555555555555556,
             "#d8576b"
            ],
            [
             0.6666666666666666,
             "#ed7953"
            ],
            [
             0.7777777777777778,
             "#fb9f3a"
            ],
            [
             0.8888888888888888,
             "#fdca26"
            ],
            [
             1,
             "#f0f921"
            ]
           ]
          },
          "colorway": [
           "#636efa",
           "#EF553B",
           "#00cc96",
           "#ab63fa",
           "#FFA15A",
           "#19d3f3",
           "#FF6692",
           "#B6E880",
           "#FF97FF",
           "#FECB52"
          ],
          "font": {
           "color": "#2a3f5f"
          },
          "geo": {
           "bgcolor": "white",
           "lakecolor": "white",
           "landcolor": "#E5ECF6",
           "showlakes": true,
           "showland": true,
           "subunitcolor": "white"
          },
          "hoverlabel": {
           "align": "left"
          },
          "hovermode": "closest",
          "mapbox": {
           "style": "light"
          },
          "paper_bgcolor": "white",
          "plot_bgcolor": "#E5ECF6",
          "polar": {
           "angularaxis": {
            "gridcolor": "white",
            "linecolor": "white",
            "ticks": ""
           },
           "bgcolor": "#E5ECF6",
           "radialaxis": {
            "gridcolor": "white",
            "linecolor": "white",
            "ticks": ""
           }
          },
          "scene": {
           "xaxis": {
            "backgroundcolor": "#E5ECF6",
            "gridcolor": "white",
            "gridwidth": 2,
            "linecolor": "white",
            "showbackground": true,
            "ticks": "",
            "zerolinecolor": "white"
           },
           "yaxis": {
            "backgroundcolor": "#E5ECF6",
            "gridcolor": "white",
            "gridwidth": 2,
            "linecolor": "white",
            "showbackground": true,
            "ticks": "",
            "zerolinecolor": "white"
           },
           "zaxis": {
            "backgroundcolor": "#E5ECF6",
            "gridcolor": "white",
            "gridwidth": 2,
            "linecolor": "white",
            "showbackground": true,
            "ticks": "",
            "zerolinecolor": "white"
           }
          },
          "shapedefaults": {
           "line": {
            "color": "#2a3f5f"
           }
          },
          "ternary": {
           "aaxis": {
            "gridcolor": "white",
            "linecolor": "white",
            "ticks": ""
           },
           "baxis": {
            "gridcolor": "white",
            "linecolor": "white",
            "ticks": ""
           },
           "bgcolor": "#E5ECF6",
           "caxis": {
            "gridcolor": "white",
            "linecolor": "white",
            "ticks": ""
           }
          },
          "title": {
           "x": 0.05
          },
          "xaxis": {
           "automargin": true,
           "gridcolor": "white",
           "linecolor": "white",
           "ticks": "",
           "title": {
            "standoff": 15
           },
           "zerolinecolor": "white",
           "zerolinewidth": 2
          },
          "yaxis": {
           "automargin": true,
           "gridcolor": "white",
           "linecolor": "white",
           "ticks": "",
           "title": {
            "standoff": 15
           },
           "zerolinecolor": "white",
           "zerolinewidth": 2
          }
         }
        },
        "title": {
         "font": {
          "size": 17
         },
         "text": "Inertia vs. K"
        },
        "xaxis": {
         "showgrid": true,
         "title": {
          "text": "K"
         },
         "zeroline": true
        },
        "yaxis": {
         "showgrid": true,
         "title": {
          "text": "Inertia"
         },
         "zeroline": true
        }
       }
      },
      "text/html": [
       "<div>\n",
       "        \n",
       "        \n",
       "            <div id=\"a73ce345-2bfe-4394-8127-34e291f34d21\" class=\"plotly-graph-div\" style=\"height:525px; width:100%;\"></div>\n",
       "            <script type=\"text/javascript\">\n",
       "                require([\"plotly\"], function(Plotly) {\n",
       "                    window.PLOTLYENV=window.PLOTLYENV || {};\n",
       "                    \n",
       "                if (document.getElementById(\"a73ce345-2bfe-4394-8127-34e291f34d21\")) {\n",
       "                    Plotly.newPlot(\n",
       "                        'a73ce345-2bfe-4394-8127-34e291f34d21',\n",
       "                        [{\"legendgroup\": \"Inertia\", \"marker\": {\"opacity\": 0.9, \"size\": 10}, \"mode\": \"lines+markers\", \"name\": \"Inertia\", \"showlegend\": true, \"type\": \"scatter\", \"x\": [1, 2, 3, 4, 5, 6], \"y\": [308812.78, 212840.16982097185, 158518.39427916257, 109997.08872264273, 75493.84464013917, 72117.60357948358, 69707.11291352853, 69707.11291352853, 69707.11291352853]}],\n",
       "                        {\"template\": {\"data\": {\"bar\": [{\"error_x\": {\"color\": \"#2a3f5f\"}, \"error_y\": {\"color\": \"#2a3f5f\"}, \"marker\": {\"line\": {\"color\": \"#E5ECF6\", \"width\": 0.5}}, \"type\": \"bar\"}], \"barpolar\": [{\"marker\": {\"line\": {\"color\": \"#E5ECF6\", \"width\": 0.5}}, \"type\": \"barpolar\"}], \"carpet\": [{\"aaxis\": {\"endlinecolor\": \"#2a3f5f\", \"gridcolor\": \"white\", \"linecolor\": \"white\", \"minorgridcolor\": \"white\", \"startlinecolor\": \"#2a3f5f\"}, \"baxis\": {\"endlinecolor\": \"#2a3f5f\", \"gridcolor\": \"white\", \"linecolor\": \"white\", \"minorgridcolor\": \"white\", \"startlinecolor\": \"#2a3f5f\"}, \"type\": \"carpet\"}], \"choropleth\": [{\"colorbar\": {\"outlinewidth\": 0, \"ticks\": \"\"}, \"type\": \"choropleth\"}], \"contour\": [{\"colorbar\": {\"outlinewidth\": 0, \"ticks\": \"\"}, \"colorscale\": [[0.0, \"#0d0887\"], [0.1111111111111111, \"#46039f\"], [0.2222222222222222, \"#7201a8\"], [0.3333333333333333, \"#9c179e\"], [0.4444444444444444, \"#bd3786\"], [0.5555555555555556, \"#d8576b\"], [0.6666666666666666, \"#ed7953\"], [0.7777777777777778, \"#fb9f3a\"], [0.8888888888888888, \"#fdca26\"], [1.0, \"#f0f921\"]], \"type\": \"contour\"}], \"contourcarpet\": [{\"colorbar\": {\"outlinewidth\": 0, \"ticks\": \"\"}, \"type\": \"contourcarpet\"}], \"heatmap\": [{\"colorbar\": {\"outlinewidth\": 0, \"ticks\": \"\"}, \"colorscale\": [[0.0, \"#0d0887\"], [0.1111111111111111, \"#46039f\"], [0.2222222222222222, \"#7201a8\"], [0.3333333333333333, \"#9c179e\"], [0.4444444444444444, \"#bd3786\"], [0.5555555555555556, \"#d8576b\"], [0.6666666666666666, \"#ed7953\"], [0.7777777777777778, \"#fb9f3a\"], [0.8888888888888888, \"#fdca26\"], [1.0, \"#f0f921\"]], \"type\": \"heatmap\"}], \"heatmapgl\": [{\"colorbar\": {\"outlinewidth\": 0, \"ticks\": \"\"}, \"colorscale\": [[0.0, \"#0d0887\"], [0.1111111111111111, \"#46039f\"], [0.2222222222222222, \"#7201a8\"], [0.3333333333333333, \"#9c179e\"], [0.4444444444444444, \"#bd3786\"], [0.5555555555555556, \"#d8576b\"], [0.6666666666666666, \"#ed7953\"], [0.7777777777777778, \"#fb9f3a\"], [0.8888888888888888, \"#fdca26\"], [1.0, \"#f0f921\"]], \"type\": \"heatmapgl\"}], \"histogram\": [{\"marker\": {\"colorbar\": {\"outlinewidth\": 0, \"ticks\": \"\"}}, \"type\": \"histogram\"}], \"histogram2d\": [{\"colorbar\": {\"outlinewidth\": 0, \"ticks\": \"\"}, \"colorscale\": [[0.0, \"#0d0887\"], [0.1111111111111111, \"#46039f\"], [0.2222222222222222, \"#7201a8\"], [0.3333333333333333, \"#9c179e\"], [0.4444444444444444, \"#bd3786\"], [0.5555555555555556, \"#d8576b\"], [0.6666666666666666, \"#ed7953\"], [0.7777777777777778, \"#fb9f3a\"], [0.8888888888888888, \"#fdca26\"], [1.0, \"#f0f921\"]], \"type\": \"histogram2d\"}], \"histogram2dcontour\": [{\"colorbar\": {\"outlinewidth\": 0, \"ticks\": \"\"}, \"colorscale\": [[0.0, \"#0d0887\"], [0.1111111111111111, \"#46039f\"], [0.2222222222222222, \"#7201a8\"], [0.3333333333333333, \"#9c179e\"], [0.4444444444444444, \"#bd3786\"], [0.5555555555555556, \"#d8576b\"], [0.6666666666666666, \"#ed7953\"], [0.7777777777777778, \"#fb9f3a\"], [0.8888888888888888, \"#fdca26\"], [1.0, \"#f0f921\"]], \"type\": \"histogram2dcontour\"}], \"mesh3d\": [{\"colorbar\": {\"outlinewidth\": 0, \"ticks\": \"\"}, \"type\": \"mesh3d\"}], \"parcoords\": [{\"line\": {\"colorbar\": {\"outlinewidth\": 0, \"ticks\": \"\"}}, \"type\": \"parcoords\"}], \"pie\": [{\"automargin\": true, \"type\": \"pie\"}], \"scatter\": [{\"marker\": {\"colorbar\": {\"outlinewidth\": 0, \"ticks\": \"\"}}, \"type\": \"scatter\"}], \"scatter3d\": [{\"line\": {\"colorbar\": {\"outlinewidth\": 0, \"ticks\": \"\"}}, \"marker\": {\"colorbar\": {\"outlinewidth\": 0, \"ticks\": \"\"}}, \"type\": \"scatter3d\"}], \"scattercarpet\": [{\"marker\": {\"colorbar\": {\"outlinewidth\": 0, \"ticks\": \"\"}}, \"type\": \"scattercarpet\"}], \"scattergeo\": [{\"marker\": {\"colorbar\": {\"outlinewidth\": 0, \"ticks\": \"\"}}, \"type\": \"scattergeo\"}], \"scattergl\": [{\"marker\": {\"colorbar\": {\"outlinewidth\": 0, \"ticks\": \"\"}}, \"type\": \"scattergl\"}], \"scattermapbox\": [{\"marker\": {\"colorbar\": {\"outlinewidth\": 0, \"ticks\": \"\"}}, \"type\": \"scattermapbox\"}], \"scatterpolar\": [{\"marker\": {\"colorbar\": {\"outlinewidth\": 0, \"ticks\": \"\"}}, \"type\": \"scatterpolar\"}], \"scatterpolargl\": [{\"marker\": {\"colorbar\": {\"outlinewidth\": 0, \"ticks\": \"\"}}, \"type\": \"scatterpolargl\"}], \"scatterternary\": [{\"marker\": {\"colorbar\": {\"outlinewidth\": 0, \"ticks\": \"\"}}, \"type\": \"scatterternary\"}], \"surface\": [{\"colorbar\": {\"outlinewidth\": 0, \"ticks\": \"\"}, \"colorscale\": [[0.0, \"#0d0887\"], [0.1111111111111111, \"#46039f\"], [0.2222222222222222, \"#7201a8\"], [0.3333333333333333, \"#9c179e\"], [0.4444444444444444, \"#bd3786\"], [0.5555555555555556, \"#d8576b\"], [0.6666666666666666, \"#ed7953\"], [0.7777777777777778, \"#fb9f3a\"], [0.8888888888888888, \"#fdca26\"], [1.0, \"#f0f921\"]], \"type\": \"surface\"}], \"table\": [{\"cells\": {\"fill\": {\"color\": \"#EBF0F8\"}, \"line\": {\"color\": \"white\"}}, \"header\": {\"fill\": {\"color\": \"#C8D4E3\"}, \"line\": {\"color\": \"white\"}}, \"type\": \"table\"}]}, \"layout\": {\"annotationdefaults\": {\"arrowcolor\": \"#2a3f5f\", \"arrowhead\": 0, \"arrowwidth\": 1}, \"coloraxis\": {\"colorbar\": {\"outlinewidth\": 0, \"ticks\": \"\"}}, \"colorscale\": {\"diverging\": [[0, \"#8e0152\"], [0.1, \"#c51b7d\"], [0.2, \"#de77ae\"], [0.3, \"#f1b6da\"], [0.4, \"#fde0ef\"], [0.5, \"#f7f7f7\"], [0.6, \"#e6f5d0\"], [0.7, \"#b8e186\"], [0.8, \"#7fbc41\"], [0.9, \"#4d9221\"], [1, \"#276419\"]], \"sequential\": [[0.0, \"#0d0887\"], [0.1111111111111111, \"#46039f\"], [0.2222222222222222, \"#7201a8\"], [0.3333333333333333, \"#9c179e\"], [0.4444444444444444, \"#bd3786\"], [0.5555555555555556, \"#d8576b\"], [0.6666666666666666, \"#ed7953\"], [0.7777777777777778, \"#fb9f3a\"], [0.8888888888888888, \"#fdca26\"], [1.0, \"#f0f921\"]], \"sequentialminus\": [[0.0, \"#0d0887\"], [0.1111111111111111, \"#46039f\"], [0.2222222222222222, \"#7201a8\"], [0.3333333333333333, \"#9c179e\"], [0.4444444444444444, \"#bd3786\"], [0.5555555555555556, \"#d8576b\"], [0.6666666666666666, \"#ed7953\"], [0.7777777777777778, \"#fb9f3a\"], [0.8888888888888888, \"#fdca26\"], [1.0, \"#f0f921\"]]}, \"colorway\": [\"#636efa\", \"#EF553B\", \"#00cc96\", \"#ab63fa\", \"#FFA15A\", \"#19d3f3\", \"#FF6692\", \"#B6E880\", \"#FF97FF\", \"#FECB52\"], \"font\": {\"color\": \"#2a3f5f\"}, \"geo\": {\"bgcolor\": \"white\", \"lakecolor\": \"white\", \"landcolor\": \"#E5ECF6\", \"showlakes\": true, \"showland\": true, \"subunitcolor\": \"white\"}, \"hoverlabel\": {\"align\": \"left\"}, \"hovermode\": \"closest\", \"mapbox\": {\"style\": \"light\"}, \"paper_bgcolor\": \"white\", \"plot_bgcolor\": \"#E5ECF6\", \"polar\": {\"angularaxis\": {\"gridcolor\": \"white\", \"linecolor\": \"white\", \"ticks\": \"\"}, \"bgcolor\": \"#E5ECF6\", \"radialaxis\": {\"gridcolor\": \"white\", \"linecolor\": \"white\", \"ticks\": \"\"}}, \"scene\": {\"xaxis\": {\"backgroundcolor\": \"#E5ECF6\", \"gridcolor\": \"white\", \"gridwidth\": 2, \"linecolor\": \"white\", \"showbackground\": true, \"ticks\": \"\", \"zerolinecolor\": \"white\"}, \"yaxis\": {\"backgroundcolor\": \"#E5ECF6\", \"gridcolor\": \"white\", \"gridwidth\": 2, \"linecolor\": \"white\", \"showbackground\": true, \"ticks\": \"\", \"zerolinecolor\": \"white\"}, \"zaxis\": {\"backgroundcolor\": \"#E5ECF6\", \"gridcolor\": \"white\", \"gridwidth\": 2, \"linecolor\": \"white\", \"showbackground\": true, \"ticks\": \"\", \"zerolinecolor\": \"white\"}}, \"shapedefaults\": {\"line\": {\"color\": \"#2a3f5f\"}}, \"ternary\": {\"aaxis\": {\"gridcolor\": \"white\", \"linecolor\": \"white\", \"ticks\": \"\"}, \"baxis\": {\"gridcolor\": \"white\", \"linecolor\": \"white\", \"ticks\": \"\"}, \"bgcolor\": \"#E5ECF6\", \"caxis\": {\"gridcolor\": \"white\", \"linecolor\": \"white\", \"ticks\": \"\"}}, \"title\": {\"x\": 0.05}, \"xaxis\": {\"automargin\": true, \"gridcolor\": \"white\", \"linecolor\": \"white\", \"ticks\": \"\", \"title\": {\"standoff\": 15}, \"zerolinecolor\": \"white\", \"zerolinewidth\": 2}, \"yaxis\": {\"automargin\": true, \"gridcolor\": \"white\", \"linecolor\": \"white\", \"ticks\": \"\", \"title\": {\"standoff\": 15}, \"zerolinecolor\": \"white\", \"zerolinewidth\": 2}}}, \"title\": {\"font\": {\"size\": 17}, \"text\": \"Inertia vs. K\"}, \"xaxis\": {\"showgrid\": true, \"title\": {\"text\": \"K\"}, \"zeroline\": true}, \"yaxis\": {\"showgrid\": true, \"title\": {\"text\": \"Inertia\"}, \"zeroline\": true}},\n",
       "                        {\"responsive\": true}\n",
       "                    ).then(function(){\n",
       "                            \n",
       "var gd = document.getElementById('a73ce345-2bfe-4394-8127-34e291f34d21');\n",
       "var x = new MutationObserver(function (mutations, observer) {{\n",
       "        var display = window.getComputedStyle(gd).display;\n",
       "        if (!display || display === 'none') {{\n",
       "            console.log([gd, 'removed!']);\n",
       "            Plotly.purge(gd);\n",
       "            observer.disconnect();\n",
       "        }}\n",
       "}});\n",
       "\n",
       "// Listen for the removal of the full notebook cells\n",
       "var notebookContainer = gd.closest('#notebook-container');\n",
       "if (notebookContainer) {{\n",
       "    x.observe(notebookContainer, {childList: true});\n",
       "}}\n",
       "\n",
       "// Listen for the clearing of the current output cell\n",
       "var outputEl = gd.closest('.output');\n",
       "if (outputEl) {{\n",
       "    x.observe(outputEl, {childList: true});\n",
       "}}\n",
       "\n",
       "                        })\n",
       "                };\n",
       "                });\n",
       "            </script>\n",
       "        </div>"
      ]
     },
     "metadata": {},
     "output_type": "display_data"
    }
   ],
   "source": [
    "InertiaPlot(Data, [\"AnnualIncome\", \"SpendingScore\", \"Age\"])"
   ]
  },
  {
   "cell_type": "code",
   "execution_count": 21,
   "metadata": {},
   "outputs": [
    {
     "data": {
      "application/vnd.plotly.v1+json": {
       "config": {
        "plotlyServerURL": "https://plot.ly"
       },
       "data": [
        {
         "hoverlabel": {
          "namelength": 0
         },
         "hovertemplate": "AnnualIncome=%{x}<br>SpendingScore=%{y}<br>Age=%{z}<br>Clusters=%{marker.color}",
         "legendgroup": "",
         "marker": {
          "color": [
           2,
           3,
           2,
           3,
           2,
           3,
           2,
           3,
           2,
           3,
           2,
           3,
           2,
           3,
           2,
           3,
           2,
           3,
           2,
           3,
           2,
           3,
           2,
           3,
           2,
           3,
           2,
           3,
           2,
           3,
           2,
           3,
           2,
           3,
           2,
           3,
           2,
           3,
           2,
           3,
           2,
           3,
           2,
           3,
           2,
           3,
           1,
           1,
           1,
           1,
           1,
           1,
           1,
           1,
           1,
           1,
           1,
           1,
           1,
           1,
           1,
           1,
           1,
           1,
           1,
           3,
           1,
           1,
           3,
           1,
           1,
           1,
           1,
           1,
           1,
           1,
           1,
           1,
           1,
           1,
           1,
           1,
           1,
           1,
           1,
           1,
           1,
           1,
           1,
           1,
           1,
           1,
           1,
           1,
           1,
           1,
           1,
           1,
           1,
           1,
           1,
           1,
           1,
           1,
           1,
           1,
           1,
           1,
           1,
           1,
           1,
           1,
           1,
           1,
           1,
           1,
           1,
           1,
           1,
           1,
           1,
           1,
           1,
           4,
           5,
           4,
           1,
           4,
           5,
           4,
           5,
           4,
           5,
           4,
           5,
           4,
           5,
           4,
           5,
           4,
           5,
           4,
           5,
           4,
           5,
           4,
           5,
           4,
           5,
           4,
           5,
           4,
           5,
           4,
           5,
           4,
           5,
           4,
           5,
           4,
           5,
           4,
           5,
           4,
           5,
           4,
           5,
           4,
           5,
           4,
           5,
           4,
           5,
           4,
           5,
           4,
           5,
           4,
           5,
           4,
           5,
           4,
           5,
           4,
           5,
           4,
           5,
           4,
           5,
           4,
           5,
           4,
           5,
           4,
           5,
           4,
           5,
           4,
           5,
           4
          ],
          "coloraxis": "coloraxis",
          "symbol": "circle"
         },
         "mode": "markers",
         "name": "",
         "scene": "scene",
         "showlegend": false,
         "type": "scatter3d",
         "x": [
          15,
          15,
          16,
          16,
          17,
          17,
          18,
          18,
          19,
          19,
          19,
          19,
          20,
          20,
          20,
          20,
          21,
          21,
          23,
          23,
          24,
          24,
          25,
          25,
          28,
          28,
          28,
          28,
          29,
          29,
          30,
          30,
          33,
          33,
          33,
          33,
          34,
          34,
          37,
          37,
          38,
          38,
          39,
          39,
          39,
          39,
          40,
          40,
          40,
          40,
          42,
          42,
          43,
          43,
          43,
          43,
          44,
          44,
          46,
          46,
          46,
          46,
          47,
          47,
          48,
          48,
          48,
          48,
          48,
          48,
          49,
          49,
          50,
          50,
          54,
          54,
          54,
          54,
          54,
          54,
          54,
          54,
          54,
          54,
          54,
          54,
          57,
          57,
          58,
          58,
          59,
          59,
          60,
          60,
          60,
          60,
          60,
          60,
          61,
          61,
          62,
          62,
          62,
          62,
          62,
          62,
          63,
          63,
          63,
          63,
          63,
          63,
          64,
          64,
          65,
          65,
          65,
          65,
          67,
          67,
          67,
          67,
          69,
          69,
          70,
          70,
          71,
          71,
          71,
          71,
          71,
          71,
          72,
          72,
          73,
          73,
          73,
          73,
          74,
          74,
          75,
          75,
          76,
          76,
          77,
          77,
          77,
          77,
          78,
          78,
          78,
          78,
          78,
          78,
          78,
          78,
          78,
          78,
          78,
          78,
          79,
          79,
          81,
          81,
          85,
          85,
          86,
          86,
          87,
          87,
          87,
          87,
          87,
          87,
          88,
          88,
          88,
          88,
          93,
          93,
          97,
          97,
          98,
          98,
          99,
          99,
          101,
          101,
          103,
          103,
          103,
          103,
          113,
          113,
          120,
          120,
          126,
          126,
          137,
          137
         ],
         "y": [
          39,
          81,
          6,
          77,
          40,
          76,
          6,
          94,
          3,
          72,
          14,
          99,
          15,
          77,
          13,
          79,
          35,
          66,
          29,
          98,
          35,
          73,
          5,
          73,
          14,
          82,
          32,
          61,
          31,
          87,
          4,
          73,
          4,
          92,
          14,
          81,
          17,
          73,
          26,
          75,
          35,
          92,
          36,
          61,
          28,
          65,
          55,
          47,
          42,
          42,
          52,
          60,
          54,
          60,
          45,
          41,
          50,
          46,
          51,
          46,
          56,
          55,
          52,
          59,
          51,
          59,
          50,
          48,
          59,
          47,
          55,
          42,
          49,
          56,
          47,
          54,
          53,
          48,
          52,
          42,
          51,
          55,
          41,
          44,
          57,
          46,
          58,
          55,
          60,
          46,
          55,
          41,
          49,
          40,
          42,
          52,
          47,
          50,
          42,
          49,
          41,
          48,
          59,
          55,
          56,
          42,
          50,
          46,
          43,
          48,
          52,
          54,
          42,
          46,
          48,
          50,
          43,
          59,
          43,
          57,
          56,
          40,
          58,
          91,
          29,
          77,
          35,
          95,
          11,
          75,
          9,
          75,
          34,
          71,
          5,
          88,
          7,
          73,
          10,
          72,
          5,
          93,
          40,
          87,
          12,
          97,
          36,
          74,
          22,
          90,
          17,
          88,
          20,
          76,
          16,
          89,
          1,
          78,
          1,
          73,
          35,
          83,
          5,
          93,
          26,
          75,
          20,
          95,
          27,
          63,
          13,
          75,
          10,
          92,
          13,
          86,
          15,
          69,
          14,
          90,
          32,
          86,
          15,
          88,
          39,
          97,
          24,
          68,
          17,
          85,
          23,
          69,
          8,
          91,
          16,
          79,
          28,
          74,
          18,
          83
         ],
         "z": [
          19,
          21,
          20,
          23,
          31,
          22,
          35,
          23,
          64,
          30,
          67,
          35,
          58,
          24,
          37,
          22,
          35,
          20,
          52,
          35,
          35,
          25,
          46,
          31,
          54,
          29,
          45,
          35,
          40,
          23,
          60,
          21,
          53,
          18,
          49,
          21,
          42,
          30,
          36,
          20,
          65,
          24,
          48,
          31,
          49,
          24,
          50,
          27,
          29,
          31,
          49,
          33,
          31,
          59,
          50,
          47,
          51,
          69,
          27,
          53,
          70,
          19,
          67,
          54,
          63,
          18,
          43,
          68,
          19,
          32,
          70,
          47,
          60,
          60,
          59,
          26,
          45,
          40,
          23,
          49,
          57,
          38,
          67,
          46,
          21,
          48,
          55,
          22,
          34,
          50,
          68,
          18,
          48,
          40,
          32,
          24,
          47,
          27,
          48,
          20,
          23,
          49,
          67,
          26,
          49,
          21,
          66,
          54,
          68,
          66,
          65,
          19,
          38,
          19,
          18,
          19,
          63,
          49,
          51,
          50,
          27,
          38,
          40,
          39,
          23,
          31,
          43,
          40,
          59,
          38,
          47,
          39,
          25,
          31,
          20,
          29,
          44,
          32,
          19,
          35,
          57,
          32,
          28,
          32,
          25,
          28,
          48,
          32,
          34,
          34,
          43,
          39,
          44,
          38,
          47,
          27,
          37,
          30,
          34,
          30,
          56,
          29,
          19,
          31,
          50,
          36,
          42,
          33,
          36,
          32,
          40,
          28,
          36,
          36,
          52,
          30,
          58,
          27,
          59,
          35,
          37,
          32,
          46,
          29,
          41,
          30,
          54,
          28,
          41,
          36,
          34,
          32,
          33,
          38,
          47,
          35,
          45,
          32,
          32,
          30
         ]
        }
       ],
       "layout": {
        "coloraxis": {
         "colorbar": {
          "title": {
           "text": "Clusters"
          }
         },
         "colorscale": [
          [
           0,
           "#0d0887"
          ],
          [
           0.1111111111111111,
           "#46039f"
          ],
          [
           0.2222222222222222,
           "#7201a8"
          ],
          [
           0.3333333333333333,
           "#9c179e"
          ],
          [
           0.4444444444444444,
           "#bd3786"
          ],
          [
           0.5555555555555556,
           "#d8576b"
          ],
          [
           0.6666666666666666,
           "#ed7953"
          ],
          [
           0.7777777777777778,
           "#fb9f3a"
          ],
          [
           0.8888888888888888,
           "#fdca26"
          ],
          [
           1,
           "#f0f921"
          ]
         ]
        },
        "legend": {
         "tracegroupgap": 0
        },
        "scene": {
         "domain": {
          "x": [
           0,
           1
          ],
          "y": [
           0,
           1
          ]
         },
         "xaxis": {
          "title": {
           "text": "AnnualIncome"
          }
         },
         "yaxis": {
          "title": {
           "text": "SpendingScore"
          }
         },
         "zaxis": {
          "title": {
           "text": "Age"
          }
         }
        },
        "template": {
         "data": {
          "bar": [
           {
            "error_x": {
             "color": "#2a3f5f"
            },
            "error_y": {
             "color": "#2a3f5f"
            },
            "marker": {
             "line": {
              "color": "#E5ECF6",
              "width": 0.5
             }
            },
            "type": "bar"
           }
          ],
          "barpolar": [
           {
            "marker": {
             "line": {
              "color": "#E5ECF6",
              "width": 0.5
             }
            },
            "type": "barpolar"
           }
          ],
          "carpet": [
           {
            "aaxis": {
             "endlinecolor": "#2a3f5f",
             "gridcolor": "white",
             "linecolor": "white",
             "minorgridcolor": "white",
             "startlinecolor": "#2a3f5f"
            },
            "baxis": {
             "endlinecolor": "#2a3f5f",
             "gridcolor": "white",
             "linecolor": "white",
             "minorgridcolor": "white",
             "startlinecolor": "#2a3f5f"
            },
            "type": "carpet"
           }
          ],
          "choropleth": [
           {
            "colorbar": {
             "outlinewidth": 0,
             "ticks": ""
            },
            "type": "choropleth"
           }
          ],
          "contour": [
           {
            "colorbar": {
             "outlinewidth": 0,
             "ticks": ""
            },
            "colorscale": [
             [
              0,
              "#0d0887"
             ],
             [
              0.1111111111111111,
              "#46039f"
             ],
             [
              0.2222222222222222,
              "#7201a8"
             ],
             [
              0.3333333333333333,
              "#9c179e"
             ],
             [
              0.4444444444444444,
              "#bd3786"
             ],
             [
              0.5555555555555556,
              "#d8576b"
             ],
             [
              0.6666666666666666,
              "#ed7953"
             ],
             [
              0.7777777777777778,
              "#fb9f3a"
             ],
             [
              0.8888888888888888,
              "#fdca26"
             ],
             [
              1,
              "#f0f921"
             ]
            ],
            "type": "contour"
           }
          ],
          "contourcarpet": [
           {
            "colorbar": {
             "outlinewidth": 0,
             "ticks": ""
            },
            "type": "contourcarpet"
           }
          ],
          "heatmap": [
           {
            "colorbar": {
             "outlinewidth": 0,
             "ticks": ""
            },
            "colorscale": [
             [
              0,
              "#0d0887"
             ],
             [
              0.1111111111111111,
              "#46039f"
             ],
             [
              0.2222222222222222,
              "#7201a8"
             ],
             [
              0.3333333333333333,
              "#9c179e"
             ],
             [
              0.4444444444444444,
              "#bd3786"
             ],
             [
              0.5555555555555556,
              "#d8576b"
             ],
             [
              0.6666666666666666,
              "#ed7953"
             ],
             [
              0.7777777777777778,
              "#fb9f3a"
             ],
             [
              0.8888888888888888,
              "#fdca26"
             ],
             [
              1,
              "#f0f921"
             ]
            ],
            "type": "heatmap"
           }
          ],
          "heatmapgl": [
           {
            "colorbar": {
             "outlinewidth": 0,
             "ticks": ""
            },
            "colorscale": [
             [
              0,
              "#0d0887"
             ],
             [
              0.1111111111111111,
              "#46039f"
             ],
             [
              0.2222222222222222,
              "#7201a8"
             ],
             [
              0.3333333333333333,
              "#9c179e"
             ],
             [
              0.4444444444444444,
              "#bd3786"
             ],
             [
              0.5555555555555556,
              "#d8576b"
             ],
             [
              0.6666666666666666,
              "#ed7953"
             ],
             [
              0.7777777777777778,
              "#fb9f3a"
             ],
             [
              0.8888888888888888,
              "#fdca26"
             ],
             [
              1,
              "#f0f921"
             ]
            ],
            "type": "heatmapgl"
           }
          ],
          "histogram": [
           {
            "marker": {
             "colorbar": {
              "outlinewidth": 0,
              "ticks": ""
             }
            },
            "type": "histogram"
           }
          ],
          "histogram2d": [
           {
            "colorbar": {
             "outlinewidth": 0,
             "ticks": ""
            },
            "colorscale": [
             [
              0,
              "#0d0887"
             ],
             [
              0.1111111111111111,
              "#46039f"
             ],
             [
              0.2222222222222222,
              "#7201a8"
             ],
             [
              0.3333333333333333,
              "#9c179e"
             ],
             [
              0.4444444444444444,
              "#bd3786"
             ],
             [
              0.5555555555555556,
              "#d8576b"
             ],
             [
              0.6666666666666666,
              "#ed7953"
             ],
             [
              0.7777777777777778,
              "#fb9f3a"
             ],
             [
              0.8888888888888888,
              "#fdca26"
             ],
             [
              1,
              "#f0f921"
             ]
            ],
            "type": "histogram2d"
           }
          ],
          "histogram2dcontour": [
           {
            "colorbar": {
             "outlinewidth": 0,
             "ticks": ""
            },
            "colorscale": [
             [
              0,
              "#0d0887"
             ],
             [
              0.1111111111111111,
              "#46039f"
             ],
             [
              0.2222222222222222,
              "#7201a8"
             ],
             [
              0.3333333333333333,
              "#9c179e"
             ],
             [
              0.4444444444444444,
              "#bd3786"
             ],
             [
              0.5555555555555556,
              "#d8576b"
             ],
             [
              0.6666666666666666,
              "#ed7953"
             ],
             [
              0.7777777777777778,
              "#fb9f3a"
             ],
             [
              0.8888888888888888,
              "#fdca26"
             ],
             [
              1,
              "#f0f921"
             ]
            ],
            "type": "histogram2dcontour"
           }
          ],
          "mesh3d": [
           {
            "colorbar": {
             "outlinewidth": 0,
             "ticks": ""
            },
            "type": "mesh3d"
           }
          ],
          "parcoords": [
           {
            "line": {
             "colorbar": {
              "outlinewidth": 0,
              "ticks": ""
             }
            },
            "type": "parcoords"
           }
          ],
          "pie": [
           {
            "automargin": true,
            "type": "pie"
           }
          ],
          "scatter": [
           {
            "marker": {
             "colorbar": {
              "outlinewidth": 0,
              "ticks": ""
             }
            },
            "type": "scatter"
           }
          ],
          "scatter3d": [
           {
            "line": {
             "colorbar": {
              "outlinewidth": 0,
              "ticks": ""
             }
            },
            "marker": {
             "colorbar": {
              "outlinewidth": 0,
              "ticks": ""
             }
            },
            "type": "scatter3d"
           }
          ],
          "scattercarpet": [
           {
            "marker": {
             "colorbar": {
              "outlinewidth": 0,
              "ticks": ""
             }
            },
            "type": "scattercarpet"
           }
          ],
          "scattergeo": [
           {
            "marker": {
             "colorbar": {
              "outlinewidth": 0,
              "ticks": ""
             }
            },
            "type": "scattergeo"
           }
          ],
          "scattergl": [
           {
            "marker": {
             "colorbar": {
              "outlinewidth": 0,
              "ticks": ""
             }
            },
            "type": "scattergl"
           }
          ],
          "scattermapbox": [
           {
            "marker": {
             "colorbar": {
              "outlinewidth": 0,
              "ticks": ""
             }
            },
            "type": "scattermapbox"
           }
          ],
          "scatterpolar": [
           {
            "marker": {
             "colorbar": {
              "outlinewidth": 0,
              "ticks": ""
             }
            },
            "type": "scatterpolar"
           }
          ],
          "scatterpolargl": [
           {
            "marker": {
             "colorbar": {
              "outlinewidth": 0,
              "ticks": ""
             }
            },
            "type": "scatterpolargl"
           }
          ],
          "scatterternary": [
           {
            "marker": {
             "colorbar": {
              "outlinewidth": 0,
              "ticks": ""
             }
            },
            "type": "scatterternary"
           }
          ],
          "surface": [
           {
            "colorbar": {
             "outlinewidth": 0,
             "ticks": ""
            },
            "colorscale": [
             [
              0,
              "#0d0887"
             ],
             [
              0.1111111111111111,
              "#46039f"
             ],
             [
              0.2222222222222222,
              "#7201a8"
             ],
             [
              0.3333333333333333,
              "#9c179e"
             ],
             [
              0.4444444444444444,
              "#bd3786"
             ],
             [
              0.5555555555555556,
              "#d8576b"
             ],
             [
              0.6666666666666666,
              "#ed7953"
             ],
             [
              0.7777777777777778,
              "#fb9f3a"
             ],
             [
              0.8888888888888888,
              "#fdca26"
             ],
             [
              1,
              "#f0f921"
             ]
            ],
            "type": "surface"
           }
          ],
          "table": [
           {
            "cells": {
             "fill": {
              "color": "#EBF0F8"
             },
             "line": {
              "color": "white"
             }
            },
            "header": {
             "fill": {
              "color": "#C8D4E3"
             },
             "line": {
              "color": "white"
             }
            },
            "type": "table"
           }
          ]
         },
         "layout": {
          "annotationdefaults": {
           "arrowcolor": "#2a3f5f",
           "arrowhead": 0,
           "arrowwidth": 1
          },
          "coloraxis": {
           "colorbar": {
            "outlinewidth": 0,
            "ticks": ""
           }
          },
          "colorscale": {
           "diverging": [
            [
             0,
             "#8e0152"
            ],
            [
             0.1,
             "#c51b7d"
            ],
            [
             0.2,
             "#de77ae"
            ],
            [
             0.3,
             "#f1b6da"
            ],
            [
             0.4,
             "#fde0ef"
            ],
            [
             0.5,
             "#f7f7f7"
            ],
            [
             0.6,
             "#e6f5d0"
            ],
            [
             0.7,
             "#b8e186"
            ],
            [
             0.8,
             "#7fbc41"
            ],
            [
             0.9,
             "#4d9221"
            ],
            [
             1,
             "#276419"
            ]
           ],
           "sequential": [
            [
             0,
             "#0d0887"
            ],
            [
             0.1111111111111111,
             "#46039f"
            ],
            [
             0.2222222222222222,
             "#7201a8"
            ],
            [
             0.3333333333333333,
             "#9c179e"
            ],
            [
             0.4444444444444444,
             "#bd3786"
            ],
            [
             0.5555555555555556,
             "#d8576b"
            ],
            [
             0.6666666666666666,
             "#ed7953"
            ],
            [
             0.7777777777777778,
             "#fb9f3a"
            ],
            [
             0.8888888888888888,
             "#fdca26"
            ],
            [
             1,
             "#f0f921"
            ]
           ],
           "sequentialminus": [
            [
             0,
             "#0d0887"
            ],
            [
             0.1111111111111111,
             "#46039f"
            ],
            [
             0.2222222222222222,
             "#7201a8"
            ],
            [
             0.3333333333333333,
             "#9c179e"
            ],
            [
             0.4444444444444444,
             "#bd3786"
            ],
            [
             0.5555555555555556,
             "#d8576b"
            ],
            [
             0.6666666666666666,
             "#ed7953"
            ],
            [
             0.7777777777777778,
             "#fb9f3a"
            ],
            [
             0.8888888888888888,
             "#fdca26"
            ],
            [
             1,
             "#f0f921"
            ]
           ]
          },
          "colorway": [
           "#636efa",
           "#EF553B",
           "#00cc96",
           "#ab63fa",
           "#FFA15A",
           "#19d3f3",
           "#FF6692",
           "#B6E880",
           "#FF97FF",
           "#FECB52"
          ],
          "font": {
           "color": "#2a3f5f"
          },
          "geo": {
           "bgcolor": "white",
           "lakecolor": "white",
           "landcolor": "#E5ECF6",
           "showlakes": true,
           "showland": true,
           "subunitcolor": "white"
          },
          "hoverlabel": {
           "align": "left"
          },
          "hovermode": "closest",
          "mapbox": {
           "style": "light"
          },
          "paper_bgcolor": "white",
          "plot_bgcolor": "#E5ECF6",
          "polar": {
           "angularaxis": {
            "gridcolor": "white",
            "linecolor": "white",
            "ticks": ""
           },
           "bgcolor": "#E5ECF6",
           "radialaxis": {
            "gridcolor": "white",
            "linecolor": "white",
            "ticks": ""
           }
          },
          "scene": {
           "xaxis": {
            "backgroundcolor": "#E5ECF6",
            "gridcolor": "white",
            "gridwidth": 2,
            "linecolor": "white",
            "showbackground": true,
            "ticks": "",
            "zerolinecolor": "white"
           },
           "yaxis": {
            "backgroundcolor": "#E5ECF6",
            "gridcolor": "white",
            "gridwidth": 2,
            "linecolor": "white",
            "showbackground": true,
            "ticks": "",
            "zerolinecolor": "white"
           },
           "zaxis": {
            "backgroundcolor": "#E5ECF6",
            "gridcolor": "white",
            "gridwidth": 2,
            "linecolor": "white",
            "showbackground": true,
            "ticks": "",
            "zerolinecolor": "white"
           }
          },
          "shapedefaults": {
           "line": {
            "color": "#2a3f5f"
           }
          },
          "ternary": {
           "aaxis": {
            "gridcolor": "white",
            "linecolor": "white",
            "ticks": ""
           },
           "baxis": {
            "gridcolor": "white",
            "linecolor": "white",
            "ticks": ""
           },
           "bgcolor": "#E5ECF6",
           "caxis": {
            "gridcolor": "white",
            "linecolor": "white",
            "ticks": ""
           }
          },
          "title": {
           "x": 0.05
          },
          "xaxis": {
           "automargin": true,
           "gridcolor": "white",
           "linecolor": "white",
           "ticks": "",
           "title": {
            "standoff": 15
           },
           "zerolinecolor": "white",
           "zerolinewidth": 2
          },
          "yaxis": {
           "automargin": true,
           "gridcolor": "white",
           "linecolor": "white",
           "ticks": "",
           "title": {
            "standoff": 15
           },
           "zerolinecolor": "white",
           "zerolinewidth": 2
          }
         }
        },
        "title": {
         "text": "Clusters"
        }
       }
      },
      "text/html": [
       "<div>\n",
       "        \n",
       "        \n",
       "            <div id=\"948f3f46-af17-48b5-bf13-f436fcfb43dd\" class=\"plotly-graph-div\" style=\"height:525px; width:100%;\"></div>\n",
       "            <script type=\"text/javascript\">\n",
       "                require([\"plotly\"], function(Plotly) {\n",
       "                    window.PLOTLYENV=window.PLOTLYENV || {};\n",
       "                    \n",
       "                if (document.getElementById(\"948f3f46-af17-48b5-bf13-f436fcfb43dd\")) {\n",
       "                    Plotly.newPlot(\n",
       "                        '948f3f46-af17-48b5-bf13-f436fcfb43dd',\n",
       "                        [{\"hoverlabel\": {\"namelength\": 0}, \"hovertemplate\": \"AnnualIncome=%{x}<br>SpendingScore=%{y}<br>Age=%{z}<br>Clusters=%{marker.color}\", \"legendgroup\": \"\", \"marker\": {\"color\": [2, 3, 2, 3, 2, 3, 2, 3, 2, 3, 2, 3, 2, 3, 2, 3, 2, 3, 2, 3, 2, 3, 2, 3, 2, 3, 2, 3, 2, 3, 2, 3, 2, 3, 2, 3, 2, 3, 2, 3, 2, 3, 2, 3, 2, 3, 1, 1, 1, 1, 1, 1, 1, 1, 1, 1, 1, 1, 1, 1, 1, 1, 1, 1, 1, 3, 1, 1, 3, 1, 1, 1, 1, 1, 1, 1, 1, 1, 1, 1, 1, 1, 1, 1, 1, 1, 1, 1, 1, 1, 1, 1, 1, 1, 1, 1, 1, 1, 1, 1, 1, 1, 1, 1, 1, 1, 1, 1, 1, 1, 1, 1, 1, 1, 1, 1, 1, 1, 1, 1, 1, 1, 1, 4, 5, 4, 1, 4, 5, 4, 5, 4, 5, 4, 5, 4, 5, 4, 5, 4, 5, 4, 5, 4, 5, 4, 5, 4, 5, 4, 5, 4, 5, 4, 5, 4, 5, 4, 5, 4, 5, 4, 5, 4, 5, 4, 5, 4, 5, 4, 5, 4, 5, 4, 5, 4, 5, 4, 5, 4, 5, 4, 5, 4, 5, 4, 5, 4, 5, 4, 5, 4, 5, 4, 5, 4, 5, 4, 5, 4], \"coloraxis\": \"coloraxis\", \"symbol\": \"circle\"}, \"mode\": \"markers\", \"name\": \"\", \"scene\": \"scene\", \"showlegend\": false, \"type\": \"scatter3d\", \"x\": [15, 15, 16, 16, 17, 17, 18, 18, 19, 19, 19, 19, 20, 20, 20, 20, 21, 21, 23, 23, 24, 24, 25, 25, 28, 28, 28, 28, 29, 29, 30, 30, 33, 33, 33, 33, 34, 34, 37, 37, 38, 38, 39, 39, 39, 39, 40, 40, 40, 40, 42, 42, 43, 43, 43, 43, 44, 44, 46, 46, 46, 46, 47, 47, 48, 48, 48, 48, 48, 48, 49, 49, 50, 50, 54, 54, 54, 54, 54, 54, 54, 54, 54, 54, 54, 54, 57, 57, 58, 58, 59, 59, 60, 60, 60, 60, 60, 60, 61, 61, 62, 62, 62, 62, 62, 62, 63, 63, 63, 63, 63, 63, 64, 64, 65, 65, 65, 65, 67, 67, 67, 67, 69, 69, 70, 70, 71, 71, 71, 71, 71, 71, 72, 72, 73, 73, 73, 73, 74, 74, 75, 75, 76, 76, 77, 77, 77, 77, 78, 78, 78, 78, 78, 78, 78, 78, 78, 78, 78, 78, 79, 79, 81, 81, 85, 85, 86, 86, 87, 87, 87, 87, 87, 87, 88, 88, 88, 88, 93, 93, 97, 97, 98, 98, 99, 99, 101, 101, 103, 103, 103, 103, 113, 113, 120, 120, 126, 126, 137, 137], \"y\": [39, 81, 6, 77, 40, 76, 6, 94, 3, 72, 14, 99, 15, 77, 13, 79, 35, 66, 29, 98, 35, 73, 5, 73, 14, 82, 32, 61, 31, 87, 4, 73, 4, 92, 14, 81, 17, 73, 26, 75, 35, 92, 36, 61, 28, 65, 55, 47, 42, 42, 52, 60, 54, 60, 45, 41, 50, 46, 51, 46, 56, 55, 52, 59, 51, 59, 50, 48, 59, 47, 55, 42, 49, 56, 47, 54, 53, 48, 52, 42, 51, 55, 41, 44, 57, 46, 58, 55, 60, 46, 55, 41, 49, 40, 42, 52, 47, 50, 42, 49, 41, 48, 59, 55, 56, 42, 50, 46, 43, 48, 52, 54, 42, 46, 48, 50, 43, 59, 43, 57, 56, 40, 58, 91, 29, 77, 35, 95, 11, 75, 9, 75, 34, 71, 5, 88, 7, 73, 10, 72, 5, 93, 40, 87, 12, 97, 36, 74, 22, 90, 17, 88, 20, 76, 16, 89, 1, 78, 1, 73, 35, 83, 5, 93, 26, 75, 20, 95, 27, 63, 13, 75, 10, 92, 13, 86, 15, 69, 14, 90, 32, 86, 15, 88, 39, 97, 24, 68, 17, 85, 23, 69, 8, 91, 16, 79, 28, 74, 18, 83], \"z\": [19, 21, 20, 23, 31, 22, 35, 23, 64, 30, 67, 35, 58, 24, 37, 22, 35, 20, 52, 35, 35, 25, 46, 31, 54, 29, 45, 35, 40, 23, 60, 21, 53, 18, 49, 21, 42, 30, 36, 20, 65, 24, 48, 31, 49, 24, 50, 27, 29, 31, 49, 33, 31, 59, 50, 47, 51, 69, 27, 53, 70, 19, 67, 54, 63, 18, 43, 68, 19, 32, 70, 47, 60, 60, 59, 26, 45, 40, 23, 49, 57, 38, 67, 46, 21, 48, 55, 22, 34, 50, 68, 18, 48, 40, 32, 24, 47, 27, 48, 20, 23, 49, 67, 26, 49, 21, 66, 54, 68, 66, 65, 19, 38, 19, 18, 19, 63, 49, 51, 50, 27, 38, 40, 39, 23, 31, 43, 40, 59, 38, 47, 39, 25, 31, 20, 29, 44, 32, 19, 35, 57, 32, 28, 32, 25, 28, 48, 32, 34, 34, 43, 39, 44, 38, 47, 27, 37, 30, 34, 30, 56, 29, 19, 31, 50, 36, 42, 33, 36, 32, 40, 28, 36, 36, 52, 30, 58, 27, 59, 35, 37, 32, 46, 29, 41, 30, 54, 28, 41, 36, 34, 32, 33, 38, 47, 35, 45, 32, 32, 30]}],\n",
       "                        {\"coloraxis\": {\"colorbar\": {\"title\": {\"text\": \"Clusters\"}}, \"colorscale\": [[0.0, \"#0d0887\"], [0.1111111111111111, \"#46039f\"], [0.2222222222222222, \"#7201a8\"], [0.3333333333333333, \"#9c179e\"], [0.4444444444444444, \"#bd3786\"], [0.5555555555555556, \"#d8576b\"], [0.6666666666666666, \"#ed7953\"], [0.7777777777777778, \"#fb9f3a\"], [0.8888888888888888, \"#fdca26\"], [1.0, \"#f0f921\"]]}, \"legend\": {\"tracegroupgap\": 0}, \"scene\": {\"domain\": {\"x\": [0.0, 1.0], \"y\": [0.0, 1.0]}, \"xaxis\": {\"title\": {\"text\": \"AnnualIncome\"}}, \"yaxis\": {\"title\": {\"text\": \"SpendingScore\"}}, \"zaxis\": {\"title\": {\"text\": \"Age\"}}}, \"template\": {\"data\": {\"bar\": [{\"error_x\": {\"color\": \"#2a3f5f\"}, \"error_y\": {\"color\": \"#2a3f5f\"}, \"marker\": {\"line\": {\"color\": \"#E5ECF6\", \"width\": 0.5}}, \"type\": \"bar\"}], \"barpolar\": [{\"marker\": {\"line\": {\"color\": \"#E5ECF6\", \"width\": 0.5}}, \"type\": \"barpolar\"}], \"carpet\": [{\"aaxis\": {\"endlinecolor\": \"#2a3f5f\", \"gridcolor\": \"white\", \"linecolor\": \"white\", \"minorgridcolor\": \"white\", \"startlinecolor\": \"#2a3f5f\"}, \"baxis\": {\"endlinecolor\": \"#2a3f5f\", \"gridcolor\": \"white\", \"linecolor\": \"white\", \"minorgridcolor\": \"white\", \"startlinecolor\": \"#2a3f5f\"}, \"type\": \"carpet\"}], \"choropleth\": [{\"colorbar\": {\"outlinewidth\": 0, \"ticks\": \"\"}, \"type\": \"choropleth\"}], \"contour\": [{\"colorbar\": {\"outlinewidth\": 0, \"ticks\": \"\"}, \"colorscale\": [[0.0, \"#0d0887\"], [0.1111111111111111, \"#46039f\"], [0.2222222222222222, \"#7201a8\"], [0.3333333333333333, \"#9c179e\"], [0.4444444444444444, \"#bd3786\"], [0.5555555555555556, \"#d8576b\"], [0.6666666666666666, \"#ed7953\"], [0.7777777777777778, \"#fb9f3a\"], [0.8888888888888888, \"#fdca26\"], [1.0, \"#f0f921\"]], \"type\": \"contour\"}], \"contourcarpet\": [{\"colorbar\": {\"outlinewidth\": 0, \"ticks\": \"\"}, \"type\": \"contourcarpet\"}], \"heatmap\": [{\"colorbar\": {\"outlinewidth\": 0, \"ticks\": \"\"}, \"colorscale\": [[0.0, \"#0d0887\"], [0.1111111111111111, \"#46039f\"], [0.2222222222222222, \"#7201a8\"], [0.3333333333333333, \"#9c179e\"], [0.4444444444444444, \"#bd3786\"], [0.5555555555555556, \"#d8576b\"], [0.6666666666666666, \"#ed7953\"], [0.7777777777777778, \"#fb9f3a\"], [0.8888888888888888, \"#fdca26\"], [1.0, \"#f0f921\"]], \"type\": \"heatmap\"}], \"heatmapgl\": [{\"colorbar\": {\"outlinewidth\": 0, \"ticks\": \"\"}, \"colorscale\": [[0.0, \"#0d0887\"], [0.1111111111111111, \"#46039f\"], [0.2222222222222222, \"#7201a8\"], [0.3333333333333333, \"#9c179e\"], [0.4444444444444444, \"#bd3786\"], [0.5555555555555556, \"#d8576b\"], [0.6666666666666666, \"#ed7953\"], [0.7777777777777778, \"#fb9f3a\"], [0.8888888888888888, \"#fdca26\"], [1.0, \"#f0f921\"]], \"type\": \"heatmapgl\"}], \"histogram\": [{\"marker\": {\"colorbar\": {\"outlinewidth\": 0, \"ticks\": \"\"}}, \"type\": \"histogram\"}], \"histogram2d\": [{\"colorbar\": {\"outlinewidth\": 0, \"ticks\": \"\"}, \"colorscale\": [[0.0, \"#0d0887\"], [0.1111111111111111, \"#46039f\"], [0.2222222222222222, \"#7201a8\"], [0.3333333333333333, \"#9c179e\"], [0.4444444444444444, \"#bd3786\"], [0.5555555555555556, \"#d8576b\"], [0.6666666666666666, \"#ed7953\"], [0.7777777777777778, \"#fb9f3a\"], [0.8888888888888888, \"#fdca26\"], [1.0, \"#f0f921\"]], \"type\": \"histogram2d\"}], \"histogram2dcontour\": [{\"colorbar\": {\"outlinewidth\": 0, \"ticks\": \"\"}, \"colorscale\": [[0.0, \"#0d0887\"], [0.1111111111111111, \"#46039f\"], [0.2222222222222222, \"#7201a8\"], [0.3333333333333333, \"#9c179e\"], [0.4444444444444444, \"#bd3786\"], [0.5555555555555556, \"#d8576b\"], [0.6666666666666666, \"#ed7953\"], [0.7777777777777778, \"#fb9f3a\"], [0.8888888888888888, \"#fdca26\"], [1.0, \"#f0f921\"]], \"type\": \"histogram2dcontour\"}], \"mesh3d\": [{\"colorbar\": {\"outlinewidth\": 0, \"ticks\": \"\"}, \"type\": \"mesh3d\"}], \"parcoords\": [{\"line\": {\"colorbar\": {\"outlinewidth\": 0, \"ticks\": \"\"}}, \"type\": \"parcoords\"}], \"pie\": [{\"automargin\": true, \"type\": \"pie\"}], \"scatter\": [{\"marker\": {\"colorbar\": {\"outlinewidth\": 0, \"ticks\": \"\"}}, \"type\": \"scatter\"}], \"scatter3d\": [{\"line\": {\"colorbar\": {\"outlinewidth\": 0, \"ticks\": \"\"}}, \"marker\": {\"colorbar\": {\"outlinewidth\": 0, \"ticks\": \"\"}}, \"type\": \"scatter3d\"}], \"scattercarpet\": [{\"marker\": {\"colorbar\": {\"outlinewidth\": 0, \"ticks\": \"\"}}, \"type\": \"scattercarpet\"}], \"scattergeo\": [{\"marker\": {\"colorbar\": {\"outlinewidth\": 0, \"ticks\": \"\"}}, \"type\": \"scattergeo\"}], \"scattergl\": [{\"marker\": {\"colorbar\": {\"outlinewidth\": 0, \"ticks\": \"\"}}, \"type\": \"scattergl\"}], \"scattermapbox\": [{\"marker\": {\"colorbar\": {\"outlinewidth\": 0, \"ticks\": \"\"}}, \"type\": \"scattermapbox\"}], \"scatterpolar\": [{\"marker\": {\"colorbar\": {\"outlinewidth\": 0, \"ticks\": \"\"}}, \"type\": \"scatterpolar\"}], \"scatterpolargl\": [{\"marker\": {\"colorbar\": {\"outlinewidth\": 0, \"ticks\": \"\"}}, \"type\": \"scatterpolargl\"}], \"scatterternary\": [{\"marker\": {\"colorbar\": {\"outlinewidth\": 0, \"ticks\": \"\"}}, \"type\": \"scatterternary\"}], \"surface\": [{\"colorbar\": {\"outlinewidth\": 0, \"ticks\": \"\"}, \"colorscale\": [[0.0, \"#0d0887\"], [0.1111111111111111, \"#46039f\"], [0.2222222222222222, \"#7201a8\"], [0.3333333333333333, \"#9c179e\"], [0.4444444444444444, \"#bd3786\"], [0.5555555555555556, \"#d8576b\"], [0.6666666666666666, \"#ed7953\"], [0.7777777777777778, \"#fb9f3a\"], [0.8888888888888888, \"#fdca26\"], [1.0, \"#f0f921\"]], \"type\": \"surface\"}], \"table\": [{\"cells\": {\"fill\": {\"color\": \"#EBF0F8\"}, \"line\": {\"color\": \"white\"}}, \"header\": {\"fill\": {\"color\": \"#C8D4E3\"}, \"line\": {\"color\": \"white\"}}, \"type\": \"table\"}]}, \"layout\": {\"annotationdefaults\": {\"arrowcolor\": \"#2a3f5f\", \"arrowhead\": 0, \"arrowwidth\": 1}, \"coloraxis\": {\"colorbar\": {\"outlinewidth\": 0, \"ticks\": \"\"}}, \"colorscale\": {\"diverging\": [[0, \"#8e0152\"], [0.1, \"#c51b7d\"], [0.2, \"#de77ae\"], [0.3, \"#f1b6da\"], [0.4, \"#fde0ef\"], [0.5, \"#f7f7f7\"], [0.6, \"#e6f5d0\"], [0.7, \"#b8e186\"], [0.8, \"#7fbc41\"], [0.9, \"#4d9221\"], [1, \"#276419\"]], \"sequential\": [[0.0, \"#0d0887\"], [0.1111111111111111, \"#46039f\"], [0.2222222222222222, \"#7201a8\"], [0.3333333333333333, \"#9c179e\"], [0.4444444444444444, \"#bd3786\"], [0.5555555555555556, \"#d8576b\"], [0.6666666666666666, \"#ed7953\"], [0.7777777777777778, \"#fb9f3a\"], [0.8888888888888888, \"#fdca26\"], [1.0, \"#f0f921\"]], \"sequentialminus\": [[0.0, \"#0d0887\"], [0.1111111111111111, \"#46039f\"], [0.2222222222222222, \"#7201a8\"], [0.3333333333333333, \"#9c179e\"], [0.4444444444444444, \"#bd3786\"], [0.5555555555555556, \"#d8576b\"], [0.6666666666666666, \"#ed7953\"], [0.7777777777777778, \"#fb9f3a\"], [0.8888888888888888, \"#fdca26\"], [1.0, \"#f0f921\"]]}, \"colorway\": [\"#636efa\", \"#EF553B\", \"#00cc96\", \"#ab63fa\", \"#FFA15A\", \"#19d3f3\", \"#FF6692\", \"#B6E880\", \"#FF97FF\", \"#FECB52\"], \"font\": {\"color\": \"#2a3f5f\"}, \"geo\": {\"bgcolor\": \"white\", \"lakecolor\": \"white\", \"landcolor\": \"#E5ECF6\", \"showlakes\": true, \"showland\": true, \"subunitcolor\": \"white\"}, \"hoverlabel\": {\"align\": \"left\"}, \"hovermode\": \"closest\", \"mapbox\": {\"style\": \"light\"}, \"paper_bgcolor\": \"white\", \"plot_bgcolor\": \"#E5ECF6\", \"polar\": {\"angularaxis\": {\"gridcolor\": \"white\", \"linecolor\": \"white\", \"ticks\": \"\"}, \"bgcolor\": \"#E5ECF6\", \"radialaxis\": {\"gridcolor\": \"white\", \"linecolor\": \"white\", \"ticks\": \"\"}}, \"scene\": {\"xaxis\": {\"backgroundcolor\": \"#E5ECF6\", \"gridcolor\": \"white\", \"gridwidth\": 2, \"linecolor\": \"white\", \"showbackground\": true, \"ticks\": \"\", \"zerolinecolor\": \"white\"}, \"yaxis\": {\"backgroundcolor\": \"#E5ECF6\", \"gridcolor\": \"white\", \"gridwidth\": 2, \"linecolor\": \"white\", \"showbackground\": true, \"ticks\": \"\", \"zerolinecolor\": \"white\"}, \"zaxis\": {\"backgroundcolor\": \"#E5ECF6\", \"gridcolor\": \"white\", \"gridwidth\": 2, \"linecolor\": \"white\", \"showbackground\": true, \"ticks\": \"\", \"zerolinecolor\": \"white\"}}, \"shapedefaults\": {\"line\": {\"color\": \"#2a3f5f\"}}, \"ternary\": {\"aaxis\": {\"gridcolor\": \"white\", \"linecolor\": \"white\", \"ticks\": \"\"}, \"baxis\": {\"gridcolor\": \"white\", \"linecolor\": \"white\", \"ticks\": \"\"}, \"bgcolor\": \"#E5ECF6\", \"caxis\": {\"gridcolor\": \"white\", \"linecolor\": \"white\", \"ticks\": \"\"}}, \"title\": {\"x\": 0.05}, \"xaxis\": {\"automargin\": true, \"gridcolor\": \"white\", \"linecolor\": \"white\", \"ticks\": \"\", \"title\": {\"standoff\": 15}, \"zerolinecolor\": \"white\", \"zerolinewidth\": 2}, \"yaxis\": {\"automargin\": true, \"gridcolor\": \"white\", \"linecolor\": \"white\", \"ticks\": \"\", \"title\": {\"standoff\": 15}, \"zerolinecolor\": \"white\", \"zerolinewidth\": 2}}}, \"title\": {\"text\": \"Clusters\"}},\n",
       "                        {\"responsive\": true}\n",
       "                    ).then(function(){\n",
       "                            \n",
       "var gd = document.getElementById('948f3f46-af17-48b5-bf13-f436fcfb43dd');\n",
       "var x = new MutationObserver(function (mutations, observer) {{\n",
       "        var display = window.getComputedStyle(gd).display;\n",
       "        if (!display || display === 'none') {{\n",
       "            console.log([gd, 'removed!']);\n",
       "            Plotly.purge(gd);\n",
       "            observer.disconnect();\n",
       "        }}\n",
       "}});\n",
       "\n",
       "// Listen for the removal of the full notebook cells\n",
       "var notebookContainer = gd.closest('#notebook-container');\n",
       "if (notebookContainer) {{\n",
       "    x.observe(notebookContainer, {childList: true});\n",
       "}}\n",
       "\n",
       "// Listen for the clearing of the current output cell\n",
       "var outputEl = gd.closest('.output');\n",
       "if (outputEl) {{\n",
       "    x.observe(outputEl, {childList: true});\n",
       "}}\n",
       "\n",
       "                        })\n",
       "                };\n",
       "                });\n",
       "            </script>\n",
       "        </div>"
      ]
     },
     "metadata": {},
     "output_type": "display_data"
    }
   ],
   "source": [
    "Mod = KMeansCluster(500, 5)\n",
    "Mod = Mod.fit(Data[[\"AnnualIncome\", \"SpendingScore\", \"Age\"]])\n",
    "Data[\"Clusters\"] = Mod.Predict(Data[[\"AnnualIncome\", \"SpendingScore\", \"Age\"]])\n",
    "\n",
    "fig = px.scatter_3d(Data, x='AnnualIncome', y='SpendingScore', z='Age',\n",
    "              color='Clusters', title=\"Clusters\")\n",
    "fig.show()"
   ]
  },
  {
   "cell_type": "markdown",
   "metadata": {},
   "source": [
    "## Test against Sklearns K-Means"
   ]
  },
  {
   "cell_type": "code",
   "execution_count": 23,
   "metadata": {},
   "outputs": [
    {
     "data": {
      "application/vnd.plotly.v1+json": {
       "config": {
        "plotlyServerURL": "https://plot.ly"
       },
       "data": [
        {
         "hoverlabel": {
          "namelength": 0
         },
         "hovertemplate": "AnnualIncome=%{x}<br>SpendingScore=%{y}<br>Age=%{z}<br>Clusters=%{marker.color}",
         "legendgroup": "",
         "marker": {
          "color": [
           0,
           4,
           0,
           4,
           0,
           4,
           0,
           4,
           0,
           4,
           0,
           4,
           0,
           4,
           0,
           4,
           0,
           4,
           0,
           4,
           0,
           4,
           0,
           4,
           0,
           4,
           0,
           4,
           0,
           4,
           0,
           4,
           0,
           4,
           0,
           4,
           0,
           4,
           0,
           4,
           0,
           4,
           0,
           4,
           0,
           4,
           3,
           3,
           3,
           3,
           3,
           3,
           3,
           3,
           3,
           3,
           3,
           3,
           3,
           3,
           3,
           3,
           3,
           3,
           3,
           3,
           3,
           3,
           3,
           3,
           3,
           3,
           3,
           3,
           3,
           3,
           3,
           3,
           3,
           3,
           3,
           3,
           3,
           3,
           3,
           3,
           3,
           3,
           3,
           3,
           3,
           3,
           3,
           3,
           3,
           3,
           3,
           3,
           3,
           3,
           3,
           3,
           3,
           3,
           3,
           3,
           3,
           3,
           3,
           3,
           3,
           3,
           3,
           3,
           3,
           3,
           3,
           3,
           3,
           3,
           3,
           3,
           3,
           2,
           1,
           2,
           3,
           2,
           1,
           2,
           1,
           2,
           1,
           2,
           1,
           2,
           1,
           2,
           1,
           2,
           1,
           2,
           3,
           2,
           1,
           2,
           1,
           2,
           1,
           2,
           1,
           2,
           1,
           2,
           1,
           2,
           1,
           2,
           1,
           2,
           1,
           2,
           1,
           2,
           1,
           2,
           1,
           2,
           1,
           2,
           1,
           2,
           1,
           2,
           1,
           2,
           1,
           2,
           1,
           2,
           1,
           2,
           1,
           2,
           1,
           2,
           1,
           2,
           1,
           2,
           1,
           2,
           1,
           2,
           1,
           2,
           1,
           2,
           1,
           2
          ],
          "coloraxis": "coloraxis",
          "symbol": "circle"
         },
         "mode": "markers",
         "name": "",
         "scene": "scene",
         "showlegend": false,
         "type": "scatter3d",
         "x": [
          15,
          15,
          16,
          16,
          17,
          17,
          18,
          18,
          19,
          19,
          19,
          19,
          20,
          20,
          20,
          20,
          21,
          21,
          23,
          23,
          24,
          24,
          25,
          25,
          28,
          28,
          28,
          28,
          29,
          29,
          30,
          30,
          33,
          33,
          33,
          33,
          34,
          34,
          37,
          37,
          38,
          38,
          39,
          39,
          39,
          39,
          40,
          40,
          40,
          40,
          42,
          42,
          43,
          43,
          43,
          43,
          44,
          44,
          46,
          46,
          46,
          46,
          47,
          47,
          48,
          48,
          48,
          48,
          48,
          48,
          49,
          49,
          50,
          50,
          54,
          54,
          54,
          54,
          54,
          54,
          54,
          54,
          54,
          54,
          54,
          54,
          57,
          57,
          58,
          58,
          59,
          59,
          60,
          60,
          60,
          60,
          60,
          60,
          61,
          61,
          62,
          62,
          62,
          62,
          62,
          62,
          63,
          63,
          63,
          63,
          63,
          63,
          64,
          64,
          65,
          65,
          65,
          65,
          67,
          67,
          67,
          67,
          69,
          69,
          70,
          70,
          71,
          71,
          71,
          71,
          71,
          71,
          72,
          72,
          73,
          73,
          73,
          73,
          74,
          74,
          75,
          75,
          76,
          76,
          77,
          77,
          77,
          77,
          78,
          78,
          78,
          78,
          78,
          78,
          78,
          78,
          78,
          78,
          78,
          78,
          79,
          79,
          81,
          81,
          85,
          85,
          86,
          86,
          87,
          87,
          87,
          87,
          87,
          87,
          88,
          88,
          88,
          88,
          93,
          93,
          97,
          97,
          98,
          98,
          99,
          99,
          101,
          101,
          103,
          103,
          103,
          103,
          113,
          113,
          120,
          120,
          126,
          126,
          137,
          137
         ],
         "y": [
          39,
          81,
          6,
          77,
          40,
          76,
          6,
          94,
          3,
          72,
          14,
          99,
          15,
          77,
          13,
          79,
          35,
          66,
          29,
          98,
          35,
          73,
          5,
          73,
          14,
          82,
          32,
          61,
          31,
          87,
          4,
          73,
          4,
          92,
          14,
          81,
          17,
          73,
          26,
          75,
          35,
          92,
          36,
          61,
          28,
          65,
          55,
          47,
          42,
          42,
          52,
          60,
          54,
          60,
          45,
          41,
          50,
          46,
          51,
          46,
          56,
          55,
          52,
          59,
          51,
          59,
          50,
          48,
          59,
          47,
          55,
          42,
          49,
          56,
          47,
          54,
          53,
          48,
          52,
          42,
          51,
          55,
          41,
          44,
          57,
          46,
          58,
          55,
          60,
          46,
          55,
          41,
          49,
          40,
          42,
          52,
          47,
          50,
          42,
          49,
          41,
          48,
          59,
          55,
          56,
          42,
          50,
          46,
          43,
          48,
          52,
          54,
          42,
          46,
          48,
          50,
          43,
          59,
          43,
          57,
          56,
          40,
          58,
          91,
          29,
          77,
          35,
          95,
          11,
          75,
          9,
          75,
          34,
          71,
          5,
          88,
          7,
          73,
          10,
          72,
          5,
          93,
          40,
          87,
          12,
          97,
          36,
          74,
          22,
          90,
          17,
          88,
          20,
          76,
          16,
          89,
          1,
          78,
          1,
          73,
          35,
          83,
          5,
          93,
          26,
          75,
          20,
          95,
          27,
          63,
          13,
          75,
          10,
          92,
          13,
          86,
          15,
          69,
          14,
          90,
          32,
          86,
          15,
          88,
          39,
          97,
          24,
          68,
          17,
          85,
          23,
          69,
          8,
          91,
          16,
          79,
          28,
          74,
          18,
          83
         ],
         "z": [
          19,
          21,
          20,
          23,
          31,
          22,
          35,
          23,
          64,
          30,
          67,
          35,
          58,
          24,
          37,
          22,
          35,
          20,
          52,
          35,
          35,
          25,
          46,
          31,
          54,
          29,
          45,
          35,
          40,
          23,
          60,
          21,
          53,
          18,
          49,
          21,
          42,
          30,
          36,
          20,
          65,
          24,
          48,
          31,
          49,
          24,
          50,
          27,
          29,
          31,
          49,
          33,
          31,
          59,
          50,
          47,
          51,
          69,
          27,
          53,
          70,
          19,
          67,
          54,
          63,
          18,
          43,
          68,
          19,
          32,
          70,
          47,
          60,
          60,
          59,
          26,
          45,
          40,
          23,
          49,
          57,
          38,
          67,
          46,
          21,
          48,
          55,
          22,
          34,
          50,
          68,
          18,
          48,
          40,
          32,
          24,
          47,
          27,
          48,
          20,
          23,
          49,
          67,
          26,
          49,
          21,
          66,
          54,
          68,
          66,
          65,
          19,
          38,
          19,
          18,
          19,
          63,
          49,
          51,
          50,
          27,
          38,
          40,
          39,
          23,
          31,
          43,
          40,
          59,
          38,
          47,
          39,
          25,
          31,
          20,
          29,
          44,
          32,
          19,
          35,
          57,
          32,
          28,
          32,
          25,
          28,
          48,
          32,
          34,
          34,
          43,
          39,
          44,
          38,
          47,
          27,
          37,
          30,
          34,
          30,
          56,
          29,
          19,
          31,
          50,
          36,
          42,
          33,
          36,
          32,
          40,
          28,
          36,
          36,
          52,
          30,
          58,
          27,
          59,
          35,
          37,
          32,
          46,
          29,
          41,
          30,
          54,
          28,
          41,
          36,
          34,
          32,
          33,
          38,
          47,
          35,
          45,
          32,
          32,
          30
         ]
        }
       ],
       "layout": {
        "coloraxis": {
         "colorbar": {
          "title": {
           "text": "Clusters"
          }
         },
         "colorscale": [
          [
           0,
           "#0d0887"
          ],
          [
           0.1111111111111111,
           "#46039f"
          ],
          [
           0.2222222222222222,
           "#7201a8"
          ],
          [
           0.3333333333333333,
           "#9c179e"
          ],
          [
           0.4444444444444444,
           "#bd3786"
          ],
          [
           0.5555555555555556,
           "#d8576b"
          ],
          [
           0.6666666666666666,
           "#ed7953"
          ],
          [
           0.7777777777777778,
           "#fb9f3a"
          ],
          [
           0.8888888888888888,
           "#fdca26"
          ],
          [
           1,
           "#f0f921"
          ]
         ]
        },
        "legend": {
         "tracegroupgap": 0
        },
        "scene": {
         "domain": {
          "x": [
           0,
           1
          ],
          "y": [
           0,
           1
          ]
         },
         "xaxis": {
          "title": {
           "text": "AnnualIncome"
          }
         },
         "yaxis": {
          "title": {
           "text": "SpendingScore"
          }
         },
         "zaxis": {
          "title": {
           "text": "Age"
          }
         }
        },
        "template": {
         "data": {
          "bar": [
           {
            "error_x": {
             "color": "#2a3f5f"
            },
            "error_y": {
             "color": "#2a3f5f"
            },
            "marker": {
             "line": {
              "color": "#E5ECF6",
              "width": 0.5
             }
            },
            "type": "bar"
           }
          ],
          "barpolar": [
           {
            "marker": {
             "line": {
              "color": "#E5ECF6",
              "width": 0.5
             }
            },
            "type": "barpolar"
           }
          ],
          "carpet": [
           {
            "aaxis": {
             "endlinecolor": "#2a3f5f",
             "gridcolor": "white",
             "linecolor": "white",
             "minorgridcolor": "white",
             "startlinecolor": "#2a3f5f"
            },
            "baxis": {
             "endlinecolor": "#2a3f5f",
             "gridcolor": "white",
             "linecolor": "white",
             "minorgridcolor": "white",
             "startlinecolor": "#2a3f5f"
            },
            "type": "carpet"
           }
          ],
          "choropleth": [
           {
            "colorbar": {
             "outlinewidth": 0,
             "ticks": ""
            },
            "type": "choropleth"
           }
          ],
          "contour": [
           {
            "colorbar": {
             "outlinewidth": 0,
             "ticks": ""
            },
            "colorscale": [
             [
              0,
              "#0d0887"
             ],
             [
              0.1111111111111111,
              "#46039f"
             ],
             [
              0.2222222222222222,
              "#7201a8"
             ],
             [
              0.3333333333333333,
              "#9c179e"
             ],
             [
              0.4444444444444444,
              "#bd3786"
             ],
             [
              0.5555555555555556,
              "#d8576b"
             ],
             [
              0.6666666666666666,
              "#ed7953"
             ],
             [
              0.7777777777777778,
              "#fb9f3a"
             ],
             [
              0.8888888888888888,
              "#fdca26"
             ],
             [
              1,
              "#f0f921"
             ]
            ],
            "type": "contour"
           }
          ],
          "contourcarpet": [
           {
            "colorbar": {
             "outlinewidth": 0,
             "ticks": ""
            },
            "type": "contourcarpet"
           }
          ],
          "heatmap": [
           {
            "colorbar": {
             "outlinewidth": 0,
             "ticks": ""
            },
            "colorscale": [
             [
              0,
              "#0d0887"
             ],
             [
              0.1111111111111111,
              "#46039f"
             ],
             [
              0.2222222222222222,
              "#7201a8"
             ],
             [
              0.3333333333333333,
              "#9c179e"
             ],
             [
              0.4444444444444444,
              "#bd3786"
             ],
             [
              0.5555555555555556,
              "#d8576b"
             ],
             [
              0.6666666666666666,
              "#ed7953"
             ],
             [
              0.7777777777777778,
              "#fb9f3a"
             ],
             [
              0.8888888888888888,
              "#fdca26"
             ],
             [
              1,
              "#f0f921"
             ]
            ],
            "type": "heatmap"
           }
          ],
          "heatmapgl": [
           {
            "colorbar": {
             "outlinewidth": 0,
             "ticks": ""
            },
            "colorscale": [
             [
              0,
              "#0d0887"
             ],
             [
              0.1111111111111111,
              "#46039f"
             ],
             [
              0.2222222222222222,
              "#7201a8"
             ],
             [
              0.3333333333333333,
              "#9c179e"
             ],
             [
              0.4444444444444444,
              "#bd3786"
             ],
             [
              0.5555555555555556,
              "#d8576b"
             ],
             [
              0.6666666666666666,
              "#ed7953"
             ],
             [
              0.7777777777777778,
              "#fb9f3a"
             ],
             [
              0.8888888888888888,
              "#fdca26"
             ],
             [
              1,
              "#f0f921"
             ]
            ],
            "type": "heatmapgl"
           }
          ],
          "histogram": [
           {
            "marker": {
             "colorbar": {
              "outlinewidth": 0,
              "ticks": ""
             }
            },
            "type": "histogram"
           }
          ],
          "histogram2d": [
           {
            "colorbar": {
             "outlinewidth": 0,
             "ticks": ""
            },
            "colorscale": [
             [
              0,
              "#0d0887"
             ],
             [
              0.1111111111111111,
              "#46039f"
             ],
             [
              0.2222222222222222,
              "#7201a8"
             ],
             [
              0.3333333333333333,
              "#9c179e"
             ],
             [
              0.4444444444444444,
              "#bd3786"
             ],
             [
              0.5555555555555556,
              "#d8576b"
             ],
             [
              0.6666666666666666,
              "#ed7953"
             ],
             [
              0.7777777777777778,
              "#fb9f3a"
             ],
             [
              0.8888888888888888,
              "#fdca26"
             ],
             [
              1,
              "#f0f921"
             ]
            ],
            "type": "histogram2d"
           }
          ],
          "histogram2dcontour": [
           {
            "colorbar": {
             "outlinewidth": 0,
             "ticks": ""
            },
            "colorscale": [
             [
              0,
              "#0d0887"
             ],
             [
              0.1111111111111111,
              "#46039f"
             ],
             [
              0.2222222222222222,
              "#7201a8"
             ],
             [
              0.3333333333333333,
              "#9c179e"
             ],
             [
              0.4444444444444444,
              "#bd3786"
             ],
             [
              0.5555555555555556,
              "#d8576b"
             ],
             [
              0.6666666666666666,
              "#ed7953"
             ],
             [
              0.7777777777777778,
              "#fb9f3a"
             ],
             [
              0.8888888888888888,
              "#fdca26"
             ],
             [
              1,
              "#f0f921"
             ]
            ],
            "type": "histogram2dcontour"
           }
          ],
          "mesh3d": [
           {
            "colorbar": {
             "outlinewidth": 0,
             "ticks": ""
            },
            "type": "mesh3d"
           }
          ],
          "parcoords": [
           {
            "line": {
             "colorbar": {
              "outlinewidth": 0,
              "ticks": ""
             }
            },
            "type": "parcoords"
           }
          ],
          "pie": [
           {
            "automargin": true,
            "type": "pie"
           }
          ],
          "scatter": [
           {
            "marker": {
             "colorbar": {
              "outlinewidth": 0,
              "ticks": ""
             }
            },
            "type": "scatter"
           }
          ],
          "scatter3d": [
           {
            "line": {
             "colorbar": {
              "outlinewidth": 0,
              "ticks": ""
             }
            },
            "marker": {
             "colorbar": {
              "outlinewidth": 0,
              "ticks": ""
             }
            },
            "type": "scatter3d"
           }
          ],
          "scattercarpet": [
           {
            "marker": {
             "colorbar": {
              "outlinewidth": 0,
              "ticks": ""
             }
            },
            "type": "scattercarpet"
           }
          ],
          "scattergeo": [
           {
            "marker": {
             "colorbar": {
              "outlinewidth": 0,
              "ticks": ""
             }
            },
            "type": "scattergeo"
           }
          ],
          "scattergl": [
           {
            "marker": {
             "colorbar": {
              "outlinewidth": 0,
              "ticks": ""
             }
            },
            "type": "scattergl"
           }
          ],
          "scattermapbox": [
           {
            "marker": {
             "colorbar": {
              "outlinewidth": 0,
              "ticks": ""
             }
            },
            "type": "scattermapbox"
           }
          ],
          "scatterpolar": [
           {
            "marker": {
             "colorbar": {
              "outlinewidth": 0,
              "ticks": ""
             }
            },
            "type": "scatterpolar"
           }
          ],
          "scatterpolargl": [
           {
            "marker": {
             "colorbar": {
              "outlinewidth": 0,
              "ticks": ""
             }
            },
            "type": "scatterpolargl"
           }
          ],
          "scatterternary": [
           {
            "marker": {
             "colorbar": {
              "outlinewidth": 0,
              "ticks": ""
             }
            },
            "type": "scatterternary"
           }
          ],
          "surface": [
           {
            "colorbar": {
             "outlinewidth": 0,
             "ticks": ""
            },
            "colorscale": [
             [
              0,
              "#0d0887"
             ],
             [
              0.1111111111111111,
              "#46039f"
             ],
             [
              0.2222222222222222,
              "#7201a8"
             ],
             [
              0.3333333333333333,
              "#9c179e"
             ],
             [
              0.4444444444444444,
              "#bd3786"
             ],
             [
              0.5555555555555556,
              "#d8576b"
             ],
             [
              0.6666666666666666,
              "#ed7953"
             ],
             [
              0.7777777777777778,
              "#fb9f3a"
             ],
             [
              0.8888888888888888,
              "#fdca26"
             ],
             [
              1,
              "#f0f921"
             ]
            ],
            "type": "surface"
           }
          ],
          "table": [
           {
            "cells": {
             "fill": {
              "color": "#EBF0F8"
             },
             "line": {
              "color": "white"
             }
            },
            "header": {
             "fill": {
              "color": "#C8D4E3"
             },
             "line": {
              "color": "white"
             }
            },
            "type": "table"
           }
          ]
         },
         "layout": {
          "annotationdefaults": {
           "arrowcolor": "#2a3f5f",
           "arrowhead": 0,
           "arrowwidth": 1
          },
          "coloraxis": {
           "colorbar": {
            "outlinewidth": 0,
            "ticks": ""
           }
          },
          "colorscale": {
           "diverging": [
            [
             0,
             "#8e0152"
            ],
            [
             0.1,
             "#c51b7d"
            ],
            [
             0.2,
             "#de77ae"
            ],
            [
             0.3,
             "#f1b6da"
            ],
            [
             0.4,
             "#fde0ef"
            ],
            [
             0.5,
             "#f7f7f7"
            ],
            [
             0.6,
             "#e6f5d0"
            ],
            [
             0.7,
             "#b8e186"
            ],
            [
             0.8,
             "#7fbc41"
            ],
            [
             0.9,
             "#4d9221"
            ],
            [
             1,
             "#276419"
            ]
           ],
           "sequential": [
            [
             0,
             "#0d0887"
            ],
            [
             0.1111111111111111,
             "#46039f"
            ],
            [
             0.2222222222222222,
             "#7201a8"
            ],
            [
             0.3333333333333333,
             "#9c179e"
            ],
            [
             0.4444444444444444,
             "#bd3786"
            ],
            [
             0.5555555555555556,
             "#d8576b"
            ],
            [
             0.6666666666666666,
             "#ed7953"
            ],
            [
             0.7777777777777778,
             "#fb9f3a"
            ],
            [
             0.8888888888888888,
             "#fdca26"
            ],
            [
             1,
             "#f0f921"
            ]
           ],
           "sequentialminus": [
            [
             0,
             "#0d0887"
            ],
            [
             0.1111111111111111,
             "#46039f"
            ],
            [
             0.2222222222222222,
             "#7201a8"
            ],
            [
             0.3333333333333333,
             "#9c179e"
            ],
            [
             0.4444444444444444,
             "#bd3786"
            ],
            [
             0.5555555555555556,
             "#d8576b"
            ],
            [
             0.6666666666666666,
             "#ed7953"
            ],
            [
             0.7777777777777778,
             "#fb9f3a"
            ],
            [
             0.8888888888888888,
             "#fdca26"
            ],
            [
             1,
             "#f0f921"
            ]
           ]
          },
          "colorway": [
           "#636efa",
           "#EF553B",
           "#00cc96",
           "#ab63fa",
           "#FFA15A",
           "#19d3f3",
           "#FF6692",
           "#B6E880",
           "#FF97FF",
           "#FECB52"
          ],
          "font": {
           "color": "#2a3f5f"
          },
          "geo": {
           "bgcolor": "white",
           "lakecolor": "white",
           "landcolor": "#E5ECF6",
           "showlakes": true,
           "showland": true,
           "subunitcolor": "white"
          },
          "hoverlabel": {
           "align": "left"
          },
          "hovermode": "closest",
          "mapbox": {
           "style": "light"
          },
          "paper_bgcolor": "white",
          "plot_bgcolor": "#E5ECF6",
          "polar": {
           "angularaxis": {
            "gridcolor": "white",
            "linecolor": "white",
            "ticks": ""
           },
           "bgcolor": "#E5ECF6",
           "radialaxis": {
            "gridcolor": "white",
            "linecolor": "white",
            "ticks": ""
           }
          },
          "scene": {
           "xaxis": {
            "backgroundcolor": "#E5ECF6",
            "gridcolor": "white",
            "gridwidth": 2,
            "linecolor": "white",
            "showbackground": true,
            "ticks": "",
            "zerolinecolor": "white"
           },
           "yaxis": {
            "backgroundcolor": "#E5ECF6",
            "gridcolor": "white",
            "gridwidth": 2,
            "linecolor": "white",
            "showbackground": true,
            "ticks": "",
            "zerolinecolor": "white"
           },
           "zaxis": {
            "backgroundcolor": "#E5ECF6",
            "gridcolor": "white",
            "gridwidth": 2,
            "linecolor": "white",
            "showbackground": true,
            "ticks": "",
            "zerolinecolor": "white"
           }
          },
          "shapedefaults": {
           "line": {
            "color": "#2a3f5f"
           }
          },
          "ternary": {
           "aaxis": {
            "gridcolor": "white",
            "linecolor": "white",
            "ticks": ""
           },
           "baxis": {
            "gridcolor": "white",
            "linecolor": "white",
            "ticks": ""
           },
           "bgcolor": "#E5ECF6",
           "caxis": {
            "gridcolor": "white",
            "linecolor": "white",
            "ticks": ""
           }
          },
          "title": {
           "x": 0.05
          },
          "xaxis": {
           "automargin": true,
           "gridcolor": "white",
           "linecolor": "white",
           "ticks": "",
           "title": {
            "standoff": 15
           },
           "zerolinecolor": "white",
           "zerolinewidth": 2
          },
          "yaxis": {
           "automargin": true,
           "gridcolor": "white",
           "linecolor": "white",
           "ticks": "",
           "title": {
            "standoff": 15
           },
           "zerolinecolor": "white",
           "zerolinewidth": 2
          }
         }
        },
        "title": {
         "text": "Clusters"
        }
       }
      },
      "text/html": [
       "<div>\n",
       "        \n",
       "        \n",
       "            <div id=\"7da3eb74-12d7-472c-be14-46f3c585f10f\" class=\"plotly-graph-div\" style=\"height:525px; width:100%;\"></div>\n",
       "            <script type=\"text/javascript\">\n",
       "                require([\"plotly\"], function(Plotly) {\n",
       "                    window.PLOTLYENV=window.PLOTLYENV || {};\n",
       "                    \n",
       "                if (document.getElementById(\"7da3eb74-12d7-472c-be14-46f3c585f10f\")) {\n",
       "                    Plotly.newPlot(\n",
       "                        '7da3eb74-12d7-472c-be14-46f3c585f10f',\n",
       "                        [{\"hoverlabel\": {\"namelength\": 0}, \"hovertemplate\": \"AnnualIncome=%{x}<br>SpendingScore=%{y}<br>Age=%{z}<br>Clusters=%{marker.color}\", \"legendgroup\": \"\", \"marker\": {\"color\": [0, 4, 0, 4, 0, 4, 0, 4, 0, 4, 0, 4, 0, 4, 0, 4, 0, 4, 0, 4, 0, 4, 0, 4, 0, 4, 0, 4, 0, 4, 0, 4, 0, 4, 0, 4, 0, 4, 0, 4, 0, 4, 0, 4, 0, 4, 3, 3, 3, 3, 3, 3, 3, 3, 3, 3, 3, 3, 3, 3, 3, 3, 3, 3, 3, 3, 3, 3, 3, 3, 3, 3, 3, 3, 3, 3, 3, 3, 3, 3, 3, 3, 3, 3, 3, 3, 3, 3, 3, 3, 3, 3, 3, 3, 3, 3, 3, 3, 3, 3, 3, 3, 3, 3, 3, 3, 3, 3, 3, 3, 3, 3, 3, 3, 3, 3, 3, 3, 3, 3, 3, 3, 3, 2, 1, 2, 3, 2, 1, 2, 1, 2, 1, 2, 1, 2, 1, 2, 1, 2, 1, 2, 3, 2, 1, 2, 1, 2, 1, 2, 1, 2, 1, 2, 1, 2, 1, 2, 1, 2, 1, 2, 1, 2, 1, 2, 1, 2, 1, 2, 1, 2, 1, 2, 1, 2, 1, 2, 1, 2, 1, 2, 1, 2, 1, 2, 1, 2, 1, 2, 1, 2, 1, 2, 1, 2, 1, 2, 1, 2], \"coloraxis\": \"coloraxis\", \"symbol\": \"circle\"}, \"mode\": \"markers\", \"name\": \"\", \"scene\": \"scene\", \"showlegend\": false, \"type\": \"scatter3d\", \"x\": [15, 15, 16, 16, 17, 17, 18, 18, 19, 19, 19, 19, 20, 20, 20, 20, 21, 21, 23, 23, 24, 24, 25, 25, 28, 28, 28, 28, 29, 29, 30, 30, 33, 33, 33, 33, 34, 34, 37, 37, 38, 38, 39, 39, 39, 39, 40, 40, 40, 40, 42, 42, 43, 43, 43, 43, 44, 44, 46, 46, 46, 46, 47, 47, 48, 48, 48, 48, 48, 48, 49, 49, 50, 50, 54, 54, 54, 54, 54, 54, 54, 54, 54, 54, 54, 54, 57, 57, 58, 58, 59, 59, 60, 60, 60, 60, 60, 60, 61, 61, 62, 62, 62, 62, 62, 62, 63, 63, 63, 63, 63, 63, 64, 64, 65, 65, 65, 65, 67, 67, 67, 67, 69, 69, 70, 70, 71, 71, 71, 71, 71, 71, 72, 72, 73, 73, 73, 73, 74, 74, 75, 75, 76, 76, 77, 77, 77, 77, 78, 78, 78, 78, 78, 78, 78, 78, 78, 78, 78, 78, 79, 79, 81, 81, 85, 85, 86, 86, 87, 87, 87, 87, 87, 87, 88, 88, 88, 88, 93, 93, 97, 97, 98, 98, 99, 99, 101, 101, 103, 103, 103, 103, 113, 113, 120, 120, 126, 126, 137, 137], \"y\": [39, 81, 6, 77, 40, 76, 6, 94, 3, 72, 14, 99, 15, 77, 13, 79, 35, 66, 29, 98, 35, 73, 5, 73, 14, 82, 32, 61, 31, 87, 4, 73, 4, 92, 14, 81, 17, 73, 26, 75, 35, 92, 36, 61, 28, 65, 55, 47, 42, 42, 52, 60, 54, 60, 45, 41, 50, 46, 51, 46, 56, 55, 52, 59, 51, 59, 50, 48, 59, 47, 55, 42, 49, 56, 47, 54, 53, 48, 52, 42, 51, 55, 41, 44, 57, 46, 58, 55, 60, 46, 55, 41, 49, 40, 42, 52, 47, 50, 42, 49, 41, 48, 59, 55, 56, 42, 50, 46, 43, 48, 52, 54, 42, 46, 48, 50, 43, 59, 43, 57, 56, 40, 58, 91, 29, 77, 35, 95, 11, 75, 9, 75, 34, 71, 5, 88, 7, 73, 10, 72, 5, 93, 40, 87, 12, 97, 36, 74, 22, 90, 17, 88, 20, 76, 16, 89, 1, 78, 1, 73, 35, 83, 5, 93, 26, 75, 20, 95, 27, 63, 13, 75, 10, 92, 13, 86, 15, 69, 14, 90, 32, 86, 15, 88, 39, 97, 24, 68, 17, 85, 23, 69, 8, 91, 16, 79, 28, 74, 18, 83], \"z\": [19, 21, 20, 23, 31, 22, 35, 23, 64, 30, 67, 35, 58, 24, 37, 22, 35, 20, 52, 35, 35, 25, 46, 31, 54, 29, 45, 35, 40, 23, 60, 21, 53, 18, 49, 21, 42, 30, 36, 20, 65, 24, 48, 31, 49, 24, 50, 27, 29, 31, 49, 33, 31, 59, 50, 47, 51, 69, 27, 53, 70, 19, 67, 54, 63, 18, 43, 68, 19, 32, 70, 47, 60, 60, 59, 26, 45, 40, 23, 49, 57, 38, 67, 46, 21, 48, 55, 22, 34, 50, 68, 18, 48, 40, 32, 24, 47, 27, 48, 20, 23, 49, 67, 26, 49, 21, 66, 54, 68, 66, 65, 19, 38, 19, 18, 19, 63, 49, 51, 50, 27, 38, 40, 39, 23, 31, 43, 40, 59, 38, 47, 39, 25, 31, 20, 29, 44, 32, 19, 35, 57, 32, 28, 32, 25, 28, 48, 32, 34, 34, 43, 39, 44, 38, 47, 27, 37, 30, 34, 30, 56, 29, 19, 31, 50, 36, 42, 33, 36, 32, 40, 28, 36, 36, 52, 30, 58, 27, 59, 35, 37, 32, 46, 29, 41, 30, 54, 28, 41, 36, 34, 32, 33, 38, 47, 35, 45, 32, 32, 30]}],\n",
       "                        {\"coloraxis\": {\"colorbar\": {\"title\": {\"text\": \"Clusters\"}}, \"colorscale\": [[0.0, \"#0d0887\"], [0.1111111111111111, \"#46039f\"], [0.2222222222222222, \"#7201a8\"], [0.3333333333333333, \"#9c179e\"], [0.4444444444444444, \"#bd3786\"], [0.5555555555555556, \"#d8576b\"], [0.6666666666666666, \"#ed7953\"], [0.7777777777777778, \"#fb9f3a\"], [0.8888888888888888, \"#fdca26\"], [1.0, \"#f0f921\"]]}, \"legend\": {\"tracegroupgap\": 0}, \"scene\": {\"domain\": {\"x\": [0.0, 1.0], \"y\": [0.0, 1.0]}, \"xaxis\": {\"title\": {\"text\": \"AnnualIncome\"}}, \"yaxis\": {\"title\": {\"text\": \"SpendingScore\"}}, \"zaxis\": {\"title\": {\"text\": \"Age\"}}}, \"template\": {\"data\": {\"bar\": [{\"error_x\": {\"color\": \"#2a3f5f\"}, \"error_y\": {\"color\": \"#2a3f5f\"}, \"marker\": {\"line\": {\"color\": \"#E5ECF6\", \"width\": 0.5}}, \"type\": \"bar\"}], \"barpolar\": [{\"marker\": {\"line\": {\"color\": \"#E5ECF6\", \"width\": 0.5}}, \"type\": \"barpolar\"}], \"carpet\": [{\"aaxis\": {\"endlinecolor\": \"#2a3f5f\", \"gridcolor\": \"white\", \"linecolor\": \"white\", \"minorgridcolor\": \"white\", \"startlinecolor\": \"#2a3f5f\"}, \"baxis\": {\"endlinecolor\": \"#2a3f5f\", \"gridcolor\": \"white\", \"linecolor\": \"white\", \"minorgridcolor\": \"white\", \"startlinecolor\": \"#2a3f5f\"}, \"type\": \"carpet\"}], \"choropleth\": [{\"colorbar\": {\"outlinewidth\": 0, \"ticks\": \"\"}, \"type\": \"choropleth\"}], \"contour\": [{\"colorbar\": {\"outlinewidth\": 0, \"ticks\": \"\"}, \"colorscale\": [[0.0, \"#0d0887\"], [0.1111111111111111, \"#46039f\"], [0.2222222222222222, \"#7201a8\"], [0.3333333333333333, \"#9c179e\"], [0.4444444444444444, \"#bd3786\"], [0.5555555555555556, \"#d8576b\"], [0.6666666666666666, \"#ed7953\"], [0.7777777777777778, \"#fb9f3a\"], [0.8888888888888888, \"#fdca26\"], [1.0, \"#f0f921\"]], \"type\": \"contour\"}], \"contourcarpet\": [{\"colorbar\": {\"outlinewidth\": 0, \"ticks\": \"\"}, \"type\": \"contourcarpet\"}], \"heatmap\": [{\"colorbar\": {\"outlinewidth\": 0, \"ticks\": \"\"}, \"colorscale\": [[0.0, \"#0d0887\"], [0.1111111111111111, \"#46039f\"], [0.2222222222222222, \"#7201a8\"], [0.3333333333333333, \"#9c179e\"], [0.4444444444444444, \"#bd3786\"], [0.5555555555555556, \"#d8576b\"], [0.6666666666666666, \"#ed7953\"], [0.7777777777777778, \"#fb9f3a\"], [0.8888888888888888, \"#fdca26\"], [1.0, \"#f0f921\"]], \"type\": \"heatmap\"}], \"heatmapgl\": [{\"colorbar\": {\"outlinewidth\": 0, \"ticks\": \"\"}, \"colorscale\": [[0.0, \"#0d0887\"], [0.1111111111111111, \"#46039f\"], [0.2222222222222222, \"#7201a8\"], [0.3333333333333333, \"#9c179e\"], [0.4444444444444444, \"#bd3786\"], [0.5555555555555556, \"#d8576b\"], [0.6666666666666666, \"#ed7953\"], [0.7777777777777778, \"#fb9f3a\"], [0.8888888888888888, \"#fdca26\"], [1.0, \"#f0f921\"]], \"type\": \"heatmapgl\"}], \"histogram\": [{\"marker\": {\"colorbar\": {\"outlinewidth\": 0, \"ticks\": \"\"}}, \"type\": \"histogram\"}], \"histogram2d\": [{\"colorbar\": {\"outlinewidth\": 0, \"ticks\": \"\"}, \"colorscale\": [[0.0, \"#0d0887\"], [0.1111111111111111, \"#46039f\"], [0.2222222222222222, \"#7201a8\"], [0.3333333333333333, \"#9c179e\"], [0.4444444444444444, \"#bd3786\"], [0.5555555555555556, \"#d8576b\"], [0.6666666666666666, \"#ed7953\"], [0.7777777777777778, \"#fb9f3a\"], [0.8888888888888888, \"#fdca26\"], [1.0, \"#f0f921\"]], \"type\": \"histogram2d\"}], \"histogram2dcontour\": [{\"colorbar\": {\"outlinewidth\": 0, \"ticks\": \"\"}, \"colorscale\": [[0.0, \"#0d0887\"], [0.1111111111111111, \"#46039f\"], [0.2222222222222222, \"#7201a8\"], [0.3333333333333333, \"#9c179e\"], [0.4444444444444444, \"#bd3786\"], [0.5555555555555556, \"#d8576b\"], [0.6666666666666666, \"#ed7953\"], [0.7777777777777778, \"#fb9f3a\"], [0.8888888888888888, \"#fdca26\"], [1.0, \"#f0f921\"]], \"type\": \"histogram2dcontour\"}], \"mesh3d\": [{\"colorbar\": {\"outlinewidth\": 0, \"ticks\": \"\"}, \"type\": \"mesh3d\"}], \"parcoords\": [{\"line\": {\"colorbar\": {\"outlinewidth\": 0, \"ticks\": \"\"}}, \"type\": \"parcoords\"}], \"pie\": [{\"automargin\": true, \"type\": \"pie\"}], \"scatter\": [{\"marker\": {\"colorbar\": {\"outlinewidth\": 0, \"ticks\": \"\"}}, \"type\": \"scatter\"}], \"scatter3d\": [{\"line\": {\"colorbar\": {\"outlinewidth\": 0, \"ticks\": \"\"}}, \"marker\": {\"colorbar\": {\"outlinewidth\": 0, \"ticks\": \"\"}}, \"type\": \"scatter3d\"}], \"scattercarpet\": [{\"marker\": {\"colorbar\": {\"outlinewidth\": 0, \"ticks\": \"\"}}, \"type\": \"scattercarpet\"}], \"scattergeo\": [{\"marker\": {\"colorbar\": {\"outlinewidth\": 0, \"ticks\": \"\"}}, \"type\": \"scattergeo\"}], \"scattergl\": [{\"marker\": {\"colorbar\": {\"outlinewidth\": 0, \"ticks\": \"\"}}, \"type\": \"scattergl\"}], \"scattermapbox\": [{\"marker\": {\"colorbar\": {\"outlinewidth\": 0, \"ticks\": \"\"}}, \"type\": \"scattermapbox\"}], \"scatterpolar\": [{\"marker\": {\"colorbar\": {\"outlinewidth\": 0, \"ticks\": \"\"}}, \"type\": \"scatterpolar\"}], \"scatterpolargl\": [{\"marker\": {\"colorbar\": {\"outlinewidth\": 0, \"ticks\": \"\"}}, \"type\": \"scatterpolargl\"}], \"scatterternary\": [{\"marker\": {\"colorbar\": {\"outlinewidth\": 0, \"ticks\": \"\"}}, \"type\": \"scatterternary\"}], \"surface\": [{\"colorbar\": {\"outlinewidth\": 0, \"ticks\": \"\"}, \"colorscale\": [[0.0, \"#0d0887\"], [0.1111111111111111, \"#46039f\"], [0.2222222222222222, \"#7201a8\"], [0.3333333333333333, \"#9c179e\"], [0.4444444444444444, \"#bd3786\"], [0.5555555555555556, \"#d8576b\"], [0.6666666666666666, \"#ed7953\"], [0.7777777777777778, \"#fb9f3a\"], [0.8888888888888888, \"#fdca26\"], [1.0, \"#f0f921\"]], \"type\": \"surface\"}], \"table\": [{\"cells\": {\"fill\": {\"color\": \"#EBF0F8\"}, \"line\": {\"color\": \"white\"}}, \"header\": {\"fill\": {\"color\": \"#C8D4E3\"}, \"line\": {\"color\": \"white\"}}, \"type\": \"table\"}]}, \"layout\": {\"annotationdefaults\": {\"arrowcolor\": \"#2a3f5f\", \"arrowhead\": 0, \"arrowwidth\": 1}, \"coloraxis\": {\"colorbar\": {\"outlinewidth\": 0, \"ticks\": \"\"}}, \"colorscale\": {\"diverging\": [[0, \"#8e0152\"], [0.1, \"#c51b7d\"], [0.2, \"#de77ae\"], [0.3, \"#f1b6da\"], [0.4, \"#fde0ef\"], [0.5, \"#f7f7f7\"], [0.6, \"#e6f5d0\"], [0.7, \"#b8e186\"], [0.8, \"#7fbc41\"], [0.9, \"#4d9221\"], [1, \"#276419\"]], \"sequential\": [[0.0, \"#0d0887\"], [0.1111111111111111, \"#46039f\"], [0.2222222222222222, \"#7201a8\"], [0.3333333333333333, \"#9c179e\"], [0.4444444444444444, \"#bd3786\"], [0.5555555555555556, \"#d8576b\"], [0.6666666666666666, \"#ed7953\"], [0.7777777777777778, \"#fb9f3a\"], [0.8888888888888888, \"#fdca26\"], [1.0, \"#f0f921\"]], \"sequentialminus\": [[0.0, \"#0d0887\"], [0.1111111111111111, \"#46039f\"], [0.2222222222222222, \"#7201a8\"], [0.3333333333333333, \"#9c179e\"], [0.4444444444444444, \"#bd3786\"], [0.5555555555555556, \"#d8576b\"], [0.6666666666666666, \"#ed7953\"], [0.7777777777777778, \"#fb9f3a\"], [0.8888888888888888, \"#fdca26\"], [1.0, \"#f0f921\"]]}, \"colorway\": [\"#636efa\", \"#EF553B\", \"#00cc96\", \"#ab63fa\", \"#FFA15A\", \"#19d3f3\", \"#FF6692\", \"#B6E880\", \"#FF97FF\", \"#FECB52\"], \"font\": {\"color\": \"#2a3f5f\"}, \"geo\": {\"bgcolor\": \"white\", \"lakecolor\": \"white\", \"landcolor\": \"#E5ECF6\", \"showlakes\": true, \"showland\": true, \"subunitcolor\": \"white\"}, \"hoverlabel\": {\"align\": \"left\"}, \"hovermode\": \"closest\", \"mapbox\": {\"style\": \"light\"}, \"paper_bgcolor\": \"white\", \"plot_bgcolor\": \"#E5ECF6\", \"polar\": {\"angularaxis\": {\"gridcolor\": \"white\", \"linecolor\": \"white\", \"ticks\": \"\"}, \"bgcolor\": \"#E5ECF6\", \"radialaxis\": {\"gridcolor\": \"white\", \"linecolor\": \"white\", \"ticks\": \"\"}}, \"scene\": {\"xaxis\": {\"backgroundcolor\": \"#E5ECF6\", \"gridcolor\": \"white\", \"gridwidth\": 2, \"linecolor\": \"white\", \"showbackground\": true, \"ticks\": \"\", \"zerolinecolor\": \"white\"}, \"yaxis\": {\"backgroundcolor\": \"#E5ECF6\", \"gridcolor\": \"white\", \"gridwidth\": 2, \"linecolor\": \"white\", \"showbackground\": true, \"ticks\": \"\", \"zerolinecolor\": \"white\"}, \"zaxis\": {\"backgroundcolor\": \"#E5ECF6\", \"gridcolor\": \"white\", \"gridwidth\": 2, \"linecolor\": \"white\", \"showbackground\": true, \"ticks\": \"\", \"zerolinecolor\": \"white\"}}, \"shapedefaults\": {\"line\": {\"color\": \"#2a3f5f\"}}, \"ternary\": {\"aaxis\": {\"gridcolor\": \"white\", \"linecolor\": \"white\", \"ticks\": \"\"}, \"baxis\": {\"gridcolor\": \"white\", \"linecolor\": \"white\", \"ticks\": \"\"}, \"bgcolor\": \"#E5ECF6\", \"caxis\": {\"gridcolor\": \"white\", \"linecolor\": \"white\", \"ticks\": \"\"}}, \"title\": {\"x\": 0.05}, \"xaxis\": {\"automargin\": true, \"gridcolor\": \"white\", \"linecolor\": \"white\", \"ticks\": \"\", \"title\": {\"standoff\": 15}, \"zerolinecolor\": \"white\", \"zerolinewidth\": 2}, \"yaxis\": {\"automargin\": true, \"gridcolor\": \"white\", \"linecolor\": \"white\", \"ticks\": \"\", \"title\": {\"standoff\": 15}, \"zerolinecolor\": \"white\", \"zerolinewidth\": 2}}}, \"title\": {\"text\": \"Clusters\"}},\n",
       "                        {\"responsive\": true}\n",
       "                    ).then(function(){\n",
       "                            \n",
       "var gd = document.getElementById('7da3eb74-12d7-472c-be14-46f3c585f10f');\n",
       "var x = new MutationObserver(function (mutations, observer) {{\n",
       "        var display = window.getComputedStyle(gd).display;\n",
       "        if (!display || display === 'none') {{\n",
       "            console.log([gd, 'removed!']);\n",
       "            Plotly.purge(gd);\n",
       "            observer.disconnect();\n",
       "        }}\n",
       "}});\n",
       "\n",
       "// Listen for the removal of the full notebook cells\n",
       "var notebookContainer = gd.closest('#notebook-container');\n",
       "if (notebookContainer) {{\n",
       "    x.observe(notebookContainer, {childList: true});\n",
       "}}\n",
       "\n",
       "// Listen for the clearing of the current output cell\n",
       "var outputEl = gd.closest('.output');\n",
       "if (outputEl) {{\n",
       "    x.observe(outputEl, {childList: true});\n",
       "}}\n",
       "\n",
       "                        })\n",
       "                };\n",
       "                });\n",
       "            </script>\n",
       "        </div>"
      ]
     },
     "metadata": {},
     "output_type": "display_data"
    }
   ],
   "source": [
    "Mod = KMeans(n_clusters=5, max_iter=500).fit(Data[[\"AnnualIncome\", \"SpendingScore\", \"Age\"]])\n",
    "\n",
    "Test = pd.DataFrame()\n",
    "Test[\"AnnualIncome\"] = Data[\"AnnualIncome\"]\n",
    "Test[\"SpendingScore\"] = Data[\"SpendingScore\"]\n",
    "Test[\"Age\"] = Data[\"Age\"]\n",
    "Test[\"Clusters\"] = Mod.predict(Data[[\"AnnualIncome\", \"SpendingScore\", \"Age\"]])\n",
    "\n",
    "\n",
    "\n",
    "fig = px.scatter_3d(Test, x='AnnualIncome', y='SpendingScore', z='Age',\n",
    "              color='Clusters', title=\"Clusters\")\n",
    "fig.show()"
   ]
  },
  {
   "cell_type": "code",
   "execution_count": 24,
   "metadata": {},
   "outputs": [
    {
     "data": {
      "text/plain": [
       "75350.77917248776"
      ]
     },
     "execution_count": 24,
     "metadata": {},
     "output_type": "execute_result"
    }
   ],
   "source": [
    "Mod.inertia_"
   ]
  },
  {
   "cell_type": "code",
   "execution_count": null,
   "metadata": {},
   "outputs": [],
   "source": []
  }
 ],
 "metadata": {
  "kernelspec": {
   "display_name": "Python 3",
   "language": "python",
   "name": "python3"
  },
  "language_info": {
   "codemirror_mode": {
    "name": "ipython",
    "version": 3
   },
   "file_extension": ".py",
   "mimetype": "text/x-python",
   "name": "python",
   "nbconvert_exporter": "python",
   "pygments_lexer": "ipython3",
   "version": "3.7.4"
  }
 },
 "nbformat": 4,
 "nbformat_minor": 4
}
